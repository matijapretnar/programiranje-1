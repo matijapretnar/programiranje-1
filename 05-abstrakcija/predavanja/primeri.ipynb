{
 "cells": [
  {
   "cell_type": "markdown",
   "metadata": {},
   "source": [
    "# Modularnost"
   ]
  },
  {
   "cell_type": "markdown",
   "metadata": {},
   "source": [
    "## Moduli"
   ]
  },
  {
   "cell_type": "code",
   "execution_count": 21,
   "metadata": {
    "vscode": {
     "languageId": "ocaml"
    }
   },
   "outputs": [
    {
     "data": {
      "text/plain": [
       "module Avtomat :\n",
       "  sig\n",
       "    type stanje = { oznaka : string; }\n",
       "    type avtomat = {\n",
       "      stanja : stanje list;\n",
       "      zacetno_stanje : stanje;\n",
       "      sprejemna_stanja : stanje list;\n",
       "      prehodi : (stanje * char * stanje) list;\n",
       "    }\n",
       "    val stanje : string -> stanje\n",
       "    val prazen_avtomat : stanje -> avtomat\n",
       "    val dodaj_nesprejemno_stanje : stanje -> avtomat -> avtomat\n",
       "    val dodaj_sprejemno_stanje : stanje -> avtomat -> avtomat\n",
       "    val dodaj_prehod : stanje -> char -> stanje -> avtomat -> avtomat\n",
       "    val pomozna_funkcija_za_projekcijo_morebitnega_tretjega :\n",
       "      ('a * 'b * 'c) option -> 'c option\n",
       "    val preberi_znak : avtomat -> stanje -> char -> stanje option\n",
       "  end\n"
      ]
     },
     "execution_count": 21,
     "metadata": {},
     "output_type": "execute_result"
    }
   ],
   "source": [
    "module Avtomat = struct\n",
    "\n",
    "    type stanje = { oznaka : string }\n",
    "\n",
    "    type avtomat = {\n",
    "        stanja : stanje list;\n",
    "        zacetno_stanje : stanje;\n",
    "        sprejemna_stanja : stanje list;\n",
    "        prehodi : (stanje * char * stanje) list;\n",
    "    }\n",
    "\n",
    "    let stanje oznaka = { oznaka }\n",
    "\n",
    "    let prazen_avtomat zacetno_stanje =\n",
    "    {\n",
    "        stanja = [ zacetno_stanje ];\n",
    "        zacetno_stanje;\n",
    "        sprejemna_stanja = [];\n",
    "        prehodi = [];\n",
    "    }\n",
    "\n",
    "    let dodaj_nesprejemno_stanje stanje avtomat =\n",
    "    { avtomat with stanja = stanje :: avtomat.stanja }\n",
    "\n",
    "    let dodaj_sprejemno_stanje stanje avtomat =\n",
    "    {\n",
    "        avtomat with\n",
    "        stanja = stanje :: avtomat.stanja;\n",
    "        sprejemna_stanja = stanje :: avtomat.sprejemna_stanja;\n",
    "    }\n",
    "\n",
    "    let dodaj_prehod stanje1 znak stanje2 avtomat =\n",
    "    { avtomat with prehodi = (stanje1, znak, stanje2) :: avtomat.prehodi }\n",
    "\n",
    "    let pomozna_funkcija_za_projekcijo_morebitnega_tretjega = function\n",
    "    | None -> None\n",
    "    | Some (_, _, q') -> Some q'\n",
    "\n",
    "\n",
    "    let preberi_znak avtomat q znak =\n",
    "        avtomat.prehodi\n",
    "        |> List.find_opt (fun (q1, znak', _q2) -> q1 = q && znak = znak')\n",
    "        |> pomozna_funkcija_za_projekcijo_morebitnega_tretjega\n",
    "\n",
    "end"
   ]
  },
  {
   "cell_type": "code",
   "execution_count": 16,
   "metadata": {
    "vscode": {
     "languageId": "ocaml"
    }
   },
   "outputs": [
    {
     "data": {
      "text/plain": [
       "val enke_1mod3 : Avtomat.avtomat =\n",
       "  {Avtomat.stanja =\n",
       "    [{Avtomat.oznaka = \"q2\"}; {Avtomat.oznaka = \"q1\"};\n",
       "     {Avtomat.oznaka = \"q0\"}];\n",
       "   zacetno = {Avtomat.oznaka = \"q0\"};\n",
       "   sprejemna_stanja = [{Avtomat.oznaka = \"q1\"}];\n",
       "   prehodi =\n",
       "    [({Avtomat.oznaka = \"q2\"}, '1', {Avtomat.oznaka = \"q0\"});\n",
       "     ({Avtomat.oznaka = \"q1\"}, '1', {Avtomat.oznaka = \"q2\"});\n",
       "     ({Avtomat.oznaka = \"q0\"}, '1', {Avtomat.oznaka = \"q1\"});\n",
       "     ({Avtomat.oznaka = \"q2\"}, '0', {Avtomat.oznaka = \"q2\"});\n",
       "     ({Avtomat.oznaka = \"q1\"}, '0', {Avtomat.oznaka = \"q1\"});\n",
       "     ({Avtomat.oznaka = \"q0\"}, '0', {Avtomat.oznaka = \"q0\"})]}\n"
      ]
     },
     "execution_count": 16,
     "metadata": {},
     "output_type": "execute_result"
    }
   ],
   "source": [
    "let enke_1mod3 =\n",
    "  let open Avtomat in\n",
    "  let q0 = stanje \"q0\" and q1 = stanje \"q1\" and q2 = stanje \"q2\" in\n",
    "  prazen_avtomat q0\n",
    "  |> dodaj_sprejemno_stanje q1\n",
    "  |> dodaj_nesprejemno_stanje q2\n",
    "  |> dodaj_prehod q0 '0' q0\n",
    "  |> dodaj_prehod q1 '0' q1\n",
    "  |> dodaj_prehod q2 '0' q2\n",
    "  |> dodaj_prehod q0 '1' q1\n",
    "  |> dodaj_prehod q1 '1' q2\n",
    "  |> dodaj_prehod q2 '1' q0"
   ]
  },
  {
   "cell_type": "code",
   "execution_count": 18,
   "metadata": {
    "vscode": {
     "languageId": "ocaml"
    }
   },
   "outputs": [
    {
     "data": {
      "text/plain": [
       "val niz_ima_pravo_stevilo_enk : string -> bool = <fun>\n"
      ]
     },
     "execution_count": 18,
     "metadata": {},
     "output_type": "execute_result"
    }
   ],
   "source": [
    "let niz_ima_pravo_stevilo_enk niz =\n",
    "  let open Avtomat in\n",
    "  let avtomat = enke_1mod3 in\n",
    "  let znaki = List.init (String.length niz) (String.get niz) in\n",
    "  let aux acc znak =\n",
    "      match acc with None -> None | Some q -> preberi_znak avtomat q znak\n",
    "  in\n",
    "  let koncno_stanje = List.fold_left aux (Some avtomat.zacetno) znaki in\n",
    "  match koncno_stanje with\n",
    "  | None -> false\n",
    "  | Some koncno_stanje -> List.mem koncno_stanje avtomat.sprejemna_stanja"
   ]
  },
  {
   "cell_type": "markdown",
   "metadata": {},
   "source": [
    "## Signature"
   ]
  },
  {
   "cell_type": "code",
   "execution_count": 48,
   "metadata": {
    "vscode": {
     "languageId": "ocaml"
    }
   },
   "outputs": [
    {
     "data": {
      "text/plain": [
       "module type AVTOMAT =\n",
       "  sig\n",
       "    type stanje\n",
       "    type avtomat\n",
       "    val stanje : string -> stanje\n",
       "    val prazen_avtomat : stanje -> avtomat\n",
       "    val dodaj_nesprejemno_stanje : stanje -> avtomat -> avtomat\n",
       "    val dodaj_sprejemno_stanje : stanje -> avtomat -> avtomat\n",
       "    val dodaj_prehod : stanje -> char -> stanje -> avtomat -> avtomat\n",
       "    val preberi_znak : avtomat -> stanje -> char -> stanje option\n",
       "    val zacetno_stanje : avtomat -> stanje\n",
       "    val je_sprejemno_stanje : avtomat -> stanje -> bool\n",
       "  end\n"
      ]
     },
     "execution_count": 48,
     "metadata": {},
     "output_type": "execute_result"
    }
   ],
   "source": [
    "module type AVTOMAT = sig\n",
    "  type stanje\n",
    "  type avtomat\n",
    "  val stanje : string -> stanje\n",
    "  val prazen_avtomat : stanje -> avtomat\n",
    "  val dodaj_nesprejemno_stanje : stanje -> avtomat -> avtomat\n",
    "  val dodaj_sprejemno_stanje : stanje -> avtomat -> avtomat\n",
    "  val dodaj_prehod : stanje -> char -> stanje -> avtomat -> avtomat\n",
    "  val preberi_znak : avtomat -> stanje -> char -> stanje option\n",
    "  val zacetno_stanje : avtomat -> stanje\n",
    "  val je_sprejemno_stanje : avtomat -> stanje -> bool\n",
    "end"
   ]
  },
  {
   "cell_type": "code",
   "execution_count": 60,
   "metadata": {
    "vscode": {
     "languageId": "ocaml"
    }
   },
   "outputs": [
    {
     "data": {
      "text/plain": [
       "module Avtomat : AVTOMAT\n"
      ]
     },
     "execution_count": 60,
     "metadata": {},
     "output_type": "execute_result"
    }
   ],
   "source": [
    "module Avtomat : AVTOMAT = struct\n",
    "\n",
    "    type stanje = { oznaka : string }\n",
    "\n",
    "    type avtomat = {\n",
    "        stanja : stanje array;\n",
    "        zacetno_stanje : int;\n",
    "        sprejemna_stanja : stanje list;\n",
    "        prehodi : (stanje * char * stanje) list;\n",
    "    }\n",
    "\n",
    "    let stanje oznaka = { oznaka }\n",
    "\n",
    "    let prazen_avtomat zacetno_stanje =\n",
    "    {\n",
    "        stanja = [| zacetno_stanje |];\n",
    "        zacetno_stanje = 0;\n",
    "        sprejemna_stanja = [];\n",
    "        prehodi = [];\n",
    "    }\n",
    "\n",
    "    let dodaj_v_tabelo x tabela =\n",
    "        Array.concat [tabela; [|x|]]\n",
    "\n",
    "    let dodaj_nesprejemno_stanje stanje avtomat =\n",
    "    { avtomat with stanja = dodaj_v_tabelo stanje avtomat.stanja }\n",
    "\n",
    "    let dodaj_sprejemno_stanje stanje avtomat =\n",
    "    {\n",
    "        avtomat with\n",
    "        stanja = dodaj_v_tabelo stanje avtomat.stanja;\n",
    "        sprejemna_stanja = stanje :: avtomat.sprejemna_stanja;\n",
    "    }\n",
    "\n",
    "    let dodaj_prehod stanje1 znak stanje2 avtomat =\n",
    "    { avtomat with prehodi = (stanje1, znak, stanje2) :: avtomat.prehodi }\n",
    "\n",
    "    let pomozna_funkcija_za_projekcijo_morebitnega_tretjega = function\n",
    "    | None -> None\n",
    "    | Some (_, _, q') -> Some q'\n",
    "\n",
    "    let preberi_znak avtomat q znak =\n",
    "        avtomat.prehodi\n",
    "        |> List.find_opt (fun (q1, znak', _q2) -> q1 = q && znak = znak')\n",
    "        |> pomozna_funkcija_za_projekcijo_morebitnega_tretjega\n",
    "\n",
    "    let zacetno_stanje avtomat = avtomat.stanja.(avtomat.zacetno_stanje)\n",
    "\n",
    "    let je_sprejemno_stanje avtomat stanje = List.mem stanje avtomat.sprejemna_stanja\n",
    "\n",
    "end"
   ]
  },
  {
   "cell_type": "code",
   "execution_count": 61,
   "metadata": {
    "vscode": {
     "languageId": "ocaml"
    }
   },
   "outputs": [
    {
     "data": {
      "text/plain": [
       "- : Avtomat.avtomat -> Avtomat.stanje -> char -> Avtomat.stanje option =\n",
       "<fun>\n"
      ]
     },
     "execution_count": 61,
     "metadata": {},
     "output_type": "execute_result"
    }
   ],
   "source": [
    "Avtomat.preberi_znak"
   ]
  },
  {
   "cell_type": "code",
   "execution_count": 62,
   "metadata": {
    "vscode": {
     "languageId": "ocaml"
    }
   },
   "outputs": [
    {
     "ename": "error",
     "evalue": "compile_error",
     "output_type": "error",
     "traceback": [
      "File \"[62]\", line 1, characters 0-59:\n1 | Avtomat.pomozna_funkcija_za_projekcijo_morebitnega_tretjega\n    ^^^^^^^^^^^^^^^^^^^^^^^^^^^^^^^^^^^^^^^^^^^^^^^^^^^^^^^^^^^\nError: Unbound value Avtomat.pomozna_funkcija_za_projekcijo_morebitnega_tretjega\n"
     ]
    }
   ],
   "source": [
    "Avtomat.pomozna_funkcija_za_projekcijo_morebitnega_tretjega"
   ]
  },
  {
   "cell_type": "code",
   "execution_count": 63,
   "metadata": {
    "vscode": {
     "languageId": "ocaml"
    }
   },
   "outputs": [
    {
     "data": {
      "text/plain": [
       "val enke_1mod3 : Avtomat.avtomat = <abstr>\n"
      ]
     },
     "execution_count": 63,
     "metadata": {},
     "output_type": "execute_result"
    }
   ],
   "source": [
    "let enke_1mod3 =\n",
    "  let open Avtomat in\n",
    "  let q0 = stanje \"q0\" and q1 = stanje \"q1\" and q2 = stanje \"q2\" in\n",
    "  prazen_avtomat q0\n",
    "  |> dodaj_sprejemno_stanje q1\n",
    "  |> dodaj_nesprejemno_stanje q2\n",
    "  |> dodaj_prehod q0 '0' q0\n",
    "  |> dodaj_prehod q1 '0' q1\n",
    "  |> dodaj_prehod q2 '0' q2\n",
    "  |> dodaj_prehod q0 '1' q1\n",
    "  |> dodaj_prehod q1 '1' q2\n",
    "  |> dodaj_prehod q2 '1' q0"
   ]
  },
  {
   "cell_type": "code",
   "execution_count": 65,
   "metadata": {
    "vscode": {
     "languageId": "ocaml"
    }
   },
   "outputs": [
    {
     "data": {
      "text/plain": [
       "val niz_ima_pravo_stevilo_enk : string -> bool = <fun>\n"
      ]
     },
     "execution_count": 65,
     "metadata": {},
     "output_type": "execute_result"
    }
   ],
   "source": [
    "let niz_ima_pravo_stevilo_enk niz =\n",
    "  let open Avtomat in\n",
    "  let avtomat = enke_1mod3 in\n",
    "  let znaki = List.init (String.length niz) (String.get niz) in\n",
    "  let aux acc znak =\n",
    "      match acc with None -> None | Some q -> preberi_znak avtomat q znak\n",
    "  in\n",
    "  let koncno_stanje = List.fold_left aux (Some (zacetno_stanje avtomat)) znaki in\n",
    "  match koncno_stanje with\n",
    "  | None -> false\n",
    "  | Some koncno_stanje -> je_sprejemno_stanje avtomat koncno_stanje"
   ]
  }
 ],
 "metadata": {
  "kernelspec": {
   "display_name": "OCaml default",
   "language": "OCaml",
   "name": "ocaml-jupyter"
  },
  "language_info": {
   "codemirror_mode": "text/x-ocaml",
   "file_extension": ".ml",
   "mimetype": "text/x-ocaml",
   "name": "OCaml",
   "nbconverter_exporter": null,
   "pygments_lexer": "OCaml",
   "version": "4.14.1"
  }
 },
 "nbformat": 4,
 "nbformat_minor": 2
}
