{
 "cells": [
  {
   "cell_type": "code",
   "execution_count": 4,
   "metadata": {},
   "outputs": [
    {
     "data": {
      "text/plain": [
       "val kvadriraj : int -> int = <fun>\n"
      ]
     },
     "execution_count": 4,
     "metadata": {},
     "output_type": "execute_result"
    }
   ],
   "source": [
    "let kvadriraj n = n * n"
   ]
  },
  {
   "cell_type": "code",
   "execution_count": 9,
   "metadata": {},
   "outputs": [
    {
     "data": {
      "text/plain": [
       "- : int = 100\n"
      ]
     },
     "execution_count": 9,
     "metadata": {},
     "output_type": "execute_result"
    }
   ],
   "source": [
    "kvadriraj 10"
   ]
  },
  {
   "cell_type": "code",
   "execution_count": 8,
   "metadata": {
    "slideshow": {
     "slide_type": "slide"
    },
    "vscode": {
     "languageId": "ocaml"
    }
   },
   "outputs": [
    {
     "data": {
      "text/plain": [
       "- : int = 400\n"
      ]
     },
     "execution_count": 8,
     "metadata": {},
     "output_type": "execute_result"
    }
   ],
   "source": [
    "kvadriraj 20"
   ]
  },
  {
   "cell_type": "code",
   "execution_count": 4,
   "metadata": {
    "slideshow": {
     "slide_type": "slide"
    },
    "vscode": {
     "languageId": "ocaml"
    }
   },
   "outputs": [
    {
     "data": {
      "text/plain": [
       "val uredi_z_zlivanjem : 'a list -> 'a list = <fun>\n"
      ]
     },
     "execution_count": 4,
     "metadata": {},
     "output_type": "execute_result"
    }
   ],
   "source": [
    "let rec uredi_z_zlivanjem sez =\n",
    "  match sez with\n",
    "  | [] | [_] -> sez\n",
    "  | _ ->\n",
    "     let sez1, sez2 = razpolovi sez in\n",
    "     let sez1' = uredi_z_zlivanjem sez1\n",
    "     and sez2' = uredi_z_zlivanjem sez2 in\n",
    "     zlij sez1' sez2'  "
   ]
  },
  {
   "cell_type": "code",
   "execution_count": 10,
   "metadata": {
    "vscode": {
     "languageId": "ocaml"
    }
   },
   "outputs": [
    {
     "data": {
      "text/plain": [
       "val sez : int list =\n",
       "  [44; 85; 82; 41; 39; 0; 4; 20; 21; 70; 17; 85; 49; 78; 15; 12; 1; 6; 28;\n",
       "   69; 89; 93; 14; 23; 23; 44; 96; 3; 0; 70; 49; 12; 55; 11; 57; 97; 97; 60;\n",
       "   83; 63; 20; 99; 59; 70; 84; 43; 20; 46; 54; 18]\n"
      ]
     },
     "execution_count": 10,
     "metadata": {},
     "output_type": "execute_result"
    }
   ],
   "source": [
    "let sez = List.init 50 (fun _ -> Random.int 100)"
   ]
  },
  {
   "cell_type": "code",
   "execution_count": 11,
   "metadata": {
    "vscode": {
     "languageId": "ocaml"
    }
   },
   "outputs": [
    {
     "data": {
      "text/plain": [
       "- : int list =\n",
       "[0; 0; 1; 3; 4; 6; 11; 12; 12; 14; 15; 17; 18; 20; 20; 20; 21; 23; 23; 28;\n",
       " 39; 41; 43; 44; 44; 46; 49; 49; 54; 55; 57; 59; 60; 63; 69; 70; 70; 70; 78;\n",
       " 82; 83; 84; 85; 85; 89; 93; 96; 97; 97; 99]\n"
      ]
     },
     "execution_count": 11,
     "metadata": {},
     "output_type": "execute_result"
    }
   ],
   "source": [
    "uredi_z_zlivanjem sez"
   ]
  },
  {
   "cell_type": "code",
   "execution_count": 12,
   "metadata": {
    "vscode": {
     "languageId": "ocaml"
    }
   },
   "outputs": [
    {
     "data": {
      "text/plain": [
       "- : int list =\n",
       "[44; 85; 82; 41; 39; 0; 4; 20; 21; 70; 17; 85; 49; 78; 15; 12; 1; 6; 28; 69;\n",
       " 89; 93; 14; 23; 23; 44; 96; 3; 0; 70; 49; 12; 55; 11; 57; 97; 97; 60; 83;\n",
       " 63; 20; 99; 59; 70; 84; 43; 20; 46; 54; 18]\n"
      ]
     },
     "execution_count": 12,
     "metadata": {},
     "output_type": "execute_result"
    }
   ],
   "source": [
    "sez"
   ]
  },
  {
   "cell_type": "markdown",
   "metadata": {},
   "source": [
    "### Urejanje tabel na mestu"
   ]
  },
  {
   "cell_type": "code",
   "execution_count": 104,
   "metadata": {
    "vscode": {
     "languageId": "ocaml"
    }
   },
   "outputs": [
    {
     "data": {
      "text/plain": [
       "val tab : int array =\n",
       "  [|81; 71; 89; 88; 84; 46; 85; 80; 42; 5; 51; 59; 47; 84; 51; 68; 67; 51;\n",
       "    98; 68; 81; 21; 7; 18; 12; 65; 98; 65; 25; 19; 80; 58; 63; 30; 82; 17;\n",
       "    55; 89; 44; 45; 62; 67; 71; 24; 71; 34; 1; 48; 46; 97|]\n"
      ]
     },
     "execution_count": 104,
     "metadata": {},
     "output_type": "execute_result"
    }
   ],
   "source": [
    "let tab = Array.init 50 (fun _ -> Random.int 100)"
   ]
  },
  {
   "cell_type": "code",
   "execution_count": 105,
   "metadata": {
    "vscode": {
     "languageId": "ocaml"
    }
   },
   "outputs": [
    {
     "data": {
      "text/plain": [
       "val zlij : int array -> int -> int -> int -> unit = <fun>\n"
      ]
     },
     "execution_count": 105,
     "metadata": {},
     "output_type": "execute_result"
    }
   ],
   "source": [
    "let zlij tab i k j =\n",
    "  let nova = Array.init (j - i) (fun m -> -10) in\n",
    "  let levi = ref i\n",
    "  and desni = ref k\n",
    "  and novi = ref 0 in\n",
    "  while !levi < k && !desni < j do\n",
    "    begin\n",
    "      if tab.(!levi) <= tab.(!desni) then\n",
    "        (nova.(!novi) <- tab.(!levi);\n",
    "        incr levi)\n",
    "      else\n",
    "        (nova.(!novi) <- tab.(!desni);\n",
    "        incr desni)\n",
    "    end;\n",
    "    incr novi\n",
    "  done;\n",
    "  begin\n",
    "    if !levi = k then\n",
    "      for m = !novi to (j - i - 1) do\n",
    "        nova.(m) <- tab.(!desni + m - !novi)\n",
    "      done\n",
    "    else\n",
    "      for m = !novi to (j - i - 1) do\n",
    "        nova.(m) <- tab.(!levi + m - !novi)\n",
    "      done\n",
    "  end;\n",
    "  for m = i to (j - 1) do\n",
    "    tab.(m) <- nova.(m - i)\n",
    "  done      "
   ]
  },
  {
   "cell_type": "code",
   "execution_count": 106,
   "metadata": {
    "vscode": {
     "languageId": "ocaml"
    }
   },
   "outputs": [
    {
     "data": {
      "text/plain": [
       "- : int array =\n",
       "[|81; 71; 89; 88; 84; 46; 85; 80; 42; 5; 51; 59; 47; 84; 51; 68; 67; 51; 98;\n",
       "  68; 81; 21; 7; 18; 12; 65; 98; 65; 25; 19; 80; 58; 63; 30; 82; 17; 55; 89;\n",
       "  44; 45; 62; 67; 71; 24; 71; 34; 1; 48; 46; 97|]\n"
      ]
     },
     "execution_count": 106,
     "metadata": {},
     "output_type": "execute_result"
    }
   ],
   "source": [
    "tab"
   ]
  },
  {
   "cell_type": "code",
   "execution_count": 111,
   "metadata": {
    "vscode": {
     "languageId": "ocaml"
    }
   },
   "outputs": [
    {
     "data": {
      "text/plain": [
       "val uredi_med : int array -> int -> int -> unit = <fun>\n"
      ]
     },
     "execution_count": 111,
     "metadata": {},
     "output_type": "execute_result"
    }
   ],
   "source": [
    "let rec uredi_med tab i j =\n",
    "  if j - i <= 1 then ()\n",
    "  else\n",
    "    let k = (i + j) / 2 in\n",
    "    uredi_med tab i k;\n",
    "    uredi_med tab k j;\n",
    "    zlij tab i k j"
   ]
  },
  {
   "cell_type": "code",
   "execution_count": 112,
   "metadata": {
    "vscode": {
     "languageId": "ocaml"
    }
   },
   "outputs": [
    {
     "data": {
      "text/plain": [
       "val uredi_z_zlivanjem_na_mestu : int array -> unit = <fun>\n"
      ]
     },
     "execution_count": 112,
     "metadata": {},
     "output_type": "execute_result"
    }
   ],
   "source": [
    "let uredi_z_zlivanjem_na_mestu tab =\n",
    "  uredi_med tab 0 (Array.length tab)\n",
    "    "
   ]
  },
  {
   "cell_type": "code",
   "execution_count": 113,
   "metadata": {
    "vscode": {
     "languageId": "ocaml"
    }
   },
   "outputs": [
    {
     "data": {
      "text/plain": [
       "- : int array =\n",
       "[|81; 71; 89; 88; 84; 46; 85; 80; 42; 5; 51; 59; 47; 84; 51; 68; 67; 51; 98;\n",
       "  68; 81; 21; 7; 18; 12; 65; 98; 65; 25; 19; 80; 58; 63; 30; 82; 17; 55; 89;\n",
       "  44; 45; 62; 67; 71; 24; 71; 34; 1; 48; 46; 97|]\n"
      ]
     },
     "execution_count": 113,
     "metadata": {},
     "output_type": "execute_result"
    }
   ],
   "source": [
    "tab"
   ]
  },
  {
   "cell_type": "code",
   "execution_count": 114,
   "metadata": {
    "vscode": {
     "languageId": "ocaml"
    }
   },
   "outputs": [
    {
     "data": {
      "text/plain": [
       "- : int array =\n",
       "[|1; 5; 7; 12; 17; 18; 19; 21; 24; 25; 30; 34; 42; 44; 45; 46; 46; 47; 48;\n",
       "  51; 51; 51; 55; 58; 59; 62; 63; 65; 65; 67; 67; 68; 68; 71; 71; 71; 80; 80;\n",
       "  81; 81; 82; 84; 84; 85; 88; 89; 89; 97; 98; 98|]\n"
      ]
     },
     "execution_count": 114,
     "metadata": {},
     "output_type": "execute_result"
    }
   ],
   "source": [
    "uredi_z_zlivanjem_na_mestu tab;\n",
    "tab"
   ]
  },
  {
   "cell_type": "markdown",
   "metadata": {},
   "source": [
    "## Hitro urejanje"
   ]
  },
  {
   "cell_type": "markdown",
   "metadata": {},
   "source": [
    "### Urejanje verižnih seznamov"
   ]
  },
  {
   "cell_type": "code",
   "execution_count": 46,
   "metadata": {
    "vscode": {
     "languageId": "ocaml"
    }
   },
   "outputs": [
    {
     "data": {
      "text/plain": [
       "val hitro_uredi : 'a list -> 'a list = <fun>\n"
      ]
     },
     "execution_count": 46,
     "metadata": {},
     "output_type": "execute_result"
    }
   ],
   "source": [
    "let rec hitro_uredi sez =\n",
    "  match sez with\n",
    "  | [] | [_] -> sez\n",
    "  | glava :: rep ->\n",
    "      let manjsi, vecji = List.partition (fun x -> x <= glava) rep in\n",
    "      hitro_uredi manjsi @ glava :: hitro_uredi vecji"
   ]
  },
  {
   "cell_type": "code",
   "execution_count": 47,
   "metadata": {
    "vscode": {
     "languageId": "ocaml"
    }
   },
   "outputs": [
    {
     "data": {
      "text/plain": [
       "val sez : int list =\n",
       "  [40; 11; 38; 76; 20; 70; 55; 37; 88; 90; 10; 7; 51; 43; 4; 95; 93; 61; 57;\n",
       "   32; 53; 92; 82; 31; 83; 53; 7; 65; 60; 45; 66; 17; 51; 54; 0; 45; 66; 13;\n",
       "   67; 60; 31; 18; 83; 42; 29; 11; 87; 68; 47; 6]\n"
      ]
     },
     "execution_count": 47,
     "metadata": {},
     "output_type": "execute_result"
    }
   ],
   "source": [
    "let sez = List.init 50 (fun _ -> Random.int 100)"
   ]
  },
  {
   "cell_type": "code",
   "execution_count": 48,
   "metadata": {
    "vscode": {
     "languageId": "ocaml"
    }
   },
   "outputs": [
    {
     "data": {
      "text/plain": [
       "- : int list =\n",
       "[0; 4; 6; 7; 7; 10; 11; 11; 13; 17; 18; 20; 29; 31; 31; 32; 37; 38; 40; 42;\n",
       " 43; 45; 45; 47; 51; 51; 53; 53; 54; 55; 57; 60; 60; 61; 65; 66; 66; 67; 68;\n",
       " 70; 76; 82; 83; 83; 87; 88; 90; 92; 93; 95]\n"
      ]
     },
     "execution_count": 48,
     "metadata": {},
     "output_type": "execute_result"
    }
   ],
   "source": [
    "hitro_uredi sez"
   ]
  },
  {
   "cell_type": "markdown",
   "metadata": {},
   "source": [
    "### Urejanje tabel na mestu"
   ]
  },
  {
   "cell_type": "code",
   "execution_count": 57,
   "metadata": {
    "vscode": {
     "languageId": "ocaml"
    }
   },
   "outputs": [
    {
     "data": {
      "text/plain": [
       "val zamenjaj : 'a array -> int -> int -> unit = <fun>\n"
      ]
     },
     "execution_count": 57,
     "metadata": {},
     "output_type": "execute_result"
    },
    {
     "data": {
      "text/plain": [
       "val pivotiraj : 'a array -> int -> int -> int = <fun>\n"
      ]
     },
     "execution_count": 57,
     "metadata": {},
     "output_type": "execute_result"
    }
   ],
   "source": [
    "let zamenjaj tab i j =\n",
    "  let t = tab.(i) in\n",
    "  tab.(i) <- tab.(j);\n",
    "  tab.(j) <- t\n",
    "\n",
    "let pivotiraj tab i j =\n",
    "  let pivot = tab.(i)\n",
    "  and levi = ref (i + 1)\n",
    "  and desni = ref (j - 1) in\n",
    "  while !levi < !desni do\n",
    "    while !levi < !desni && tab.(!levi) <= pivot do\n",
    "      incr levi\n",
    "    done;\n",
    "    while !levi < !desni && tab.(!desni) > pivot do\n",
    "      decr desni\n",
    "    done;\n",
    "    zamenjaj tab !levi !desni\n",
    "  done;\n",
    "  let p = if tab.(!levi) <= pivot then !levi else !levi - 1 in\n",
    "  zamenjaj tab i p;\n",
    "  p"
   ]
  },
  {
   "cell_type": "code",
   "execution_count": 58,
   "metadata": {
    "vscode": {
     "languageId": "ocaml"
    }
   },
   "outputs": [
    {
     "data": {
      "text/plain": [
       "val hitro_uredi_na_mestu : 'a array -> unit = <fun>\n"
      ]
     },
     "execution_count": 58,
     "metadata": {},
     "output_type": "execute_result"
    }
   ],
   "source": [
    "let hitro_uredi_na_mestu tab =\n",
    "  let rec uredi_med i j =\n",
    "    if j - i <= 1 then ()\n",
    "    else\n",
    "      let p = pivotiraj tab i j in\n",
    "      uredi_med i p;\n",
    "      uredi_med (p + 1) j\n",
    "  in\n",
    "  uredi_med 0 (Array.length tab)"
   ]
  },
  {
   "cell_type": "code",
   "execution_count": 59,
   "metadata": {
    "vscode": {
     "languageId": "ocaml"
    }
   },
   "outputs": [
    {
     "data": {
      "text/plain": [
       "- : int array =\n",
       "[|58; 24; 51; 9; 65; 52; 19; 69; 76; 83; 82; 40; 70; 35; 36; 86; 38; 22; -10;\n",
       "  88; 68; 24; 22; 56; 35; 28; 36; 33; 53; 71; 69; 95; 57; 92; 24; 46; 78; 33;\n",
       "  88; 89; 95; 58; 93; 1; 56; 13; 29; 13; 0; 17|]\n"
      ]
     },
     "execution_count": 59,
     "metadata": {},
     "output_type": "execute_result"
    }
   ],
   "source": [
    "tab"
   ]
  },
  {
   "cell_type": "code",
   "execution_count": 63,
   "metadata": {
    "vscode": {
     "languageId": "ocaml"
    }
   },
   "outputs": [
    {
     "data": {
      "text/plain": [
       "- : int array =\n",
       "[|-10; 0; 1; 9; 13; 13; 17; 19; 22; 22; 24; 24; 24; 28; 29; 33; 33; 35; 35;\n",
       "  36; 36; 38; 40; 46; 51; 52; 53; 56; 56; 57; 58; 58; 65; 68; 69; 69; 70; 71;\n",
       "  76; 78; 82; 83; 86; 88; 88; 89; 92; 93; 95; 95|]\n"
      ]
     },
     "execution_count": 63,
     "metadata": {},
     "output_type": "execute_result"
    }
   ],
   "source": [
    "hitro_uredi_na_mestu tab;\n",
    "tab"
   ]
  },
  {
   "cell_type": "markdown",
   "metadata": {},
   "source": [
    "## Enačba $T(n) = O(n) + 2 T(n / 2)$"
   ]
  },
  {
   "cell_type": "markdown",
   "metadata": {},
   "source": [
    "## Urejanje s primerjavo"
   ]
  },
  {
   "cell_type": "code",
   "execution_count": null,
   "metadata": {
    "vscode": {
     "languageId": "ocaml"
    }
   },
   "outputs": [],
   "source": []
  },
  {
   "cell_type": "markdown",
   "metadata": {},
   "source": [
    "![](../../zapiski/slike/odlocitveno-drevo.png)"
   ]
  },
  {
   "cell_type": "markdown",
   "metadata": {},
   "source": [
    "## Hitro potenciranje"
   ]
  },
  {
   "cell_type": "code",
   "execution_count": 115,
   "metadata": {
    "vscode": {
     "languageId": "ocaml"
    }
   },
   "outputs": [
    {
     "data": {
      "text/plain": [
       "val potenciraj : int -> int -> int = <fun>\n"
      ]
     },
     "execution_count": 115,
     "metadata": {},
     "output_type": "execute_result"
    }
   ],
   "source": [
    "let rec potenciraj a =\n",
    "  function\n",
    "  | 0 -> 1\n",
    "  | n -> a * potenciraj a (n - 1)"
   ]
  },
  {
   "cell_type": "code",
   "execution_count": 116,
   "metadata": {
    "vscode": {
     "languageId": "ocaml"
    }
   },
   "outputs": [
    {
     "data": {
      "text/plain": [
       "- : int = 1024\n"
      ]
     },
     "execution_count": 116,
     "metadata": {},
     "output_type": "execute_result"
    }
   ],
   "source": [
    "potenciraj 2 10"
   ]
  },
  {
   "cell_type": "markdown",
   "metadata": {},
   "source": [
    "$a^n = a^{n / 2} \\cdot a^{n / 2} = (a^{n / 4} \\cdot a^{n / 4}) \\cdot (a^{n / 4} \\cdot a^{n / 4}) = \\ldots$"
   ]
  },
  {
   "cell_type": "markdown",
   "metadata": {},
   "source": [
    "$a^n = (a^{n / 2})^2$"
   ]
  },
  {
   "cell_type": "code",
   "execution_count": 1,
   "metadata": {
    "vscode": {
     "languageId": "ocaml"
    }
   },
   "outputs": [
    {
     "data": {
      "text/plain": [
       "val hitro_potenciraj : int -> int -> int = <fun>\n"
      ]
     },
     "execution_count": 1,
     "metadata": {},
     "output_type": "execute_result"
    },
    {
     "data": {
      "text/plain": [
       "val hitro_potenciraj' : int -> int -> int = <fun>\n"
      ]
     },
     "execution_count": 1,
     "metadata": {},
     "output_type": "execute_result"
    }
   ],
   "source": [
    "let rec hitro_potenciraj a =\n",
    "  function\n",
    "  | 0 -> 1\n",
    "  | n when n mod 2 = 0 ->\n",
    "      let b = hitro_potenciraj a (n / 2) in\n",
    "      b * b\n",
    "  | n ->\n",
    "      let b = hitro_potenciraj a (n / 2) in\n",
    "      a * b * b\n",
    "\n",
    "let rec hitro_potenciraj' a =\n",
    "  function\n",
    "  | 0 -> 1\n",
    "  | n ->\n",
    "      let a2 = a * a in\n",
    "      if n mod 2 = 0 then\n",
    "        hitro_potenciraj a2 (n / 2)\n",
    "      else\n",
    "        a * hitro_potenciraj a2 (n / 2)"
   ]
  },
  {
   "cell_type": "code",
   "execution_count": 4,
   "metadata": {
    "vscode": {
     "languageId": "ocaml"
    }
   },
   "outputs": [
    {
     "data": {
      "text/plain": [
       "- : int = 0\n"
      ]
     },
     "execution_count": 4,
     "metadata": {},
     "output_type": "execute_result"
    }
   ],
   "source": [
    "hitro_potenciraj' 2 100000000"
   ]
  },
  {
   "cell_type": "markdown",
   "metadata": {},
   "source": [
    "### Fibonaccijeva števila"
   ]
  },
  {
   "cell_type": "code",
   "execution_count": 62,
   "metadata": {
    "vscode": {
     "languageId": "ocaml"
    }
   },
   "outputs": [
    {
     "data": {
      "text/plain": [
       "type matrika = { _11 : int; _12 : int; _21 : int; _22 : int; }\n"
      ]
     },
     "execution_count": 62,
     "metadata": {},
     "output_type": "execute_result"
    },
    {
     "data": {
      "text/plain": [
       "val zmnozi : matrika -> matrika -> matrika = <fun>\n"
      ]
     },
     "execution_count": 62,
     "metadata": {},
     "output_type": "execute_result"
    },
    {
     "data": {
      "text/plain": [
       "val ostanek_matrike : matrika -> int -> matrika = <fun>\n"
      ]
     },
     "execution_count": 62,
     "metadata": {},
     "output_type": "execute_result"
    }
   ],
   "source": [
    "type matrika = {\n",
    "    _11: int; _12: int; _21: int; _22: int\n",
    "}\n",
    "\n",
    "let zmnozi a b = {\n",
    "    _11 = a._11 * b._11 + a._12 * b._21;\n",
    "    _21 = a._21 * b._11 + a._22 * b._21;\n",
    "    _12 = a._11 * b._12 + a._12 * b._22;\n",
    "    _22 = a._21 * b._12 + a._22 * b._22\n",
    "}\n",
    "\n",
    "let ostanek_matrike a m = {\n",
    "    _11 = a._11 mod m;\n",
    "    _12 = a._12 mod m;\n",
    "    _21 = a._21 mod m;\n",
    "    _22 = a._22 mod m\n",
    "}"
   ]
  },
  {
   "cell_type": "markdown",
   "metadata": {},
   "source": [
    "## Barnes-Hutov algoritem"
   ]
  }
 ],
 "metadata": {
  "celltoolbar": "Slideshow",
  "kernelspec": {
   "display_name": "OCaml default",
   "language": "OCaml",
   "name": "ocaml-jupyter"
  },
  "language_info": {
   "codemirror_mode": "text/x-ocaml",
   "file_extension": ".ml",
   "mimetype": "text/x-ocaml",
   "name": "OCaml",
   "nbconverter_exporter": null,
   "pygments_lexer": "OCaml",
   "version": "4.14.1"
  }
 },
 "nbformat": 4,
 "nbformat_minor": 2
}
