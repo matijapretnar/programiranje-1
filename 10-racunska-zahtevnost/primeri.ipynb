{
 "cells": [
  {
   "cell_type": "markdown",
   "metadata": {},
   "source": [
    "# Računska zahtevnost"
   ]
  },
  {
   "cell_type": "markdown",
   "metadata": {},
   "source": [
    "## Tabele in tip [`array`](https://caml.inria.fr/pub/docs/manual-ocaml/libref/Array.html)"
   ]
  },
  {
   "cell_type": "code",
   "execution_count": 8,
   "metadata": {
    "vscode": {
     "languageId": "ocaml"
    }
   },
   "outputs": [
    {
     "data": {
      "text/plain": [
       "val t : int array = [|10; 20; 30; 40; 50|]\n"
      ]
     },
     "execution_count": 8,
     "metadata": {},
     "output_type": "execute_result"
    }
   ],
   "source": [
    "let t = [|10; 20; 30; 40; 50|]"
   ]
  },
  {
   "cell_type": "code",
   "execution_count": 9,
   "metadata": {
    "vscode": {
     "languageId": "ocaml"
    }
   },
   "outputs": [
    {
     "data": {
      "text/plain": [
       "- : unit = ()\n"
      ]
     },
     "execution_count": 9,
     "metadata": {},
     "output_type": "execute_result"
    }
   ],
   "source": [
    "t.(1) <- 42"
   ]
  },
  {
   "cell_type": "code",
   "execution_count": 10,
   "metadata": {
    "vscode": {
     "languageId": "ocaml"
    }
   },
   "outputs": [
    {
     "data": {
      "text/plain": [
       "- : int array = [|10; 42; 30; 40; 50|]\n"
      ]
     },
     "execution_count": 10,
     "metadata": {},
     "output_type": "execute_result"
    }
   ],
   "source": [
    "t"
   ]
  },
  {
   "cell_type": "code",
   "execution_count": null,
   "metadata": {
    "vscode": {
     "languageId": "ocaml"
    }
   },
   "outputs": [],
   "source": [
    "Array.make_matrix 2 2 0"
   ]
  },
  {
   "cell_type": "code",
   "execution_count": null,
   "metadata": {
    "vscode": {
     "languageId": "ocaml"
    }
   },
   "outputs": [],
   "source": [
    "Array.map succ [|10; 20; 30|]"
   ]
  },
  {
   "cell_type": "code",
   "execution_count": 11,
   "metadata": {
    "vscode": {
     "languageId": "ocaml"
    }
   },
   "outputs": [
    {
     "data": {
      "text/plain": [
       "val t : int array = [|1; 2; 3; 4|]\n"
      ]
     },
     "execution_count": 11,
     "metadata": {},
     "output_type": "execute_result"
    },
    {
     "data": {
      "text/plain": [
       "val t' : int array = [|1; 2; 3; 4|]\n"
      ]
     },
     "execution_count": 11,
     "metadata": {},
     "output_type": "execute_result"
    }
   ],
   "source": [
    "let t = [|1; 2; 3; 4|]\n",
    "let t' = t"
   ]
  },
  {
   "cell_type": "code",
   "execution_count": 12,
   "metadata": {
    "vscode": {
     "languageId": "ocaml"
    }
   },
   "outputs": [
    {
     "data": {
      "text/plain": [
       "- : unit = ()\n"
      ]
     },
     "execution_count": 12,
     "metadata": {},
     "output_type": "execute_result"
    }
   ],
   "source": [
    "t'.(2) <- 30"
   ]
  },
  {
   "cell_type": "code",
   "execution_count": 14,
   "metadata": {
    "vscode": {
     "languageId": "ocaml"
    }
   },
   "outputs": [
    {
     "data": {
      "text/plain": [
       "- : int array = [|1; 2; 30; 4|]\n"
      ]
     },
     "execution_count": 14,
     "metadata": {},
     "output_type": "execute_result"
    }
   ],
   "source": [
    "t"
   ]
  },
  {
   "cell_type": "markdown",
   "metadata": {},
   "source": [
    "## Notacija $O$"
   ]
  },
  {
   "cell_type": "markdown",
   "metadata": {
    "vscode": {
     "languageId": "ocaml"
    }
   },
   "source": [
    "$$f \\in O(n \\mapsto n^2)$$"
   ]
  },
  {
   "cell_type": "markdown",
   "metadata": {},
   "source": [
    "$$f(n) = O(n^2)$$"
   ]
  },
  {
   "cell_type": "markdown",
   "metadata": {},
   "source": [
    "### $$f \\in O({\\color{blue} g}) \\iff {\\color{red} \\exists x_0}. {\\color{purple} \\exists M}. \\forall x > {\\color{red} x_0}. |f(x)| \\le {\\color{purple} M} |{\\color{blue} g}(x)|$$"
   ]
  },
  {
   "cell_type": "markdown",
   "metadata": {
    "vscode": {
     "languageId": "ocaml"
    }
   },
   "source": [
    "![graf](../zapiski/slike/O-graf.png)"
   ]
  },
  {
   "cell_type": "markdown",
   "metadata": {},
   "source": [
    "$$f \\in O(g) \\implies \\alpha \\cdot f \\in O(g)$$\n",
    "$$f_1 \\in O(g_1), f_2 \\in O(g_2) \\implies f_1 + f_2 \\in O(|g_1| + |g_2|)$$\n",
    "$$f_1 \\in O(g_1), f_2 \\in O(g_2) \\implies f_1 \\cdot f_2 \\in O(g_1 \\cdot g_2)$$"
   ]
  },
  {
   "cell_type": "markdown",
   "metadata": {},
   "source": [
    "## Predstavitev podatkov v pomnilniku"
   ]
  },
  {
   "cell_type": "markdown",
   "metadata": {},
   "source": [
    "### Verižni seznami v OCamlu"
   ]
  },
  {
   "cell_type": "markdown",
   "metadata": {
    "vscode": {
     "languageId": "ocaml"
    }
   },
   "source": [
    "![seznam v OCamlu](../zapiski/slike/seznam-ocaml.png)"
   ]
  },
  {
   "cell_type": "markdown",
   "metadata": {},
   "source": [
    "```ocaml\n",
    "let s = [6; 2; 4]\n",
    "```\n",
    "\n",
    "![](../../zapiski/slike/seznam-ocaml.png)\n",
    "\n",
    "```ocaml\n",
    "s : 19         0   0   0   0   0   0\n",
    "               0   0   0   0   0   0\n",
    "               0   0   1   2  22   0\n",
    "               1   6  15   1   4  30\n",
    "               0   0   0   0   0   0\n",
    "```"
   ]
  },
  {
   "cell_type": "markdown",
   "metadata": {},
   "source": [
    "### Tabele v OCamlu"
   ]
  },
  {
   "cell_type": "markdown",
   "metadata": {},
   "source": [
    "![seznam v OCamlu](../zapiski/slike/tabela-ocaml.png)"
   ]
  },
  {
   "cell_type": "markdown",
   "metadata": {},
   "source": [
    "\n",
    "```ocaml\n",
    "let s = [|6; 2; 4|]\n",
    "```\n",
    "\n",
    "![](../../zapiski/slike/tabela-ocaml.png)\n",
    "\n",
    "```ocaml\n",
    "s : 19         0   0   0   0   0   0\n",
    "               0   0   0   0   0   0\n",
    "               0   0   0   0   0   0\n",
    "               3   6   2   4   0   0\n",
    "               0   0   0   0   0   0\n",
    "```"
   ]
  },
  {
   "cell_type": "code",
   "execution_count": 1,
   "metadata": {
    "vscode": {
     "languageId": "ocaml"
    }
   },
   "outputs": [
    {
     "data": {
      "text/plain": [
       "val t : int array = [|1; 2; 3|]\n"
      ]
     },
     "execution_count": 1,
     "metadata": {},
     "output_type": "execute_result"
    }
   ],
   "source": [
    "let t = [|1; 2; 3|]"
   ]
  },
  {
   "cell_type": "code",
   "execution_count": 3,
   "metadata": {
    "vscode": {
     "languageId": "ocaml"
    }
   },
   "outputs": [
    {
     "ename": "error",
     "evalue": "compile_error",
     "output_type": "error",
     "traceback": [
      "File \"[3]\", line 1, characters 9-13:\n1 | t.(1) <- true;;\n             ^^^^\nError: This expression has type bool but an expression was expected of type\n         int\n"
     ]
    }
   ],
   "source": [
    "t.(1) <- true;;"
   ]
  },
  {
   "cell_type": "markdown",
   "metadata": {},
   "source": [
    "### Tabele v Pythonu"
   ]
  },
  {
   "cell_type": "markdown",
   "metadata": {},
   "source": [
    "![seznam v OCamlu](../zapiski/slike/tabela-python.png)"
   ]
  },
  {
   "cell_type": "markdown",
   "metadata": {},
   "source": [
    "\n",
    "```python\n",
    "s = [6, 2, 4]\n",
    "```\n",
    "\n",
    "![](../../zapiski/slike/tabela-python.png)\n",
    "\n",
    "```python\n",
    "s : 19         0   0 123   6   0   0\n",
    "               0   0   0   0 123   4\n",
    "               0   0   0   0   0   0\n",
    "             246   3   6   3  11  29\n",
    "               0   0   0   0 123   2\n",
    "```\n",
    "\n",
    "Na mestih `123` in `246` je shranjena še definicija\n",
    "razredov `int` in `list`.\n"
   ]
  },
  {
   "cell_type": "markdown",
   "metadata": {},
   "source": [
    "### Časovna zahtevnost osnovnih operacij"
   ]
  },
  {
   "cell_type": "markdown",
   "metadata": {},
   "source": [
    "|                                 | OCaml `array`  | Python `list`  | OCaml `list`\n",
    "| ------------------------------: |:-------------: | :------------: | :--------------:\n",
    "| indeksiranje                    | <summary><details>O(1)</details></summary> | <summary><details>O(1)</details></summary> | <summary><details>O(n)</details></summary>\n",
    "| dodaj na začetek                | <summary><details>O(n)</details></summary> | <summary><details>O(n)</details></summary> | <summary><details>O(1)</details></summary>\n",
    "| dodaj na konec                  | <summary><details>O(n)</details></summary> | <summary><details>O(1)</details></summary> | <summary><details>O(n)</details></summary>\n",
    "| dolžina                         | <summary><details>O(1)</details></summary> | <summary><details>O(1)</details></summary> | <summary><details>O(n)</details></summary>\n",
    "| izračun repa                    | <summary><details>O(n)</details></summary> | <summary><details>O(n)</details></summary> | <summary><details>O(1)</details></summary>\n"
   ]
  },
  {
   "cell_type": "markdown",
   "metadata": {},
   "source": [
    "## Reference"
   ]
  },
  {
   "cell_type": "code",
   "execution_count": null,
   "metadata": {
    "vscode": {
     "languageId": "ocaml"
    }
   },
   "outputs": [],
   "source": [
    "let r = ref 10"
   ]
  },
  {
   "cell_type": "code",
   "execution_count": null,
   "metadata": {
    "vscode": {
     "languageId": "ocaml"
    }
   },
   "outputs": [],
   "source": [
    "2 * !r"
   ]
  },
  {
   "cell_type": "code",
   "execution_count": null,
   "metadata": {
    "vscode": {
     "languageId": "ocaml"
    }
   },
   "outputs": [],
   "source": [
    "r := 15"
   ]
  },
  {
   "cell_type": "code",
   "execution_count": null,
   "metadata": {
    "vscode": {
     "languageId": "ocaml"
    }
   },
   "outputs": [],
   "source": [
    "let r' = r"
   ]
  },
  {
   "cell_type": "code",
   "execution_count": null,
   "metadata": {
    "vscode": {
     "languageId": "ocaml"
    }
   },
   "outputs": [],
   "source": [
    "r' := 20"
   ]
  },
  {
   "cell_type": "code",
   "execution_count": null,
   "metadata": {
    "vscode": {
     "languageId": "ocaml"
    }
   },
   "outputs": [],
   "source": [
    "r"
   ]
  },
  {
   "cell_type": "code",
   "execution_count": null,
   "metadata": {
    "vscode": {
     "languageId": "ocaml"
    }
   },
   "outputs": [],
   "source": [
    "(:=)"
   ]
  },
  {
   "cell_type": "code",
   "execution_count": null,
   "metadata": {
    "vscode": {
     "languageId": "ocaml"
    }
   },
   "outputs": [],
   "source": [
    "let r = ref 10"
   ]
  },
  {
   "cell_type": "code",
   "execution_count": null,
   "metadata": {
    "vscode": {
     "languageId": "ocaml"
    }
   },
   "outputs": [],
   "source": [
    "let r' = ref 10"
   ]
  },
  {
   "cell_type": "markdown",
   "metadata": {},
   "source": [
    "## Zanki `for` in `while`"
   ]
  },
  {
   "cell_type": "code",
   "execution_count": 5,
   "metadata": {
    "vscode": {
     "languageId": "ocaml"
    }
   },
   "outputs": [
    {
     "name": "stdout",
     "output_type": "stream",
     "text": [
      "1\n",
      "2\n",
      "fizz\n",
      "4\n",
      "buzz\n",
      "fizz\n",
      "7\n",
      "8\n",
      "fizz\n",
      "buzz\n",
      "11\n",
      "fizz\n",
      "13\n",
      "14\n",
      "fizz buzz\n",
      "16\n",
      "17\n",
      "fizz\n",
      "19\n",
      "buzz\n",
      "fizz\n",
      "22\n",
      "23\n",
      "fizz\n",
      "buzz\n",
      "26\n",
      "fizz\n",
      "28\n",
      "29\n",
      "fizz buzz\n",
      "31\n",
      "32\n",
      "fizz\n",
      "34\n",
      "buzz\n",
      "fizz\n",
      "37\n",
      "38\n",
      "fizz\n",
      "buzz\n",
      "41\n",
      "fizz\n",
      "43\n",
      "44\n",
      "fizz buzz\n",
      "46\n",
      "47\n",
      "fizz\n",
      "49\n",
      "buzz\n",
      "fizz\n",
      "52\n",
      "53\n",
      "fizz\n",
      "buzz\n",
      "56\n",
      "fizz\n",
      "58\n",
      "59\n",
      "fizz buzz\n",
      "61\n",
      "62\n",
      "fizz\n",
      "64\n",
      "buzz\n",
      "fizz\n",
      "67\n",
      "68\n",
      "fizz\n",
      "buzz\n",
      "71\n",
      "fizz\n",
      "73\n",
      "74\n",
      "fizz buzz\n",
      "76\n",
      "77\n",
      "fizz\n",
      "79\n",
      "buzz\n",
      "fizz\n",
      "82\n",
      "83\n",
      "fizz\n",
      "buzz\n",
      "86\n",
      "fizz\n",
      "88\n",
      "89\n",
      "fizz buzz\n",
      "91\n",
      "92\n",
      "fizz\n",
      "94\n",
      "buzz\n",
      "fizz\n",
      "97\n",
      "98\n",
      "fizz\n",
      "buzz\n"
     ]
    },
    {
     "data": {
      "text/plain": [
       "- : unit = ()\n"
      ]
     },
     "execution_count": 5,
     "metadata": {},
     "output_type": "execute_result"
    }
   ],
   "source": [
    "let fizz_buzz n =\n",
    "  match n mod 3, n mod 5 with\n",
    "  | 0, 0 -> \"fizz buzz\"\n",
    "  | 0, _ -> \"fizz\"\n",
    "  | _, 0 -> \"buzz\"\n",
    "  | _ -> string_of_int n\n",
    "in\n",
    "for i = 1 to 100 do\n",
    "  print_endline (fizz_buzz i)\n",
    "done"
   ]
  },
  {
   "cell_type": "code",
   "execution_count": 1,
   "metadata": {
    "vscode": {
     "languageId": "ocaml"
    }
   },
   "outputs": [
    {
     "name": "stdout",
     "output_type": "stream",
     "text": [
      "1\n",
      "2\n",
      "fizz\n",
      "4\n",
      "buzz\n",
      "fizz\n",
      "7\n",
      "8\n",
      "fizz\n",
      "buzz\n",
      "11\n",
      "fizz\n",
      "13\n",
      "14\n",
      "fizz buzz\n",
      "16\n",
      "17\n",
      "fizz\n",
      "19\n",
      "buzz\n",
      "fizz\n",
      "22\n",
      "23\n",
      "fizz\n",
      "buzz\n",
      "26\n",
      "fizz\n",
      "28\n",
      "29\n",
      "fizz buzz\n",
      "31\n",
      "32\n",
      "fizz\n",
      "34\n",
      "buzz\n",
      "fizz\n",
      "37\n",
      "38\n",
      "fizz\n",
      "buzz\n",
      "41\n",
      "fizz\n",
      "43\n",
      "44\n",
      "fizz buzz\n",
      "46\n",
      "47\n",
      "fizz\n",
      "49\n",
      "buzz\n",
      "fizz\n",
      "52\n",
      "53\n",
      "fizz\n",
      "buzz\n",
      "56\n",
      "fizz\n",
      "58\n",
      "59\n",
      "fizz buzz\n",
      "61\n",
      "62\n",
      "fizz\n",
      "64\n",
      "buzz\n",
      "fizz\n",
      "67\n",
      "68\n",
      "fizz\n",
      "buzz\n",
      "71\n",
      "fizz\n",
      "73\n",
      "74\n",
      "fizz buzz\n",
      "76\n",
      "77\n",
      "fizz\n",
      "79\n",
      "buzz\n",
      "fizz\n",
      "82\n",
      "83\n",
      "fizz\n",
      "buzz\n",
      "86\n",
      "fizz\n",
      "88\n",
      "89\n",
      "fizz buzz\n",
      "91\n",
      "92\n",
      "fizz\n",
      "94\n",
      "buzz\n",
      "fizz\n",
      "97\n",
      "98\n",
      "fizz\n",
      "buzz\n"
     ]
    },
    {
     "data": {
      "text/plain": [
       "- : unit = ()\n"
      ]
     },
     "execution_count": 1,
     "metadata": {},
     "output_type": "execute_result"
    }
   ],
   "source": [
    "let fizz_buzz n =\n",
    "  match n mod 3, n mod 5 with\n",
    "  | 0, 0 -> \"fizz buzz\"\n",
    "  | 0, _ -> \"fizz\"\n",
    "  | _, 0 -> \"buzz\"\n",
    "  | _ -> string_of_int n\n",
    "in\n",
    "let t = [| 1 |] in\n",
    "while t.(0) <= 100 do\n",
    "  print_endline (fizz_buzz t.(0));\n",
    "  t.(0) <- t.(0) + 1\n",
    "done"
   ]
  },
  {
   "cell_type": "code",
   "execution_count": 2,
   "metadata": {
    "vscode": {
     "languageId": "ocaml"
    }
   },
   "outputs": [
    {
     "name": "stdout",
     "output_type": "stream",
     "text": [
      "1\n",
      "2\n",
      "fizz\n",
      "4\n",
      "buzz\n",
      "fizz\n",
      "7\n",
      "8\n",
      "fizz\n",
      "buzz\n",
      "11\n",
      "fizz\n",
      "13\n",
      "14\n",
      "fizz buzz\n",
      "16\n",
      "17\n",
      "fizz\n",
      "19\n",
      "buzz\n",
      "fizz\n",
      "22\n",
      "23\n",
      "fizz\n",
      "buzz\n",
      "26\n",
      "fizz\n",
      "28\n",
      "29\n",
      "fizz buzz\n",
      "31\n",
      "32\n",
      "fizz\n",
      "34\n",
      "buzz\n",
      "fizz\n",
      "37\n",
      "38\n",
      "fizz\n",
      "buzz\n",
      "41\n",
      "fizz\n",
      "43\n",
      "44\n",
      "fizz buzz\n",
      "46\n",
      "47\n",
      "fizz\n",
      "49\n",
      "buzz\n",
      "fizz\n",
      "52\n",
      "53\n",
      "fizz\n",
      "buzz\n",
      "56\n",
      "fizz\n",
      "58\n",
      "59\n",
      "fizz buzz\n",
      "61\n",
      "62\n",
      "fizz\n",
      "64\n",
      "buzz\n",
      "fizz\n",
      "67\n",
      "68\n",
      "fizz\n",
      "buzz\n",
      "71\n",
      "fizz\n",
      "73\n",
      "74\n",
      "fizz buzz\n",
      "76\n",
      "77\n",
      "fizz\n",
      "79\n",
      "buzz\n",
      "fizz\n",
      "82\n",
      "83\n",
      "fizz\n",
      "buzz\n",
      "86\n",
      "fizz\n",
      "88\n",
      "89\n",
      "fizz buzz\n",
      "91\n",
      "92\n",
      "fizz\n",
      "94\n",
      "buzz\n",
      "fizz\n",
      "97\n",
      "98\n",
      "fizz\n",
      "buzz\n"
     ]
    },
    {
     "data": {
      "text/plain": [
       "- : unit = ()\n"
      ]
     },
     "execution_count": 2,
     "metadata": {},
     "output_type": "execute_result"
    }
   ],
   "source": [
    "let fizz_buzz n =\n",
    "  match n mod 3, n mod 5 with\n",
    "  | 0, 0 -> \"fizz buzz\"\n",
    "  | 0, _ -> \"fizz\"\n",
    "  | _, 0 -> \"buzz\"\n",
    "  | _ -> string_of_int n\n",
    "in\n",
    "let r = ref 1 in\n",
    "while !r <= 100 do\n",
    "  print_endline (fizz_buzz !r);\n",
    "  r := !r + 1\n",
    "done"
   ]
  },
  {
   "cell_type": "markdown",
   "metadata": {},
   "source": [
    "## Spreminjanje tabel na mestu"
   ]
  },
  {
   "cell_type": "code",
   "execution_count": 3,
   "metadata": {
    "vscode": {
     "languageId": "ocaml"
    }
   },
   "outputs": [
    {
     "data": {
      "text/plain": [
       "val t : int array = [|10; 20; 30; 40; 50|]\n"
      ]
     },
     "execution_count": 3,
     "metadata": {},
     "output_type": "execute_result"
    }
   ],
   "source": [
    "let t = [| 10; 20; 30; 40; 50 |]"
   ]
  },
  {
   "cell_type": "code",
   "execution_count": 4,
   "metadata": {
    "vscode": {
     "languageId": "ocaml"
    }
   },
   "outputs": [
    {
     "data": {
      "text/plain": [
       "val naredi_obrnjeno : 'a array -> 'a array = <fun>\n"
      ]
     },
     "execution_count": 4,
     "metadata": {},
     "output_type": "execute_result"
    }
   ],
   "source": [
    "let naredi_obrnjeno tabela =\n",
    "  let n = Array.length tabela in\n",
    "  Array.init n (fun i -> tabela.(n - 1 - i))"
   ]
  },
  {
   "cell_type": "code",
   "execution_count": 5,
   "metadata": {
    "vscode": {
     "languageId": "ocaml"
    }
   },
   "outputs": [
    {
     "data": {
      "text/plain": [
       "val zamenjaj : 'a array -> int -> int -> unit = <fun>\n"
      ]
     },
     "execution_count": 5,
     "metadata": {},
     "output_type": "execute_result"
    }
   ],
   "source": [
    "let zamenjaj tabela i j =\n",
    "  let x = tabela.(i) in\n",
    "  tabela.(i) <- tabela.(j);\n",
    "  tabela.(j) <- x"
   ]
  },
  {
   "cell_type": "code",
   "execution_count": 6,
   "metadata": {
    "vscode": {
     "languageId": "ocaml"
    }
   },
   "outputs": [
    {
     "data": {
      "text/plain": [
       "val obrni_na_mestu : 'a array -> unit = <fun>\n"
      ]
     },
     "execution_count": 6,
     "metadata": {},
     "output_type": "execute_result"
    }
   ],
   "source": [
    "let obrni_na_mestu tabela =\n",
    "  let n = Array.length tabela in\n",
    "  for i = 0 to n / 2 do\n",
    "    zamenjaj tabela i (n - 1 - i)\n",
    "  done"
   ]
  },
  {
   "cell_type": "markdown",
   "metadata": {},
   "source": [
    "## Mešanje"
   ]
  },
  {
   "cell_type": "code",
   "execution_count": null,
   "metadata": {
    "vscode": {
     "languageId": "ocaml"
    }
   },
   "outputs": [],
   "source": [
    "let nakljucno_celo a b =\n",
    "  a + Random.int (b + 1 - a)"
   ]
  },
  {
   "cell_type": "code",
   "execution_count": null,
   "metadata": {
    "vscode": {
     "languageId": "ocaml"
    }
   },
   "outputs": [],
   "source": [
    "let premesaj tabela =\n",
    "  let n = Array.length tabela in\n",
    "  for i = 0 to n - 2 do\n",
    "    let j = nakljucno_celo (i + 1) (n - 1) in\n",
    "    zamenjaj tabela i j\n",
    "  done"
   ]
  },
  {
   "cell_type": "code",
   "execution_count": null,
   "metadata": {
    "vscode": {
     "languageId": "ocaml"
    }
   },
   "outputs": [],
   "source": [
    "let tabela = Array.init 10 (fun i -> i) in\n",
    "premesaj tabela;\n",
    "tabela"
   ]
  },
  {
   "cell_type": "markdown",
   "metadata": {},
   "source": [
    "### Porazdelitev verjetnosti dogodkov"
   ]
  },
  {
   "cell_type": "code",
   "execution_count": null,
   "metadata": {
    "vscode": {
     "languageId": "ocaml"
    }
   },
   "outputs": [],
   "source": [
    "#use \"topfind\";;\n",
    "#require \"jupyter.notebook\""
   ]
  },
  {
   "cell_type": "code",
   "execution_count": null,
   "metadata": {
    "vscode": {
     "languageId": "ocaml"
    }
   },
   "outputs": [],
   "source": [
    "let prikazi_verjetnosti verjetnosti =\n",
    "  Jupyter_notebook.printf \"<table><tr><th>dogodek</th><th>verjetnost</th><th style=\\\"width: 300px\\\"></th></tr>\";\n",
    "  verjetnosti\n",
    "  |> List.iter (fun (x, p) ->\n",
    "    let percent = (100. *. p) in\n",
    "    Jupyter_notebook.printf \"<tr><td>%s</td><td>%f%%</td><td><div style=\\\"width: %f%%; height: 1em; background:black\\\"></div></td></tr>\" x percent percent) ;\n",
    "  Jupyter_notebook.printf \"</table>\" ;\n",
    "  Jupyter_notebook.display_formatter \"text/html\""
   ]
  },
  {
   "cell_type": "code",
   "execution_count": null,
   "metadata": {
    "vscode": {
     "languageId": "ocaml"
    }
   },
   "outputs": [],
   "source": [
    "prikazi_verjetnosti [(\"sonce\", 0.5); (\"dež\", 0.1); (\"oblačno\", 0.2); (\"sneg\", 0.1)]"
   ]
  },
  {
   "cell_type": "code",
   "execution_count": null,
   "metadata": {
    "vscode": {
     "languageId": "ocaml"
    }
   },
   "outputs": [],
   "source": [
    "let verjetnost_rezultatov stevilo_poskusov poskus =\n",
    "  let ponovitve = Hashtbl.create 256 in\n",
    "  for _ = 1 to stevilo_poskusov do\n",
    "    let rezultat = poskus () in\n",
    "    if Hashtbl.mem ponovitve rezultat then\n",
    "      Hashtbl.replace ponovitve rezultat (Hashtbl.find ponovitve rezultat + 1)\n",
    "    else Hashtbl.add ponovitve rezultat 1\n",
    "  done;\n",
    "  let verjetnosti =\n",
    "    Hashtbl.fold\n",
    "      (fun rezultat stevilo seznam ->\n",
    "        (rezultat, float_of_int stevilo /. float_of_int stevilo_poskusov)\n",
    "        :: seznam)\n",
    "      ponovitve []\n",
    "  in\n",
    "  verjetnosti\n",
    "  |> List.sort (fun (x1, p1) (x2, p2) -> compare x1 x2)\n",
    "  |> prikazi_verjetnosti"
   ]
  },
  {
   "cell_type": "code",
   "execution_count": null,
   "metadata": {
    "vscode": {
     "languageId": "ocaml"
    }
   },
   "outputs": [],
   "source": [
    "verjetnost_rezultatov 100000 (fun () -> string_of_int (nakljucno_celo 1 6))"
   ]
  },
  {
   "cell_type": "markdown",
   "metadata": {},
   "source": [
    "### Pravičnost mešanja"
   ]
  },
  {
   "cell_type": "code",
   "execution_count": null,
   "metadata": {
    "vscode": {
     "languageId": "ocaml"
    }
   },
   "outputs": [],
   "source": [
    "let verjetnost_permutacij stevilo_poskusov velikost_tabele premesaj =\n",
    "  let poskus () =\n",
    "    let kopija = Array.init velikost_tabele (fun n -> n |> succ |> string_of_int) in\n",
    "    let () = premesaj kopija in\n",
    "    kopija\n",
    "    |> Array.to_list\n",
    "    |> String.concat \"\"\n",
    "  in\n",
    "  verjetnost_rezultatov stevilo_poskusov poskus"
   ]
  },
  {
   "cell_type": "code",
   "execution_count": null,
   "metadata": {
    "vscode": {
     "languageId": "ocaml"
    }
   },
   "outputs": [],
   "source": [
    "let ne_naredi_nic _tabela =\n",
    "  ()\n",
    "\n",
    "in\n",
    "\n",
    "(* dobimo samo prvotno permutacijo *)\n",
    "verjetnost_permutacij 10000 5 ne_naredi_nic"
   ]
  }
 ],
 "metadata": {
  "kernelspec": {
   "display_name": "OCaml 4.14",
   "language": "OCaml",
   "name": "ocaml-jupyter"
  },
  "language_info": {
   "codemirror_mode": "text/x-ocaml",
   "file_extension": ".ml",
   "mimetype": "text/x-ocaml",
   "name": "OCaml",
   "nbconverter_exporter": null,
   "pygments_lexer": "OCaml",
   "version": "4.14.2"
  }
 },
 "nbformat": 4,
 "nbformat_minor": 2
}
