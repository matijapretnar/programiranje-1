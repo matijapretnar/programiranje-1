{
 "cells": [
  {
   "cell_type": "markdown",
   "metadata": {},
   "source": [
    "# Dinamično programiranje"
   ]
  },
  {
   "cell_type": "markdown",
   "metadata": {},
   "source": [
    "## Različne strategije"
   ]
  },
  {
   "cell_type": "markdown",
   "metadata": {},
   "source": [
    "### Deli in vladaj"
   ]
  },
  {
   "cell_type": "markdown",
   "metadata": {},
   "source": [
    "1. rešitve podnalog **sestavljajo** rešitev celote in\n",
    "2. podnaloge so **za faktor** manjše\n",
    "\n",
    "![](../../zapiski/slike/deli-in-vladaj.png)"
   ]
  },
  {
   "cell_type": "markdown",
   "metadata": {},
   "source": [
    "### Dinamično programiranje"
   ]
  },
  {
   "cell_type": "markdown",
   "metadata": {},
   "source": [
    "\n",
    "1. rešitve podnalog **sestavljajo** rešitev celote in\n",
    "2. podnaloge se **prekrivajo**\n",
    "\n",
    "![](../../zapiski/slike/dinamicno-programiranje.png)"
   ]
  },
  {
   "cell_type": "markdown",
   "metadata": {},
   "source": [
    "### Veliko dela"
   ]
  },
  {
   "cell_type": "markdown",
   "metadata": {},
   "source": [
    "1. podnaloge **niso za faktor manjše** in\n",
    "2. podnaloge se **ne prekrivajo**\n",
    "\n",
    "![](../../zapiski/slike/preiskovanje.png)"
   ]
  },
  {
   "cell_type": "markdown",
   "metadata": {},
   "source": [
    "## Lastnost optimalne podstrukture"
   ]
  },
  {
   "cell_type": "markdown",
   "metadata": {},
   "source": [
    "Vse naloge nimajo lastnosti optimalne podstrukture\n",
    "\n",
    "![](../../zapiski/slike/trgovski-potnik.png)"
   ]
  },
  {
   "cell_type": "markdown",
   "metadata": {},
   "source": [
    "## Izogib ponavljanju"
   ]
  },
  {
   "cell_type": "markdown",
   "metadata": {},
   "source": [
    "### Dinamično programiranje od spodaj navzgor"
   ]
  },
  {
   "cell_type": "markdown",
   "metadata": {},
   "source": [
    "![](../../zapiski/slike/izracun-vnaprej1.png)"
   ]
  },
  {
   "cell_type": "markdown",
   "metadata": {},
   "source": [
    "### Memoizacija"
   ]
  },
  {
   "cell_type": "markdown",
   "metadata": {},
   "source": [
    "## Primeri"
   ]
  },
  {
   "cell_type": "markdown",
   "metadata": {},
   "source": [
    "### Stolpi"
   ]
  },
  {
   "cell_type": "markdown",
   "metadata": {},
   "source": [
    "![](../../zapiski/slike/stolpi.png)"
   ]
  },
  {
   "cell_type": "code",
   "execution_count": 27,
   "metadata": {},
   "outputs": [],
   "source": [
    "def stolpi(n):\n",
    "    if n < 0:\n",
    "        return 0\n",
    "    elif n == 0:\n",
    "        return 1\n",
    "    else:\n",
    "        return stolpi(n - 1) + stolpi(n - 2) + stolpi(n - 3)\n",
    "    \n",
    "def stolpi_od_spodaj_navzgor(n):\n",
    "    stevilo_stolpov = [stolpi(0), stolpi(1), stolpi(2)] + (n - 2) * [None]\n",
    "    for i in range(3, n + 1):\n",
    "        print(stevilo_stolpov)\n",
    "        stevilo_stolpov[i] = stevilo_stolpov[i - 1] + stevilo_stolpov[i - 2] + stevilo_stolpov[i - 3]\n",
    "    return stevilo_stolpov[n]\n",
    "\n",
    "def stolpi_od_spodaj_navzgor(n):\n",
    "    stevilo_stolpov = [stolpi(0), stolpi(1), stolpi(2)]\n",
    "    for _ in range(3, n + 1):\n",
    "        print(stevilo_stolpov)\n",
    "        stevilo_stolpov.append(stevilo_stolpov[-1] + stevilo_stolpov[-2] + stevilo_stolpov[-3])\n",
    "    return stevilo_stolpov[n]\n",
    "\n",
    "def stolpi_v_starih_casih(n):\n",
    "    a, b, c = 1, 1, 2\n",
    "    for _ in range(3, n + 1):\n",
    "        a, b, c = b, c, a + b + c\n",
    "        print(a, b, c)\n",
    "    return c\n"
   ]
  },
  {
   "cell_type": "code",
   "execution_count": 24,
   "metadata": {},
   "outputs": [
    {
     "name": "stdout",
     "output_type": "stream",
     "text": [
      "[1, 1, 2]\n",
      "[1, 1, 2, 4]\n",
      "[1, 1, 2, 4, 7]\n",
      "[1, 1, 2, 4, 7, 13]\n",
      "[1, 1, 2, 4, 7, 13, 24]\n",
      "[1, 1, 2, 4, 7, 13, 24, 44]\n",
      "[1, 1, 2, 4, 7, 13, 24, 44, 81]\n",
      "[1, 1, 2, 4, 7, 13, 24, 44, 81, 149]\n"
     ]
    },
    {
     "data": {
      "text/plain": [
       "274"
      ]
     },
     "execution_count": 24,
     "metadata": {},
     "output_type": "execute_result"
    }
   ],
   "source": [
    "stolpi_od_spodaj_navzgor(10)"
   ]
  },
  {
   "cell_type": "code",
   "execution_count": 28,
   "metadata": {},
   "outputs": [
    {
     "name": "stdout",
     "output_type": "stream",
     "text": [
      "1 2 4\n",
      "2 4 7\n",
      "4 7 13\n",
      "7 13 24\n",
      "13 24 44\n",
      "24 44 81\n",
      "44 81 149\n",
      "81 149 274\n"
     ]
    },
    {
     "data": {
      "text/plain": [
       "274"
      ]
     },
     "execution_count": 28,
     "metadata": {},
     "output_type": "execute_result"
    }
   ],
   "source": [
    "stolpi_v_starih_casih(10)"
   ]
  },
  {
   "cell_type": "markdown",
   "metadata": {},
   "source": [
    "### ↓/→ pot z najmanjšo vsoto\n",
    "\n",
    "<table>\n",
    "<tr><td><strong>131</strong></td><td> 673 </td><td> 234 </td><td> 103 </td><td> 18</td></tr>\n",
    "<tr><td><strong>201</strong></td><td><strong>96</strong></td><td> <strong>342</strong></td><td> 965 </td><td> 150</td></tr>\n",
    "<tr><td> 630 </td><td> 803 </td><td><strong>746</strong></td><td><strong>422</strong></td><td> 111</td></tr>\n",
    "<tr><td> 537 </td><td> 699 </td><td> 497 </td><td><strong>121</strong></td><td> 956</td></tr>\n",
    "<tr><td> 805 </td><td> 732 </td><td> 524 </td><td><strong>37</strong> </td><td><strong>331</strong></td></tr>\n",
    "</table>"
   ]
  },
  {
   "cell_type": "markdown",
   "metadata": {},
   "source": [
    "### Krčenje slik"
   ]
  },
  {
   "cell_type": "markdown",
   "metadata": {},
   "source": []
  }
 ],
 "metadata": {
  "kernelspec": {
   "display_name": "Python 3",
   "language": "python",
   "name": "python3"
  },
  "language_info": {
   "codemirror_mode": {
    "name": "ipython",
    "version": 3
   },
   "file_extension": ".py",
   "mimetype": "text/x-python",
   "name": "python",
   "nbconvert_exporter": "python",
   "pygments_lexer": "ipython3",
   "version": "3.10.13"
  }
 },
 "nbformat": 4,
 "nbformat_minor": 2
}
