{
  "cells": [
    {
      "cell_type": "markdown",
      "metadata": {},
      "source": [
        "# Rekurzija"
      ]
    },
    {
      "cell_type": "markdown",
      "metadata": {},
      "source": [
        "### Rekurzivne funkcije\n"
      ]
    },
    {
      "cell_type": "markdown",
      "metadata": {},
      "source": [
        "Če želimo definirati rekurzivno funkcijo, jo moramo podati z `let rec`:"
      ]
    },
    {
      "cell_type": "code",
      "execution_count": null,
      "metadata": {
        "vscode": {
          "languageId": "ocaml"
        }
      },
      "outputs": [
        {
          "data": {
            "text/plain": [
              "val vsota_prvih : int -> int = <fun>\n"
            ]
          },
          "metadata": {},
          "output_type": "display_data"
        }
      ],
      "source": [
        "let rec vsota_prvih n =\n",
        "  if n = 0 then 0 else vsota_prvih (n - 1) + n"
      ]
    },
    {
      "cell_type": "code",
      "execution_count": null,
      "metadata": {
        "vscode": {
          "languageId": "ocaml"
        }
      },
      "outputs": [
        {
          "data": {
            "text/plain": [
              "- : int = 5050\n"
            ]
          },
          "metadata": {},
          "output_type": "display_data"
        }
      ],
      "source": [
        "vsota_prvih 100"
      ]
    },
    {
      "cell_type": "markdown",
      "metadata": {},
      "source": [
        "Seveda ne gre brez klasičnih primerov rekurzivnih funkcij: fakultete in Fibonaccijevih števil."
      ]
    },
    {
      "cell_type": "code",
      "execution_count": null,
      "metadata": {
        "vscode": {
          "languageId": "ocaml"
        }
      },
      "outputs": [
        {
          "data": {
            "text/plain": [
              "val fakulteta : int -> int = <fun>\n"
            ]
          },
          "metadata": {},
          "output_type": "display_data"
        }
      ],
      "source": [
        "let rec fakulteta = function\n",
        "  | 0 -> 1\n",
        "  | n -> n * fakulteta (n - 1)"
      ]
    },
    {
      "cell_type": "code",
      "execution_count": null,
      "metadata": {
        "vscode": {
          "languageId": "ocaml"
        }
      },
      "outputs": [
        {
          "data": {
            "text/plain": [
              "- : int = 3628800\n"
            ]
          },
          "metadata": {},
          "output_type": "display_data"
        }
      ],
      "source": [
        "fakulteta 10"
      ]
    },
    {
      "cell_type": "code",
      "execution_count": null,
      "metadata": {
        "vscode": {
          "languageId": "ocaml"
        }
      },
      "outputs": [
        {
          "data": {
            "text/plain": [
              "val fib : int -> int = <fun>\n"
            ]
          },
          "metadata": {},
          "output_type": "display_data"
        }
      ],
      "source": [
        "let rec fib = function\n",
        "  | 0 -> 0\n",
        "  | 1 -> 1\n",
        "  | n -> fib (n - 1) + fib (n - 2)"
      ]
    },
    {
      "cell_type": "markdown",
      "metadata": {},
      "source": [
        "Zgornja definicija je precej neučinkovita, zato si lahko pomagamo s pomožno funkcijo, ki deluje veliko hitreje."
      ]
    },
    {
      "cell_type": "code",
      "execution_count": null,
      "metadata": {
        "vscode": {
          "languageId": "ocaml"
        }
      },
      "outputs": [
        {
          "data": {
            "text/plain": [
              "val hitri_fib : int -> int = <fun>\n"
            ]
          },
          "metadata": {},
          "output_type": "display_data"
        }
      ],
      "source": [
        "let hitri_fib n =\n",
        "  let rec aux n a b =\n",
        "    if n = 0 then a else aux (n - 1) b (a + b)\n",
        "  in aux n 0 1"
      ]
    },
    {
      "cell_type": "markdown",
      "metadata": {},
      "source": [
        "Z uporabo `and` lahko hkrati definiramo tudi več rekurzivnih funkcij:"
      ]
    },
    {
      "cell_type": "code",
      "execution_count": null,
      "metadata": {
        "vscode": {
          "languageId": "ocaml"
        }
      },
      "outputs": [
        {
          "data": {
            "text/plain": [
              "val je_sodo : int -> bool = <fun>\n",
              "val je_liho : int -> bool = <fun>\n"
            ]
          },
          "metadata": {},
          "output_type": "display_data"
        }
      ],
      "source": [
        "let rec je_sodo = function\n",
        "  | 0 -> true\n",
        "  | n -> je_liho (n - 1)\n",
        "\n",
        "and je_liho = function\n",
        "  | 0 -> false\n",
        "  | n -> je_sodo (n - 1)"
      ]
    },
    {
      "cell_type": "markdown",
      "metadata": {},
      "source": [
        "O učinkovitosti funkcij v zgornjem primeru raje ne izgubljajmo besed."
      ]
    },
    {
      "cell_type": "markdown",
      "metadata": {
        "slideshow": {
          "slide_type": "slide"
        }
      },
      "source": [
        "## Ujemanje vzorcev"
      ]
    },
    {
      "cell_type": "markdown",
      "metadata": {
        "slideshow": {
          "slide_type": "slide"
        }
      },
      "source": [
        "### Funkcijo **po kosih** definiramo z `match`"
      ]
    },
    {
      "cell_type": "markdown",
      "metadata": {
        "vscode": {
          "languageId": "ocaml"
        }
      },
      "source": [
        "Med večimi vzorci se lahko odločimo s pomočjo konstrukta `match`, ki sprejme več vej, ločenih z `|`, nato pa vrne prvo, ki ustreza danemu vzorcu. Na primer, namesto"
      ]
    },
    {
      "cell_type": "code",
      "execution_count": null,
      "metadata": {
        "vscode": {
          "languageId": "ocaml"
        }
      },
      "outputs": [],
      "source": [
        "let ime_jezika koncnica =\n",
        "  if koncnica = \".ml\" then\n",
        "    \"OCaml\"\n",
        "  else if koncnica = \".py\" then\n",
        "    \"Python\"\n",
        "  else if koncnica = \".rs\" then\n",
        "    \"Rust\"\n",
        "  else\n",
        "    \"???\""
      ]
    },
    {
      "cell_type": "markdown",
      "metadata": {},
      "source": [
        "raje pišemo:"
      ]
    },
    {
      "cell_type": "code",
      "execution_count": null,
      "metadata": {
        "vscode": {
          "languageId": "ocaml"
        }
      },
      "outputs": [],
      "source": [
        "let ime_jezika koncnica =\n",
        "  match koncnica with\n",
        "  | \".ml\" -> \"OCaml\"\n",
        "  | \".py\" -> \"Python\"\n",
        "  | \".rs\" -> \"Rust\"\n",
        "  | _ -> \"???\""
      ]
    },
    {
      "cell_type": "code",
      "execution_count": null,
      "metadata": {
        "tags": [
          "raises-exception"
        ],
        "vscode": {
          "languageId": "ocaml"
        }
      },
      "outputs": [],
      "source": [
        "ime_jezika \".java\""
      ]
    },
    {
      "cell_type": "markdown",
      "metadata": {
        "slideshow": {
          "slide_type": "slide"
        }
      },
      "source": [
        "### Za funkcije, ki **takoj** izvedejo `match`, raje uporabimo `function`"
      ]
    },
    {
      "cell_type": "markdown",
      "metadata": {
        "vscode": {
          "languageId": "ocaml"
        }
      },
      "source": [
        "Za funkcije, ki takoj izvedejo `match` na svojem zadnjem argumentu, lahko uporabimo bližnjico `function`:"
      ]
    },
    {
      "cell_type": "code",
      "execution_count": null,
      "metadata": {
        "vscode": {
          "languageId": "ocaml"
        }
      },
      "outputs": [],
      "source": [
        "let ime_jezika koncnica =\n",
        "  match koncnica with\n",
        "  | \".ml\" -> \"OCaml\"\n",
        "  | \".py\" -> \"Python\"\n",
        "  | \".rs\" -> \"Rust\"\n",
        "  | _ -> \"???\""
      ]
    },
    {
      "cell_type": "code",
      "execution_count": null,
      "metadata": {
        "vscode": {
          "languageId": "ocaml"
        }
      },
      "outputs": [],
      "source": [
        "let ime_jezika =\n",
        "  function\n",
        "  | \".ml\" -> \"OCaml\"\n",
        "  | \".py\" -> \"Python\"\n",
        "  | \".rs\" -> \"Rust\"\n",
        "  | _ -> \"???\""
      ]
    },
    {
      "cell_type": "markdown",
      "metadata": {
        "slideshow": {
          "slide_type": "slide"
        }
      },
      "source": [
        "### Ujemanje izvede **prvo** vejo, pri kateri se vrednost **ujema z vzorcem**"
      ]
    },
    {
      "cell_type": "markdown",
      "metadata": {},
      "source": [
        "Vsakič, ko pišemo `match` ali `function`, moramo biti pozorni na vrstni red vzorcev:"
      ]
    },
    {
      "cell_type": "code",
      "execution_count": 1,
      "metadata": {
        "vscode": {
          "languageId": "ocaml"
        }
      },
      "outputs": [
        {
          "name": "stderr",
          "output_type": "stream",
          "text": [
            "File \"[1]\", line 6, characters 4-9:\n",
            "6 |   | \".rs\" -> \"Rust\"\n",
            "        ^^^^^\n",
            "Warning 11 [redundant-case]: this match case is unused.\n"
          ]
        },
        {
          "data": {
            "text/plain": [
              "val ime_jezika : string -> string = <fun>\n"
            ]
          },
          "execution_count": 1,
          "metadata": {},
          "output_type": "execute_result"
        }
      ],
      "source": [
        "let ime_jezika =\n",
        "  function\n",
        "  | \".ml\" -> \"OCaml\"\n",
        "  | \".py\" -> \"Python\"\n",
        "  | _ -> \"???\"\n",
        "  | \".rs\" -> \"Rust\"\n"
      ]
    },
    {
      "cell_type": "markdown",
      "metadata": {},
      "source": [
        "OCaml nas je opozoril, da zadnja veja nikoli ne bo uporabljena, saj bo tretji vzorec ustrezal vsem primerom."
      ]
    },
    {
      "cell_type": "code",
      "execution_count": null,
      "metadata": {
        "vscode": {
          "languageId": "ocaml"
        }
      },
      "outputs": [],
      "source": [
        "ime_jezika \".rs\""
      ]
    },
    {
      "cell_type": "markdown",
      "metadata": {
        "slideshow": {
          "slide_type": "slide"
        }
      },
      "source": [
        "### Zajeti moramo **vse** vzorce"
      ]
    },
    {
      "cell_type": "markdown",
      "metadata": {},
      "source": [
        "Prav tako nas OCaml opozori, če na kakšen primer pozabimo, saj bo ob izvajanju sicer lahko prišlo do napake:"
      ]
    },
    {
      "cell_type": "code",
      "execution_count": null,
      "metadata": {
        "vscode": {
          "languageId": "ocaml"
        }
      },
      "outputs": [],
      "source": [
        "let ime_jezika =\n",
        "  function\n",
        "  | \".ml\" -> \"OCaml\"\n",
        "  | \".py\" -> \"Python\"\n",
        "  | \".rs\" -> \"Rust\""
      ]
    },
    {
      "cell_type": "code",
      "execution_count": null,
      "metadata": {
        "tags": [
          "raises-exception"
        ],
        "vscode": {
          "languageId": "ocaml"
        }
      },
      "outputs": [],
      "source": [
        "ime_jezika \".java\""
      ]
    },
    {
      "cell_type": "markdown",
      "metadata": {
        "slideshow": {
          "slide_type": "slide"
        }
      },
      "source": [
        "### Vsaka **konstanta** je vzorec"
      ]
    },
    {
      "cell_type": "code",
      "execution_count": null,
      "metadata": {
        "vscode": {
          "languageId": "ocaml"
        }
      },
      "outputs": [],
      "source": [
        "let ali_je_res =\n",
        "  function\n",
        "  | true -> \"res je\"\n",
        "  | false -> \"ni res\""
      ]
    },
    {
      "cell_type": "code",
      "execution_count": null,
      "metadata": {
        "vscode": {
          "languageId": "ocaml"
        }
      },
      "outputs": [],
      "source": [
        "let ime_stevila =\n",
        "  function\n",
        "  | 1 -> \"ena\"\n",
        "  | 2 -> \"dva\"\n",
        "  | _ -> \"veliko\""
      ]
    },
    {
      "cell_type": "markdown",
      "metadata": {
        "slideshow": {
          "slide_type": "slide"
        }
      },
      "source": [
        "### Spremenljivka je vzorec, ki se ujema z **vsemi** vrednosti,<br>ter v veji omogoči **dostop do zajete vrednosti**"
      ]
    },
    {
      "cell_type": "code",
      "execution_count": null,
      "metadata": {
        "vscode": {
          "languageId": "ocaml"
        }
      },
      "outputs": [],
      "source": [
        "let ime_stevila =\n",
        "  function\n",
        "  | 1 -> \"ena\"\n",
        "  | 2 -> \"dva\"\n",
        "  | x -> \"število \" ^ string_of_int x"
      ]
    },
    {
      "cell_type": "code",
      "execution_count": null,
      "metadata": {
        "vscode": {
          "languageId": "ocaml"
        }
      },
      "outputs": [],
      "source": [
        "ime_stevila 1"
      ]
    },
    {
      "cell_type": "code",
      "execution_count": null,
      "metadata": {
        "vscode": {
          "languageId": "ocaml"
        }
      },
      "outputs": [],
      "source": [
        "ime_stevila 3"
      ]
    },
    {
      "cell_type": "markdown",
      "metadata": {
        "slideshow": {
          "slide_type": "slide"
        }
      },
      "source": [
        "### Več zaporednih vzorcev lahko tudi združimo"
      ]
    },
    {
      "cell_type": "code",
      "execution_count": null,
      "metadata": {
        "vscode": {
          "languageId": "ocaml"
        }
      },
      "outputs": [],
      "source": [
        "let je_prestopno leto =\n",
        "  (leto mod 4 = 0 && leto mod 100 <> 0) || leto mod 400 = 0\n",
        "  \n",
        "let dolzina_meseca leto =\n",
        "  function\n",
        "  | 4 | 6 | 9 | 11 -> 30\n",
        "  | 2 -> if je_prestopno leto then 29 else 28\n",
        "  | _ -> 31"
      ]
    },
    {
      "cell_type": "markdown",
      "metadata": {
        "slideshow": {
          "slide_type": "slide"
        }
      },
      "source": [
        "## Sestavljeni vzorci"
      ]
    },
    {
      "cell_type": "markdown",
      "metadata": {
        "slideshow": {
          "slide_type": "slide"
        }
      },
      "source": [
        "### Vzorec `(v1, v2, ...)` ustreza **naborom**,<br>pri čemer so `v1`, `v2`, … **nadaljnji gnezdeni** vzorci"
      ]
    },
    {
      "cell_type": "code",
      "execution_count": null,
      "metadata": {
        "vscode": {
          "languageId": "ocaml"
        }
      },
      "outputs": [],
      "source": [
        "let polozaj_tocke =\n",
        "  function\n",
        "  | (0, 0) -> \"izhodišče\"\n",
        "  | (_, 0) -> \"abscisa\"\n",
        "  | (0, _) -> \"ordinata\"\n",
        "  | (_, _) -> \"nekje drugje\""
      ]
    },
    {
      "cell_type": "markdown",
      "metadata": {
        "slideshow": {
          "slide_type": "slide"
        }
      },
      "source": [
        "### V vsakem vzorcu se spremenljivka lahko **pojavi le enkrat**"
      ]
    },
    {
      "cell_type": "code",
      "execution_count": null,
      "metadata": {
        "tags": [
          "raises-exception"
        ],
        "vscode": {
          "languageId": "ocaml"
        }
      },
      "outputs": [],
      "source": [
        "let polozaj_tocke =\n",
        "  function\n",
        "  | (0, 0) -> \"izhodišče\"\n",
        "  | (_, 0) -> \"abscisa\"\n",
        "  | (0, _) -> \"ordinata\"\n",
        "  | (x, x) -> \"diagonala\"\n",
        "  | (_, _) -> \"nekje drugje\""
      ]
    },
    {
      "cell_type": "code",
      "execution_count": null,
      "metadata": {
        "vscode": {
          "languageId": "ocaml"
        }
      },
      "outputs": [],
      "source": [
        "let polozaj_tocke =\n",
        "  function\n",
        "  | (0, 0) -> \"izhodišče\"\n",
        "  | (_, 0) -> \"abscisa\"\n",
        "  | (0, _) -> \"ordinata\"\n",
        "  | (x, y) -> if x = y then \"diagonala\" else \"nekje drugje\""
      ]
    },
    {
      "cell_type": "markdown",
      "metadata": {
        "slideshow": {
          "slide_type": "slide"
        }
      },
      "source": [
        "### Vzorec `v when pogoj` se ujema le ob **izpolnjenem pogoju**"
      ]
    },
    {
      "cell_type": "code",
      "execution_count": null,
      "metadata": {
        "vscode": {
          "languageId": "ocaml"
        }
      },
      "outputs": [],
      "source": [
        "let polozaj_tocke =\n",
        "  function\n",
        "  | (0, 0) -> \"izhodišče\"\n",
        "  | (_, 0) -> \"abscisa\"\n",
        "  | (0, _) -> \"ordinata\"\n",
        "  | (x, y) -> if x = y then \"diagonala\" else \"nekje drugje\""
      ]
    },
    {
      "cell_type": "code",
      "execution_count": null,
      "metadata": {
        "vscode": {
          "languageId": "ocaml"
        }
      },
      "outputs": [],
      "source": [
        "let polozaj_tocke =\n",
        "  function\n",
        "  | (0, 0) -> \"izhodišče\"\n",
        "  | (_, 0) -> \"abscisa\"\n",
        "  | (0, _) -> \"ordinata\"\n",
        "  | (x, y) when x = y -> \"diagonala\"\n",
        "  | (_, _) -> \"nekje drugje\""
      ]
    },
    {
      "cell_type": "markdown",
      "metadata": {
        "slideshow": {
          "slide_type": "slide"
        }
      },
      "source": [
        "### **Morebitne vrednosti** razstavljamo z `None` in `Some v`"
      ]
    },
    {
      "cell_type": "markdown",
      "metadata": {},
      "source": [
        "Videli smo, da funkcija `int_of_string` sproži napako, če naleti na niz, ki ne predstavlja števila."
      ]
    },
    {
      "cell_type": "code",
      "execution_count": 2,
      "metadata": {
        "vscode": {
          "languageId": "ocaml"
        }
      },
      "outputs": [
        {
          "data": {
            "text/plain": [
              "val opisuje_pozitivno_stevilo : string -> bool = <fun>\n"
            ]
          },
          "execution_count": 2,
          "metadata": {},
          "output_type": "execute_result"
        }
      ],
      "source": [
        "let opisuje_pozitivno_stevilo niz =\n",
        "  int_of_string niz > 0"
      ]
    },
    {
      "cell_type": "code",
      "execution_count": 3,
      "metadata": {
        "vscode": {
          "languageId": "ocaml"
        }
      },
      "outputs": [
        {
          "data": {
            "text/plain": [
              "- : bool = true\n"
            ]
          },
          "execution_count": 3,
          "metadata": {},
          "output_type": "execute_result"
        }
      ],
      "source": [
        "opisuje_pozitivno_stevilo \"100\""
      ]
    },
    {
      "cell_type": "code",
      "execution_count": 5,
      "metadata": {
        "vscode": {
          "languageId": "ocaml"
        }
      },
      "outputs": [
        {
          "data": {
            "text/plain": [
              "- : bool = false\n"
            ]
          },
          "execution_count": 5,
          "metadata": {},
          "output_type": "execute_result"
        }
      ],
      "source": [
        "opisuje_pozitivno_stevilo \"-100\""
      ]
    },
    {
      "cell_type": "code",
      "execution_count": 6,
      "metadata": {
        "tags": [
          "raises-exception"
        ],
        "vscode": {
          "languageId": "ocaml"
        }
      },
      "outputs": [
        {
          "ename": "error",
          "evalue": "runtime_error",
          "output_type": "error",
          "traceback": [
            "\u001b[31mException: Failure \"int_of_string\".\nRaised by primitive operation at opisuje_pozitivno_stevilo in file \"[2]\", line 2, characters 2-19\nCalled from Stdlib__Fun.protect in file \"fun.ml\", line 33, characters 8-15\nRe-raised at Stdlib__Fun.protect in file \"fun.ml\", line 38, characters 6-52\nCalled from Topeval.load_lambda in file \"toplevel/byte/topeval.ml\", line 89, characters 4-150\n\u001b[0m"
          ]
        }
      ],
      "source": [
        "opisuje_pozitivno_stevilo \"sto\""
      ]
    },
    {
      "cell_type": "markdown",
      "metadata": {},
      "source": [
        "Vemo že, da je varnejša alternativa uporaba funkcije `int_of_string_opt`, ki vrača rezultate tipa `int option`. Vendar se tu tipi ne ujemajo:"
      ]
    },
    {
      "cell_type": "code",
      "execution_count": 7,
      "metadata": {
        "tags": [
          "raises-exception"
        ],
        "vscode": {
          "languageId": "ocaml"
        }
      },
      "outputs": [
        {
          "ename": "error",
          "evalue": "compile_error",
          "output_type": "error",
          "traceback": [
            "File \"[7]\", line 2, characters 26-27:\n2 |   int_of_string_opt niz > 0\n                              ^\nError: This expression has type int but an expression was expected of type\n         int option\n"
          ]
        }
      ],
      "source": [
        "let opisuje_pozitivno_stevilo niz =\n",
        "  int_of_string_opt niz > 0"
      ]
    },
    {
      "cell_type": "markdown",
      "metadata": {},
      "source": [
        "To je sicer nerodno, ampak v resnici dobro, saj nas tipi prisilijo, da obravnavamo _vse_ robne primere. V našem primeru nekaj, kar ne opisuje števila, tudi negativnega števila ne opisuje."
      ]
    },
    {
      "cell_type": "code",
      "execution_count": null,
      "metadata": {
        "vscode": {
          "languageId": "ocaml"
        }
      },
      "outputs": [],
      "source": [
        "let opisuje_pozitivno_stevilo niz =\n",
        "  match int_of_string_opt niz with\n",
        "  | Some stevilo -> stevilo > 0\n",
        "  | None -> false"
      ]
    },
    {
      "cell_type": "markdown",
      "metadata": {
        "slideshow": {
          "slide_type": "slide"
        }
      },
      "source": [
        "## Razstavljanje seznamov"
      ]
    },
    {
      "cell_type": "markdown",
      "metadata": {
        "slideshow": {
          "slide_type": "slide"
        }
      },
      "source": [
        "### Vsak seznam je **prazen** ali **sestavljen** iz glave in repa"
      ]
    },
    {
      "cell_type": "markdown",
      "metadata": {},
      "source": [
        "```ocaml\n",
        "  [a; b; c; d]\n",
        "= a :: [b; c; d]\n",
        "= a :: b :: [c; d]\n",
        "= a :: b :: c :: [d]\n",
        "= a :: b :: c :: d :: []\n",
        "```"
      ]
    },
    {
      "cell_type": "markdown",
      "metadata": {
        "slideshow": {
          "slide_type": "slide"
        }
      },
      "source": [
        "### Prazen seznam se **ujema** z `[]`, sestavljen pa z `v1 :: v2`"
      ]
    },
    {
      "cell_type": "markdown",
      "metadata": {},
      "source": [
        "Z vzorci lahko razstavljamo tudi sezname, pri čemer lahko z `::` seznam razstavimo na glavo in rep. Pozor: `@` v vzorcih ne more nastopati, saj je funkcija in ne konstruktor."
      ]
    },
    {
      "cell_type": "code",
      "execution_count": null,
      "metadata": {
        "vscode": {
          "languageId": "ocaml"
        }
      },
      "outputs": [],
      "source": [
        "let citiraj_knjigo avtorji naslov =\n",
        "  match avtorji with\n",
        "  | [] -> naslov\n",
        "  | avtor :: [] -> avtor ^ \": \" ^ naslov\n",
        "  | prvi :: drugi :: [] -> prvi ^ \", \" ^ drugi ^ \": \" ^ naslov\n",
        "  | prvi :: _ -> prvi ^ \" in ostali: \" ^ naslov"
      ]
    },
    {
      "cell_type": "code",
      "execution_count": null,
      "metadata": {
        "slideshow": {
          "slide_type": "fragment"
        },
        "vscode": {
          "languageId": "ocaml"
        }
      },
      "outputs": [],
      "source": [
        "citiraj_knjigo [] \"Telefonski imenik\""
      ]
    },
    {
      "cell_type": "code",
      "execution_count": null,
      "metadata": {
        "slideshow": {
          "slide_type": "fragment"
        },
        "vscode": {
          "languageId": "ocaml"
        }
      },
      "outputs": [],
      "source": [
        "citiraj_knjigo [\"Tolkien\"] \"Gospodar prstanov\""
      ]
    },
    {
      "cell_type": "code",
      "execution_count": null,
      "metadata": {
        "scrolled": true,
        "slideshow": {
          "slide_type": "fragment"
        },
        "vscode": {
          "languageId": "ocaml"
        }
      },
      "outputs": [],
      "source": [
        "citiraj_knjigo [\"Golob\"; \"Kos\"; \"Vrabec\"] \"Ptiči Slovenije\""
      ]
    },
    {
      "cell_type": "markdown",
      "metadata": {
        "slideshow": {
          "slide_type": "slide"
        }
      },
      "source": [
        "### Za sezname **dane dolžine** uporabimo `[v1; v2; ...]`"
      ]
    },
    {
      "cell_type": "code",
      "execution_count": null,
      "metadata": {
        "vscode": {
          "languageId": "ocaml"
        }
      },
      "outputs": [],
      "source": [
        "let citiraj_knjigo avtorji naslov =\n",
        "  match avtorji with\n",
        "  | [] -> naslov\n",
        "  | avtor :: [] -> avtor ^ \": \" ^ naslov\n",
        "  | prvi :: drugi :: [] -> prvi ^ \", \" ^ drugi ^ \": \" ^ naslov\n",
        "  | prvi :: _ -> prvi ^ \" in ostali: \" ^ naslov"
      ]
    },
    {
      "cell_type": "code",
      "execution_count": null,
      "metadata": {
        "slideshow": {
          "slide_type": "fragment"
        },
        "vscode": {
          "languageId": "ocaml"
        }
      },
      "outputs": [],
      "source": [
        "let citiraj_knjigo avtorji naslov =\n",
        "  match avtorji with\n",
        "  | [] -> naslov\n",
        "  | [avtor] -> avtor ^ \": \" ^ naslov\n",
        "  | [prvi; drugi] -> prvi ^ \", \" ^ drugi ^ \": \" ^ naslov\n",
        "  | prvi :: _ -> prvi ^ \" in ostali: \" ^ naslov"
      ]
    },
    {
      "cell_type": "markdown",
      "metadata": {
        "slideshow": {
          "slide_type": "slide"
        }
      },
      "source": [
        "### Primer: **vsota** števil v seznamu"
      ]
    },
    {
      "cell_type": "code",
      "execution_count": null,
      "metadata": {
        "slideshow": {
          "slide_type": "fragment"
        },
        "vscode": {
          "languageId": "ocaml"
        }
      },
      "outputs": [],
      "source": [
        "let rec vsota =\n",
        "  function\n",
        "  | [] -> 0\n",
        "  | glava :: rep -> glava + vsota rep"
      ]
    },
    {
      "cell_type": "code",
      "execution_count": null,
      "metadata": {
        "slideshow": {
          "slide_type": "fragment"
        },
        "vscode": {
          "languageId": "ocaml"
        }
      },
      "outputs": [],
      "source": [
        "vsota [1; 2; 3; 4]"
      ]
    },
    {
      "cell_type": "markdown",
      "metadata": {
        "slideshow": {
          "slide_type": "slide"
        }
      },
      "source": [
        "### Primer: **dolžina** seznama"
      ]
    },
    {
      "cell_type": "code",
      "execution_count": null,
      "metadata": {
        "slideshow": {
          "slide_type": "-"
        },
        "vscode": {
          "languageId": "ocaml"
        }
      },
      "outputs": [],
      "source": [
        "let rec dolzina =\n",
        "  function\n",
        "  | [] -> 0\n",
        "  | glava :: rep -> dolzina rep + 1"
      ]
    },
    {
      "cell_type": "code",
      "execution_count": null,
      "metadata": {
        "slideshow": {
          "slide_type": "fragment"
        },
        "vscode": {
          "languageId": "ocaml"
        }
      },
      "outputs": [],
      "source": [
        "dolzina [1; 2; 3; 4]"
      ]
    },
    {
      "cell_type": "markdown",
      "metadata": {
        "slideshow": {
          "slide_type": "slide"
        }
      },
      "source": [
        "### Primer: **preslikanje elementov** seznama"
      ]
    },
    {
      "cell_type": "code",
      "execution_count": null,
      "metadata": {
        "vscode": {
          "languageId": "ocaml"
        }
      },
      "outputs": [],
      "source": [
        "let rec map f =\n",
        "  function\n",
        "  | [] -> []\n",
        "  | glava :: rep -> f glava :: map f rep"
      ]
    },
    {
      "cell_type": "code",
      "execution_count": null,
      "metadata": {
        "slideshow": {
          "slide_type": "fragment"
        },
        "vscode": {
          "languageId": "ocaml"
        }
      },
      "outputs": [],
      "source": [
        "map String.length [\"avto\"; \"pes\"; \"mačka\"]"
      ]
    },
    {
      "cell_type": "markdown",
      "metadata": {
        "slideshow": {
          "slide_type": "slide"
        }
      },
      "source": [
        "## Funkcija `fold`"
      ]
    },
    {
      "cell_type": "markdown",
      "metadata": {
        "slideshow": {
          "slide_type": "slide"
        }
      },
      "source": [
        "### Veliko funkcij na seznamih ima **podobno obliko**"
      ]
    },
    {
      "cell_type": "markdown",
      "metadata": {
        "vscode": {
          "languageId": "ocaml"
        }
      },
      "source": [
        "Ko v OCamlu napišemo nekaj funkcij na seznamih, vidimo, da imajo dostikrat podobno obliko: imajo osnoven primer za prazen seznam ter rekurzivnega za sestavljen seznam. Na primer, vsoto izračunamo kot:"
      ]
    },
    {
      "cell_type": "markdown",
      "metadata": {},
      "source": [
        "```ocaml\n",
        "  vsota [a; b; c]\n",
        "= vsota (a :: b :: c :: [])\n",
        "= a + vsota (b :: c :: [])\n",
        "= a + (b + vsota (c :: []))\n",
        "= a + (b + (c + vsota []))\n",
        "= a + (b + (c + 0))\n",
        "= a + b + c\n",
        "```"
      ]
    },
    {
      "cell_type": "markdown",
      "metadata": {},
      "source": [
        "in definiramo kot:"
      ]
    },
    {
      "cell_type": "code",
      "execution_count": null,
      "metadata": {
        "vscode": {
          "languageId": "ocaml"
        }
      },
      "outputs": [],
      "source": [
        "let rec vsota =\n",
        "  function\n",
        "  | [] -> 0\n",
        "  | glava :: rep -> glava + vsota rep"
      ]
    },
    {
      "cell_type": "markdown",
      "metadata": {},
      "source": [
        "Zmnožek elementov seznama izračunamo kot:"
      ]
    },
    {
      "cell_type": "markdown",
      "metadata": {},
      "source": [
        "```ocaml\n",
        "  zmnozek [a; b; c]\n",
        "= zmnozek (a :: b :: c :: [])\n",
        "= a * zmnozek (b :: c :: [])\n",
        "= a * (b * zmnozek (c :: []))\n",
        "= a * (b * (c * zmnozek []))\n",
        "= a * (b * (c * 1))\n",
        "= a * b * c\n",
        "```"
      ]
    },
    {
      "cell_type": "markdown",
      "metadata": {},
      "source": [
        "in definiramo kot:"
      ]
    },
    {
      "cell_type": "code",
      "execution_count": null,
      "metadata": {
        "vscode": {
          "languageId": "ocaml"
        }
      },
      "outputs": [],
      "source": [
        "let rec zmnozek =\n",
        "  function\n",
        "  | [] -> 1\n",
        "  | glava :: rep -> glava * zmnozek rep"
      ]
    },
    {
      "cell_type": "markdown",
      "metadata": {},
      "source": [
        "Dolžino seznama izračunamo kot:"
      ]
    },
    {
      "cell_type": "markdown",
      "metadata": {},
      "source": [
        "```ocaml\n",
        "  dolzina [a; b; c]\n",
        "= dolzina (a :: b :: c :: [])\n",
        "= 1 + dolzina (b :: c :: [])\n",
        "= 1 + (1 + dolzina (c :: []))\n",
        "= 1 + (1 + (1 + dolzina []))\n",
        "= 1 + (1 + (1 + 0))\n",
        "= 3\n",
        "```"
      ]
    },
    {
      "cell_type": "markdown",
      "metadata": {},
      "source": [
        "in definiramo kot:"
      ]
    },
    {
      "cell_type": "code",
      "execution_count": null,
      "metadata": {
        "vscode": {
          "languageId": "ocaml"
        }
      },
      "outputs": [],
      "source": [
        "let rec dolzina =\n",
        "  function\n",
        "  | [] -> 0\n",
        "  | _ :: rep -> 1 + dolzina rep"
      ]
    },
    {
      "cell_type": "markdown",
      "metadata": {},
      "source": [
        "Slikanje elementov seznama s funkcijo `f` izračunamo kot:"
      ]
    },
    {
      "cell_type": "markdown",
      "metadata": {},
      "source": [
        "\n",
        "```ocaml\n",
        "  map f [a; b; c]\n",
        "= map f (a :: b :: c :: [])\n",
        "= f a :: map f (b :: c :: [])\n",
        "= f a :: (f b :: map f (c :: []))\n",
        "= f a :: (f b :: (f c :: map f []))\n",
        "= f a :: (f b :: (f c :: 1))\n",
        "= [f a; f b; f c]\n",
        "```"
      ]
    },
    {
      "cell_type": "markdown",
      "metadata": {},
      "source": [
        "in definiramo kot:"
      ]
    },
    {
      "cell_type": "code",
      "execution_count": null,
      "metadata": {
        "vscode": {
          "languageId": "ocaml"
        }
      },
      "outputs": [],
      "source": [
        "let rec map f =\n",
        "  function\n",
        "  | [] -> []\n",
        "  | glava :: rep -> f glava :: map f rep"
      ]
    },
    {
      "cell_type": "markdown",
      "metadata": {
        "slideshow": {
          "slide_type": "slide"
        }
      },
      "source": [
        "### **Splošni vzorec** zajame funkcija `fold_right`"
      ]
    },
    {
      "cell_type": "markdown",
      "metadata": {
        "vscode": {
          "languageId": "ocaml"
        }
      },
      "source": [
        "Splošni vzorec zajame funkcija `fold_right`, ki jo izračunamo kot:"
      ]
    },
    {
      "cell_type": "markdown",
      "metadata": {},
      "source": [
        "```ocaml\n",
        "  fold_right f [a; b; c] z\n",
        "= fold_right f (a :: b :: c :: []) z\n",
        "= f a (fold_right f (b :: c :: []) z)\n",
        "= f a (f b (fold_right f (c :: []) z))\n",
        "= f a (f b (f c (fold_right f [] z)))\n",
        "= f a (f b (f c z))\n",
        "```"
      ]
    },
    {
      "cell_type": "markdown",
      "metadata": {
        "vscode": {
          "languageId": "ocaml"
        }
      },
      "source": [
        "in definiramo kot:"
      ]
    },
    {
      "cell_type": "code",
      "execution_count": null,
      "metadata": {
        "slideshow": {
          "slide_type": "fragment"
        },
        "vscode": {
          "languageId": "ocaml"
        }
      },
      "outputs": [],
      "source": [
        "let rec fold_right f xs z =\n",
        "  match xs with\n",
        "  | [] -> z\n",
        "  | x :: xs -> f x (fold_right f xs z)"
      ]
    },
    {
      "cell_type": "markdown",
      "metadata": {},
      "source": [
        "na voljo pa je tudi kot `List.fold_right`."
      ]
    },
    {
      "cell_type": "markdown",
      "metadata": {},
      "source": [
        "Funkcija sprejme tri argumente:\n",
        "\n",
        "- seznam `xs`,\n",
        "- vrednost `z`, ki jo funkcija vrne za prazen seznam, ter\n",
        "- funkcijo `f`, s katero glavo seznama zloži s sliko repa.\n",
        "\n",
        "Na primer, vsota praznega seznama je $0$, vsota sestavljenega pa je seštevek glave in vsote repa."
      ]
    },
    {
      "cell_type": "code",
      "execution_count": null,
      "metadata": {
        "slideshow": {
          "slide_type": "fragment"
        },
        "vscode": {
          "languageId": "ocaml"
        }
      },
      "outputs": [],
      "source": [
        "fold_right ( + ) [1; 2; 3; 4] 0"
      ]
    },
    {
      "cell_type": "code",
      "execution_count": null,
      "metadata": {
        "slideshow": {
          "slide_type": "fragment"
        },
        "vscode": {
          "languageId": "ocaml"
        }
      },
      "outputs": [],
      "source": [
        "fold_right ( * ) [1; 2; 3; 4] 1"
      ]
    },
    {
      "cell_type": "markdown",
      "metadata": {
        "slideshow": {
          "slide_type": "slide"
        }
      },
      "source": [
        "### Obstaja tudi **simetrična funkcija** `fold_left`"
      ]
    },
    {
      "cell_type": "markdown",
      "metadata": {},
      "source": [
        "Ni težko uganiti, da obstaja tudi funkcija, ki elemente zlaga v drugem vrstnem redu:"
      ]
    },
    {
      "cell_type": "markdown",
      "metadata": {},
      "source": [
        "```ocaml\n",
        "  fold_right f [a; b; c] z\n",
        "= fold_right f (a :: b :: c :: []) z\n",
        "= f a (fold_right f (b :: c :: []) z)\n",
        "= f a (f b (fold_right f (c :: []) z))\n",
        "= f a (f b (f c (fold_right f [] z)))\n",
        "= f a (f b (f c z))\n",
        "```"
      ]
    },
    {
      "cell_type": "markdown",
      "metadata": {
        "vscode": {
          "languageId": "ocaml"
        }
      },
      "source": [
        "Definiramo jo kot:"
      ]
    },
    {
      "cell_type": "markdown",
      "metadata": {},
      "source": [
        "```ocaml\n",
        "  fold_left f z [a; b; c]\n",
        "= fold_left f z (a :: b :: c :: [])\n",
        "= fold_left f (f z a) (b :: c :: [])\n",
        "= fold_left f (f (f z a) b) (c :: [])\n",
        "= fold_left f (f (f (f z a) b) c) []\n",
        "= f (f (f z a) b) c\n",
        "```"
      ]
    },
    {
      "cell_type": "markdown",
      "metadata": {},
      "source": [
        "na voljo pa je tudi kot `List.fold_left`."
      ]
    },
    {
      "cell_type": "markdown",
      "metadata": {
        "slideshow": {
          "slide_type": "slide"
        }
      },
      "source": [
        "## Repna rekurzija"
      ]
    },
    {
      "cell_type": "markdown",
      "metadata": {},
      "source": [
        "V resnici OCaml podpira tudi zanke, vendar namesto njih običajno uporabljamo rekurzivne funkcije. Zato se moramo naučiti, kako take funkcije napišemo učinkovito. Pravimo, da je klic funkcije _repen_, če se izvede kot zadnji korak v definiciji funkcije. Najprej si oglejmo nasproten primer: funkcije, ki drugo funkcijo uporabijo v pomožnem izračunu:"
      ]
    },
    {
      "cell_type": "markdown",
      "metadata": {
        "slideshow": {
          "slide_type": "slide"
        }
      },
      "source": [
        "### Ob klicu funkcije računalnik trenutno delo **odloži na sklad**"
      ]
    },
    {
      "cell_type": "markdown",
      "metadata": {},
      "source": [
        "```ocaml\n",
        "let f x = 4 * x\n",
        "let g x = 6 + f x\n",
        "let h x = 3 * g x\n",
        "```"
      ]
    },
    {
      "cell_type": "markdown",
      "metadata": {},
      "source": [
        "Ker klic funkcije `g` v definiciji funkcije `h` ni repen, morajo funkcija `h` svoje delo (torej množenje s 3) odložiti na tako imenovani sklad in počakati na rezultat funkcije `g`, preden lahko nadaljuje z delom. Podobno mora funkcija `g` počakati na funkcijo `f`:"
      ]
    },
    {
      "cell_type": "markdown",
      "metadata": {},
      "source": [
        "```ocaml\n",
        "  h 2                (* h dela *)\n",
        "= 3 * g 2            (* g dela, h čaka *)\n",
        "= 3 * (6 + f 2)      (* f dela, g čaka, h čaka *)\n",
        "= 3 * (6 + (4 * 2))  (* f dela, g čaka, h čaka *)\n",
        "= 3 * (6 + 8)        (* g dela, h čaka *)\n",
        "= 3 * 14             (* h dela *)\n",
        "= 42\n",
        "```"
      ]
    },
    {
      "cell_type": "markdown",
      "metadata": {
        "slideshow": {
          "slide_type": "slide"
        }
      },
      "source": [
        "### Pri rekurzivnih funkcijah velikost sklada **hitro narašča**"
      ]
    },
    {
      "cell_type": "markdown",
      "metadata": {},
      "source": [
        "Repni klici so še posebej pomembni pri rekurzivnih funkcijah, pri katerih je število klicev lahko zelo veliko. Na primer, oglejmo si funkcijo za izračun vsote seznama, ki deluje tako, da izračuna vsoto repa, _po tem_ pa rezultatu prišteje še glavo:"
      ]
    },
    {
      "cell_type": "markdown",
      "metadata": {},
      "source": [
        "```ocaml\n",
        "let rec vsota =\n",
        "  function\n",
        "  | [] -> 0\n",
        "  | glava :: rep -> glava + vsota rep\n",
        "```"
      ]
    },
    {
      "cell_type": "markdown",
      "metadata": {},
      "source": [
        "Če izračunamo dolžino seznama `[1; 2; 3; 4; …]`, se bo ob vsakem elementu funkcija rekurzivno poklicala in svoje dotedanje delo odložila na sklad:"
      ]
    },
    {
      "cell_type": "markdown",
      "metadata": {},
      "source": [
        "```ocaml\n",
        "  vsota [1; 2; 3; 4; …]\n",
        "= 1 + vsota [2; 3; 4; …]\n",
        "= 1 + (2 + vsota [3; 4; …])\n",
        "= 1 + (2 + (3 + vsota [4; …]))\n",
        "= …\n",
        "```"
      ]
    },
    {
      "cell_type": "markdown",
      "metadata": {},
      "source": [
        "Če bi bil seznam dolg, bi to lahko vodilo do _prekoračitve sklada_ (_stack overflow_). Za razliko od drugih jezikov, je v OCamlu dovoljena velikost sklada nastavljena precej visoko, kar je za večino primerov dovolj. Še bolje pa je, da funkcijo napišemo tako, da sklad ne raste."
      ]
    },
    {
      "cell_type": "markdown",
      "metadata": {
        "slideshow": {
          "slide_type": "slide"
        }
      },
      "source": [
        "### Če je klic funkcije **repen**, lahko delo opravimo sproti"
      ]
    },
    {
      "cell_type": "markdown",
      "metadata": {},
      "source": [
        "Zdaj pa si oglejmo še tri funkcije, v katerih so klici pomožnih funkcij repni:"
      ]
    },
    {
      "cell_type": "markdown",
      "metadata": {},
      "source": [
        "```ocaml\n",
        "let f x = 3 * x\n",
        "let g x = f (6 + x)\n",
        "let h x = g (4 * x)\n",
        "```"
      ]
    },
    {
      "cell_type": "markdown",
      "metadata": {},
      "source": [
        "V tem primeru lahko klicajoča funkcija ob klicu delo v celoti prepusti klicani funkciji, zato ni ničesar potrebno odlagati na sklad:"
      ]
    },
    {
      "cell_type": "markdown",
      "metadata": {},
      "source": [
        "```ocaml\n",
        "  h 2                (* h dela *)\n",
        "= g (4 * 2)          (* h dela *)\n",
        "= g 8                (* g dela *)\n",
        "= f (6 + 8)          (* g dela *)\n",
        "= f 14               (* f dela *)\n",
        "= 3 * 14             (* f dela *)\n",
        "= 42\n",
        "```"
      ]
    },
    {
      "cell_type": "markdown",
      "metadata": {
        "slideshow": {
          "slide_type": "slide"
        }
      },
      "source": [
        "### Delno vsoto lahko računamo **tudi sproti**"
      ]
    },
    {
      "cell_type": "markdown",
      "metadata": {
        "vscode": {
          "languageId": "ocaml"
        }
      },
      "source": [
        "Če je rekurzivni klic funkcije repen, taki funkciji pravimo _repno rekurzivna_. Funkcijo za izračun vsote bi lahko napisali repno rekurzivno tako, da ji podamo še dodaten argument, v katerem si bomo podajali vsoto do sedaj pregledanih elementov. Take vrste argumentu dostikrat pravimo _akumulator_ (ker nabira do sedaj izračunani rezultat)."
      ]
    },
    {
      "cell_type": "markdown",
      "metadata": {},
      "source": [
        "```ocaml\n",
        "  vsota [1; 2; 3; 4; …]\n",
        "= 1 + vsota [2; 3; 4; …]\n",
        "= 1 + (2 + vsota [3; 4; …])\n",
        "= 1 + (2 + (3 + vsota [4; …]))\n",
        "= ...\n",
        "```"
      ]
    },
    {
      "cell_type": "markdown",
      "metadata": {},
      "source": [
        "```ocaml\n",
        "  vsota' 0 [1; 2; 3; 4; …]\n",
        "= vsota' (0 + 1) [2; 3; 4; …]\n",
        "= vsota' 1 [2; 3; 4; …]\n",
        "= vsota' (1 + 2) [3; 4; …]\n",
        "= vsota' 3 [3; 4; …]\n",
        "= vsota' (3 + 3) [4; …]\n",
        "= vsota' 6 [4; …]\n",
        "= ...\n",
        "```"
      ]
    },
    {
      "cell_type": "markdown",
      "metadata": {
        "vscode": {
          "languageId": "ocaml"
        }
      },
      "source": [
        "OCaml in tudi drugi funkcijski jeziki repne klice prepoznajo in jih optimizirajo tako, da jih prevedejo v običajne zanke. Zato lahko repno rekurzivne funkcije kličemo na poljubno velikih argumentih in z veliko manjšo porabo pomnilnika."
      ]
    },
    {
      "cell_type": "markdown",
      "metadata": {
        "slideshow": {
          "slide_type": "slide"
        }
      },
      "source": [
        "### Funkciji, kjer so vsi rekurzivni klici repni,<br>pravimo **repno rekurzivna**"
      ]
    },
    {
      "cell_type": "code",
      "execution_count": 2,
      "metadata": {
        "vscode": {
          "languageId": "ocaml"
        }
      },
      "outputs": [
        {
          "data": {
            "text/plain": [
              "val vsota : int list -> int = <fun>\n"
            ]
          },
          "execution_count": 2,
          "metadata": {},
          "output_type": "execute_result"
        }
      ],
      "source": [
        "let rec vsota =\n",
        "  function\n",
        "  | [] -> 0\n",
        "  | glava :: rep -> glava + vsota rep"
      ]
    },
    {
      "cell_type": "code",
      "execution_count": 9,
      "metadata": {
        "slideshow": {
          "slide_type": "fragment"
        },
        "vscode": {
          "languageId": "ocaml"
        }
      },
      "outputs": [
        {
          "data": {
            "text/plain": [
              "- : int = 10\n"
            ]
          },
          "execution_count": 9,
          "metadata": {},
          "output_type": "execute_result"
        }
      ],
      "source": [
        "vsota [1; 2; 3; 4]"
      ]
    },
    {
      "cell_type": "code",
      "execution_count": 5,
      "metadata": {
        "slideshow": {
          "slide_type": "fragment"
        },
        "vscode": {
          "languageId": "ocaml"
        }
      },
      "outputs": [
        {
          "data": {
            "text/plain": [
              "val vsota' : int -> int list -> int = <fun>\n"
            ]
          },
          "execution_count": 5,
          "metadata": {},
          "output_type": "execute_result"
        }
      ],
      "source": [
        "let rec vsota' delna_vsota =\n",
        "  function\n",
        "  | [] -> delna_vsota\n",
        "  | glava :: rep -> vsota' (delna_vsota + glava) rep"
      ]
    },
    {
      "cell_type": "code",
      "execution_count": 8,
      "metadata": {
        "slideshow": {
          "slide_type": "fragment"
        },
        "vscode": {
          "languageId": "ocaml"
        }
      },
      "outputs": [
        {
          "data": {
            "text/plain": [
              "val vsota'' : int list -> int = <fun>\n"
            ]
          },
          "execution_count": 8,
          "metadata": {},
          "output_type": "execute_result"
        }
      ],
      "source": [
        "let vsota'' seznam = vsota' 0 seznam"
      ]
    },
    {
      "cell_type": "markdown",
      "metadata": {
        "slideshow": {
          "slide_type": "slide"
        }
      },
      "source": [
        "### Primer: **dolžina** seznama"
      ]
    },
    {
      "cell_type": "code",
      "execution_count": 10,
      "metadata": {
        "vscode": {
          "languageId": "ocaml"
        }
      },
      "outputs": [
        {
          "data": {
            "text/plain": [
              "val dolzina : 'a list -> int = <fun>\n"
            ]
          },
          "execution_count": 10,
          "metadata": {},
          "output_type": "execute_result"
        }
      ],
      "source": [
        "let rec dolzina =\n",
        "  function\n",
        "  | [] -> 0\n",
        "  | _ :: rep -> 1 + dolzina rep  "
      ]
    },
    {
      "cell_type": "code",
      "execution_count": 18,
      "metadata": {
        "slideshow": {
          "slide_type": "fragment"
        },
        "vscode": {
          "languageId": "ocaml"
        }
      },
      "outputs": [
        {
          "data": {
            "text/plain": [
              "val dolzina' : 'a list -> int = <fun>\n"
            ]
          },
          "execution_count": 18,
          "metadata": {},
          "output_type": "execute_result"
        }
      ],
      "source": [
        "let dolzina' seznam =\n",
        "  let rec aux acc =\n",
        "    function\n",
        "    | [] -> acc\n",
        "    | _ :: rep -> aux (acc + 1) rep\n",
        "  in\n",
        "  aux 0 seznam"
      ]
    },
    {
      "cell_type": "code",
      "execution_count": 19,
      "metadata": {
        "vscode": {
          "languageId": "ocaml"
        }
      },
      "outputs": [
        {
          "data": {
            "text/plain": [
              "- : int = 5\n"
            ]
          },
          "execution_count": 19,
          "metadata": {},
          "output_type": "execute_result"
        }
      ],
      "source": [
        "dolzina' [1; 2; 3; 4; 1]"
      ]
    },
    {
      "cell_type": "code",
      "execution_count": 12,
      "metadata": {
        "slideshow": {
          "slide_type": "fragment"
        },
        "vscode": {
          "languageId": "ocaml"
        }
      },
      "outputs": [
        {
          "data": {
            "text/plain": [
              "- : int = 4\n"
            ]
          },
          "execution_count": 12,
          "metadata": {},
          "output_type": "execute_result"
        }
      ],
      "source": [
        "dolzina [1; 2; 3; 4]"
      ]
    },
    {
      "cell_type": "markdown",
      "metadata": {
        "slideshow": {
          "slide_type": "slide"
        }
      },
      "source": [
        "### Primer: **preslikanje elementov** seznama"
      ]
    },
    {
      "cell_type": "code",
      "execution_count": 20,
      "metadata": {
        "vscode": {
          "languageId": "ocaml"
        }
      },
      "outputs": [
        {
          "data": {
            "text/plain": [
              "val map : ('a -> 'b) -> 'a list -> 'b list = <fun>\n"
            ]
          },
          "execution_count": 20,
          "metadata": {},
          "output_type": "execute_result"
        }
      ],
      "source": [
        "let rec map f =\n",
        "  function\n",
        "  | [] -> []\n",
        "  | glava :: rep -> f glava :: map f rep"
      ]
    },
    {
      "cell_type": "code",
      "execution_count": 24,
      "metadata": {
        "slideshow": {
          "slide_type": "fragment"
        },
        "vscode": {
          "languageId": "ocaml"
        }
      },
      "outputs": [
        {
          "data": {
            "text/plain": [
              "val map' : ('a -> 'b) -> 'a list -> 'b list = <fun>\n"
            ]
          },
          "execution_count": 24,
          "metadata": {},
          "output_type": "execute_result"
        }
      ],
      "source": [
        "let map' f seznam =\n",
        "  let rec aux acc =\n",
        "    function\n",
        "    | [] -> List.rev acc\n",
        "    | glava :: rep -> aux (f glava :: acc) rep\n",
        "  in\n",
        "  aux [] seznam"
      ]
    },
    {
      "cell_type": "code",
      "execution_count": 25,
      "metadata": {
        "slideshow": {
          "slide_type": "fragment"
        },
        "vscode": {
          "languageId": "ocaml"
        }
      },
      "outputs": [
        {
          "data": {
            "text/plain": [
              "- : int list = [10; 20; 30; 40]\n"
            ]
          },
          "execution_count": 25,
          "metadata": {},
          "output_type": "execute_result"
        }
      ],
      "source": [
        "map' (fun x -> 10 * x) [1; 2; 3; 4]"
      ]
    },
    {
      "cell_type": "markdown",
      "metadata": {
        "slideshow": {
          "slide_type": "slide"
        }
      },
      "source": [
        "### `fold_left` je repno rekurzivna, `fold_right` pa ni"
      ]
    },
    {
      "cell_type": "markdown",
      "metadata": {},
      "source": [
        "```ocaml\n",
        "  fold_right f [1; 10; 100] z\n",
        "= fold_right f (1 :: 10 :: 100 :: []) z\n",
        "= f 1 (fold_right f (10 :: 100 :: []) z)\n",
        "= f 1 (f 10 (fold_right f (100 :: []) z))\n",
        "= f 1 (f 10 (f 100 (fold_right f [] z)))\n",
        "= f 1 (f 10 (f 100 z))\n",
        "```"
      ]
    },
    {
      "cell_type": "markdown",
      "metadata": {},
      "source": [
        "```ocaml\n",
        "  fold_left f z [1; 10; 100]\n",
        "= fold_left f z (1 :: 10 :: 100 :: [])\n",
        "= fold_left f (f z 1) (10 :: 100 :: [])\n",
        "= fold_left f (f (f z 1) 10) (100 :: [])\n",
        "= fold_left f (f (f (f z 1) 10) 100) []\n",
        "= f (f (f z 1) 10) 100\n",
        "```"
      ]
    }
  ],
  "metadata": {
    "celltoolbar": "Slideshow",
    "kernelspec": {
      "display_name": "OCaml default",
      "language": "OCaml",
      "name": "ocaml-jupyter-default"
    },
    "language_info": {
      "codemirror_mode": "text/x-ocaml",
      "file_extension": ".ml",
      "mimetype": "text/x-ocaml",
      "name": "OCaml",
      "nbconverter_exporter": null,
      "pygments_lexer": "OCaml",
      "version": "4.14.1"
    }
  },
  "nbformat": 4,
  "nbformat_minor": 2
}
