{
 "cells": [
  {
   "cell_type": "code",
   "execution_count": 3,
   "metadata": {
    "vscode": {
     "languageId": "ocaml"
    }
   },
   "outputs": [
    {
     "data": {
      "text/plain": [
       "module type SLOVAR =\n",
       "  sig\n",
       "    type ('k, 'v) t\n",
       "    val poisci : ('k, 'v) t -> 'k -> 'v option\n",
       "    val prazen : ('k, 'v) t\n",
       "    val dodaj : 'k -> 'v -> ('k, 'v) t -> ('k, 'v) t\n",
       "  end\n"
      ]
     },
     "execution_count": 3,
     "metadata": {},
     "output_type": "execute_result"
    }
   ],
   "source": [
    "module type SLOVAR = sig\n",
    "  type ('k, 'v) t\n",
    "\n",
    "  val poisci : ('k, 'v) t -> 'k -> 'v option\n",
    "  val prazen : ('k, 'v) t\n",
    "  val dodaj : 'k -> 'v -> ('k, 'v) t -> ('k, 'v) t\n",
    "end"
   ]
  },
  {
   "cell_type": "code",
   "execution_count": 4,
   "metadata": {
    "vscode": {
     "languageId": "ocaml"
    }
   },
   "outputs": [
    {
     "data": {
      "text/plain": [
       "module Slovar : SLOVAR\n"
      ]
     },
     "execution_count": 4,
     "metadata": {},
     "output_type": "execute_result"
    }
   ],
   "source": [
    "module Slovar : SLOVAR = struct\n",
    "  type ('k, 'v) t = Prazno | Sestavljeno of int * ('k, 'v) t * 'k * 'v * ('k, 'v) t\n",
    "\n",
    "  let rec poisci sl k =\n",
    "    match sl with\n",
    "    | Prazno -> None\n",
    "    | Sestavljeno (_, l, k', v, d) when k = k' -> Some v\n",
    "    | Sestavljeno (_, l, k', _, d) when k < k' -> poisci l k\n",
    "    | Sestavljeno (_, l, k', _, d) when k > k' -> poisci d k\n",
    "    | _ -> assert false\n",
    "\n",
    "  let prazen = Prazno\n",
    "\n",
    "  let visina drevo =\n",
    "    match drevo with\n",
    "    | Prazno -> 0\n",
    "    | Sestavljeno (h, _, _, _, _) -> h\n",
    "\n",
    "  let sestavljeno (l, k, v, d) =\n",
    "    Sestavljeno (1 + max (visina l) (visina d), l, k, v, d)\n",
    "\n",
    "  let zavrti_levo = function\n",
    "    | Sestavljeno (_, l, k, v, Sestavljeno (_, dl, k', v', dd)) ->\n",
    "        sestavljeno (sestavljeno (l, k, v, dl), k', v', dd)\n",
    "    | _ -> failwith \"Tega drevesa ne morem zavrteti\"\n",
    "\n",
    "  let zavrti_desno = function\n",
    "    | Sestavljeno (_, Sestavljeno (_, ll, k, v, ld), k', v', d) ->\n",
    "        sestavljeno (ll, k, v, sestavljeno (ld, k', v', d))\n",
    "    | _ -> failwith \"Tega drevesa ne morem zavrteti\"\n",
    "\n",
    "  let razlika = function\n",
    "    | Prazno -> 0\n",
    "    | Sestavljeno (_, l, _, _, d) -> visina l - visina d\n",
    "\n",
    "  let uravnotezi drevo =\n",
    "    match drevo with\n",
    "    | Sestavljeno (_, l, k, v, d) when razlika drevo = 2 && razlika l = 1 ->\n",
    "        zavrti_desno drevo\n",
    "    | Sestavljeno (_, l, k, v, d) when razlika drevo = 2 ->\n",
    "        sestavljeno (zavrti_levo l, k, v, d) |> zavrti_desno\n",
    "    | Sestavljeno (_, l, k, v, d) when razlika drevo = -2 && razlika d = -1 ->\n",
    "        zavrti_levo drevo\n",
    "    | Sestavljeno (_, l, k, v, d) when razlika drevo = -2 ->\n",
    "        sestavljeno (l, k, v, zavrti_desno d) |> zavrti_levo\n",
    "    | _ -> drevo\n",
    "\n",
    "  let rec dodaj k v drevo =\n",
    "    match drevo with\n",
    "    | Prazno -> Sestavljeno (1, Prazno, k, v, Prazno)\n",
    "    | Sestavljeno (h, l, k', v', d) ->\n",
    "        if k < k' then sestavljeno (dodaj k v l, k', v', d) |> uravnotezi\n",
    "        else if k > k' then\n",
    "          sestavljeno (l, k', v', dodaj k v d) |> uravnotezi\n",
    "        else\n",
    "          sestavljeno (l, k', v, d)\n",
    "end"
   ]
  },
  {
   "cell_type": "code",
   "execution_count": 5,
   "metadata": {
    "vscode": {
     "languageId": "ocaml"
    }
   },
   "outputs": [
    {
     "data": {
      "text/plain": [
       "val stolpi : int -> int = <fun>\n"
      ]
     },
     "execution_count": 5,
     "metadata": {},
     "output_type": "execute_result"
    }
   ],
   "source": [
    "let rec stolpi =\n",
    "  function\n",
    "  | 0 -> 1\n",
    "  | n when n < 0 -> 0\n",
    "  | n -> stolpi (n - 1) + stolpi (n - 2) + stolpi (n - 3)"
   ]
  },
  {
   "cell_type": "code",
   "execution_count": 7,
   "metadata": {
    "vscode": {
     "languageId": "ocaml"
    }
   },
   "outputs": [
    {
     "data": {
      "text/plain": [
       "- : int = 53798080\n"
      ]
     },
     "execution_count": 7,
     "metadata": {},
     "output_type": "execute_result"
    }
   ],
   "source": [
    "stolpi 30"
   ]
  },
  {
   "cell_type": "code",
   "execution_count": 6,
   "metadata": {
    "vscode": {
     "languageId": "ocaml"
    }
   },
   "outputs": [
    {
     "data": {
      "text/plain": [
       "val stolpi_s_slovarjem :\n",
       "  (int, int) Slovar.t -> int -> int * (int, int) Slovar.t = <fun>\n"
      ]
     },
     "execution_count": 6,
     "metadata": {},
     "output_type": "execute_result"
    }
   ],
   "source": [
    "let rec stolpi_s_slovarjem s n =\n",
    "  match Slovar.poisci s n with\n",
    "  | Some x -> x, s\n",
    "  | None ->\n",
    "    match n with\n",
    "    | 0 -> 1, s\n",
    "    | n when n < 0 -> 0, s\n",
    "    | n ->\n",
    "        let x1, s1 = stolpi_s_slovarjem s (n - 1) in\n",
    "        let x2, s2 = stolpi_s_slovarjem s1 (n - 2) in\n",
    "        let x3, s3 = stolpi_s_slovarjem s2 (n - 3) in\n",
    "        let y = x1 + x2 + x3 in\n",
    "        y, Slovar.dodaj n y s3"
   ]
  },
  {
   "cell_type": "code",
   "execution_count": 8,
   "metadata": {
    "vscode": {
     "languageId": "ocaml"
    }
   },
   "outputs": [
    {
     "data": {
      "text/plain": [
       "- : int * (int, int) Slovar.t = (53798080, <abstr>)\n"
      ]
     },
     "execution_count": 8,
     "metadata": {},
     "output_type": "execute_result"
    }
   ],
   "source": [
    "stolpi_s_slovarjem Slovar.prazen 30"
   ]
  },
  {
   "cell_type": "code",
   "execution_count": 16,
   "metadata": {
    "vscode": {
     "languageId": "ocaml"
    }
   },
   "outputs": [
    {
     "data": {
      "text/plain": [
       "val slovar_za_stolpe : ('_weak3, '_weak4) Slovar.t ref = {contents = <abstr>}\n"
      ]
     },
     "execution_count": 16,
     "metadata": {},
     "output_type": "execute_result"
    },
    {
     "data": {
      "text/plain": [
       "val stolpi_z_referenco : int -> int = <fun>\n"
      ]
     },
     "execution_count": 16,
     "metadata": {},
     "output_type": "execute_result"
    }
   ],
   "source": [
    "let slovar_za_stolpe = ref Slovar.prazen \n",
    "\n",
    "let rec stolpi_z_referenco n =\n",
    "  match Slovar.poisci !slovar_za_stolpe n with\n",
    "  | Some x -> x\n",
    "  | None ->\n",
    "    print_endline (\"Računam za \" ^ string_of_int n);\n",
    "    match n with\n",
    "    | 0 -> 1\n",
    "    | n when n < 0 -> 0\n",
    "    | n ->\n",
    "        let y = stolpi_z_referenco (n - 1) + stolpi_z_referenco (n - 2) + stolpi_z_referenco (n - 3) in\n",
    "        slovar_za_stolpe := Slovar.dodaj n y !slovar_za_stolpe;\n",
    "        y"
   ]
  },
  {
   "cell_type": "code",
   "execution_count": 22,
   "metadata": {
    "vscode": {
     "languageId": "ocaml"
    }
   },
   "outputs": [
    {
     "data": {
      "text/plain": [
       "val r : ('_weak11, '_weak12) Slovar.t ref = {contents = <abstr>}\n"
      ]
     },
     "execution_count": 22,
     "metadata": {},
     "output_type": "execute_result"
    }
   ],
   "source": [
    "let r = ref Slovar.prazen"
   ]
  },
  {
   "cell_type": "code",
   "execution_count": 25,
   "metadata": {
    "vscode": {
     "languageId": "ocaml"
    }
   },
   "outputs": [
    {
     "data": {
      "text/plain": [
       "- : (int, '_weak13) Slovar.t ref = {contents = <abstr>}\n"
      ]
     },
     "execution_count": 25,
     "metadata": {},
     "output_type": "execute_result"
    }
   ],
   "source": [
    "r"
   ]
  },
  {
   "cell_type": "code",
   "execution_count": 18,
   "metadata": {
    "vscode": {
     "languageId": "ocaml"
    }
   },
   "outputs": [
    {
     "data": {
      "text/plain": [
       "- : int = 53798080\n"
      ]
     },
     "execution_count": 18,
     "metadata": {},
     "output_type": "execute_result"
    }
   ],
   "source": [
    "stolpi_z_referenco 30"
   ]
  },
  {
   "cell_type": "code",
   "execution_count": 21,
   "metadata": {
    "vscode": {
     "languageId": "ocaml"
    }
   },
   "outputs": [
    {
     "data": {
      "text/plain": [
       "val razprsilna_tabela : ('_weak9, '_weak10) Hashtbl.t = <abstr>\n"
      ]
     },
     "execution_count": 21,
     "metadata": {},
     "output_type": "execute_result"
    },
    {
     "data": {
      "text/plain": [
       "val stolpi_z_zgoscevalno_tabelo : int -> int = <fun>\n"
      ]
     },
     "execution_count": 21,
     "metadata": {},
     "output_type": "execute_result"
    }
   ],
   "source": [
    "let razprsilna_tabela = Hashtbl.create 42\n",
    "\n",
    "let rec stolpi_z_zgoscevalno_tabelo n =\n",
    "  match Hashtbl.find_opt razprsilna_tabela n with\n",
    "  | Some x -> x\n",
    "  | None ->\n",
    "    print_endline (\"Računam za \" ^ string_of_int n);\n",
    "    match n with\n",
    "    | 0 -> 1\n",
    "    | n when n < 0 -> 0\n",
    "    | n ->\n",
    "        let y = stolpi_z_zgoscevalno_tabelo (n - 1) + stolpi_z_zgoscevalno_tabelo (n - 2) + stolpi_z_referenco (n - 3) in\n",
    "        Hashtbl.add razprsilna_tabela n y;\n",
    "        y"
   ]
  },
  {
   "cell_type": "code",
   "execution_count": 26,
   "metadata": {
    "vscode": {
     "languageId": "ocaml"
    }
   },
   "outputs": [
    {
     "data": {
      "text/plain": [
       "- : (int, int) Hashtbl.t = <abstr>\n"
      ]
     },
     "execution_count": 26,
     "metadata": {},
     "output_type": "execute_result"
    }
   ],
   "source": [
    "razprsilna_tabela"
   ]
  },
  {
   "cell_type": "code",
   "execution_count": 27,
   "metadata": {
    "vscode": {
     "languageId": "ocaml"
    }
   },
   "outputs": [
    {
     "data": {
      "text/plain": [
       "val id : 'a -> 'a = <fun>\n"
      ]
     },
     "execution_count": 27,
     "metadata": {},
     "output_type": "execute_result"
    }
   ],
   "source": [
    "let id f = f"
   ]
  },
  {
   "cell_type": "code",
   "execution_count": 35,
   "metadata": {
    "vscode": {
     "languageId": "ocaml"
    }
   },
   "outputs": [
    {
     "data": {
      "text/plain": [
       "val f : int -> int = <fun>\n",
       "val g : int -> int = <fun>\n"
      ]
     },
     "execution_count": 35,
     "metadata": {},
     "output_type": "execute_result"
    }
   ],
   "source": [
    "let rec f x =\n",
    "  g (x - 1)\n",
    "and g = (fun x -> if x = 0 then 0 else f (x - 1))"
   ]
  },
  {
   "cell_type": "code",
   "execution_count": 33,
   "metadata": {
    "vscode": {
     "languageId": "ocaml"
    }
   },
   "outputs": [
    {
     "data": {
      "text/plain": [
       "val speed : ('a -> 'b) -> 'a -> 'b = <fun>\n"
      ]
     },
     "execution_count": 33,
     "metadata": {},
     "output_type": "execute_result"
    }
   ],
   "source": [
    "let speed (f : ('a -> 'b)) : ('a -> 'b) = failwith \"TODO\""
   ]
  },
  {
   "cell_type": "code",
   "execution_count": 38,
   "metadata": {
    "vscode": {
     "languageId": "ocaml"
    }
   },
   "outputs": [
    {
     "data": {
      "text/plain": [
       "val slow_stolpi : (int -> int) -> int -> int = <fun>\n"
      ]
     },
     "execution_count": 38,
     "metadata": {},
     "output_type": "execute_result"
    }
   ],
   "source": [
    "let slow_stolpi =\n",
    "  function\n",
    "  | 0 -> 1\n",
    "  | n when n < 0 -> 0\n",
    "  | n -> slow_stolpi (n - 1) + slow_stolpi (n - 2) + slow_stolpi (n - 3)\n"
   ]
  },
  {
   "cell_type": "code",
   "execution_count": 39,
   "metadata": {
    "vscode": {
     "languageId": "ocaml"
    }
   },
   "outputs": [
    {
     "data": {
      "text/plain": [
       "val speed : ('a -> 'b) -> 'a -> 'b = <fun>\n"
      ]
     },
     "execution_count": 39,
     "metadata": {},
     "output_type": "execute_result"
    }
   ],
   "source": [
    "let speed slow_f =\n",
    "  let razprsilna_tabela = Hashtbl.create 42 in\n",
    "  let rec speedy_f x =\n",
    "    match Hashtbl.find_opt razprsilna_tabela x with\n",
    "    | Some y -> y\n",
    "    | None -> \n",
    "        let y = slow_f x in\n",
    "        Hashtbl.add razprsilna_tabela x y;\n",
    "        y\n",
    "  in\n",
    "  speedy_f"
   ]
  },
  {
   "cell_type": "code",
   "execution_count": 41,
   "metadata": {
    "vscode": {
     "languageId": "ocaml"
    }
   },
   "outputs": [
    {
     "data": {
      "text/plain": [
       "val slow_stolpi : int -> int = <fun>\n"
      ]
     },
     "execution_count": 41,
     "metadata": {},
     "output_type": "execute_result"
    }
   ],
   "source": [
    "let rec slow_stolpi =\n",
    "  function\n",
    "  | 0 -> 1\n",
    "  | n when n < 0 -> 0\n",
    "  | n -> slow_stolpi (n - 1) + slow_stolpi (n - 2) + slow_stolpi (n - 3)"
   ]
  },
  {
   "cell_type": "code",
   "execution_count": 43,
   "metadata": {
    "vscode": {
     "languageId": "ocaml"
    }
   },
   "outputs": [
    {
     "data": {
      "text/plain": [
       "val speedy_stolpi : int -> int = <fun>\n"
      ]
     },
     "execution_count": 43,
     "metadata": {},
     "output_type": "execute_result"
    }
   ],
   "source": [
    "let speedy_stolpi = speed slow_stolpi"
   ]
  },
  {
   "cell_type": "code",
   "execution_count": 45,
   "metadata": {
    "vscode": {
     "languageId": "ocaml"
    }
   },
   "outputs": [
    {
     "data": {
      "text/plain": [
       "- : int = 53798080\n"
      ]
     },
     "execution_count": 45,
     "metadata": {},
     "output_type": "execute_result"
    }
   ],
   "source": [
    "speedy_stolpi 30"
   ]
  },
  {
   "cell_type": "code",
   "execution_count": 47,
   "metadata": {
    "vscode": {
     "languageId": "ocaml"
    }
   },
   "outputs": [
    {
     "data": {
      "text/plain": [
       "val slow_stolpi : (int -> int) -> int -> int = <fun>\n"
      ]
     },
     "execution_count": 47,
     "metadata": {},
     "output_type": "execute_result"
    },
    {
     "data": {
      "text/plain": [
       "val speed : (('a -> 'b) -> 'a -> 'b) -> 'a -> 'b = <fun>\n"
      ]
     },
     "execution_count": 47,
     "metadata": {},
     "output_type": "execute_result"
    },
    {
     "data": {
      "text/plain": [
       "val speedy_stolpi : int -> int = <fun>\n"
      ]
     },
     "execution_count": 47,
     "metadata": {},
     "output_type": "execute_result"
    }
   ],
   "source": [
    "let rec slow_stolpi ena_druga_funkcija =\n",
    "  function\n",
    "  | 0 -> 1\n",
    "  | n when n < 0 -> 0\n",
    "  | n -> ena_druga_funkcija (n - 1) + ena_druga_funkcija (n - 2) + ena_druga_funkcija (n - 3)\n",
    "\n",
    "let speed slow_f =\n",
    "  let razprsilna_tabela = Hashtbl.create 42 in\n",
    "  let rec speedy_f x =\n",
    "    match Hashtbl.find_opt razprsilna_tabela x with\n",
    "    | Some y -> y\n",
    "    | None -> \n",
    "        let y = slow_f speedy_f x in\n",
    "        Hashtbl.add razprsilna_tabela x y;\n",
    "        y\n",
    "  in\n",
    "  speedy_f\n",
    "\n",
    "let speedy_stolpi = speed slow_stolpi"
   ]
  },
  {
   "cell_type": "code",
   "execution_count": 54,
   "metadata": {
    "vscode": {
     "languageId": "ocaml"
    }
   },
   "outputs": [
    {
     "data": {
      "text/plain": [
       "- : int = -4024026665851594591\n"
      ]
     },
     "execution_count": 54,
     "metadata": {},
     "output_type": "execute_result"
    }
   ],
   "source": [
    "speedy_stolpi 600"
   ]
  },
  {
   "cell_type": "markdown",
   "metadata": {},
   "source": []
  },
  {
   "cell_type": "code",
   "execution_count": null,
   "metadata": {
    "vscode": {
     "languageId": "ocaml"
    }
   },
   "outputs": [],
   "source": [
    "let stolpi = speed @@ fun stolpi ->\n",
    "  function\n",
    "  | 0 -> 1\n",
    "  | n when n < 0 -> 0\n",
    "  | n -> stolpi (n - 1) + stolpi (n - 2) + stolpi (n - 3)"
   ]
  },
  {
   "cell_type": "code",
   "execution_count": null,
   "metadata": {
    "vscode": {
     "languageId": "ocaml"
    }
   },
   "outputs": [],
   "source": [
    "let rec stolpi =\n",
    "  function\n",
    "  | 0 -> 1\n",
    "  | n when n < 0 -> 0\n",
    "  | n -> stolpi (n - 1) + stolpi (n - 2) + stolpi (n - 3)"
   ]
  }
 ],
 "metadata": {
  "kernelspec": {
   "display_name": "OCaml 4.14",
   "language": "OCaml",
   "name": "ocaml-jupyter"
  },
  "language_info": {
   "codemirror_mode": "text/x-ocaml",
   "file_extension": ".ml",
   "mimetype": "text/x-ocaml",
   "name": "OCaml",
   "nbconverter_exporter": null,
   "pygments_lexer": "OCaml",
   "version": "4.14.2"
  }
 },
 "nbformat": 4,
 "nbformat_minor": 2
}
