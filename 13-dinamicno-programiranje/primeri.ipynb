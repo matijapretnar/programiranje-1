{
 "cells": [
  {
   "cell_type": "markdown",
   "metadata": {},
   "source": [
    "# Dinamično programiranje"
   ]
  },
  {
   "cell_type": "markdown",
   "metadata": {
    "vscode": {
     "languageId": "plaintext"
    }
   },
   "source": [
    "![](../zapiski/slike/stolpi.png)"
   ]
  },
  {
   "cell_type": "code",
   "execution_count": 11,
   "metadata": {},
   "outputs": [],
   "source": [
    "from functools import cache as speed\n",
    "\n",
    "@speed\n",
    "def stolpi(n):\n",
    "    if n < 0:\n",
    "        return 0\n",
    "    elif n == 0:\n",
    "        return 1\n",
    "    else:\n",
    "        return stolpi(n - 1) + stolpi(n - 2) + stolpi(n - 3)"
   ]
  },
  {
   "cell_type": "code",
   "execution_count": 16,
   "metadata": {},
   "outputs": [
    {
     "data": {
      "text/plain": [
       "54905256482061235679483278369910428976059899933466274185384933632772193081333444094037547084884143628244117933189231884262129664819094060146444602214904233694057559528165472264086584689789271497223524546402863978175693050606294364487466222672517143391823777073727328336853438555549128437049835013734568326842182917913818701066397133383550075146272164156993480211100079992932960764999247598845227076303312256362140376008020155880389949351539410478027496260955373207482659542170894464289498440184487574161802151604996508232212365169803435899339649794007134285127129261037496182010770046470773788698036595476497995010822370682605569590726077671653532290639228246383173879850779705693848540202703321301906198904622151003934253000900787272837224090576491527370122790643723796481553571166224229741377"
      ]
     },
     "execution_count": 16,
     "metadata": {},
     "output_type": "execute_result"
    }
   ],
   "source": [
    "stolpi(3000)"
   ]
  },
  {
   "cell_type": "markdown",
   "metadata": {
    "vscode": {
     "languageId": "plaintext"
    }
   },
   "source": [
    "### Deli in vladaj"
   ]
  },
  {
   "cell_type": "markdown",
   "metadata": {},
   "source": [
    "1. rešitve podnalog **sestavljajo** rešitev celote in\n",
    "2. so podnaloge **za faktor** manjše,\n",
    "\n",
    "![](../zapiski/slike/deli-in-vladaj.png)"
   ]
  },
  {
   "cell_type": "markdown",
   "metadata": {},
   "source": [
    "### Dinamično programiranje"
   ]
  },
  {
   "cell_type": "markdown",
   "metadata": {},
   "source": [
    "1. rešitve podnalog **sestavljajo** rešitev celote in\n",
    "2. se podnaloge **prekrivajo**,\n",
    "\n",
    "![](../zapiski/slike/dinamicno-programiranje.png)"
   ]
  },
  {
   "cell_type": "markdown",
   "metadata": {},
   "source": [
    "### Gola sila"
   ]
  },
  {
   "cell_type": "markdown",
   "metadata": {},
   "source": [
    "1. podnaloge **niso za faktor manjše** in\n",
    "2. se podnaloge **ne prekrivajo**,\n",
    "\n",
    "![](../zapiski/slike/preiskovanje.png)\n"
   ]
  },
  {
   "cell_type": "markdown",
   "metadata": {},
   "source": [
    "## Dva pristopa k dinamičnemu programiranju"
   ]
  },
  {
   "cell_type": "markdown",
   "metadata": {
    "vscode": {
     "languageId": "plaintext"
    }
   },
   "source": [
    "### Od spodaj navzgor"
   ]
  },
  {
   "cell_type": "markdown",
   "metadata": {},
   "source": [
    "![](../zapiski/slike/izracun-vnaprej1.png)\n",
    "![](../zapiski/slike/izracun-vnaprej2.png)"
   ]
  },
  {
   "cell_type": "code",
   "execution_count": 17,
   "metadata": {},
   "outputs": [],
   "source": [
    "def pocasni_stolpi(n):\n",
    "    if n < 0:\n",
    "        return 0\n",
    "    elif n == 0:\n",
    "        return 1\n",
    "    else:\n",
    "        return pocasni_stolpi(n - 1) + pocasni_stolpi(n - 2) + pocasni_stolpi(n - 3)\n",
    "\n",
    "def stolpi_od_spodaj_navzgor(n):\n",
    "    stevila_stolpov = []\n",
    "    for i in range(3):\n",
    "        stevila_stolpov.append(pocasni_stolpi(i))\n",
    "    for k in range(3, n + 1):\n",
    "        stevila_stolpov.append(\n",
    "            stevila_stolpov[k - 1] + \n",
    "            stevila_stolpov[k - 2] + \n",
    "            stevila_stolpov[k - 3]\n",
    "        )\n",
    "    return stevila_stolpov[-1]"
   ]
  },
  {
   "cell_type": "code",
   "execution_count": 18,
   "metadata": {},
   "outputs": [
    {
     "data": {
      "text/plain": [
       "53798080"
      ]
     },
     "execution_count": 18,
     "metadata": {},
     "output_type": "execute_result"
    }
   ],
   "source": [
    "stolpi(30)"
   ]
  },
  {
   "cell_type": "code",
   "execution_count": 23,
   "metadata": {},
   "outputs": [
    {
     "data": {
      "text/plain": [
       "21746424511565100541851450395727517054142746505601260626066888087021800240052380475427937567004088343460616700918845341070566013016641013961153293253344372517220689770036865123475668784085057589145700544655491477200954034886146739649978159214169383739896763787479643353104123237504325020063841541528026520353514634320416770668082667021847918134851038808035095843177812387766553277387049296672883946099908313550855804704705311540701018849975732327846591906941029820297204741826090965805634973417608273597988940128720497138945515712015658783952069921438062578914218784338847928149262399866362393345158917767637244837064607274609475218451482732138645663561144305736121802794601249855966449525121408064326385878115534784153597684769867594857221210213161258122485835453354208457497942052921498868100347908379853541863150954532891879819990935272945686320831225536636692423441634764587467195182555166344378690563704900349451568839172053389033643231819644138290248498817733533519348980862977215986397314454828670054583688342327948680962814123600927326418532736144841617615843001456346091687989843094597902348644071287301240465251428715292942888773178457769604106252728542439199586287460676410037074997789514964190960532377235075587510535812560911657230989853110260467677193291863478368173174902005238078372103042580510680184721331868151575598527865672568223155040928029416115867416042326119917813298460290467366459134350446416569177149214723200612635328363616244694900241359539927212670115461331910050356482869700437177797204048687417942682105290236441763695068634420774527812922484760183461027719763568315513789740913575013454766028386385908906878040497327996742728623402199249117057269206064809684403669050574708107930840895466280645444643098933084122402002114832721190650850710404703250798668140514168538092382189833442845979223310503217927774578962307556257"
      ]
     },
     "execution_count": 23,
     "metadata": {},
     "output_type": "execute_result"
    }
   ],
   "source": [
    "stolpi_od_spodaj_navzgor(7000)"
   ]
  },
  {
   "cell_type": "markdown",
   "metadata": {},
   "source": [
    "### Od zgoraj navzdol - memoizacija"
   ]
  },
  {
   "cell_type": "code",
   "execution_count": 34,
   "metadata": {},
   "outputs": [],
   "source": [
    "def f(x, sez=None):\n",
    "    if sez is None:\n",
    "        sez = [1, 2, 3]\n",
    "    sez.append(x)\n",
    "    return sez\n"
   ]
  },
  {
   "cell_type": "code",
   "execution_count": 38,
   "metadata": {},
   "outputs": [
    {
     "data": {
      "text/plain": [
       "[1, 2, 3, 10, 20]"
      ]
     },
     "execution_count": 38,
     "metadata": {},
     "output_type": "execute_result"
    }
   ],
   "source": [
    "f(20)"
   ]
  },
  {
   "cell_type": "code",
   "execution_count": null,
   "metadata": {},
   "outputs": [],
   "source": [
    "ze_izracunane_vrednosti={}\n",
    "def stolpi(n):\n",
    "    if n in ze_izracunane_vrednosti:\n",
    "        return ze_izracunane_vrednosti[n]\n",
    "    else:\n",
    "      print(n)\n",
    "      if n < 0:\n",
    "          s = 0\n",
    "      elif n == 0:\n",
    "          s = 1\n",
    "      else:\n",
    "          s = stolpi(n - 1) + stolpi(n - 2) + stolpi(n - 3)\n",
    "      ze_izracunane_vrednosti[n] = s\n",
    "      return s"
   ]
  },
  {
   "cell_type": "code",
   "execution_count": null,
   "metadata": {},
   "outputs": [],
   "source": [
    "# POZOR: tega ne uporabljajte, če niste popolnoma prepričani, da razumete\n",
    "def stolpi(n, ze_izracunane_vrednosti={}):\n",
    "    if n in ze_izracunane_vrednosti:\n",
    "        return ze_izracunane_vrednosti[n]\n",
    "    else:\n",
    "      print(n)\n",
    "      if n < 0:\n",
    "          s = 0\n",
    "      elif n == 0:\n",
    "          s = 1\n",
    "      else:\n",
    "          s = stolpi(n - 1) + stolpi(n - 2) + stolpi(n - 3)\n",
    "      ze_izracunane_vrednosti[n] = s\n",
    "      return s"
   ]
  },
  {
   "cell_type": "code",
   "execution_count": 32,
   "metadata": {},
   "outputs": [],
   "source": [
    "ze_izracunane_vrednosti[10] = 42"
   ]
  },
  {
   "cell_type": "markdown",
   "metadata": {},
   "source": []
  },
  {
   "cell_type": "code",
   "execution_count": 30,
   "metadata": {},
   "outputs": [
    {
     "data": {
      "text/plain": [
       "53798080"
      ]
     },
     "execution_count": 30,
     "metadata": {},
     "output_type": "execute_result"
    }
   ],
   "source": [
    "stolpi(30)"
   ]
  },
  {
   "cell_type": "code",
   "execution_count": 33,
   "metadata": {},
   "outputs": [
    {
     "data": {
      "text/plain": [
       "42"
      ]
     },
     "execution_count": 33,
     "metadata": {},
     "output_type": "execute_result"
    }
   ],
   "source": [
    "stolpi(11)"
   ]
  },
  {
   "cell_type": "code",
   "execution_count": 5,
   "metadata": {},
   "outputs": [],
   "source": [
    "def speed(slow_f):\n",
    "  ze_izracunane_vrednosti={}\n",
    "  def speedy_f(x):\n",
    "      if x in ze_izracunane_vrednosti:\n",
    "          return ze_izracunane_vrednosti[x]\n",
    "      else:\n",
    "          y = slow_f(x)\n",
    "          ze_izracunane_vrednosti[x] = y\n",
    "          return y\n",
    "  return speedy_f"
   ]
  },
  {
   "cell_type": "code",
   "execution_count": 40,
   "metadata": {},
   "outputs": [],
   "source": [
    "def slow_stolpi(n):\n",
    "    if n < 0:\n",
    "        return 0\n",
    "    elif n == 0:\n",
    "        return 1\n",
    "    else:\n",
    "        return slow_stolpi(n - 1) + slow_stolpi(n - 2) + slow_stolpi(n - 3)"
   ]
  },
  {
   "cell_type": "code",
   "execution_count": 41,
   "metadata": {},
   "outputs": [],
   "source": [
    "speedy_stolpi = speed(slow_stolpi)"
   ]
  },
  {
   "cell_type": "code",
   "execution_count": 44,
   "metadata": {},
   "outputs": [
    {
     "data": {
      "text/plain": [
       "53798080"
      ]
     },
     "execution_count": 44,
     "metadata": {},
     "output_type": "execute_result"
    }
   ],
   "source": [
    "speedy_stolpi(30)"
   ]
  },
  {
   "cell_type": "code",
   "execution_count": 6,
   "metadata": {},
   "outputs": [],
   "source": [
    "def slow_stolpi(n):\n",
    "    if n < 0:\n",
    "        return 0\n",
    "    elif n == 0:\n",
    "        return 1\n",
    "    else:\n",
    "        return speedy_stolpi(n - 1) + speedy_stolpi(n - 2) + speedy_stolpi(n - 3)\n",
    "\n",
    "speedy_stolpi = speed(slow_stolpi)"
   ]
  },
  {
   "cell_type": "code",
   "execution_count": 46,
   "metadata": {},
   "outputs": [
    {
     "data": {
      "text/plain": [
       "23837527729"
      ]
     },
     "execution_count": 46,
     "metadata": {},
     "output_type": "execute_result"
    }
   ],
   "source": [
    "speedy_stolpi(40)"
   ]
  },
  {
   "cell_type": "code",
   "execution_count": 10,
   "metadata": {},
   "outputs": [],
   "source": [
    "def stolpi(n):\n",
    "    if n < 0:\n",
    "        return 0\n",
    "    elif n == 0:\n",
    "        return 1\n",
    "    else:\n",
    "        return stolpi(n - 1) + stolpi(n - 2) + stolpi(n - 3)\n",
    "stolpi = speed(stolpi)"
   ]
  },
  {
   "cell_type": "code",
   "execution_count": 9,
   "metadata": {},
   "outputs": [
    {
     "data": {
      "text/plain": [
       "53798080"
      ]
     },
     "execution_count": 9,
     "metadata": {},
     "output_type": "execute_result"
    }
   ],
   "source": [
    "stolpi(30)"
   ]
  },
  {
   "cell_type": "code",
   "execution_count": 11,
   "metadata": {},
   "outputs": [],
   "source": [
    "@speed\n",
    "def stolpi(n):\n",
    "    if n < 0:\n",
    "        return 0\n",
    "    elif n == 0:\n",
    "        return 1\n",
    "    else:\n",
    "        return stolpi(n - 1) + stolpi(n - 2) + stolpi(n - 3)"
   ]
  },
  {
   "cell_type": "code",
   "execution_count": 12,
   "metadata": {},
   "outputs": [
    {
     "data": {
      "text/plain": [
       "10562230626642"
      ]
     },
     "execution_count": 12,
     "metadata": {},
     "output_type": "execute_result"
    }
   ],
   "source": [
    "stolpi(50)"
   ]
  },
  {
   "cell_type": "code",
   "execution_count": 13,
   "metadata": {},
   "outputs": [],
   "source": [
    "def izracunaj_v_nic(f):\n",
    "    return f(0)"
   ]
  },
  {
   "cell_type": "code",
   "execution_count": 15,
   "metadata": {},
   "outputs": [],
   "source": [
    "@izracunaj_v_nic\n",
    "def g(x):\n",
    "    return 6 * (x + 7)"
   ]
  },
  {
   "cell_type": "code",
   "execution_count": 16,
   "metadata": {},
   "outputs": [
    {
     "ename": "TypeError",
     "evalue": "'int' object is not callable",
     "output_type": "error",
     "traceback": [
      "\u001b[0;31m---------------------------------------------------------------------------\u001b[0m",
      "\u001b[0;31mTypeError\u001b[0m                                 Traceback (most recent call last)",
      "Cell \u001b[0;32mIn[16], line 1\u001b[0m\n\u001b[0;32m----> 1\u001b[0m \u001b[43mg\u001b[49m\u001b[43m(\u001b[49m\u001b[38;5;241;43m10\u001b[39;49m\u001b[43m)\u001b[49m\n",
      "\u001b[0;31mTypeError\u001b[0m: 'int' object is not callable"
     ]
    }
   ],
   "source": [
    "g(10)"
   ]
  },
  {
   "cell_type": "code",
   "execution_count": 17,
   "metadata": {},
   "outputs": [
    {
     "data": {
      "text/plain": [
       "42"
      ]
     },
     "execution_count": 17,
     "metadata": {},
     "output_type": "execute_result"
    }
   ],
   "source": [
    "g"
   ]
  },
  {
   "cell_type": "code",
   "execution_count": null,
   "metadata": {},
   "outputs": [],
   "source": []
  }
 ],
 "metadata": {
  "kernelspec": {
   "display_name": "venv",
   "language": "python",
   "name": "python3"
  },
  "language_info": {
   "codemirror_mode": {
    "name": "ipython",
    "version": 3
   },
   "file_extension": ".py",
   "mimetype": "text/x-python",
   "name": "python",
   "nbconvert_exporter": "python",
   "pygments_lexer": "ipython3",
   "version": "3.11.2"
  }
 },
 "nbformat": 4,
 "nbformat_minor": 2
}
