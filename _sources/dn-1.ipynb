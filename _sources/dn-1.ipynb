{
 "cells": [
  {
   "cell_type": "markdown",
   "metadata": {},
   "source": [
    "# 1. domača naloga"
   ]
  },
  {
   "cell_type": "markdown",
   "metadata": {},
   "source": [
    "## Ogrevanje"
   ]
  },
  {
   "cell_type": "markdown",
   "metadata": {},
   "source": [
    "### Collatzovo zaporedje"
   ]
  },
  {
   "cell_type": "markdown",
   "metadata": {},
   "source": [
    "Collatzovo zaporedje se začne s pozitivnim naravnim številom $a_0$ ter nadaljuje kot:\n",
    "\n",
    "$$a_{n + 1} = \\begin{cases} a_n / 2, & \\text{če je } a_n \\text{ sodo} \\\\ 3 a_n + 1, & \\text{če je } a_n \\text{ liho} \\end{cases}$$\n",
    "\n",
    "Sestavite funkcijo `collatz : int -> int list`, ki sprejme začetni člen zaporedja in vrne seznam vseh členov, dokler zaporedje ne doseže $1$."
   ]
  },
  {
   "cell_type": "code",
   "execution_count": null,
   "metadata": {
    "vscode": {
     "languageId": "ocaml"
    }
   },
   "outputs": [
    {
     "data": {
      "text/plain": [
       "val primer_ogrevanje_1 : int list =\n",
       "  [1024; 512; 256; 128; 64; 32; 16; 8; 4; 2; 1]\n"
      ]
     },
     "execution_count": 2,
     "metadata": {},
     "output_type": "execute_result"
    }
   ],
   "source": [
    "let primer_ogrevanje_1 = collatz 1024"
   ]
  },
  {
   "cell_type": "code",
   "execution_count": null,
   "metadata": {
    "vscode": {
     "languageId": "ocaml"
    }
   },
   "outputs": [
    {
     "data": {
      "text/plain": [
       "val primer_ogrevanje_2 : int list =\n",
       "  [27; 82; 41; 124; 62; 31; 94; 47; 142; 71; 214; 107; 322; 161; 484; 242;\n",
       "   121; 364; 182; 91; 274; 137; 412; 206; 103; 310; 155; 466; 233; 700; 350;\n",
       "   175; 526; 263; 790; 395; 1186; 593; 1780; 890; 445; 1336; 668; 334; 167;\n",
       "   502; 251; 754; 377; 1132; 566; 283; 850; 425; 1276; 638; 319; 958; 479;\n",
       "   1438; 719; 2158; 1079; 3238; 1619; 4858; 2429; 7288; 3644; 1822; 911;\n",
       "   2734; 1367; 4102; 2051; 6154; 3077; 9232; 4616; 2308; 1154; 577; 1732;\n",
       "   866; 433; 1300; 650; 325; 976; 488; 244; 122; 61; 184; 92; 46; 23; 70; 35;\n",
       "   106; 53; 160; 80; 40; 20; 10; 5; 16; 8; 4; 2; 1]\n"
      ]
     },
     "execution_count": 3,
     "metadata": {},
     "output_type": "execute_result"
    }
   ],
   "source": [
    "let primer_ogrevanje_2 = collatz 27"
   ]
  },
  {
   "cell_type": "markdown",
   "metadata": {},
   "source": [
    "### Fiksne točke"
   ]
  },
  {
   "cell_type": "markdown",
   "metadata": {},
   "source": [
    "Sestavite funkcijo `fiksne_tocke : ('a -> 'a) -> 'a list -> 'a list`, ki za dano funkcijo in seznam vrne podseznam vseh elementov, ki so fiksne točke."
   ]
  },
  {
   "cell_type": "code",
   "execution_count": null,
   "metadata": {
    "vscode": {
     "languageId": "ocaml"
    }
   },
   "outputs": [
    {
     "data": {
      "text/plain": [
       "val primer_ogrevanje_3 : int list = [0; 1]\n"
      ]
     },
     "execution_count": 5,
     "metadata": {},
     "output_type": "execute_result"
    }
   ],
   "source": [
    "let primer_ogrevanje_3 = fiksne_tocke (fun x -> x * x) [0; 1; 2; 3; 4; 5; 6; 7; 8; 9; 10]"
   ]
  },
  {
   "cell_type": "code",
   "execution_count": null,
   "metadata": {
    "vscode": {
     "languageId": "ocaml"
    }
   },
   "outputs": [
    {
     "data": {
      "text/plain": [
       "val primer_ogrevanje_4 : int list list = [[3]; [1; 4; 1]; [5; 3; 5]; []]\n"
      ]
     },
     "execution_count": 6,
     "metadata": {},
     "output_type": "execute_result"
    }
   ],
   "source": [
    "let primer_ogrevanje_4 = fiksne_tocke List.rev [[3]; [1; 4; 1]; [5; 9; 2; 6]; [5; 3; 5]; []; [8; 9; 7; 9; 3; 2; 3]]"
   ]
  },
  {
   "cell_type": "markdown",
   "metadata": {},
   "source": [
    "### Združevanje z ločilom"
   ]
  },
  {
   "cell_type": "markdown",
   "metadata": {},
   "source": [
    "Napišite funkcijo `sep_concat : 'a -> 'a list list -> 'a list`, ki združi seznam seznamov, pri čemer med elemente različnih seznamov ter na začetek in konec vstavi dano ločilo."
   ]
  },
  {
   "cell_type": "code",
   "execution_count": null,
   "metadata": {
    "vscode": {
     "languageId": "ocaml"
    }
   },
   "outputs": [
    {
     "data": {
      "text/plain": [
       "val primer_ogrevanje_5 : int list = [42; 1; 2; 3; 42; 4; 5; 42; 42; 6; 42]\n"
      ]
     },
     "execution_count": 8,
     "metadata": {},
     "output_type": "execute_result"
    }
   ],
   "source": [
    "let primer_ogrevanje_5 = sep_concat 42 [[1; 2; 3]; [4; 5]; []; [6]]"
   ]
  },
  {
   "cell_type": "code",
   "execution_count": null,
   "metadata": {
    "vscode": {
     "languageId": "ocaml"
    }
   },
   "outputs": [
    {
     "data": {
      "text/plain": [
       "val primer_ogrevanje_6 : int list = [42]\n"
      ]
     },
     "execution_count": 9,
     "metadata": {},
     "output_type": "execute_result"
    }
   ],
   "source": [
    "let primer_ogrevanje_6 = sep_concat 42 []"
   ]
  },
  {
   "cell_type": "markdown",
   "metadata": {},
   "source": [
    "### Razbitje seznama"
   ]
  },
  {
   "cell_type": "markdown",
   "metadata": {
    "vscode": {
     "languageId": "ocaml"
    }
   },
   "source": [
    "Napišite funkcijo `partition : int -> 'a list -> 'a list`, ki sprejme pozitivno naravno število $k$ in seznam $[a_0, \\dots, a_n]$ ter ga razdeli na zaporedne podsezname $[a_0, \\dots, a_{k - 1}], [a_k, \\dots, a_{2 k - 1}], \\dots$, pri čemer je zadnji podseznam lahko tudi krajši."
   ]
  },
  {
   "cell_type": "code",
   "execution_count": null,
   "metadata": {
    "vscode": {
     "languageId": "ocaml"
    }
   },
   "outputs": [
    {
     "data": {
      "text/plain": [
       "val primer_ogrevanje_7 : int list list = [[1; 2; 3]; [4; 5; 6]; [7; 8; 9]]\n"
      ]
     },
     "execution_count": 11,
     "metadata": {},
     "output_type": "execute_result"
    }
   ],
   "source": [
    "let primer_ogrevanje_7 = partition 3 [1; 2; 3; 4; 5; 6; 7; 8; 9]"
   ]
  },
  {
   "cell_type": "code",
   "execution_count": 12,
   "metadata": {
    "vscode": {
     "languageId": "ocaml"
    }
   },
   "outputs": [
    {
     "data": {
      "text/plain": [
       "val primer_ogrevanje_8 : int list list =\n",
       "  [[1; 2; 3]; [4; 5; 6]; [7; 8; 9]; [10]]\n"
      ]
     },
     "execution_count": 12,
     "metadata": {},
     "output_type": "execute_result"
    }
   ],
   "source": [
    "let primer_ogrevanje_8 = partition 3 [1; 2; 3; 4; 5; 6; 7; 8; 9; 10]"
   ]
  },
  {
   "cell_type": "markdown",
   "metadata": {},
   "source": [
    "## Izomorfizmi množic"
   ]
  },
  {
   "cell_type": "markdown",
   "metadata": {},
   "source": [
    "Na predavanjih smo videli, da funkciji `curry : ('a * 'b -> 'c) -> ('a -> ('b -> 'c))` in `uncurry : ('a -> ('b -> 'c)) -> ('a * 'b -> 'c)` predstavljata izomorfizem množic $C^{A \\times B} \\cong (C^B)^A$, če kartezični produkt predstavimo s produktnim, eksponent pa s funkcijskim tipom.\n",
    "\n",
    "Podobno velja tudi za ostale znane izomorfizme, če disjunktno unijo\n",
    "  $$A + B = \\{ \\mathrm{in}_1(a) \\mid a \\in A \\} \\cup \\{ \\mathrm{in}_2(b) \\mid b \\in B \\}$$\n",
    "predstavimo s tipom `('a, 'b) sum`, definiranim z:"
   ]
  },
  {
   "cell_type": "code",
   "execution_count": 13,
   "metadata": {
    "vscode": {
     "languageId": "ocaml"
    }
   },
   "outputs": [
    {
     "data": {
      "text/plain": [
       "type ('a, 'b) sum = In1 of 'a | In2 of 'b\n"
      ]
     },
     "execution_count": 13,
     "metadata": {},
     "output_type": "execute_result"
    }
   ],
   "source": [
    "type ('a, 'b) sum = In1 of 'a | In2 of 'b"
   ]
  },
  {
   "cell_type": "markdown",
   "metadata": {},
   "source": [
    "Napišite pare funkcij `phi1` & `psi1`, …, `phi7` & `psi7`, ki predstavljajo spodnje izomorfizme množic. Tega, da so si funkcije inverzne, ni treba dokazovati."
   ]
  },
  {
   "cell_type": "markdown",
   "metadata": {},
   "source": [
    "### $A \\times B \\cong B \\times A$"
   ]
  },
  {
   "cell_type": "markdown",
   "metadata": {},
   "source": [
    "### $A + B \\cong B + A$"
   ]
  },
  {
   "cell_type": "markdown",
   "metadata": {},
   "source": [
    "### $A \\times (B \\times C) \\cong (A \\times B) \\times C$"
   ]
  },
  {
   "cell_type": "markdown",
   "metadata": {},
   "source": [
    "### $A + (B + C) \\cong (A + B) + C$"
   ]
  },
  {
   "cell_type": "markdown",
   "metadata": {},
   "source": [
    "### $A \\times (B + C) \\cong (A \\times B) + (A \\times C)$"
   ]
  },
  {
   "cell_type": "markdown",
   "metadata": {},
   "source": [
    "### $A^{B + C} \\cong A^B \\times A^C$"
   ]
  },
  {
   "cell_type": "markdown",
   "metadata": {},
   "source": [
    "### $(A \\times B)^C \\cong A^C \\times B^C$"
   ]
  },
  {
   "cell_type": "markdown",
   "metadata": {},
   "source": [
    "## Permutacije"
   ]
  },
  {
   "cell_type": "markdown",
   "metadata": {
    "vscode": {
     "languageId": "ocaml"
    }
   },
   "source": [
    "Permutacije so preureditve elementov $\\{0, 1, \\dots, n-1\\}$, torej bijektivne preslikave\n",
    "\n",
    "$$p \\colon \\{0, 1, \\dots, n-1\\} \\to \\{0, 1, \\dots, n-1\\}.$$\n",
    "\n",
    "V nalogi bomo permutacije predstavili s seznamom števil, v katerem je na $i$-tem mestu seznama zapisana slika elementa $i$.\n",
    "Na primer, permutaciji $0 \\, 1 \\, 2 \\, 3 \\, 4 \\, 5 \\choose 5 \\, 3 \\, 2 \\, 1 \\, 4 \\, 0$ in $0 \\, 1 \\, 2 \\, 3 \\, 4 \\, 5 \\, 6 \\, 7 \\, 8 \\, 9 \\choose 3 \\, 9 \\, 1 \\, 7 \\, 5 \\, 4 \\, 6 \\, 8 \\, 2 \\, 0$ bi zapisali s seznamoma:"
   ]
  },
  {
   "cell_type": "code",
   "execution_count": 56,
   "metadata": {
    "vscode": {
     "languageId": "ocaml"
    }
   },
   "outputs": [
    {
     "data": {
      "text/plain": [
       "val permutacija_1 : int list = [5; 3; 2; 1; 4; 0]\n"
      ]
     },
     "execution_count": 56,
     "metadata": {},
     "output_type": "execute_result"
    },
    {
     "data": {
      "text/plain": [
       "val permutacija_2 : int list = [3; 9; 1; 7; 5; 4; 6; 8; 2; 0]\n"
      ]
     },
     "execution_count": 56,
     "metadata": {},
     "output_type": "execute_result"
    }
   ],
   "source": [
    "let permutacija_1 = [5; 3; 2; 1; 4; 0]\n",
    "let permutacija_2 = [3; 9; 1; 7; 5; 4; 6; 8; 2; 0]"
   ]
  },
  {
   "cell_type": "markdown",
   "metadata": {},
   "source": [
    "### Kompozitum"
   ]
  },
  {
   "cell_type": "markdown",
   "metadata": {},
   "source": [
    "Napišite funkcijo `kompozitum : int list -> int list -> int list`, ki sprejme dve permutaciji in vrne njun kompozitum. Za permutaciji $p$ in $q$, je njun kompozitum funkcija \n",
    "\n",
    "$$ p \\circ q \\colon i \\mapsto p ( q ( i ) ). $$\n",
    "\n",
    "Predpostavite lahko, da sta seznama enakih dolžin."
   ]
  },
  {
   "cell_type": "code",
   "execution_count": 71,
   "metadata": {
    "vscode": {
     "languageId": "ocaml"
    }
   },
   "outputs": [
    {
     "data": {
      "text/plain": [
       "val primer_permutacije_1 : int list = [0; 1; 2; 3; 4; 5]\n"
      ]
     },
     "execution_count": 71,
     "metadata": {},
     "output_type": "execute_result"
    }
   ],
   "source": [
    "let primer_permutacije_1 = kompozitum permutacija_1 permutacija_1"
   ]
  },
  {
   "cell_type": "code",
   "execution_count": 72,
   "metadata": {
    "vscode": {
     "languageId": "ocaml"
    }
   },
   "outputs": [
    {
     "data": {
      "text/plain": [
       "val primer_permutacije_2 : int list = [7; 0; 9; 8; 4; 5; 6; 2; 1; 3]\n"
      ]
     },
     "execution_count": 72,
     "metadata": {},
     "output_type": "execute_result"
    }
   ],
   "source": [
    "let primer_permutacije_2 = kompozitum permutacija_2 permutacija_2"
   ]
  },
  {
   "cell_type": "markdown",
   "metadata": {},
   "source": [
    "### Inverz"
   ]
  },
  {
   "cell_type": "markdown",
   "metadata": {},
   "source": [
    "Napiši funkcijo `inverz : int list -> int list`, ki vrne inverz dane permutacije $p$, torej tako permutacijo $p^{-1}$, da velja\n",
    "\n",
    "$$p \\circ p^{-1} = \\mathrm{id},$$\n",
    "\n",
    "kjer je $\\mathrm{id}$ indentiteta."
   ]
  },
  {
   "cell_type": "code",
   "execution_count": 74,
   "metadata": {
    "vscode": {
     "languageId": "ocaml"
    }
   },
   "outputs": [
    {
     "data": {
      "text/plain": [
       "val primer_permutacije_3 : int list = [5; 3; 2; 1; 4; 0]\n"
      ]
     },
     "execution_count": 74,
     "metadata": {},
     "output_type": "execute_result"
    }
   ],
   "source": [
    "let primer_permutacije_3 = inverz permutacija_1"
   ]
  },
  {
   "cell_type": "code",
   "execution_count": 75,
   "metadata": {
    "vscode": {
     "languageId": "ocaml"
    }
   },
   "outputs": [
    {
     "data": {
      "text/plain": [
       "val primer_permutacije_4 : int list = [9; 2; 8; 0; 5; 4; 6; 3; 7; 1]\n"
      ]
     },
     "execution_count": 75,
     "metadata": {},
     "output_type": "execute_result"
    }
   ],
   "source": [
    "let primer_permutacije_4 = inverz permutacija_2"
   ]
  },
  {
   "cell_type": "code",
   "execution_count": 76,
   "metadata": {
    "vscode": {
     "languageId": "ocaml"
    }
   },
   "outputs": [
    {
     "data": {
      "text/plain": [
       "val primer_permutacije_5 : int list = [0; 1; 2; 3; 4; 5; 6; 7; 8; 9]\n"
      ]
     },
     "execution_count": 76,
     "metadata": {},
     "output_type": "execute_result"
    }
   ],
   "source": [
    "let primer_permutacije_5 = kompozitum permutacija_2 (inverz permutacija_2)"
   ]
  },
  {
   "cell_type": "markdown",
   "metadata": {},
   "source": [
    "### Razcep na cikle"
   ]
  },
  {
   "cell_type": "markdown",
   "metadata": {},
   "source": [
    "Napišite funkcijo `cikli : int list -> int list list`, ki za dano permutacijo vrne seznam ciklov, ki to permutacijo sestavljajo. Vsak element $\\{0, 1, \\dots, n-1\\}$ naj se pojavi v natanko enem ciklu. "
   ]
  },
  {
   "cell_type": "code",
   "execution_count": 78,
   "metadata": {
    "vscode": {
     "languageId": "ocaml"
    }
   },
   "outputs": [
    {
     "data": {
      "text/plain": [
       "val primer_permutacije_6 : int list list = [[0; 5]; [1; 3]; [2]; [4]]\n"
      ]
     },
     "execution_count": 78,
     "metadata": {},
     "output_type": "execute_result"
    }
   ],
   "source": [
    "let primer_permutacije_6 = cikli permutacija_1"
   ]
  },
  {
   "cell_type": "code",
   "execution_count": 79,
   "metadata": {
    "vscode": {
     "languageId": "ocaml"
    }
   },
   "outputs": [
    {
     "data": {
      "text/plain": [
       "val primer_permutacije_7 : int list list =\n",
       "  [[0; 3; 7; 8; 2; 1; 9]; [4; 5]; [6]]\n"
      ]
     },
     "execution_count": 79,
     "metadata": {},
     "output_type": "execute_result"
    }
   ],
   "source": [
    "let primer_permutacije_7 = cikli permutacija_2"
   ]
  },
  {
   "cell_type": "code",
   "execution_count": null,
   "metadata": {
    "vscode": {
     "languageId": "ocaml"
    }
   },
   "outputs": [
    {
     "data": {
      "text/plain": [
       "val primer_permutacije_8 : int list list =\n",
       "  [[0; 9; 1; 2; 8; 7; 3]; [4; 5]; [6]]\n"
      ]
     },
     "execution_count": 80,
     "metadata": {},
     "output_type": "execute_result"
    }
   ],
   "source": [
    "let primer_permutacije_8 = cikli (inverz permutacija_2)"
   ]
  },
  {
   "cell_type": "markdown",
   "metadata": {},
   "source": [
    "### Transpozicije permutacije"
   ]
  },
  {
   "cell_type": "markdown",
   "metadata": {},
   "source": [
    "Vsako permutacijo lahko zapišemo kot produkt transpozicij, torej menjav dveh elementov. Na primer, permutacijo $0 \\, 1 \\, 2 \\, 3 \\choose 1 \\, 0 \\, 3 \\, 2$ dobimo kot produkt transpozicij $(0, 1) \\circ (2, 3)$."
   ]
  },
  {
   "cell_type": "markdown",
   "metadata": {},
   "source": [
    "Napišite funkcijo `iz_transpozicij : int -> (int * int) list -> int list`, ki sprejme dolžino permutacije in seznam transpozicij ter vrne permutacijo, ki jim ustreza."
   ]
  },
  {
   "cell_type": "code",
   "execution_count": 84,
   "metadata": {
    "vscode": {
     "languageId": "ocaml"
    }
   },
   "outputs": [
    {
     "data": {
      "text/plain": [
       "val primer_permutacije_9 : int list = [1; 0; 3; 2]\n"
      ]
     },
     "execution_count": 84,
     "metadata": {},
     "output_type": "execute_result"
    }
   ],
   "source": [
    "let primer_permutacije_9 = iz_transpozicij 4 [(0, 1); (2, 3)]"
   ]
  },
  {
   "cell_type": "markdown",
   "metadata": {},
   "source": [
    "Napišite funkcijo `v_transpozicije : int list -> (int * int) list`, ki zapiše permutacijo kot produkt transpozicij, torej menjav dveh elementov. Možnih produktov je več, veljati mora le, da je kompozicija dobljenih ciklov enaka prvotni permutaciji.\n",
    "\n",
    "*Namig: Pomagate si lahko z lastnostjo, da poljubni cikel razpade na transpozicije po naslednji formuli*\n",
    "\n",
    "$$(i_1, i_2, i_3, \\ldots, i_{k-1}, i_k) = (i_1, i_k)\\circ(i_1, i_{k-1})\\circ(i_1, i_3)\\circ(i_1, i_2).$$"
   ]
  },
  {
   "cell_type": "code",
   "execution_count": 86,
   "metadata": {
    "vscode": {
     "languageId": "ocaml"
    }
   },
   "outputs": [
    {
     "data": {
      "text/plain": [
       "val primer_permutacije_10 : (int * int) list = [(0, 5); (1, 3)]\n"
      ]
     },
     "execution_count": 86,
     "metadata": {},
     "output_type": "execute_result"
    }
   ],
   "source": [
    "let primer_permutacije_10 = v_transpozicije permutacija_1"
   ]
  },
  {
   "cell_type": "code",
   "execution_count": 87,
   "metadata": {
    "vscode": {
     "languageId": "ocaml"
    }
   },
   "outputs": [
    {
     "data": {
      "text/plain": [
       "val primer_permutacije_11 : (int * int) list =\n",
       "  [(0, 9); (0, 1); (0, 2); (0, 8); (0, 7); (0, 3); (4, 5)]\n"
      ]
     },
     "execution_count": 87,
     "metadata": {},
     "output_type": "execute_result"
    }
   ],
   "source": [
    "let primer_permutacije_11 = v_transpozicije permutacija_2"
   ]
  },
  {
   "cell_type": "markdown",
   "metadata": {},
   "source": [
    "## Sudoku"
   ]
  },
  {
   "cell_type": "markdown",
   "metadata": {},
   "source": [
    "Sudoku je igra, v kateri mrežo $9 \\times 9$ dopolnimo s števili od $1$ do $9$, tako da se nobeno število v nobeni vrstici, stolpcu ali eni od devetih škatel velikosti $3 \\times 3$ ne ponovi. Primer začetne postavitve in ustrezne rešitve je:\n",
    "\n",
    "```plaintext\n",
    "+-------+-------+-------+       +-------+-------+-------+\n",
    "| 5 4 . | . 7 . | . . . |       | 5 4 3 | 6 7 8 | 9 1 2 |\n",
    "| 6 . . | 1 9 5 | . . . |       | 6 7 2 | 1 9 5 | 3 4 8 |\n",
    "| . 9 8 | . . . | . 6 . |       | 1 9 8 | 3 4 2 | 5 6 7 |\n",
    "+-------+-------+-------+       +-------+-------+-------+\n",
    "| 8 . . | . 6 . | . . 3 |       | 8 1 9 | 7 6 4 | 2 5 3 |\n",
    "| 4 . . | 8 . 3 | . . 1 |       | 4 2 6 | 8 5 3 | 7 9 1 |\n",
    "| 7 . . | . 2 . | . . 6 |       | 7 3 5 | 9 2 1 | 4 8 6 |\n",
    "+-------+-------+-------+       +-------+-------+-------+\n",
    "| . 6 . | . . 7 | 8 . . |       | 9 6 1 | 5 3 7 | 8 2 4 |\n",
    "| . . . | 4 1 9 | . . 5 |       | 2 8 7 | 4 1 9 | 6 3 5 |\n",
    "| . . . | . 8 . | . 7 9 |       | 3 5 4 | 2 8 6 | 1 7 9 |\n",
    "+-------+-------+-------+       +-------+-------+-------+\n",
    "```"
   ]
  },
  {
   "cell_type": "markdown",
   "metadata": {},
   "source": [
    "Delno izpolnjen sudoku bomo predstavili s tabelo tabel tipa `int option array array`, kjer bomo prazna mesta označili z `None`, rešen sudoku pa s tabelo tabel običajnih števil."
   ]
  },
  {
   "cell_type": "code",
   "execution_count": 88,
   "metadata": {
    "vscode": {
     "languageId": "ocaml"
    }
   },
   "outputs": [
    {
     "data": {
      "text/plain": [
       "type mreza = int option array array\n"
      ]
     },
     "execution_count": 88,
     "metadata": {},
     "output_type": "execute_result"
    },
    {
     "data": {
      "text/plain": [
       "type resitev = int array array\n"
      ]
     },
     "execution_count": 88,
     "metadata": {},
     "output_type": "execute_result"
    }
   ],
   "source": [
    "type mreza = int option array array\n",
    "type resitev = int array array"
   ]
  },
  {
   "cell_type": "markdown",
   "metadata": {},
   "source": [
    "\n",
    "\n",
    "\n",
    "Na primer, zgornjo mrežo in rešitev bi predstavili s seznamoma:"
   ]
  },
  {
   "cell_type": "code",
   "execution_count": 89,
   "metadata": {
    "vscode": {
     "languageId": "ocaml"
    }
   },
   "outputs": [
    {
     "data": {
      "text/plain": [
       "val primer_mreze : mreza =\n",
       "  [|[|Some 5; Some 4; None; None; Some 7; None; None; None; None|];\n",
       "    [|Some 6; None; None; Some 1; Some 9; Some 5; None; None; None|];\n",
       "    [|None; Some 9; Some 8; None; None; None; None; Some 6; None|];\n",
       "    [|Some 8; None; None; None; Some 6; None; None; None; Some 3|];\n",
       "    [|Some 4; None; None; Some 8; None; Some 3; None; None; Some 1|];\n",
       "    [|Some 7; None; None; None; Some 2; None; None; None; Some 6|];\n",
       "    [|None; Some 6; None; None; None; Some 7; Some 8; None; None|];\n",
       "    [|None; None; None; Some 4; Some 1; Some 9; None; None; Some 5|];\n",
       "    [|None; None; None; None; Some 8; None; None; Some 7; Some 9|]|]\n"
      ]
     },
     "execution_count": 89,
     "metadata": {},
     "output_type": "execute_result"
    },
    {
     "data": {
      "text/plain": [
       "val primer_resitve : resitev =\n",
       "  [|[|5; 4; 3; 6; 7; 8; 9; 1; 2|]; [|6; 7; 2; 1; 9; 5; 3; 4; 8|];\n",
       "    [|1; 9; 8; 3; 4; 2; 5; 6; 7|]; [|8; 1; 9; 7; 6; 4; 2; 5; 3|];\n",
       "    [|4; 2; 6; 8; 5; 3; 7; 9; 1|]; [|7; 3; 5; 9; 2; 1; 4; 8; 6|];\n",
       "    [|9; 6; 1; 5; 3; 7; 8; 2; 4|]; [|2; 8; 7; 4; 1; 9; 6; 3; 5|];\n",
       "    [|3; 5; 4; 2; 8; 6; 1; 7; 9|]|]\n"
      ]
     },
     "execution_count": 89,
     "metadata": {},
     "output_type": "execute_result"
    }
   ],
   "source": [
    "let primer_mreze : mreza = [|\n",
    "  [|Some 5; Some 4; None;   None;   Some 7; None;   None;   None;   None|];\n",
    "  [|Some 6; None;   None;   Some 1; Some 9; Some 5; None;   None;   None|];\n",
    "  [|None;   Some 9; Some 8; None;   None;   None;   None;   Some 6; None|];\n",
    "  [|Some 8; None;   None;   None;   Some 6; None;   None;   None;   Some 3|];\n",
    "  [|Some 4; None;   None;   Some 8; None;   Some 3; None;   None;   Some 1|];\n",
    "  [|Some 7; None;   None;   None;   Some 2; None;   None;   None;   Some 6|];\n",
    "  [|None;   Some 6; None;   None;   None;   Some 7; Some 8; None;   None|];\n",
    "  [|None;   None;   None;   Some 4; Some 1; Some 9; None;   None;   Some 5|];\n",
    "  [|None;   None;   None;   None;   Some 8; None;   None;   Some 7; Some 9|]\n",
    "|]\n",
    "\n",
    "let primer_resitve : resitev = [|\n",
    "  [|5; 4; 3; 6; 7; 8; 9; 1; 2|];\n",
    "  [|6; 7; 2; 1; 9; 5; 3; 4; 8|];\n",
    "  [|1; 9; 8; 3; 4; 2; 5; 6; 7|];\n",
    "  [|8; 1; 9; 7; 6; 4; 2; 5; 3|];\n",
    "  [|4; 2; 6; 8; 5; 3; 7; 9; 1|];\n",
    "  [|7; 3; 5; 9; 2; 1; 4; 8; 6|];\n",
    "  [|9; 6; 1; 5; 3; 7; 8; 2; 4|];\n",
    "  [|2; 8; 7; 4; 1; 9; 6; 3; 5|];\n",
    "  [|3; 5; 4; 2; 8; 6; 1; 7; 9|];\n",
    "|]"
   ]
  },
  {
   "cell_type": "markdown",
   "metadata": {
    "vscode": {
     "languageId": "ocaml"
    }
   },
   "source": [
    "### Dopolnitev mreže"
   ]
  },
  {
   "cell_type": "markdown",
   "metadata": {
    "vscode": {
     "languageId": "ocaml"
    }
   },
   "source": [
    "Napišite funkcijo `dodaj : int -> int -> int -> mreza -> mreza` tako da `dodaj i j n m` vrne mrežo, ki je povsod enaka mreži `m`, le na mestu v vrstici `i` in stolpcu `j` ima zapisano število `n`.\n",
    "\n",
    "**Pozor:** OCaml dopušča spreminjanje tabel (o tem se bomo učili kasneje). Vaša funkcija naj te možnosti ne uporablja, temveč naj sestavi in vrne novo tabelo."
   ]
  },
  {
   "cell_type": "code",
   "execution_count": 92,
   "metadata": {
    "vscode": {
     "languageId": "ocaml"
    }
   },
   "outputs": [
    {
     "data": {
      "text/plain": [
       "val primer_sudoku_1 : mreza =\n",
       "  [|[|Some 5; Some 4; None; None; Some 7; None; None; None; Some 2|];\n",
       "    [|Some 6; None; None; Some 1; Some 9; Some 5; None; None; None|];\n",
       "    [|None; Some 9; Some 8; None; None; None; None; Some 6; None|];\n",
       "    [|Some 8; None; None; None; Some 6; None; None; None; Some 3|];\n",
       "    [|Some 4; None; None; Some 8; None; Some 3; None; None; Some 1|];\n",
       "    [|Some 7; None; None; None; Some 2; None; None; None; Some 6|];\n",
       "    [|None; Some 6; None; None; None; Some 7; Some 8; None; None|];\n",
       "    [|None; None; None; Some 4; Some 1; Some 9; None; None; Some 5|];\n",
       "    [|None; None; None; None; Some 8; None; None; Some 7; Some 9|]|]\n"
      ]
     },
     "execution_count": 92,
     "metadata": {},
     "output_type": "execute_result"
    }
   ],
   "source": [
    "let primer_sudoku_1 = primer_mreze |> dodaj 0 8 2"
   ]
  },
  {
   "cell_type": "markdown",
   "metadata": {},
   "source": [
    "### Izpiši mrežo"
   ]
  },
  {
   "cell_type": "markdown",
   "metadata": {},
   "source": [
    "Sestavite funkciji `izpis_mreze : mreza -> string` in `izpis_resitve : resitev -> string`, ki sprejmeta mrežo oziroma rešitev in vrneta niz, ki predstavlja izpis v zgornji obliki."
   ]
  },
  {
   "cell_type": "code",
   "execution_count": 113,
   "metadata": {
    "vscode": {
     "languageId": "ocaml"
    }
   },
   "outputs": [
    {
     "name": "stdout",
     "output_type": "stream",
     "text": [
      "+-------+-------+-------+\n",
      "| 5 4 . | . 7 . | . . . |\n",
      "| 6 . . | 1 9 5 | . . . |\n",
      "| . 9 8 | . . . | . 6 . |\n",
      "+-------+-------+-------+\n",
      "| 8 . . | . 6 . | . . 3 |\n",
      "| 4 . . | 8 . 3 | . . 1 |\n",
      "| 7 . . | . 2 . | . . 6 |\n",
      "+-------+-------+-------+\n",
      "| . 6 . | . . 7 | 8 . . |\n",
      "| . . . | 4 1 9 | . . 5 |\n",
      "| . . . | . 8 . | . 7 9 |\n",
      "+-------+-------+-------+\n"
     ]
    },
    {
     "data": {
      "text/plain": [
       "val primer_sudoku_2 : unit = ()\n"
      ]
     },
     "execution_count": 113,
     "metadata": {},
     "output_type": "execute_result"
    }
   ],
   "source": [
    "let primer_sudoku_2 = primer_mreze |> izpis_mreze |> print_endline"
   ]
  },
  {
   "cell_type": "code",
   "execution_count": 96,
   "metadata": {
    "vscode": {
     "languageId": "ocaml"
    }
   },
   "outputs": [
    {
     "name": "stdout",
     "output_type": "stream",
     "text": [
      "+-------+-------+-------+\n",
      "| 5 4 3 | 6 7 8 | 9 1 2 |\n",
      "| 6 7 2 | 1 9 5 | 3 4 8 |\n",
      "| 1 9 8 | 3 4 2 | 5 6 7 |\n",
      "+-------+-------+-------+\n",
      "| 8 1 9 | 7 6 4 | 2 5 3 |\n",
      "| 4 2 6 | 8 5 3 | 7 9 1 |\n",
      "| 7 3 5 | 9 2 1 | 4 8 6 |\n",
      "+-------+-------+-------+\n",
      "| 9 6 1 | 5 3 7 | 8 2 4 |\n",
      "| 2 8 7 | 4 1 9 | 6 3 5 |\n",
      "| 3 5 4 | 2 8 6 | 1 7 9 |\n",
      "+-------+-------+-------+\n"
     ]
    },
    {
     "data": {
      "text/plain": [
       "val primer_sudoku_3 : unit = ()\n"
      ]
     },
     "execution_count": 96,
     "metadata": {},
     "output_type": "execute_result"
    }
   ],
   "source": [
    "let primer_sudoku_3 = izpis_resitve primer_resitve |> print_endline"
   ]
  },
  {
   "cell_type": "markdown",
   "metadata": {},
   "source": [
    "### Preveri, ali rešitev ustreza mreži"
   ]
  },
  {
   "cell_type": "markdown",
   "metadata": {},
   "source": [
    "Napišite funkcijo `ustreza : mreza -> resitev -> bool`, ki preveri, ali rešitev ustreza dani mreži. Rešitev ustreza mreži, če se na vseh mestih, kjer je v mreži podana številka, v rešitvi nahaja enaka številka."
   ]
  },
  {
   "cell_type": "code",
   "execution_count": 120,
   "metadata": {
    "vscode": {
     "languageId": "ocaml"
    }
   },
   "outputs": [
    {
     "data": {
      "text/plain": [
       "val primer_sudoku_4 : bool = true\n"
      ]
     },
     "execution_count": 120,
     "metadata": {},
     "output_type": "execute_result"
    }
   ],
   "source": [
    "let primer_sudoku_4 = ustreza primer_mreze primer_resitve"
   ]
  },
  {
   "cell_type": "markdown",
   "metadata": {},
   "source": [
    "### Kandidati za dano prazno mesto"
   ]
  },
  {
   "cell_type": "markdown",
   "metadata": {},
   "source": [
    "Napišite funkcije `ni_v_vrstici`, `ni_v_stolpcu` in `ni_v_skatli`, vse tipa `mreza * int -> int -> bool`, ki preverijo, ali se v določeni vrstici, stolpcu oziroma škatli mreže ne nahaja dano število. Vrstice, stolpci in škatle so indeksirani kot:\n",
    "\n",
    "```plaintext\n",
    "    0 1 2   3 4 5   6 7 8\n",
    "  +-------+-------+-------+\n",
    "0 |       |       |       |\n",
    "1 |   0   |   1   |   2   |\n",
    "2 |       |       |       |\n",
    "  +-------+-------+-------+\n",
    "3 |       |       |       |\n",
    "4 |   3   |   4   |   5   |\n",
    "5 |       |       |       |\n",
    "  +-------+-------+-------+\n",
    "6 |       |       |       |\n",
    "7 |   6   |   7   |   8   |\n",
    "8 |       |       |       |\n",
    "  +-------+-------+-------+\n",
    "```"
   ]
  },
  {
   "cell_type": "code",
   "execution_count": 124,
   "metadata": {
    "vscode": {
     "languageId": "ocaml"
    }
   },
   "outputs": [
    {
     "data": {
      "text/plain": [
       "val primer_sudoku_5 : bool = true\n"
      ]
     },
     "execution_count": 124,
     "metadata": {},
     "output_type": "execute_result"
    }
   ],
   "source": [
    "let primer_sudoku_5 = ni_v_vrstici (primer_mreze, 0) 1"
   ]
  },
  {
   "cell_type": "code",
   "execution_count": 125,
   "metadata": {
    "vscode": {
     "languageId": "ocaml"
    }
   },
   "outputs": [
    {
     "data": {
      "text/plain": [
       "val primer_sudoku_6 : bool = false\n"
      ]
     },
     "execution_count": 125,
     "metadata": {},
     "output_type": "execute_result"
    }
   ],
   "source": [
    "let primer_sudoku_6 = ni_v_vrstici (primer_mreze, 1) 1"
   ]
  },
  {
   "cell_type": "markdown",
   "metadata": {},
   "source": [
    "Napišite funkcijo `kandidati : mreza -> int -> int -> int list option`, ki sprejme mrežo in indeksa vrstice in stolpca praznega mesta ter vrne seznam vseh številk, ki se lahko pojavijo na tem mestu. Če je polje že izpolnjeno, naj funkcija vrne `None`."
   ]
  },
  {
   "cell_type": "code",
   "execution_count": 132,
   "metadata": {
    "vscode": {
     "languageId": "ocaml"
    }
   },
   "outputs": [
    {
     "data": {
      "text/plain": [
       "val primer_sudoku_7 : int list option = Some [1; 2; 3]\n"
      ]
     },
     "execution_count": 132,
     "metadata": {},
     "output_type": "execute_result"
    }
   ],
   "source": [
    "let primer_sudoku_7 = kandidati primer_mreze 0 2"
   ]
  },
  {
   "cell_type": "code",
   "execution_count": 134,
   "metadata": {
    "vscode": {
     "languageId": "ocaml"
    }
   },
   "outputs": [
    {
     "data": {
      "text/plain": [
       "val primer_sudoku_8 : int list option = None\n"
      ]
     },
     "execution_count": 134,
     "metadata": {},
     "output_type": "execute_result"
    }
   ],
   "source": [
    "let primer_sudoku_8 = kandidati primer_mreze 0 0"
   ]
  },
  {
   "cell_type": "markdown",
   "metadata": {},
   "source": [
    "### Iskanje rešitve"
   ]
  },
  {
   "cell_type": "markdown",
   "metadata": {},
   "source": [
    "Napišite funkcijo `resi : mreza -> resitev option`, ki izpolni mrežo sudokuja. Če je dana mreža rešljiva, mora funkcija najti rešitev, ki ustreza začetni mreži in jo vrniti v obliki `Some resitev`, sicer naj vrne `None`. Predpostavite lahko, da je rešitev enolična, zato lahko funkcija vrne prvo, ki jo najde.\n",
    "\n",
    "*Namig: Poiščite celico mreže z najmanj kandidati in rekurzivno preizkusite vse možnosti.*"
   ]
  },
  {
   "cell_type": "code",
   "execution_count": 141,
   "metadata": {
    "vscode": {
     "languageId": "ocaml"
    }
   },
   "outputs": [
    {
     "data": {
      "text/plain": [
       "val primer_sudoku_9 : resitev option =\n",
       "  Some\n",
       "   [|[|5; 4; 3; 6; 7; 8; 9; 1; 2|]; [|6; 7; 2; 1; 9; 5; 3; 4; 8|];\n",
       "     [|1; 9; 8; 3; 4; 2; 5; 6; 7|]; [|8; 1; 9; 7; 6; 4; 2; 5; 3|];\n",
       "     [|4; 2; 6; 8; 5; 3; 7; 9; 1|]; [|7; 3; 5; 9; 2; 1; 4; 8; 6|];\n",
       "     [|9; 6; 1; 5; 3; 7; 8; 2; 4|]; [|2; 8; 7; 4; 1; 9; 6; 3; 5|];\n",
       "     [|3; 5; 4; 2; 8; 6; 1; 7; 9|]|]\n"
      ]
     },
     "execution_count": 141,
     "metadata": {},
     "output_type": "execute_result"
    }
   ],
   "source": [
    "let primer_sudoku_9 = resi primer_mreze"
   ]
  }
 ],
 "metadata": {
  "kernelspec": {
   "display_name": "OCaml 4.14",
   "language": "OCaml",
   "name": "ocaml-jupyter"
  },
  "language_info": {
   "codemirror_mode": "text/x-ocaml",
   "file_extension": ".ml",
   "mimetype": "text/x-ocaml",
   "name": "OCaml",
   "nbconverter_exporter": null,
   "pygments_lexer": "OCaml",
   "version": "4.14.2"
  }
 },
 "nbformat": 4,
 "nbformat_minor": 2
}
