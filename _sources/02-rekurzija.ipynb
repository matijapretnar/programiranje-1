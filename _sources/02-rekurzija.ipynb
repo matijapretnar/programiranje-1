{
  "cells": [
    {
      "cell_type": "markdown",
      "metadata": {},
      "source": [
        "# Rekurzija"
      ]
    },
    {
      "cell_type": "markdown",
      "metadata": {
        "vscode": {
          "languageId": "ocaml"
        }
      },
      "source": [
        "Pri konstruktih OCamla, ki smo jih spoznali do sedaj, morda presenetljivo ni bilo nobene omembe zank, ki so eno osnovnih orodij v Pythonu. V resnici OCaml podpira tudi zanke, vendar jih bomo spoznali kasneje. Namesto tega večino časa uporabljamo vgrajene funkcije kot na primer `List.map` ali `List.fold_left`, ki jo bomo še spoznali. Če pa ustrezne funkcije ni, jo napišemo sami s pomočjo rekurzije."
      ]
    },
    {
      "cell_type": "markdown",
      "metadata": {},
      "source": [
        "Če želimo definirati rekurzivno funkcijo, jo moramo podati z `let rec`:"
      ]
    },
    {
      "cell_type": "code",
      "execution_count": null,
      "metadata": {
        "vscode": {
          "languageId": "ocaml"
        }
      },
      "outputs": [],
      "source": [
        "let rec vsota_prvih n =\n",
        "  if n = 0 then 0 else vsota_prvih (n - 1) + n"
      ]
    },
    {
      "cell_type": "code",
      "execution_count": null,
      "metadata": {
        "vscode": {
          "languageId": "ocaml"
        }
      },
      "outputs": [],
      "source": [
        "vsota_prvih 100"
      ]
    },
    {
      "cell_type": "markdown",
      "metadata": {},
      "source": [
        "Seveda ne gre brez klasičnih primerov rekurzivnih funkcij: fakultete in Fibonaccijevih števil."
      ]
    },
    {
      "cell_type": "code",
      "execution_count": null,
      "metadata": {
        "vscode": {
          "languageId": "ocaml"
        }
      },
      "outputs": [],
      "source": [
        "let rec fakulteta n =\n",
        "  if n = 0 then 1 else n * fakulteta (n - 1)"
      ]
    },
    {
      "cell_type": "code",
      "execution_count": null,
      "metadata": {
        "vscode": {
          "languageId": "ocaml"
        }
      },
      "outputs": [],
      "source": [
        "fakulteta 10"
      ]
    },
    {
      "cell_type": "code",
      "execution_count": null,
      "metadata": {
        "vscode": {
          "languageId": "ocaml"
        }
      },
      "outputs": [],
      "source": [
        "let rec fib n =\n",
        "  if n = 0 then 0\n",
        "  else if n = 1 then 1\n",
        "  else fib (n - 1) + fib (n - 2)"
      ]
    },
    {
      "cell_type": "markdown",
      "metadata": {},
      "source": [
        "Zgornja definicija je precej neučinkovita, zato si lahko pomagamo s pomožno funkcijo, ki deluje veliko hitreje."
      ]
    },
    {
      "cell_type": "code",
      "execution_count": null,
      "metadata": {
        "vscode": {
          "languageId": "ocaml"
        }
      },
      "outputs": [],
      "source": [
        "let hitri_fib n =\n",
        "  let rec aux n a b =\n",
        "    if n = 0 then a else aux (n - 1) b (a + b)\n",
        "  in aux n 0 1"
      ]
    },
    {
      "cell_type": "markdown",
      "metadata": {},
      "source": [
        "Z uporabo `and` lahko hkrati definiramo tudi več rekurzivnih funkcij:"
      ]
    },
    {
      "cell_type": "code",
      "execution_count": null,
      "metadata": {
        "vscode": {
          "languageId": "ocaml"
        }
      },
      "outputs": [],
      "source": [
        "let rec je_sodo n =\n",
        "  n = 0 || je_liho (n - 1)\n",
        "\n",
        "and je_liho n =\n",
        "  n <> 0 || je_sodo (n - 1)"
      ]
    },
    {
      "cell_type": "markdown",
      "metadata": {},
      "source": [
        "O učinkovitosti tega primera raje ne izgubljajmo besed."
      ]
    },
    {
      "cell_type": "markdown",
      "metadata": {},
      "source": [
        "## Ujemanje vzorcev\n"
      ]
    },
    {
      "cell_type": "markdown",
      "metadata": {},
      "source": [
        "Poleg neučinkovitosti pa je imela funkcija `fib` še eno težavo: gnezdene pogojne stavke. Namesto njih v funkcijskem programiranju uporabljamo učinkovitejši in preglednejši pristop ujemanja vzorcev, kjer za vsako izmed možnih oblik vrednosti podamo ustrezno nadaljevanje programa."
      ]
    },
    {
      "cell_type": "markdown",
      "metadata": {
        "vscode": {
          "languageId": "ocaml"
        }
      },
      "source": [
        "### Konstrukt `match`"
      ]
    },
    {
      "cell_type": "markdown",
      "metadata": {},
      "source": [
        "\n",
        "Med večimi vzorci se v OCamlu odločimo s pomočjo konstrukta `match`, ki sprejme več vej, ločenih z `|`, nato pa vrne prvo, ki ustreza danemu vzorcu. Na primer, zgornje funkcije bi lahko pisali kot:"
      ]
    },
    {
      "cell_type": "code",
      "execution_count": null,
      "metadata": {
        "vscode": {
          "languageId": "ocaml"
        }
      },
      "outputs": [],
      "source": [
        "let rec vsota_prvih n =\n",
        "  match n with\n",
        "  | 0 -> 0\n",
        "  | _ -> vsota_prvih (n - 1) + n\n",
        "\n",
        "let rec fakulteta n =\n",
        "  match n with\n",
        "  | 0 -> 1\n",
        "  | _ -> n * fakulteta (n - 1)\n",
        "\n",
        "let rec fib n =\n",
        "  match n with\n",
        "  | 0 -> 0\n",
        "  | 1 -> 1\n",
        "  | _ -> fib (n - 1) + fib (n - 2)"
      ]
    },
    {
      "cell_type": "markdown",
      "metadata": {},
      "source": [
        "Če je `n` enak `0` oz. v zadnjem primeru `1`, vrnemo ustrezno robno vrednost, če pa je `n` karkoli drugega, kar označimo s _slepim vzorcem_ (ang. _wildcard_) `_`, pa rekurzivno izračunamo splošni primer."
      ]
    },
    {
      "cell_type": "markdown",
      "metadata": {},
      "source": [
        "### Konstrukt `function`"
      ]
    },
    {
      "cell_type": "markdown",
      "metadata": {},
      "source": [
        "Pogosto bomo uporabili ujemanje vzorcev na zadnjem argumentu funkcije. Za ta primer lahko uporabimo tudi zapis z `function`:"
      ]
    },
    {
      "cell_type": "code",
      "execution_count": null,
      "metadata": {
        "vscode": {
          "languageId": "ocaml"
        }
      },
      "outputs": [],
      "source": [
        "let rec vsota_prvih =\n",
        "  function\n",
        "  | 0 -> 0\n",
        "  | n -> vsota_prvih (n - 1) + n\n",
        "\n",
        "let rec fakulteta =\n",
        "  function\n",
        "  | 0 -> 1\n",
        "  | n -> n * fakulteta (n - 1)\n",
        "\n",
        "let rec fib =\n",
        "  function\n",
        "  | 0 -> 0\n",
        "  | 1 -> 1\n",
        "  | n -> fib (n - 1) + fib (n - 2)"
      ]
    },
    {
      "cell_type": "markdown",
      "metadata": {},
      "source": [
        "V tem primeru za splošni primer nismo uporabili slepega vzorca `_`, saj smo na desni strani potrebovali vrednost. Namesto tega smo uporabili spremenljivko, ki tako kot `_` ustreza poljubnim vrednostim, le da jih še poimenuje, da jih lahko uporabimo v nadaljevanju."
      ]
    },
    {
      "cell_type": "markdown",
      "metadata": {},
      "source": [
        "### Pokritost vzorcev"
      ]
    },
    {
      "cell_type": "markdown",
      "metadata": {},
      "source": [
        "Vzorci se izvajajo od prvega do zadnjega, zato moramo biti pozorni na njihov vrstni red. Recimo, da imamo funkcijo, ki iz končnice datoteke napove ime programskega jezika:"
      ]
    },
    {
      "cell_type": "code",
      "execution_count": null,
      "metadata": {
        "vscode": {
          "languageId": "ocaml"
        }
      },
      "outputs": [],
      "source": [
        "let ime_jezika =\n",
        "  function\n",
        "  | \".ml\" -> \"OCaml\"\n",
        "  | \".py\" -> \"Python\"\n",
        "  | \".rs\" -> \"Rust\"\n",
        "  | _ -> \"???\""
      ]
    },
    {
      "cell_type": "code",
      "execution_count": null,
      "metadata": {
        "vscode": {
          "languageId": "ocaml"
        }
      },
      "outputs": [],
      "source": [
        "ime_jezika \".java\""
      ]
    },
    {
      "cell_type": "markdown",
      "metadata": {},
      "source": [
        "Poskusimo funkcijo napisati kot:"
      ]
    },
    {
      "cell_type": "code",
      "execution_count": null,
      "metadata": {
        "vscode": {
          "languageId": "ocaml"
        }
      },
      "outputs": [],
      "source": [
        "let ime_jezika =\n",
        "  function\n",
        "  | \".ml\" -> \"OCaml\"\n",
        "  | \".py\" -> \"Python\"\n",
        "  | _ -> \"???\"\n",
        "  | \".rs\" -> \"Rust\"\n"
      ]
    },
    {
      "cell_type": "markdown",
      "metadata": {},
      "source": [
        "OCaml nas je opozoril, da zadnja veja nikoli ne bo uporabljena, saj bo tretji vzorec ustrezal vsem primerom."
      ]
    },
    {
      "cell_type": "code",
      "execution_count": null,
      "metadata": {
        "vscode": {
          "languageId": "ocaml"
        }
      },
      "outputs": [],
      "source": [
        "ime_jezika \".rs\""
      ]
    },
    {
      "cell_type": "markdown",
      "metadata": {},
      "source": [
        "Prav tako nas OCaml opozori, če na kakšen primer pozabimo, saj bo ob izvajanju sicer lahko prišlo do napake:"
      ]
    },
    {
      "cell_type": "code",
      "execution_count": null,
      "metadata": {
        "vscode": {
          "languageId": "ocaml"
        }
      },
      "outputs": [],
      "source": [
        "let ime_jezika =\n",
        "  function\n",
        "  | \".ml\" -> \"OCaml\"\n",
        "  | \".py\" -> \"Python\"\n",
        "  | \".rs\" -> \"Rust\""
      ]
    },
    {
      "cell_type": "code",
      "execution_count": null,
      "metadata": {
        "tags": [
          "raises-exception"
        ],
        "vscode": {
          "languageId": "ocaml"
        }
      },
      "outputs": [],
      "source": [
        "ime_jezika \".java\""
      ]
    },
    {
      "cell_type": "markdown",
      "metadata": {},
      "source": [
        "## Možni vzorci"
      ]
    },
    {
      "cell_type": "markdown",
      "metadata": {
        "slideshow": {
          "slide_type": "slide"
        }
      },
      "source": [
        "### Osnovni vzorci"
      ]
    },
    {
      "cell_type": "markdown",
      "metadata": {},
      "source": [
        "Videli smo že, da lahko za vzorce uporabimo poljubne konstante, slepi vzorec `_` ali spremenljivke."
      ]
    },
    {
      "cell_type": "code",
      "execution_count": null,
      "metadata": {
        "vscode": {
          "languageId": "ocaml"
        }
      },
      "outputs": [],
      "source": [
        "let ali_je_res =\n",
        "  function\n",
        "  | true -> \"res je\"\n",
        "  | false -> \"ni res\""
      ]
    },
    {
      "cell_type": "code",
      "execution_count": null,
      "metadata": {
        "vscode": {
          "languageId": "ocaml"
        }
      },
      "outputs": [],
      "source": [
        "let ime_stevila =\n",
        "  function\n",
        "  | 1 -> \"ena\"\n",
        "  | 2 -> \"dva\"\n",
        "  | _ -> \"veliko\""
      ]
    },
    {
      "cell_type": "code",
      "execution_count": null,
      "metadata": {
        "vscode": {
          "languageId": "ocaml"
        }
      },
      "outputs": [],
      "source": [
        "let ime_stevila =\n",
        "  function\n",
        "  | 1 -> \"ena\"\n",
        "  | 2 -> \"dva\"\n",
        "  | x -> \"število \" ^ string_of_int x"
      ]
    },
    {
      "cell_type": "markdown",
      "metadata": {
        "slideshow": {
          "slide_type": "slide"
        }
      },
      "source": [
        "### Združeni vzorci"
      ]
    },
    {
      "cell_type": "markdown",
      "metadata": {},
      "source": [
        "Več zaporednih vzorcev, ki imajo enako vejo, lahko združimo v enega:"
      ]
    },
    {
      "cell_type": "code",
      "execution_count": null,
      "metadata": {
        "vscode": {
          "languageId": "ocaml"
        }
      },
      "outputs": [],
      "source": [
        "let je_prestopno leto =\n",
        "  (leto mod 4 = 0 && leto mod 100 <> 0) || leto mod 400 = 0\n",
        "  \n",
        "let dolzina_meseca leto =\n",
        "  function\n",
        "  | 4 | 6 | 9 | 11 -> 30\n",
        "  | 2 -> if je_prestopno leto then 29 else 28\n",
        "  | _ -> 31"
      ]
    },
    {
      "cell_type": "markdown",
      "metadata": {},
      "source": [
        "### Vzorci za nabore"
      ]
    },
    {
      "cell_type": "markdown",
      "metadata": {
        "slideshow": {
          "slide_type": "slide"
        }
      },
      "source": [
        "Tako kot lahko vrednosti z nabori sestavljamo v gnezdene vrednosti, lahko gnezdimo tudi vzorce. Nabore primerjamo z vzorci oblike `(p₁, p₂, ...)`, pri čemer so `p₁`, `p₂` spet lahko poljubni nadaljnji vzorci."
      ]
    },
    {
      "cell_type": "code",
      "execution_count": null,
      "metadata": {
        "vscode": {
          "languageId": "ocaml"
        }
      },
      "outputs": [],
      "source": [
        "let polozaj_tocke =\n",
        "  function\n",
        "  | (0, 0) -> \"izhodišče\"\n",
        "  | (_, 0) -> \"abscisa\"\n",
        "  | (0, _) -> \"ordinata\"\n",
        "  | (_, _) -> \"nekje drugje\""
      ]
    },
    {
      "cell_type": "markdown",
      "metadata": {
        "slideshow": {
          "slide_type": "slide"
        }
      },
      "source": [
        "Spomnimo se, da vzorec s spremenljivko ustreza poljubni vrednosti. Kaj bi se zgodilo, če bi vzorec `(x, x)` primerjali z vrednostjo `(4, 2)`? Število `4` ustreza prvemu vzorcu `x`, ravno tako pa število `2` ustreza drugemu vzorcu `x`. Toda na katero vrednost naj se veže `x`? Da se izognemo dvoumnosti, nam OCaml vsako spremenljivko v vzorcu dovoli napisati samo enkrat. Tako ne moremo napisati:"
      ]
    },
    {
      "cell_type": "code",
      "execution_count": null,
      "metadata": {
        "tags": [
          "raises-exception"
        ],
        "vscode": {
          "languageId": "ocaml"
        }
      },
      "outputs": [],
      "source": [
        "let polozaj_tocke =\n",
        "  function\n",
        "  | (0, 0) -> \"izhodišče\"\n",
        "  | (_, 0) -> \"abscisa\"\n",
        "  | (0, _) -> \"ordinata\"\n",
        "  | (x, x) -> \"diagonala\"\n",
        "  | (_, _) -> \"nekje drugje\""
      ]
    },
    {
      "cell_type": "markdown",
      "metadata": {},
      "source": [
        "Lahko pa napišemo:"
      ]
    },
    {
      "cell_type": "code",
      "execution_count": null,
      "metadata": {
        "vscode": {
          "languageId": "ocaml"
        }
      },
      "outputs": [],
      "source": [
        "let polozaj_tocke =\n",
        "  function\n",
        "  | (0, 0) -> \"izhodišče\"\n",
        "  | (_, 0) -> \"abscisa\"\n",
        "  | (0, _) -> \"ordinata\"\n",
        "  | (x, y) -> if x = y then \"diagonala\" else \"nekje drugje\""
      ]
    },
    {
      "cell_type": "markdown",
      "metadata": {
        "slideshow": {
          "slide_type": "slide"
        }
      },
      "source": [
        "### Varovani vzorci"
      ]
    },
    {
      "cell_type": "markdown",
      "metadata": {},
      "source": [
        "Vsak vzorec lahko z uporabo `when` zavarujemo z logičnim pogojem. Takemu vzorcu ustrezajo samo tiste vrednosti, za katere je logični pogoj resničen. Zgornji primer bi tako lepše napisali kot:"
      ]
    },
    {
      "cell_type": "code",
      "execution_count": null,
      "metadata": {
        "vscode": {
          "languageId": "ocaml"
        }
      },
      "outputs": [],
      "source": [
        "let polozaj_tocke =\n",
        "  function\n",
        "  | (0, 0) -> \"izhodišče\"\n",
        "  | (_, 0) -> \"abscisa\"\n",
        "  | (0, _) -> \"ordinata\"\n",
        "  | (x, y) when x = y -> \"diagonala\"\n",
        "  | (_, _) -> \"nekje drugje\""
      ]
    },
    {
      "cell_type": "markdown",
      "metadata": {},
      "source": [
        "Razlika med varovanimi vzorci in običajnimi pogojnimi izrazi je v tem, da pri prvih v primeru neuspeha nadaljujemo z naslednjim vzorcem, pri drugih pa smo se že odločili za vejo. Na primer, z varovanimi vzorci lahko napišemo funkcijo, ki določi obliko trikotnika:"
      ]
    },
    {
      "cell_type": "code",
      "execution_count": null,
      "metadata": {
        "vscode": {
          "languageId": "ocaml"
        }
      },
      "outputs": [],
      "source": [
        "let veljaven_trikotnik a b c =\n",
        "  a + b <= c || a + c <= b || b + c <= a\n",
        "\n",
        "let oblika_trikotnika =\n",
        "  function\n",
        "  | (a, b, c) when not (veljaven_trikotnik a b c) -> \"neveljaven\"\n",
        "  | (0, _, _) | (_, 0, _) | (_, _, 0) -> \"izrojen\"\n",
        "  | (a, b, c) when a = b && b = c -> \"enakostraničen\"\n",
        "  | (a, b, c) when a = b || b = c || a = c -> \"enakokrak\"\n",
        "  | (_, _, _) -> \"poljuben\""
      ]
    },
    {
      "cell_type": "markdown",
      "metadata": {},
      "source": [
        "Če bi poskusili isto napisati brez varovanih vzorcev, a obdržati vzorce za izrojene primere, bi morali ujemanje pisati kot:"
      ]
    },
    {
      "cell_type": "code",
      "execution_count": null,
      "metadata": {
        "vscode": {
          "languageId": "ocaml"
        }
      },
      "outputs": [],
      "source": [
        "let oblika_trikotnika =\n",
        "  function\n",
        "  | (a, b, c) ->\n",
        "      if not (veljaven_trikotnik a b c) then\n",
        "        \"neveljaven\"\n",
        "      else match (a, b, c) with\n",
        "      | (0, _, _) | (_, 0, _) | (_, _, 0) -> \"izrojen\"\n",
        "      | (a, b, c) ->\n",
        "          if a = b && b = c then \"enakostraničen\"\n",
        "          else if a = b || b = c || a = c then \"enakokrak\"\n",
        "          else \"poljuben\""
      ]
    },
    {
      "cell_type": "markdown",
      "metadata": {
        "slideshow": {
          "slide_type": "slide"
        }
      },
      "source": [
        "### Vzorci za morebitne vrednosti"
      ]
    },
    {
      "cell_type": "markdown",
      "metadata": {},
      "source": [
        "Videli smo, da funkcija `int_of_string` sproži napako, če naleti na niz, ki ne predstavlja števila."
      ]
    },
    {
      "cell_type": "code",
      "execution_count": null,
      "metadata": {
        "vscode": {
          "languageId": "ocaml"
        }
      },
      "outputs": [],
      "source": [
        "let opisuje_pozitivno_stevilo niz =\n",
        "  int_of_string niz > 0"
      ]
    },
    {
      "cell_type": "code",
      "execution_count": null,
      "metadata": {
        "vscode": {
          "languageId": "ocaml"
        }
      },
      "outputs": [],
      "source": [
        "opisuje_pozitivno_stevilo \"100\""
      ]
    },
    {
      "cell_type": "code",
      "execution_count": null,
      "metadata": {
        "vscode": {
          "languageId": "ocaml"
        }
      },
      "outputs": [],
      "source": [
        "opisuje_pozitivno_stevilo \"-100\""
      ]
    },
    {
      "cell_type": "code",
      "execution_count": null,
      "metadata": {
        "tags": [
          "raises-exception"
        ],
        "vscode": {
          "languageId": "ocaml"
        }
      },
      "outputs": [],
      "source": [
        "opisuje_pozitivno_stevilo \"sto\""
      ]
    },
    {
      "cell_type": "markdown",
      "metadata": {},
      "source": [
        "Vemo že, da je varnejša alternativa uporaba funkcije `int_of_string_opt`, ki vrača rezultate tipa `int option`."
      ]
    },
    {
      "cell_type": "code",
      "execution_count": null,
      "metadata": {
        "vscode": {
          "languageId": "ocaml"
        }
      },
      "outputs": [],
      "source": [
        "int_of_string_opt \"100\""
      ]
    },
    {
      "cell_type": "code",
      "execution_count": null,
      "metadata": {
        "vscode": {
          "languageId": "ocaml"
        }
      },
      "outputs": [],
      "source": [
        "int_of_string_opt \"-100\""
      ]
    },
    {
      "cell_type": "code",
      "execution_count": null,
      "metadata": {
        "vscode": {
          "languageId": "ocaml"
        }
      },
      "outputs": [],
      "source": [
        "int_of_string_opt \"sto\""
      ]
    },
    {
      "cell_type": "markdown",
      "metadata": {},
      "source": [
        "Vendar imamo težavo, da se pri nadaljnji obdelavi tipi ne ujemajo:"
      ]
    },
    {
      "cell_type": "code",
      "execution_count": null,
      "metadata": {
        "tags": [
          "raises-exception"
        ],
        "vscode": {
          "languageId": "ocaml"
        }
      },
      "outputs": [],
      "source": [
        "let opisuje_pozitivno_stevilo niz =\n",
        "  int_of_string_opt niz > 0"
      ]
    },
    {
      "cell_type": "markdown",
      "metadata": {},
      "source": [
        "To je sicer nerodno, ampak v resnici dobro, saj nas tipi prisilijo, da obravnavamo _vse_ robne primere. To lahko storimo z vzorcema `None` in `Some p` za morebitne vrednosti. Pri tem je `p` zopet lahko poljuben vzorec, ki se bo primerjal s prisotno vrednostjo.\n",
        "\n",
        "V našem primeru nekaj, kar ne opisuje števila, tudi negativnega števila ne opisuje:"
      ]
    },
    {
      "cell_type": "code",
      "execution_count": null,
      "metadata": {
        "vscode": {
          "languageId": "ocaml"
        }
      },
      "outputs": [],
      "source": [
        "let opisuje_pozitivno_stevilo niz =\n",
        "  match int_of_string_opt niz with\n",
        "  | Some stevilo -> stevilo > 0\n",
        "  | None -> false"
      ]
    },
    {
      "cell_type": "markdown",
      "metadata": {
        "slideshow": {
          "slide_type": "slide"
        }
      },
      "source": [
        "## Razstavljanje seznamov"
      ]
    },
    {
      "cell_type": "markdown",
      "metadata": {},
      "source": [
        "### Vzorci za sezname fiksne dolžine"
      ]
    },
    {
      "cell_type": "markdown",
      "metadata": {},
      "source": [
        "Sezname fiksne dolžine primerjamo z vzorci oblike `[p₁; p₂; …]`, pri čemer so `p₁`, `p₂`, … poljubni nadaljnji vzorci."
      ]
    },
    {
      "cell_type": "code",
      "execution_count": null,
      "metadata": {
        "vscode": {
          "languageId": "ocaml"
        }
      },
      "outputs": [],
      "source": [
        "let citiraj_knjigo avtorji naslov =\n",
        "  match avtorji with\n",
        "  | [] -> naslov\n",
        "  | [avtor] -> avtor ^ \": \" ^ naslov\n",
        "  | [prvi; drugi] -> prvi ^ \", \" ^ drugi ^ \": \" ^ naslov\n",
        "  (* uporaba List.hd je slaba praksa *)\n",
        "  | _ -> List.hd avtorji ^ \" in ostali: \" ^ naslov"
      ]
    },
    {
      "cell_type": "code",
      "execution_count": null,
      "metadata": {
        "vscode": {
          "languageId": "ocaml"
        }
      },
      "outputs": [],
      "source": [
        "citiraj_knjigo [] \"Telefonski imenik\""
      ]
    },
    {
      "cell_type": "code",
      "execution_count": null,
      "metadata": {
        "vscode": {
          "languageId": "ocaml"
        }
      },
      "outputs": [],
      "source": [
        "citiraj_knjigo [\"Tolkien\"] \"Gospodar prstanov\""
      ]
    },
    {
      "cell_type": "code",
      "execution_count": null,
      "metadata": {
        "vscode": {
          "languageId": "ocaml"
        }
      },
      "outputs": [],
      "source": [
        "citiraj_knjigo [\"Pratchett\"; \"Gaiman\"] \"Dobra znamenja\""
      ]
    },
    {
      "cell_type": "code",
      "execution_count": null,
      "metadata": {
        "vscode": {
          "languageId": "ocaml"
        }
      },
      "outputs": [],
      "source": [
        "citiraj_knjigo [\"Golob\"; \"Kos\"; \"Vrabec\"] \"Ptiči Slovenije\""
      ]
    },
    {
      "cell_type": "markdown",
      "metadata": {},
      "source": [
        "Zadnja vrstica ni najboljša, saj funkcija lahko `List.hd` sproži napako, če je seznam prazen. Seveda vemo, da se to ne bo zgodilo, saj smo ta primer obravanavali že prej, a vseeno gre pri `List.hd` za slabo prakso. Bolje je uporabiti splošne vzorce za razstavljanje seznamov, ki si jih bomo ogledali podrobneje."
      ]
    },
    {
      "cell_type": "markdown",
      "metadata": {},
      "source": [
        "### Verižni seznami"
      ]
    },
    {
      "cell_type": "markdown",
      "metadata": {},
      "source": [
        "Za razliko od drugih jezikov, v katerem si sezname lahko predstavljamo kot zaporedne podatke v pomnilniku, so seznami v OCamlu predstavljeni z verižnimi seznami. To pomeni, da ima vsak neprazen seznam glavo (prvi element) in rep (preostanek seznama, ki je zopet seznam). To nam omogoča, da sezname razstavimo na glavo in rep, kar je zelo uporabno pri rekurzivnih funkcijah.\n",
        "\n",
        "Seznam z glavo `h` in repom `t` zapišemo kot `h :: t`. Tako je seznam `[1; 2; 3; 4]` samo krajši zapis za:\n",
        "\n",
        "```ocaml\n",
        "  [1; 2; 3; 4]\n",
        "= 1 :: [2; 3; 4]\n",
        "= 1 :: 2 :: [3; 4]\n",
        "= 1 :: 2 :: 3 :: [4]\n",
        "= 1 :: 2 :: 3 :: 4 :: []\n",
        "```"
      ]
    },
    {
      "cell_type": "code",
      "execution_count": null,
      "metadata": {
        "vscode": {
          "languageId": "ocaml"
        }
      },
      "outputs": [],
      "source": [
        "\"a\" :: \"b\" :: [\"c\"; \"d\"]"
      ]
    },
    {
      "cell_type": "markdown",
      "metadata": {},
      "source": [
        "Poleg `::`, ki glavo sestavi z repom, obstaja tudi `@`, ki stakne dva seznama."
      ]
    },
    {
      "cell_type": "code",
      "execution_count": null,
      "metadata": {
        "vscode": {
          "languageId": "ocaml"
        }
      },
      "outputs": [],
      "source": [
        "[\"a\"; \"b\"] @ [\"c\"; \"d\"]"
      ]
    },
    {
      "cell_type": "markdown",
      "metadata": {},
      "source": [
        "Za vajo lahko preverite, kateri izmed spodnjih seznamov so veljavni:\n",
        "\n",
        "<details>\n",
        "    <summary><code>[1; 2] :: [3; 4]</code></summary>\n",
        "    NE, ker `::` doda glavo, bi moralo biti na levi strani število, ali pa na desni strani seznam seznamov števil.\n",
        "</details>\n",
        "<details>\n",
        "    <summary><code>1 :: 2 :: 3 :: []</code></summary>\n",
        "    DA, to je seznam `[1; 2; 3]`.\n",
        "</details>\n",
        "<details>\n",
        "    <summary><code>[1; 2] @ [3; 4]</code></summary>\n",
        "    DA, to je seznam `[1; 2; 3; 4]`.\n",
        "</details>\n",
        "<details>\n",
        "    <summary><code>1 @ 2 @ [3]</code></summary>\n",
        "    NE, z `@` lahko stikamo samo sezname, `1` pa je število.\n",
        "</details>\n",
        "<details>\n",
        "    <summary><code>[1, 2] @ [3]</code></summary>\n",
        "    NE, ker smo uporabili vejico namesto podpičja, zato je na levi seznam `[(1, 2)]`, na desni pa seznam števil.\n",
        "</details>\n",
        "<details>\n",
        "    <summary><code>1 :: 2 :: 3</code></summary>\n",
        "    NE, ker na koncu manjka rep.\n",
        "</details>\n",
        "<details>\n",
        "    <summary><code>[1; 2] @ []</code></summary>\n",
        "    DA, to je seznam `[1; 2]`.\n",
        "</details>\n",
        "<details>\n",
        "    <summary><code>[1; 2] :: []</code></summary>\n",
        "    DA, presenetljivo je tudi to veljaven seznam in sicer <code>[[1; 2]]</code>.\n",
        "</details>"
      ]
    },
    {
      "cell_type": "markdown",
      "metadata": {},
      "source": [
        "Ko sestavljamo sezname, je videti, da imata `::` in `@` podobno vlogo, le da prvi na levi doda en element, drugi pa celoten seznam. Naj nas to ne zavede. Tako kot sta `None` in `Some` osnovna gradnika morebitnih vrednosti, sta `[]` in `::` osnovna gradnika seznamov. Po drugi strani je `@` pa je samo običajna rekurzivna funkcija."
      ]
    },
    {
      "cell_type": "markdown",
      "metadata": {},
      "source": [
        "### Razstavljanje na glavo in rep"
      ]
    },
    {
      "cell_type": "markdown",
      "metadata": {},
      "source": [
        "To, da je `::` osnovni gradnik seznamov, je še posebej očitno pri vzorcih, saj lahko prek vzorca `p₁ :: p₂` sezname razstavljamo na glavo in rep. Tako bi lahko zgornjo funkcijo napisali kot:"
      ]
    },
    {
      "cell_type": "code",
      "execution_count": null,
      "metadata": {
        "vscode": {
          "languageId": "ocaml"
        }
      },
      "outputs": [],
      "source": [
        "let citiraj_knjigo avtorji naslov =\n",
        "  match avtorji with\n",
        "  | [] -> naslov\n",
        "  | avtor :: [] -> avtor ^ \": \" ^ naslov\n",
        "  | prvi :: drugi :: [] -> prvi ^ \", \" ^ drugi ^ \": \" ^ naslov\n",
        "  | prvi :: _ -> prvi ^ \" in ostali: \" ^ naslov"
      ]
    },
    {
      "cell_type": "markdown",
      "metadata": {},
      "source": [
        "Tako nam v zadnjem primeru ni treba uporabiti funkcije `List.hd`, da izluščimo glavo, saj smo to storili že z vzorcem."
      ]
    },
    {
      "cell_type": "code",
      "execution_count": null,
      "metadata": {
        "vscode": {
          "languageId": "ocaml"
        }
      },
      "outputs": [],
      "source": [
        "citiraj_knjigo [\"Pratchett\"; \"Gaiman\"] \"Dobra znamenja\""
      ]
    },
    {
      "cell_type": "markdown",
      "metadata": {},
      "source": [
        "Seveda lahko uporabimo tudi kombinacijo obeh vrst vzorcev za sezname:"
      ]
    },
    {
      "cell_type": "code",
      "execution_count": null,
      "metadata": {
        "vscode": {
          "languageId": "ocaml"
        }
      },
      "outputs": [],
      "source": [
        "let citiraj_knjigo avtorji naslov =\n",
        "  match avtorji with\n",
        "  | [] -> naslov\n",
        "  | [avtor] -> avtor ^ \": \" ^ naslov\n",
        "  | [prvi; drugi] -> prvi ^ \", \" ^ drugi ^ \": \" ^ naslov\n",
        "  | prvi :: _ -> prvi ^ \" in ostali: \" ^ naslov"
      ]
    },
    {
      "cell_type": "markdown",
      "metadata": {
        "slideshow": {
          "slide_type": "slide"
        }
      },
      "source": [
        "### Enostavne rekurzivne funkcije"
      ]
    },
    {
      "cell_type": "markdown",
      "metadata": {},
      "source": [
        "S pomočjo razstavljanja seznamov na glavo in rep lahko napišemo vse rekurzivne funkcije na seznamih."
      ]
    },
    {
      "cell_type": "code",
      "execution_count": null,
      "metadata": {
        "slideshow": {
          "slide_type": "fragment"
        },
        "vscode": {
          "languageId": "ocaml"
        }
      },
      "outputs": [],
      "source": [
        "let rec vsota =\n",
        "  function\n",
        "  | [] -> 0\n",
        "  | glava :: rep -> glava + vsota rep"
      ]
    },
    {
      "cell_type": "code",
      "execution_count": null,
      "metadata": {
        "slideshow": {
          "slide_type": "fragment"
        },
        "vscode": {
          "languageId": "ocaml"
        }
      },
      "outputs": [],
      "source": [
        "vsota [1; 2; 3; 4]"
      ]
    },
    {
      "cell_type": "markdown",
      "metadata": {},
      "source": [
        "Pri dolžini ravnamo podobno, le da ignoriramo vrednost v glavi."
      ]
    },
    {
      "cell_type": "code",
      "execution_count": null,
      "metadata": {
        "slideshow": {
          "slide_type": "-"
        },
        "vscode": {
          "languageId": "ocaml"
        }
      },
      "outputs": [],
      "source": [
        "let rec dolzina =\n",
        "  function\n",
        "  | [] -> 0\n",
        "  | glava :: rep -> dolzina rep + 1"
      ]
    },
    {
      "cell_type": "code",
      "execution_count": null,
      "metadata": {
        "slideshow": {
          "slide_type": "fragment"
        },
        "vscode": {
          "languageId": "ocaml"
        }
      },
      "outputs": [],
      "source": [
        "dolzina [1; 2; 3; 4]"
      ]
    },
    {
      "cell_type": "markdown",
      "metadata": {},
      "source": [
        "Tudi funkcija `List.map` je napisana na podoben način:"
      ]
    },
    {
      "cell_type": "code",
      "execution_count": null,
      "metadata": {
        "vscode": {
          "languageId": "ocaml"
        }
      },
      "outputs": [],
      "source": [
        "let rec map f =\n",
        "  function\n",
        "  | [] -> []\n",
        "  | glava :: rep -> f glava :: map f rep"
      ]
    },
    {
      "cell_type": "code",
      "execution_count": null,
      "metadata": {
        "slideshow": {
          "slide_type": "fragment"
        },
        "vscode": {
          "languageId": "ocaml"
        }
      },
      "outputs": [],
      "source": [
        "map String.length [\"avto\"; \"pes\"; \"mačka\"]"
      ]
    },
    {
      "cell_type": "markdown",
      "metadata": {},
      "source": [
        "Funkcija `( @ ) : 'a list -> 'a list -> 'a list`, ki združi dva seznama v enega, pa je napisana kot:"
      ]
    },
    {
      "cell_type": "code",
      "execution_count": null,
      "metadata": {
        "vscode": {
          "languageId": "ocaml"
        }
      },
      "outputs": [],
      "source": [
        "let rec ( @ ) sez1 sez2 =\n",
        "  match sez1 with\n",
        "  | [] -> sez2\n",
        "  | glava :: rep -> glava :: (rep @ sez2)"
      ]
    },
    {
      "cell_type": "code",
      "execution_count": null,
      "metadata": {
        "vscode": {
          "languageId": "ocaml"
        }
      },
      "outputs": [],
      "source": [
        "[1; 2; 3] @ [4; 5; 6]"
      ]
    },
    {
      "cell_type": "markdown",
      "metadata": {},
      "source": [
        "Še enkrat lahko vidimo, da smo `@` napisali kot običajno rekurzivno funkcijo, zato je v vzorcih ne moremo uporabiti."
      ]
    },
    {
      "cell_type": "markdown",
      "metadata": {
        "slideshow": {
          "slide_type": "slide"
        }
      },
      "source": [
        "### Zlaganje seznamov"
      ]
    },
    {
      "cell_type": "markdown",
      "metadata": {
        "vscode": {
          "languageId": "ocaml"
        }
      },
      "source": [
        "Ko v OCamlu napišemo nekaj funkcij na seznamih, vidimo, da imajo dostikrat podobno obliko: imajo osnoven primer za prazen seznam ter rekurzivnega za sestavljen seznam. Na primer, vsoto izračunamo kot:"
      ]
    },
    {
      "cell_type": "markdown",
      "metadata": {},
      "source": [
        "```ocaml\n",
        "  vsota [a; b; c]\n",
        "= vsota (a :: b :: c :: [])\n",
        "= a + vsota (b :: c :: [])\n",
        "= a + (b + vsota (c :: []))\n",
        "= a + (b + (c + vsota []))\n",
        "= a + (b + (c + 0))\n",
        "= a + b + c\n",
        "```"
      ]
    },
    {
      "cell_type": "markdown",
      "metadata": {},
      "source": [
        "in definiramo kot:"
      ]
    },
    {
      "cell_type": "code",
      "execution_count": null,
      "metadata": {
        "vscode": {
          "languageId": "ocaml"
        }
      },
      "outputs": [],
      "source": [
        "let rec vsota =\n",
        "  function\n",
        "  | [] -> 0\n",
        "  | glava :: rep -> glava + vsota rep"
      ]
    },
    {
      "cell_type": "markdown",
      "metadata": {},
      "source": [
        "Zmnožek elementov seznama izračunamo kot:"
      ]
    },
    {
      "cell_type": "markdown",
      "metadata": {},
      "source": [
        "```ocaml\n",
        "  zmnozek [a; b; c]\n",
        "= zmnozek (a :: b :: c :: [])\n",
        "= a * zmnozek (b :: c :: [])\n",
        "= a * (b * zmnozek (c :: []))\n",
        "= a * (b * (c * zmnozek []))\n",
        "= a * (b * (c * 1))\n",
        "= a * b * c\n",
        "```"
      ]
    },
    {
      "cell_type": "markdown",
      "metadata": {},
      "source": [
        "in definiramo kot:"
      ]
    },
    {
      "cell_type": "code",
      "execution_count": null,
      "metadata": {
        "vscode": {
          "languageId": "ocaml"
        }
      },
      "outputs": [],
      "source": [
        "let rec zmnozek =\n",
        "  function\n",
        "  | [] -> 1\n",
        "  | glava :: rep -> glava * zmnozek rep"
      ]
    },
    {
      "cell_type": "markdown",
      "metadata": {},
      "source": [
        "Dolžino seznama izračunamo kot:"
      ]
    },
    {
      "cell_type": "markdown",
      "metadata": {},
      "source": [
        "```ocaml\n",
        "  dolzina [a; b; c]\n",
        "= dolzina (a :: b :: c :: [])\n",
        "= 1 + dolzina (b :: c :: [])\n",
        "= 1 + (1 + dolzina (c :: []))\n",
        "= 1 + (1 + (1 + dolzina []))\n",
        "= 1 + (1 + (1 + 0))\n",
        "= 3\n",
        "```"
      ]
    },
    {
      "cell_type": "markdown",
      "metadata": {},
      "source": [
        "in definiramo kot:"
      ]
    },
    {
      "cell_type": "code",
      "execution_count": null,
      "metadata": {
        "vscode": {
          "languageId": "ocaml"
        }
      },
      "outputs": [],
      "source": [
        "let rec dolzina =\n",
        "  function\n",
        "  | [] -> 0\n",
        "  | _ :: rep -> 1 + dolzina rep"
      ]
    },
    {
      "cell_type": "markdown",
      "metadata": {},
      "source": [
        "Slikanje elementov seznama s funkcijo `f` izračunamo kot:"
      ]
    },
    {
      "cell_type": "markdown",
      "metadata": {},
      "source": [
        "\n",
        "```ocaml\n",
        "  map f [a; b; c]\n",
        "= map f (a :: b :: c :: [])\n",
        "= f a :: map f (b :: c :: [])\n",
        "= f a :: (f b :: map f (c :: []))\n",
        "= f a :: (f b :: (f c :: map f []))\n",
        "= f a :: (f b :: (f c :: 1))\n",
        "= [f a; f b; f c]\n",
        "```"
      ]
    },
    {
      "cell_type": "markdown",
      "metadata": {},
      "source": [
        "in definiramo kot:"
      ]
    },
    {
      "cell_type": "code",
      "execution_count": null,
      "metadata": {
        "vscode": {
          "languageId": "ocaml"
        }
      },
      "outputs": [],
      "source": [
        "let rec map f =\n",
        "  function\n",
        "  | [] -> []\n",
        "  | glava :: rep -> f glava :: map f rep"
      ]
    },
    {
      "cell_type": "markdown",
      "metadata": {
        "vscode": {
          "languageId": "ocaml"
        }
      },
      "source": [
        "Splošni vzorec zajame funkcija `fold_right`, ki jo izračunamo kot:"
      ]
    },
    {
      "cell_type": "markdown",
      "metadata": {},
      "source": [
        "```ocaml\n",
        "  fold_right f [a; b; c] z\n",
        "= fold_right f (a :: b :: c :: []) z\n",
        "= f a (fold_right f (b :: c :: []) z)\n",
        "= f a (f b (fold_right f (c :: []) z))\n",
        "= f a (f b (f c (fold_right f [] z)))\n",
        "= f a (f b (f c z))\n",
        "```"
      ]
    },
    {
      "cell_type": "markdown",
      "metadata": {
        "vscode": {
          "languageId": "ocaml"
        }
      },
      "source": [
        "in definiramo kot:"
      ]
    },
    {
      "cell_type": "code",
      "execution_count": null,
      "metadata": {
        "slideshow": {
          "slide_type": "fragment"
        },
        "vscode": {
          "languageId": "ocaml"
        }
      },
      "outputs": [],
      "source": [
        "let rec fold_right f xs z =\n",
        "  match xs with\n",
        "  | [] -> z\n",
        "  | x :: xs -> f x (fold_right f xs z)"
      ]
    },
    {
      "cell_type": "markdown",
      "metadata": {},
      "source": [
        "Funkcija sprejme tri argumente:\n",
        "\n",
        "- seznam `xs`,\n",
        "- vrednost `z`, ki jo funkcija vrne za prazen seznam, ter\n",
        "- funkcijo `f`, s katero glavo seznama zloži s sliko repa.\n",
        "\n",
        "Na primer, vsota praznega seznama je $0$, vsota sestavljenega pa je seštevek glave in vsote repa."
      ]
    },
    {
      "cell_type": "code",
      "execution_count": null,
      "metadata": {
        "slideshow": {
          "slide_type": "fragment"
        },
        "vscode": {
          "languageId": "ocaml"
        }
      },
      "outputs": [],
      "source": [
        "fold_right ( + ) [1; 2; 3; 4] 0"
      ]
    },
    {
      "cell_type": "code",
      "execution_count": null,
      "metadata": {
        "slideshow": {
          "slide_type": "fragment"
        },
        "vscode": {
          "languageId": "ocaml"
        }
      },
      "outputs": [],
      "source": [
        "fold_right ( * ) [1; 2; 3; 4] 1"
      ]
    },
    {
      "cell_type": "markdown",
      "metadata": {
        "vscode": {
          "languageId": "ocaml"
        }
      },
      "source": [
        "Za vajo lahko na enak način izrazite še ostale funkcije `produkt`, `dolzina` in `preslikaj`. Funkcija `zlozi_desno` je seveda zelo uporabna, zato je na voljo tudi v standardni knjižnici in sicer pod imenom `List.fold_right`."
      ]
    },
    {
      "cell_type": "markdown",
      "metadata": {},
      "source": [
        "Ni težko uganiti, da obstaja tudi funkcija, ki elemente zlaga v drugem vrstnem redu:"
      ]
    },
    {
      "cell_type": "markdown",
      "metadata": {},
      "source": [
        "```ocaml\n",
        "  fold_right f [a; b; c] z\n",
        "= fold_right f (a :: b :: c :: []) z\n",
        "= f a (fold_right f (b :: c :: []) z)\n",
        "= f a (f b (fold_right f (c :: []) z))\n",
        "= f a (f b (f c (fold_right f [] z)))\n",
        "= f a (f b (f c z))\n",
        "```"
      ]
    },
    {
      "cell_type": "markdown",
      "metadata": {
        "vscode": {
          "languageId": "ocaml"
        }
      },
      "source": [
        "Definiramo jo kot:"
      ]
    },
    {
      "cell_type": "markdown",
      "metadata": {},
      "source": [
        "```ocaml\n",
        "  fold_left f z [a; b; c]\n",
        "= fold_left f z (a :: b :: c :: [])\n",
        "= fold_left f (f z a) (b :: c :: [])\n",
        "= fold_left f (f (f z a) b) (c :: [])\n",
        "= fold_left f (f (f (f z a) b) c) []\n",
        "= f (f (f z a) b) c\n",
        "```"
      ]
    },
    {
      "cell_type": "markdown",
      "metadata": {},
      "source": [
        "na voljo pa je tudi kot `List.fold_left`."
      ]
    },
    {
      "cell_type": "code",
      "execution_count": null,
      "metadata": {
        "vscode": {
          "languageId": "ocaml"
        }
      },
      "outputs": [],
      "source": [
        "List.fold_left (^) \"X\" [\"A\"; \"B\"; \"C\"]"
      ]
    },
    {
      "cell_type": "code",
      "execution_count": null,
      "metadata": {
        "vscode": {
          "languageId": "ocaml"
        }
      },
      "outputs": [],
      "source": [
        "List.fold_left (+) 0 [10; 20; 30]"
      ]
    },
    {
      "cell_type": "code",
      "execution_count": null,
      "metadata": {
        "vscode": {
          "languageId": "ocaml"
        }
      },
      "outputs": [],
      "source": [
        "List.fold_left (fun xs x -> x :: xs) [] [1; 2; 3]"
      ]
    },
    {
      "cell_type": "markdown",
      "metadata": {},
      "source": [
        "Za funkcije, kjer vrstni red ni pomemben, kot je seštevanje, množenje, združevanje nizov, je bolje uporabiti `fold_left`, saj je ta učinkovitejši."
      ]
    },
    {
      "cell_type": "markdown",
      "metadata": {
        "slideshow": {
          "slide_type": "slide"
        }
      },
      "source": [
        "## Repna rekurzija"
      ]
    },
    {
      "cell_type": "markdown",
      "metadata": {},
      "source": [
        "Rekli smo, da namesto zank v funkcijskem programiranju uporabljamo rekurzivne funkcije. Zato se moramo naučiti, kako take funkcije napišemo učinkovito."
      ]
    },
    {
      "cell_type": "markdown",
      "metadata": {},
      "source": [
        "### Repni klici"
      ]
    },
    {
      "cell_type": "markdown",
      "metadata": {},
      "source": [
        "Pravimo, da je klic funkcije _repen_, če se izvede kot zadnji korak v definiciji funkcije. Najprej si oglejmo nasproten primer: funkcije, ki drugo funkcijo uporabijo v pomožnem izračunu:"
      ]
    },
    {
      "cell_type": "markdown",
      "metadata": {},
      "source": [
        "```ocaml\n",
        "let f x = 4 * x\n",
        "let g x = 6 + f x\n",
        "let h x = 3 * g x\n",
        "```"
      ]
    },
    {
      "cell_type": "markdown",
      "metadata": {},
      "source": [
        "Ker klic funkcije `g` v definiciji funkcije `h` ni repen, morajo funkcija `h` svoje delo (torej množenje s 3) odložiti na sklad (ki smo ga spoznali na začetku predmeta) in počakati na rezultat funkcije `g`, preden lahko nadaljuje z delom. Podobno mora funkcija `g` počakati na funkcijo `f`:"
      ]
    },
    {
      "cell_type": "markdown",
      "metadata": {},
      "source": [
        "```ocaml\n",
        "  h 2                (* h dela *)\n",
        "= 3 * g 2            (* g dela, h čaka *)\n",
        "= 3 * (6 + f 2)      (* f dela, g čaka, h čaka *)\n",
        "= 3 * (6 + (4 * 2))  (* f dela, g čaka, h čaka *)\n",
        "= 3 * (6 + 8)        (* g dela, h čaka *)\n",
        "= 3 * 14             (* h dela *)\n",
        "= 42\n",
        "```"
      ]
    },
    {
      "cell_type": "markdown",
      "metadata": {},
      "source": [
        "Zdaj pa si oglejmo še tri funkcije, v katerih so klici pomožnih funkcij repni:"
      ]
    },
    {
      "cell_type": "markdown",
      "metadata": {},
      "source": [
        "```ocaml\n",
        "let f x = 3 * x\n",
        "let g x = f (6 + x)\n",
        "let h x = g (4 * x)\n",
        "```"
      ]
    },
    {
      "cell_type": "markdown",
      "metadata": {},
      "source": [
        "V tem primeru lahko klicajoča funkcija ob klicu delo v celoti prepusti klicani funkciji, zato ni ničesar potrebno odlagati na sklad:"
      ]
    },
    {
      "cell_type": "markdown",
      "metadata": {},
      "source": [
        "```ocaml\n",
        "  h 2                (* h dela *)\n",
        "= g (4 * 2)          (* h dela *)\n",
        "= g 8                (* g dela *)\n",
        "= f (6 + 8)          (* g dela *)\n",
        "= f 14               (* f dela *)\n",
        "= 3 * 14             (* f dela *)\n",
        "= 42\n",
        "```"
      ]
    },
    {
      "cell_type": "markdown",
      "metadata": {},
      "source": [
        "### Repno rekurzivne funkcije"
      ]
    },
    {
      "cell_type": "markdown",
      "metadata": {},
      "source": [
        "Repni klici so še posebej pomembni pri rekurzivnih funkcijah, pri katerih je število klicev lahko zelo veliko. Poglejmo si trapasto funkcijo, ki svoj argument zmanjšuje za ena ter hkrati povečuje rezultat:"
      ]
    },
    {
      "cell_type": "code",
      "execution_count": null,
      "metadata": {
        "vscode": {
          "languageId": "ocaml"
        }
      },
      "outputs": [],
      "source": [
        "let rec f x =\n",
        "  if x = 0 then 0 else 1 + f (x - 1)"
      ]
    },
    {
      "cell_type": "code",
      "execution_count": null,
      "metadata": {
        "vscode": {
          "languageId": "ocaml"
        }
      },
      "outputs": [],
      "source": [
        "f 3"
      ]
    },
    {
      "cell_type": "markdown",
      "metadata": {},
      "source": [
        "Tudi tu se klici kopičijo na skladu:\n",
        "\n",
        "```ocaml\n",
        "  f 3                  (* f dela *)\n",
        "= 1 + f 2              (* f dela, f čaka *)\n",
        "= 1 + (1 + f 1)        (* f dela, f čaka, f čaka *)\n",
        "= 1 + (1 + (1 + f 0))  (* f dela, f čaka, f čaka, f čaka *)\n",
        "= 1 + (1 + (1 + 0))    (* f dela, f čaka, f čaka *)\n",
        "= 1 + (1 + 1)          (* f dela, f čaka *)\n",
        "= 1 + 2                (* f dela *)\n",
        "= 3\n",
        "```\n",
        "\n",
        "Če bi bil vhodni argument velik, bi to lahko vodilo do _prekoračitve sklada_ (_stack overflow_). Za razliko od drugih jezikov, je v OCamlu dovoljena velikost sklada nastavljena precej visoko, kar je za večino primerov dovolj."
      ]
    },
    {
      "cell_type": "code",
      "execution_count": null,
      "metadata": {
        "vscode": {
          "languageId": "ocaml"
        }
      },
      "outputs": [],
      "source": [
        "f 1000"
      ]
    },
    {
      "cell_type": "code",
      "execution_count": null,
      "metadata": {
        "vscode": {
          "languageId": "ocaml"
        }
      },
      "outputs": [],
      "source": [
        "f 100000"
      ]
    },
    {
      "cell_type": "code",
      "execution_count": null,
      "metadata": {
        "tags": [
          "raises-exception",
          "scroll-output"
        ],
        "vscode": {
          "languageId": "ocaml"
        }
      },
      "outputs": [],
      "source": [
        "f 300000"
      ]
    },
    {
      "cell_type": "markdown",
      "metadata": {
        "vscode": {
          "languageId": "ocaml"
        }
      },
      "source": [
        "Še bolje pa je, da funkcijo napišemo tako, da sklad ne raste. Če je rekurzivni klic funkcije repen, taki funkciji pravimo _repno rekurzivna_.\n",
        "\n",
        "Pri pisanju repno rekurzivnih funkcij si običajno pomagamo s pomožnimi funkcijami, ki imajo dodaten argument, v katerem shranjujejo delno izračunani rezultat. Takemu argumentu dostikrat pravimo _akumulator_ (ker nabira do sedaj izračunani rezultat). Zgornjo funkcijo `f` bi tako prevedli v ekvivalentno, vendar repno rekurzivno funkcijo `f'` kot:"
      ]
    },
    {
      "cell_type": "code",
      "execution_count": null,
      "metadata": {
        "vscode": {
          "languageId": "ocaml"
        }
      },
      "outputs": [],
      "source": [
        "let f' x =\n",
        "  let rec aux acc x =\n",
        "    if x = 0 then acc else aux (acc + 1) (x - 1)\n",
        "  in\n",
        "  aux 0 x"
      ]
    },
    {
      "cell_type": "code",
      "execution_count": null,
      "metadata": {
        "vscode": {
          "languageId": "ocaml"
        }
      },
      "outputs": [],
      "source": [
        "f' 1000"
      ]
    },
    {
      "cell_type": "code",
      "execution_count": null,
      "metadata": {
        "vscode": {
          "languageId": "ocaml"
        }
      },
      "outputs": [],
      "source": [
        "f' 100000000"
      ]
    },
    {
      "cell_type": "markdown",
      "metadata": {},
      "source": [
        "OCaml in tudi drugi funkcijski jeziki repne klice prepoznajo in jih optimizirajo tako, da jih na koncu v strojni kodi prevedejo v običajne skoke. Zato lahko repno rekurzivne funkcije kličemo na poljubno velikih argumentih in z veliko manjšo porabo pomnilnika. Za razliko od OCamla Python repnih klicev ne optimizira, saj zaradi lažjega odpravljanja napak želi ohraniti _traceback_, torej sled klicev, ki je vodila do dane točke v izvajanju:\n",
        "\n",
        "```python\n",
        "def f(x, acc=0):\n",
        "    if x == 0:\n",
        "        return acc\n",
        "    else:\n",
        "        return f(x - 1, acc=acc + 1)\n",
        "```\n",
        "\n",
        "```python\n",
        ">>> f(1000)\n",
        "Traceback (most recent call last):\n",
        "  File \"<stdin>\", line 1, in <module>\n",
        "  File \"<stdin>\", line 5, in f\n",
        "  File \"<stdin>\", line 5, in f\n",
        "  File \"<stdin>\", line 5, in f\n",
        "  [Previous line repeated 996 more times]\n",
        "RecursionError: maximum recursion depth exceeded\n",
        "```"
      ]
    },
    {
      "cell_type": "markdown",
      "metadata": {
        "slideshow": {
          "slide_type": "slide"
        }
      },
      "source": [
        "### Repno rekurzivne funkcije na seznamih"
      ]
    },
    {
      "cell_type": "markdown",
      "metadata": {},
      "source": [
        "Podobno moramo na repno rekurzijo paziti pri funkcijah na seznamih, saj so ti lahko zelo dolgi.\n",
        "Na primer, oglejmo si funkcijo za izračun vsote seznama, ki deluje tako, da izračuna vsoto repa, _po tem_ pa rezultatu prišteje še glavo:"
      ]
    },
    {
      "cell_type": "code",
      "execution_count": null,
      "metadata": {
        "vscode": {
          "languageId": "ocaml"
        }
      },
      "outputs": [],
      "source": [
        "let rec vsota =\n",
        "  function\n",
        "  | [] -> 0\n",
        "  | glava :: rep -> glava + vsota rep"
      ]
    },
    {
      "cell_type": "markdown",
      "metadata": {},
      "source": [
        "Če izračunamo dolžino seznama `[1; 2; 3; 4; ...]`, se bo ob vsakem elementu funkcija rekurzivno poklicala in svoje dotedanje delo odložila na sklad:"
      ]
    },
    {
      "cell_type": "markdown",
      "metadata": {},
      "source": [
        "```ocaml\n",
        "  vsota [1; 2; 3; 4; ...]\n",
        "= 1 + vsota [2; 3; 4; ...]\n",
        "= 1 + (2 + vsota [3; 4; ...])\n",
        "= 1 + (2 + (3 + vsota [4; ...]))\n",
        "= ...\n",
        "```"
      ]
    },
    {
      "cell_type": "markdown",
      "metadata": {},
      "source": [
        "Če funkcijo pokličemo na dovolj dolgem seznamu, bomo spet prekoračili sklad:"
      ]
    },
    {
      "cell_type": "code",
      "execution_count": null,
      "metadata": {
        "vscode": {
          "languageId": "ocaml"
        }
      },
      "outputs": [],
      "source": [
        "vsota (List.init 1000 (fun x -> x))"
      ]
    },
    {
      "cell_type": "code",
      "execution_count": null,
      "metadata": {
        "tags": [
          "raises-exception",
          "scroll-output"
        ],
        "vscode": {
          "languageId": "ocaml"
        }
      },
      "outputs": [],
      "source": [
        "vsota (List.init 1000000 (fun x -> x))"
      ]
    },
    {
      "cell_type": "markdown",
      "metadata": {},
      "source": [
        "Tudi tu si lahko pomagamo tako, da napišemo delno funkcijo z dodatnim argumentom, v katerem si podaja vsoto do sedaj pregledanih elementov."
      ]
    },
    {
      "cell_type": "code",
      "execution_count": null,
      "metadata": {
        "vscode": {
          "languageId": "ocaml"
        }
      },
      "outputs": [],
      "source": [
        "let rec vsota' sez =\n",
        "  let rec aux delna_vsota =\n",
        "    function\n",
        "    | [] -> delna_vsota\n",
        "    | glava :: rep -> aux (delna_vsota + glava) rep\n",
        "  in\n",
        "  aux 0 sez"
      ]
    },
    {
      "cell_type": "markdown",
      "metadata": {},
      "source": [
        "```ocaml\n",
        "  vsota' [1; 2; 3; 4; ...]\n",
        "= aux 0 [1; 2; 3; 4; ...]\n",
        "= aux (0 + 1) [2; 3; 4; ...]\n",
        "= aux 1 [2; 3; 4; ...]\n",
        "= aux (1 + 2) [3; 4; ...]\n",
        "= aux 3 [3; 4; ...]\n",
        "= aux (3 + 3) [4; ...]\n",
        "= aux 6 [4; ...]\n",
        "= ...\n",
        "```"
      ]
    },
    {
      "cell_type": "markdown",
      "metadata": {},
      "source": [
        "Kot vidimo, vsoto računamo sproti, zato sklad ne raste. Na ta način lahko brez težav seštejemo tudi zelo dolge sezname:"
      ]
    },
    {
      "cell_type": "code",
      "execution_count": null,
      "metadata": {
        "vscode": {
          "languageId": "ocaml"
        }
      },
      "outputs": [],
      "source": [
        "vsota' (List.init 1000000 (fun x -> x))"
      ]
    },
    {
      "cell_type": "markdown",
      "metadata": {},
      "source": [
        "Podobno lahko prepišemo tudi druge funkcije. Na primer, pri računanju dolžine seznama bi si v akumulatorju nabirali do sedaj preštete elemente, za začetno vrednost akumulatorja pa bi si izbrali 0:"
      ]
    },
    {
      "cell_type": "code",
      "execution_count": null,
      "metadata": {
        "vscode": {
          "languageId": "ocaml"
        }
      },
      "outputs": [],
      "source": [
        "let rec dolzina =\n",
        "  function\n",
        "  | [] -> 0\n",
        "  | _ :: rep -> 1 + dolzina rep  "
      ]
    },
    {
      "cell_type": "code",
      "execution_count": null,
      "metadata": {
        "slideshow": {
          "slide_type": "fragment"
        },
        "vscode": {
          "languageId": "ocaml"
        }
      },
      "outputs": [],
      "source": [
        "let dolzina' seznam =\n",
        "  let rec aux acc =\n",
        "    function\n",
        "    | [] -> acc\n",
        "    | _ :: rep -> aux (acc + 1) rep\n",
        "  in\n",
        "  aux 0 seznam"
      ]
    },
    {
      "cell_type": "code",
      "execution_count": null,
      "metadata": {
        "vscode": {
          "languageId": "ocaml"
        }
      },
      "outputs": [],
      "source": [
        "dolzina' [1; 2; 3; 4; 1]"
      ]
    },
    {
      "cell_type": "code",
      "execution_count": null,
      "metadata": {
        "slideshow": {
          "slide_type": "fragment"
        },
        "vscode": {
          "languageId": "ocaml"
        }
      },
      "outputs": [],
      "source": [
        "dolzina [1; 2; 3; 4]"
      ]
    },
    {
      "cell_type": "markdown",
      "metadata": {},
      "source": [
        "Pri funkciji `map` bi si nabirali že preslikane elemente, začeli pa bi s praznim seznamom:"
      ]
    },
    {
      "cell_type": "code",
      "execution_count": null,
      "metadata": {
        "vscode": {
          "languageId": "ocaml"
        }
      },
      "outputs": [],
      "source": [
        "let rec map f =\n",
        "  function\n",
        "  | [] -> []\n",
        "  | glava :: rep -> f glava :: map f rep"
      ]
    },
    {
      "cell_type": "code",
      "execution_count": null,
      "metadata": {
        "slideshow": {
          "slide_type": "fragment"
        },
        "vscode": {
          "languageId": "ocaml"
        }
      },
      "outputs": [],
      "source": [
        "let map' f seznam =\n",
        "  let rec aux acc =\n",
        "    function\n",
        "    | [] -> List.rev acc\n",
        "    | glava :: rep -> aux (f glava :: acc) rep\n",
        "  in\n",
        "  aux [] seznam"
      ]
    },
    {
      "cell_type": "code",
      "execution_count": null,
      "metadata": {
        "slideshow": {
          "slide_type": "fragment"
        },
        "vscode": {
          "languageId": "ocaml"
        }
      },
      "outputs": [],
      "source": [
        "map' (fun x -> 10 * x) [1; 2; 3; 4]"
      ]
    },
    {
      "cell_type": "markdown",
      "metadata": {},
      "source": [
        "Tu moramo biti pozorni, da na koncu akumulator obrnemo na glavo, saj smo ga začeli sestavljati s prvim elementom, ki je tako končal na zadnjem mestu."
      ]
    },
    {
      "cell_type": "markdown",
      "metadata": {},
      "source": [
        "Nekatere funkcije na seznamih, na primer `fold_left`, so že naravno repno rekurzivne:\n",
        "\n",
        "```ocaml\n",
        "  fold_left f z [1; 10; 100]\n",
        "= fold_left f z (1 :: 10 :: 100 :: [])\n",
        "= fold_left f (f z 1) (10 :: 100 :: [])\n",
        "= fold_left f (f (f z 1) 10) (100 :: [])\n",
        "= fold_left f (f (f (f z 1) 10) 100) []\n",
        "= f (f (f z 1) 10) 100\n",
        "```"
      ]
    },
    {
      "cell_type": "markdown",
      "metadata": {},
      "source": [
        "Medtem funkcija `fold_right` ni repno rekurzivna:\n",
        "```ocaml\n",
        "  fold_right f [1; 10; 100] z\n",
        "= fold_right f (1 :: 10 :: 100 :: []) z\n",
        "= f 1 (fold_right f (10 :: 100 :: []) z)\n",
        "= f 1 (f 10 (fold_right f (100 :: []) z))\n",
        "= f 1 (f 10 (f 100 (fold_right f [] z)))\n",
        "= f 1 (f 10 (f 100 z))\n",
        "```"
      ]
    },
    {
      "cell_type": "markdown",
      "metadata": {},
      "source": [
        "## Vaje"
      ]
    },
    {
      "cell_type": "markdown",
      "metadata": {},
      "source": [
        "Napišite spodaj opisane funkcije, ne da bi uporabljali funkcije iz standardne knjižnice. Kjer to kažejo primeri, napišite tudi repno rekurzivne različice z imenom `ime_funkcije_tlrec`."
      ]
    },
    {
      "cell_type": "markdown",
      "metadata": {},
      "source": [
        "### Funkcija `reverse`"
      ]
    },
    {
      "cell_type": "markdown",
      "metadata": {},
      "source": [
        "Definirajte pomožno funkcijo za obračanje seznamov. Funkcija naj bo repno rekurzivna."
      ]
    },
    {
      "cell_type": "code",
      "execution_count": null,
      "metadata": {
        "tags": [
          "solution",
          "remove-stdout",
          "remove-cell"
        ],
        "vscode": {
          "languageId": "ocaml"
        }
      },
      "outputs": [],
      "source": [
        "let reverse lst =\n",
        "  let rec reverse_aux acc = function\n",
        "    | [] -> acc\n",
        "    | x :: xs -> reverse_aux (x :: acc) xs\n",
        "  in reverse_aux [] lst\n"
      ]
    },
    {
      "cell_type": "markdown",
      "metadata": {},
      "source": [
        "### Funkcija `repeat`"
      ]
    },
    {
      "cell_type": "markdown",
      "metadata": {},
      "source": [
        "Funkcija `repeat x n` vrne seznam `n` ponovitev vrednosti `x`. Za neprimerne\n",
        " vrednosti `n` funkcija vrne prazen seznam."
      ]
    },
    {
      "cell_type": "code",
      "execution_count": null,
      "metadata": {
        "tags": [
          "solution",
          "remove-stdout",
          "remove-cell"
        ],
        "vscode": {
          "languageId": "ocaml"
        }
      },
      "outputs": [],
      "source": [
        "let rec repeat x n = if n <= 0 then [] else x :: (repeat x (n-1))"
      ]
    },
    {
      "cell_type": "code",
      "execution_count": null,
      "metadata": {
        "vscode": {
          "languageId": "ocaml"
        }
      },
      "outputs": [],
      "source": [
        "let primer_repeat_1 = repeat \"A\" 5"
      ]
    },
    {
      "cell_type": "code",
      "execution_count": null,
      "metadata": {
        "vscode": {
          "languageId": "ocaml"
        }
      },
      "outputs": [],
      "source": [
        "let primer_repeat_2 = repeat \"A\" (-2)"
      ]
    },
    {
      "cell_type": "markdown",
      "metadata": {},
      "source": [
        "### Funkcija `range`"
      ]
    },
    {
      "cell_type": "markdown",
      "metadata": {},
      "source": [
        "Funkcija `range` naj sprejme število in vrne seznam vseh celih števil od 0 do vključno danega števila. Za neprimerne argumente naj funkcija vrne prazen seznam. Funkcija naj bo repno rekurzivna. Pri tem ne smete uporabiti vgrajene funkcije `List.init`."
      ]
    },
    {
      "cell_type": "code",
      "execution_count": null,
      "metadata": {
        "tags": [
          "solution",
          "remove-stdout",
          "remove-cell"
        ],
        "vscode": {
          "languageId": "ocaml"
        }
      },
      "outputs": [],
      "source": [
        "let range_not_tailrec n =\n",
        "  let rec range_from m =\n",
        "    if m > n\n",
        "    then []\n",
        "    else m :: (range_from (m + 1))\n",
        "  in range_from 0\n",
        "\n",
        "let range n =\n",
        "   let rec range_aux n acc =\n",
        "     if n < 0 then acc else range_aux (n - 1) (n :: acc)\n",
        "   in\n",
        "   range_aux n []"
      ]
    },
    {
      "cell_type": "code",
      "execution_count": null,
      "metadata": {
        "vscode": {
          "languageId": "ocaml"
        }
      },
      "outputs": [],
      "source": [
        "let primer_range = range 10"
      ]
    },
    {
      "cell_type": "markdown",
      "metadata": {},
      "source": [
        "### Funkcija `map`"
      ]
    },
    {
      "cell_type": "markdown",
      "metadata": {},
      "source": [
        "Funkcija `map f list` naj sprejme seznam `list` oblike `x0; x1; x2; ...` in funkcijo `f` ter vrne seznam preslikanih vrednosti, torej `f x0; f x1; f x2; ...`. Pri tem ne smete uporabiti vgrajene funkcije `List.map`."
      ]
    },
    {
      "cell_type": "code",
      "execution_count": null,
      "metadata": {
        "tags": [
          "solution",
          "remove-stdout",
          "remove-cell"
        ],
        "vscode": {
          "languageId": "ocaml"
        }
      },
      "outputs": [],
      "source": [
        "let rec map f = function\n",
        "  | [] -> []\n",
        "  | x :: xs -> f x :: (map f xs)"
      ]
    },
    {
      "cell_type": "code",
      "execution_count": null,
      "metadata": {
        "vscode": {
          "languageId": "ocaml"
        }
      },
      "outputs": [],
      "source": [
        "let primer_map_1 =\n",
        "  let plus_two = (+) 2 in\n",
        "  map plus_two [0; 1; 2; 3; 4]"
      ]
    },
    {
      "cell_type": "markdown",
      "metadata": {},
      "source": [
        "Napišite še funkcijo `map_tlrec`, ki naj bo repno rekurzivna različica funkcije `map`."
      ]
    },
    {
      "cell_type": "code",
      "execution_count": null,
      "metadata": {
        "tags": [
          "solution",
          "remove-stdout",
          "remove-cell"
        ],
        "vscode": {
          "languageId": "ocaml"
        }
      },
      "outputs": [],
      "source": [
        "let map_tlrec f list =\n",
        "  let rec map_aux list acc =\n",
        "    match list with\n",
        "    | [] -> reverse acc\n",
        "    | x :: xs -> map_aux xs (f x :: acc)\n",
        "  in\n",
        "  map_aux list []"
      ]
    },
    {
      "cell_type": "code",
      "execution_count": null,
      "metadata": {
        "vscode": {
          "languageId": "ocaml"
        }
      },
      "outputs": [],
      "source": [
        "let primer_map_2 =\n",
        "  let plus_two = (+) 2 in\n",
        "  map_tlrec plus_two [0; 1; 2; 3; 4]"
      ]
    },
    {
      "cell_type": "markdown",
      "metadata": {},
      "source": [
        "### Funkcija `mapi`"
      ]
    },
    {
      "cell_type": "markdown",
      "metadata": {},
      "source": [
        "Funkcija `mapi` naj bo ekvivalentna Python kodi:\n",
        "\n",
        "```python\n",
        "def mapi(f, lst):\n",
        "    mapi_lst = []\n",
        "    index = 0\n",
        "    for x in lst:\n",
        "        mapi_lst.append(f(index, x))\n",
        "        index += 1\n",
        "    return mapi_lst\n",
        "```\n",
        "\n",
        "Pri tem ne smete uporabiti vgrajene funkcije `List.mapi`."
      ]
    },
    {
      "cell_type": "code",
      "execution_count": null,
      "metadata": {
        "tags": [
          "solution",
          "remove-stdout",
          "remove-cell"
        ],
        "vscode": {
          "languageId": "ocaml"
        }
      },
      "outputs": [],
      "source": [
        "let mapi f lst =\n",
        "  let rec mapi_aux i =\n",
        "    function\n",
        "    | [] -> []\n",
        "    | x :: xs -> (f i x) :: (mapi_aux (succ i) xs)\n",
        "  in\n",
        "  mapi_aux 0 lst"
      ]
    },
    {
      "cell_type": "code",
      "execution_count": null,
      "metadata": {
        "vscode": {
          "languageId": "ocaml"
        }
      },
      "outputs": [],
      "source": [
        "let primer_mapi = mapi (+) [0; 0; 0; 2; 2; 2]"
      ]
    },
    {
      "cell_type": "markdown",
      "metadata": {},
      "source": [
        "### Funkcija `zip`"
      ]
    },
    {
      "cell_type": "markdown",
      "metadata": {},
      "source": [
        "Funkcija `zip` naj sprejme dva seznama in vrne seznam parov istoležnih elementov podanih seznamov. Če seznama nista enake dolžine, naj vrne napako. Pri tem ne smete uporabiti vgrajene funkcije `List.combine`."
      ]
    },
    {
      "cell_type": "code",
      "execution_count": null,
      "metadata": {
        "tags": [
          "solution",
          "remove-stdout",
          "remove-cell"
        ],
        "vscode": {
          "languageId": "ocaml"
        }
      },
      "outputs": [],
      "source": [
        "let rec zip list1 list2 =\n",
        "  match list1, list2 with\n",
        "  | [], [] -> []\n",
        "  | _, [] | [], _ -> failwith \"Different lengths of input lists.\"\n",
        "  | x :: xs, y :: ys -> (x, y) :: (zip xs ys)"
      ]
    },
    {
      "cell_type": "code",
      "execution_count": null,
      "metadata": {
        "vscode": {
          "languageId": "ocaml"
        }
      },
      "outputs": [],
      "source": [
        "let primer_zip_1 = zip [1; 1; 1; 1] [0; 1; 2; 3]"
      ]
    },
    {
      "cell_type": "code",
      "execution_count": null,
      "metadata": {
        "tags": [
          "raises-exception"
        ],
        "vscode": {
          "languageId": "ocaml"
        }
      },
      "outputs": [],
      "source": [
        "let primer_zip_2 = zip [1; 1; 1; 1] [1; 2; 3; 4; 5]"
      ]
    },
    {
      "cell_type": "markdown",
      "metadata": {},
      "source": [
        "### Funkcija `unzip`"
      ]
    },
    {
      "cell_type": "markdown",
      "metadata": {},
      "source": [
        "Funkcija `unzip` je inverz funkcije `zip`, torej sprejme seznam parov\n",
        " `(x0, y0); (x1, y1); ...` in vrne par seznamov (`x0; x1; ...`, `y0; y1; ...`).\n",
        " Pri tem ne smete uporabiti vgrajene funkcije `List.split`."
      ]
    },
    {
      "cell_type": "code",
      "execution_count": null,
      "metadata": {
        "tags": [
          "solution",
          "remove-stdout",
          "remove-cell"
        ],
        "vscode": {
          "languageId": "ocaml"
        }
      },
      "outputs": [],
      "source": [
        "let rec unzip = function\n",
        "  | [] -> ([], [])\n",
        "  | (x, y) :: tl -> let (list1, list2) = unzip tl in (x :: list1, y :: list2)"
      ]
    },
    {
      "cell_type": "code",
      "execution_count": null,
      "metadata": {
        "vscode": {
          "languageId": "ocaml"
        }
      },
      "outputs": [],
      "source": [
        "let primer_unzip_1 = unzip [(0,\"a\"); (1,\"b\"); (2,\"c\")]"
      ]
    },
    {
      "cell_type": "markdown",
      "metadata": {},
      "source": [
        "Funkcija `unzip_tlrec` je repno rekurzivna različica funkcije `unzip`."
      ]
    },
    {
      "cell_type": "code",
      "execution_count": null,
      "metadata": {
        "tags": [
          "solution",
          "remove-stdout",
          "remove-cell"
        ],
        "vscode": {
          "languageId": "ocaml"
        }
      },
      "outputs": [],
      "source": [
        "let unzip_tlrec list =\n",
        "  let rec unzip_aux list acc1 acc2 =\n",
        "    match list with\n",
        "    | [] -> (reverse acc1, reverse acc2)\n",
        "    | (x, y) :: tl -> unzip_aux tl (x :: acc1) (y :: acc2)\n",
        "  in\n",
        "  unzip_aux list [] []"
      ]
    },
    {
      "cell_type": "code",
      "execution_count": null,
      "metadata": {
        "vscode": {
          "languageId": "ocaml"
        }
      },
      "outputs": [],
      "source": [
        "let primer_unzip_2 = unzip_tlrec [(0,\"a\"); (1,\"b\"); (2,\"c\")]"
      ]
    },
    {
      "cell_type": "markdown",
      "metadata": {},
      "source": [
        "### Zanke"
      ]
    },
    {
      "cell_type": "markdown",
      "metadata": {},
      "source": [
        "Funkcija `loop condition f x` naj se izvede kot python koda:\n",
        "\n",
        "```python\n",
        "def loop(condition, f, x):\n",
        "    while condition(x):\n",
        "        x = f(x)\n",
        "    return x\n",
        "```"
      ]
    },
    {
      "cell_type": "code",
      "execution_count": null,
      "metadata": {
        "tags": [
          "solution",
          "remove-stdout",
          "remove-cell"
        ],
        "vscode": {
          "languageId": "ocaml"
        }
      },
      "outputs": [],
      "source": [
        "let rec loop condition f x =\n",
        "  if condition x then loop condition f (f x) else x\n",
        "\n",
        "(* Da se podobnost vidi bolje lahko zapišemo kot: *)\n",
        "\n",
        "let rec loop condition f x =\n",
        "  if condition x then\n",
        "    (* Izvedemo telo zanke. *)\n",
        "    let x = f x in\n",
        "    (* Ponovno izvedemo zanko. *)\n",
        "    loop condition f x\n",
        "  else\n",
        "    (* Pogoj zanke ni izpolnjen, zato vrnemo vrednost. *)\n",
        "    x"
      ]
    },
    {
      "cell_type": "code",
      "execution_count": null,
      "metadata": {
        "vscode": {
          "languageId": "ocaml"
        }
      },
      "outputs": [],
      "source": [
        "let primer_loop = loop (fun x -> x < 10) ((+) 4) 4"
      ]
    },
    {
      "cell_type": "markdown",
      "metadata": {},
      "source": [
        "### Funkcija `fold_left`"
      ]
    },
    {
      "cell_type": "markdown",
      "metadata": {},
      "source": [
        "Funkcija `fold_left_no_acc f list` naj sprejme seznam `x0; x1; ...; xn` in funkcijo dveh argumentov `f` in vrne vrednost izračuna `f(... (f (f x0 x1) x2) ... xn)`. V primeru seznama z manj kot dvema elementoma naj vrne napako."
      ]
    },
    {
      "cell_type": "code",
      "execution_count": null,
      "metadata": {
        "tags": [
          "solution",
          "remove-stdout",
          "remove-cell"
        ],
        "vscode": {
          "languageId": "ocaml"
        }
      },
      "outputs": [],
      "source": [
        "let rec fold_left_no_acc f = function\n",
        "  | [] | _ :: [] -> failwith \"List too short.\"\n",
        "  | x :: y :: [] -> f x y\n",
        "  | x :: y :: tl -> fold_left_no_acc f ((f x y) :: tl)\n"
      ]
    },
    {
      "cell_type": "code",
      "execution_count": null,
      "metadata": {
        "vscode": {
          "languageId": "ocaml"
        }
      },
      "outputs": [],
      "source": [
        "let primer_fold_left_no_acc =\n",
        "  fold_left_no_acc (^) [\"F\"; \"I\"; \"C\"; \"U\"; \"S\"]"
      ]
    },
    {
      "cell_type": "markdown",
      "metadata": {},
      "source": [
        "### Funkcija `apply_sequence`"
      ]
    },
    {
      "cell_type": "markdown",
      "metadata": {},
      "source": [
        "Funkcija `apply_sequence f x n` naj vrne seznam zaporednih uporab funkcije `f` na vrednosti `x` do vključno `n`-te uporabe, torej `[x; f x; f (f x); ...; fⁿ x]`. Funkcija naj bo repno rekurzivna."
      ]
    },
    {
      "cell_type": "code",
      "execution_count": null,
      "metadata": {
        "tags": [
          "solution",
          "remove-stdout",
          "remove-cell"
        ],
        "vscode": {
          "languageId": "ocaml"
        }
      },
      "outputs": [],
      "source": [
        "let apply_sequence f x n =\n",
        "  let rec apply_aux f x n acc =\n",
        "    if n < 0 then\n",
        "      reverse acc\n",
        "    else\n",
        "      apply_aux f (f x) (n - 1) (x :: acc)\n",
        "  in\n",
        "  apply_aux f x n []"
      ]
    },
    {
      "cell_type": "code",
      "execution_count": null,
      "metadata": {
        "vscode": {
          "languageId": "ocaml"
        }
      },
      "outputs": [],
      "source": [
        "let primer_apply_sequence_1 = apply_sequence (fun x -> x * x) 2 5"
      ]
    },
    {
      "cell_type": "code",
      "execution_count": null,
      "metadata": {
        "vscode": {
          "languageId": "ocaml"
        }
      },
      "outputs": [],
      "source": [
        "let primer_apply_sequence_2 = apply_sequence (fun x -> x * x) 2 (-5)"
      ]
    },
    {
      "cell_type": "markdown",
      "metadata": {},
      "source": [
        "### Funkcija `filter`"
      ]
    },
    {
      "cell_type": "markdown",
      "metadata": {},
      "source": [
        "Funkcija `filter f list` vrne seznam elementov `list`, pri katerih funkcija `f`\n",
        " vrne vrednost `true`.\n",
        " Pri tem ne smete uporabiti vgrajene funkcije `List.filter`."
      ]
    },
    {
      "cell_type": "code",
      "execution_count": null,
      "metadata": {
        "tags": [
          "solution",
          "remove-stdout",
          "remove-cell"
        ],
        "vscode": {
          "languageId": "ocaml"
        }
      },
      "outputs": [],
      "source": [
        "let rec filter f = function\n",
        "  | [] -> []\n",
        "  | x :: xs -> if f x then x :: (filter f xs) else filter f xs"
      ]
    },
    {
      "cell_type": "code",
      "execution_count": null,
      "metadata": {
        "vscode": {
          "languageId": "ocaml"
        }
      },
      "outputs": [],
      "source": [
        "let primer_filter = filter ((<)3) [0; 1; 2; 3; 4; 5]"
      ]
    },
    {
      "cell_type": "markdown",
      "metadata": {},
      "source": [
        "### Funkcija `exists`"
      ]
    },
    {
      "cell_type": "markdown",
      "metadata": {},
      "source": [
        "Funkcija `exists` sprejme seznam in funkcijo, ter vrne vrednost `true` čim\n",
        " obstaja element seznama, za katerega funkcija vrne `true` in `false` sicer.\n",
        " Funkcija je repno rekurzivna.\n",
        " Pri tem ne smete uporabiti vgrajene funkcije `List.find` ali podobnih."
      ]
    },
    {
      "cell_type": "code",
      "execution_count": null,
      "metadata": {
        "tags": [
          "solution",
          "remove-stdout",
          "remove-cell"
        ],
        "vscode": {
          "languageId": "ocaml"
        }
      },
      "outputs": [],
      "source": [
        "let rec exists f = function\n",
        "  | [] -> false\n",
        "  | x :: xs -> if f x then true else exists f xs"
      ]
    },
    {
      "cell_type": "code",
      "execution_count": null,
      "metadata": {
        "vscode": {
          "languageId": "ocaml"
        }
      },
      "outputs": [],
      "source": [
        "let primer_exists_1 = exists ((<) 3) [0; 1; 2; 3; 4; 5]"
      ]
    },
    {
      "cell_type": "code",
      "execution_count": null,
      "metadata": {
        "vscode": {
          "languageId": "ocaml"
        }
      },
      "outputs": [],
      "source": [
        "let primer_exists_2 = exists ((<) 8) [0; 1; 2; 3; 4; 5]"
      ]
    },
    {
      "cell_type": "markdown",
      "metadata": {},
      "source": [
        "### Funkcija `first`"
      ]
    },
    {
      "cell_type": "markdown",
      "metadata": {},
      "source": [
        "Funkcija `first f default list` vrne prvi element seznama, za katerega\n",
        " funkcija `f` vrne `true`. Če takšnega elementa ni, vrne `default`.\n",
        " Funkcija je repno rekurzivna.\n",
        " Pri tem ne smete uporabiti vgrajene funkcije `List.find` ali podobnih."
      ]
    },
    {
      "cell_type": "code",
      "execution_count": null,
      "metadata": {
        "tags": [
          "solution",
          "remove-stdout",
          "remove-cell"
        ],
        "vscode": {
          "languageId": "ocaml"
        }
      },
      "outputs": [],
      "source": [
        "let rec first f default = function\n",
        "  | [] -> default\n",
        "  | x :: xs -> if f x then x else first f default xs"
      ]
    },
    {
      "cell_type": "code",
      "execution_count": null,
      "metadata": {
        "vscode": {
          "languageId": "ocaml"
        }
      },
      "outputs": [],
      "source": [
        "let primer_first_1 = first ((<) 3) 0 [1; 1; 2; 3; 5; 8]"
      ]
    },
    {
      "cell_type": "code",
      "execution_count": null,
      "metadata": {
        "vscode": {
          "languageId": "ocaml"
        }
      },
      "outputs": [],
      "source": [
        "let primer_first_2 = first ((<) 8) 0 [1; 1; 2; 3; 5; 8]"
      ]
    }
  ],
  "metadata": {
    "celltoolbar": "Slideshow",
    "kernelspec": {
      "display_name": "OCaml 4.14",
      "language": "OCaml",
      "name": "ocaml-jupyter"
    },
    "language_info": {
      "codemirror_mode": "text/x-ocaml",
      "file_extension": ".ml",
      "mimetype": "text/x-ocaml",
      "name": "OCaml",
      "nbconverter_exporter": null,
      "pygments_lexer": "OCaml",
      "version": "4.14.2"
    }
  },
  "nbformat": 4,
  "nbformat_minor": 2
}
