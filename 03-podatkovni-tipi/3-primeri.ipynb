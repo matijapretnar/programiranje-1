{
 "cells": [
  {
   "cell_type": "markdown",
   "metadata": {},
   "source": [
    "# Podatkovni tipi"
   ]
  },
  {
   "cell_type": "markdown",
   "metadata": {},
   "source": [
    "## Okrajšave"
   ]
  },
  {
   "cell_type": "code",
   "execution_count": 2,
   "metadata": {
    "vscode": {
     "languageId": "ocaml"
    }
   },
   "outputs": [
    {
     "data": {
      "text/plain": [
       "val ( ++ ) :\n",
       "  float * float * float -> float * float * float -> float * float * float =\n",
       "  <fun>\n"
      ]
     },
     "execution_count": 2,
     "metadata": {},
     "output_type": "execute_result"
    }
   ],
   "source": [
    "let ( ++ ) (x1, y1, z1) (x2, y2, z2) = (x1 +. x2, y1 +. y2, z1 +. z2)"
   ]
  },
  {
   "cell_type": "code",
   "execution_count": 3,
   "metadata": {
    "vscode": {
     "languageId": "ocaml"
    }
   },
   "outputs": [
    {
     "data": {
      "text/plain": [
       "type r3 = float * float * float\n"
      ]
     },
     "execution_count": 3,
     "metadata": {},
     "output_type": "execute_result"
    }
   ],
   "source": [
    "type r3 = float * float * float"
   ]
  },
  {
   "cell_type": "code",
   "execution_count": 4,
   "metadata": {
    "vscode": {
     "languageId": "ocaml"
    }
   },
   "outputs": [
    {
     "data": {
      "text/plain": [
       "val ( ++ ) :\n",
       "  float * float * float -> float * float * float -> float * float * float =\n",
       "  <fun>\n"
      ]
     },
     "execution_count": 4,
     "metadata": {},
     "output_type": "execute_result"
    }
   ],
   "source": [
    "let ( ++ ) (x1, y1, z1) (x2, y2, z2) = (x1 +. x2, y1 +. y2, z1 +. z2)"
   ]
  },
  {
   "cell_type": "code",
   "execution_count": 5,
   "metadata": {
    "vscode": {
     "languageId": "ocaml"
    }
   },
   "outputs": [
    {
     "data": {
      "text/plain": [
       "val ( ++ ) : float * float * float -> float * float * float -> r3 = <fun>\n"
      ]
     },
     "execution_count": 5,
     "metadata": {},
     "output_type": "execute_result"
    }
   ],
   "source": [
    "let ( ++ ) (x1, y1, z1) (x2, y2, z2) = ((x1 +. x2, y1 +. y2, z1 +. z2) : r3)"
   ]
  },
  {
   "cell_type": "code",
   "execution_count": 5,
   "metadata": {
    "vscode": {
     "languageId": "ocaml"
    }
   },
   "outputs": [
    {
     "data": {
      "text/plain": [
       "val ( ++ ) : r3 -> float * float * float -> r3 = <fun>\n"
      ]
     },
     "execution_count": 5,
     "metadata": {},
     "output_type": "execute_result"
    }
   ],
   "source": [
    "let ( ++ ) ((x1, y1, z1) : r3) (x2, y2, z2) = ((x1 +. x2, y1 +. y2, z1 +. z2) : r3)"
   ]
  },
  {
   "cell_type": "code",
   "execution_count": 6,
   "metadata": {
    "vscode": {
     "languageId": "ocaml"
    }
   },
   "outputs": [
    {
     "data": {
      "text/plain": [
       "val ( ++ ) : r3 -> r3 -> r3 = <fun>\n"
      ]
     },
     "execution_count": 6,
     "metadata": {},
     "output_type": "execute_result"
    }
   ],
   "source": [
    "let ( ++ ) ((x1, y1, z1) : r3) ((x2, y2, z2) : r3) = ((x1 +. x2, y1 +. y2, z1 +. z2) : r3)"
   ]
  },
  {
   "cell_type": "markdown",
   "metadata": {},
   "source": [
    "Lahko definiramo nove tipe in pri definiranju funkcije naštejemo kašen je tip parametrov in outputa. Še 2 načina, kako lahko to alternativno napišemo:"
   ]
  },
  {
   "cell_type": "code",
   "execution_count": 7,
   "metadata": {
    "vscode": {
     "languageId": "ocaml"
    }
   },
   "outputs": [
    {
     "data": {
      "text/plain": [
       "val ( ++ ) : r3 -> r3 -> r3 = <fun>\n"
      ]
     },
     "execution_count": 7,
     "metadata": {},
     "output_type": "execute_result"
    }
   ],
   "source": [
    "let ( ++ ) ((x1, y1, z1) : r3) ((x2, y2, z2) : r3) : r3 = (x1 +. x2, y1 +. y2, z1 +. z2)"
   ]
  },
  {
   "cell_type": "code",
   "execution_count": 8,
   "metadata": {
    "vscode": {
     "languageId": "ocaml"
    }
   },
   "outputs": [
    {
     "data": {
      "text/plain": [
       "val ( ++ ) : r3 -> r3 -> r3 = <fun>\n"
      ]
     },
     "execution_count": 8,
     "metadata": {},
     "output_type": "execute_result"
    }
   ],
   "source": [
    "let ( ++ ) : r3 -> r3 -> r3 = fun (x1, y1, z1) (x2, y2, z2) -> (x1 +. x2, y1 +. y2, z1 +. z2)"
   ]
  },
  {
   "cell_type": "markdown",
   "metadata": {
    "vscode": {
     "languageId": "ocaml"
    }
   },
   "source": [
    "## Zapisi"
   ]
  },
  {
   "cell_type": "markdown",
   "metadata": {},
   "source": [
    "Primer s kompleksnimi funkcijami, oz. s kompleksnim tipom"
   ]
  },
  {
   "cell_type": "code",
   "execution_count": 7,
   "metadata": {
    "vscode": {
     "languageId": "ocaml"
    }
   },
   "outputs": [
    {
     "data": {
      "text/plain": [
       "type complex = float * float\n"
      ]
     },
     "execution_count": 7,
     "metadata": {},
     "output_type": "execute_result"
    }
   ],
   "source": [
    "type complex = float * float"
   ]
  },
  {
   "cell_type": "markdown",
   "metadata": {},
   "source": [
    "lahko določimo svoj tip tako, da poimenujemo neko kombinacijo že določenih tipov"
   ]
  },
  {
   "cell_type": "code",
   "execution_count": 8,
   "metadata": {
    "vscode": {
     "languageId": "ocaml"
    }
   },
   "outputs": [
    {
     "data": {
      "text/plain": [
       "val conj : complex -> complex = <fun>\n"
      ]
     },
     "execution_count": 8,
     "metadata": {},
     "output_type": "execute_result"
    }
   ],
   "source": [
    "let conj : complex -> complex =\n",
    "  fun (x, y) -> (x, -.y)"
   ]
  },
  {
   "cell_type": "code",
   "execution_count": 9,
   "metadata": {
    "vscode": {
     "languageId": "ocaml"
    }
   },
   "outputs": [
    {
     "data": {
      "text/plain": [
       "val abs : complex -> float = <fun>\n"
      ]
     },
     "execution_count": 9,
     "metadata": {},
     "output_type": "execute_result"
    }
   ],
   "source": [
    "let abs : complex -> float =\n",
    "  fun (x, y) -> sqrt (x *. x +. y *. y)"
   ]
  },
  {
   "cell_type": "markdown",
   "metadata": {},
   "source": [
    "Če hočemo bolj natančno opisat nove tipe, jim je smiselno poimenovati komponente/ lastnosti. To naredimo z zavitimi oklepaji. Z njimi dostopamo do nekih lastnosti, ki jih shrani tip, ki smo ga definirali.\n",
    "\n",
    "Formalno ime za lastnost je polje."
   ]
  },
  {
   "cell_type": "code",
   "execution_count": 2,
   "metadata": {
    "vscode": {
     "languageId": "ocaml"
    }
   },
   "outputs": [
    {
     "data": {
      "text/plain": [
       "type complex = { re : float; im : float; }\n"
      ]
     },
     "execution_count": 2,
     "metadata": {},
     "output_type": "execute_result"
    }
   ],
   "source": [
    "type complex = {\n",
    "  re : float;\n",
    "  im : float;\n",
    "}"
   ]
  },
  {
   "cell_type": "code",
   "execution_count": 3,
   "metadata": {
    "vscode": {
     "languageId": "ocaml"
    }
   },
   "outputs": [
    {
     "data": {
      "text/plain": [
       "type complex' = { r : float; phi : float; }\n"
      ]
     },
     "execution_count": 3,
     "metadata": {},
     "output_type": "execute_result"
    }
   ],
   "source": [
    "type complex' = {\n",
    "  r : float;\n",
    "  phi : float\n",
    "}"
   ]
  },
  {
   "cell_type": "code",
   "execution_count": 4,
   "metadata": {
    "vscode": {
     "languageId": "ocaml"
    }
   },
   "outputs": [
    {
     "data": {
      "text/plain": [
       "val abs : complex -> float = <fun>\n"
      ]
     },
     "execution_count": 4,
     "metadata": {},
     "output_type": "execute_result"
    }
   ],
   "source": [
    "let abs z = z.re ** 2. +. z.im ** 2. |> sqrt"
   ]
  },
  {
   "cell_type": "markdown",
   "metadata": {},
   "source": [
    "Podobno kot pri Pythonu te lastnosti tipa kličemo s piko. vstavljeni parameer (z) bo neko število, ki bo že imelo določeno njegovo realno in kompleksno komponento, naša funkcija pa jo bo samo poklicala."
   ]
  },
  {
   "cell_type": "code",
   "execution_count": 5,
   "metadata": {
    "vscode": {
     "languageId": "ocaml"
    }
   },
   "outputs": [
    {
     "data": {
      "text/plain": [
       "val i : complex = {re = 0.; im = 1.}\n"
      ]
     },
     "execution_count": 5,
     "metadata": {},
     "output_type": "execute_result"
    }
   ],
   "source": [
    "let i = { re = 0.; im = 1. }"
   ]
  },
  {
   "cell_type": "markdown",
   "metadata": {},
   "source": [
    "Podobno kot pri definiranju spremenljivk ali novih funkcij ni zares razlike, je tudi tu sintaksa enaka. Vsem lastnostim samo določimo vrednost, ki hočemo da jo imajo, namesto da bi pisali funkcijo."
   ]
  },
  {
   "cell_type": "code",
   "execution_count": 20,
   "metadata": {
    "vscode": {
     "languageId": "ocaml"
    }
   },
   "outputs": [
    {
     "data": {
      "text/plain": [
       "val conj : complex -> complex = <fun>\n"
      ]
     },
     "execution_count": 20,
     "metadata": {},
     "output_type": "execute_result"
    }
   ],
   "source": [
    "let conj z = { re = z.re; im = -. z.im }"
   ]
  },
  {
   "cell_type": "code",
   "execution_count": 23,
   "metadata": {
    "vscode": {
     "languageId": "ocaml"
    }
   },
   "outputs": [
    {
     "data": {
      "text/plain": [
       "val conj : complex -> complex = <fun>\n"
      ]
     },
     "execution_count": 23,
     "metadata": {},
     "output_type": "execute_result"
    }
   ],
   "source": [
    "let conj { re = x; im = y } = { re = x; im = -. y }"
   ]
  },
  {
   "cell_type": "markdown",
   "metadata": {},
   "source": [
    "Namesto, da mu pustimo, da sam ugiba da je z komplekno število, lahko z že \"definiramo\" oz. zapišemo kot par svojih lastnosti. Te lastnosti nato spravimo v nek parameter, zato da jih lahko znotraj funkcije kličemo in spreminjamo."
   ]
  },
  {
   "cell_type": "code",
   "execution_count": 24,
   "metadata": {
    "vscode": {
     "languageId": "ocaml"
    }
   },
   "outputs": [
    {
     "data": {
      "text/plain": [
       "val conj : complex -> complex = <fun>\n"
      ]
     },
     "execution_count": 24,
     "metadata": {},
     "output_type": "execute_result"
    }
   ],
   "source": [
    "let conj { re = re; im = im } = { re = re; im = -. im }"
   ]
  },
  {
   "cell_type": "markdown",
   "metadata": {},
   "source": [
    "Nekak standrdno je da shranimo to vrednost v spremenljivko z istim imenom, kot je lastnost sama. (Oziroma, da polje odpakiramo znotraj recorda, kjer je polje skupek vseh lastnosti in record neko območje določeno z {} kjer \"recordamo\" vse te lastnosti in njihove spremenljivke,...)"
   ]
  },
  {
   "cell_type": "code",
   "execution_count": 25,
   "metadata": {
    "vscode": {
     "languageId": "ocaml"
    }
   },
   "outputs": [
    {
     "data": {
      "text/plain": [
       "val conj : complex -> complex = <fun>\n"
      ]
     },
     "execution_count": 25,
     "metadata": {},
     "output_type": "execute_result"
    }
   ],
   "source": [
    "let conj { re; im } = { re = re; im = -. im }"
   ]
  },
  {
   "cell_type": "markdown",
   "metadata": {},
   "source": [
    "Zelo standardno je, da neko lastnost odpakiramo v spremenljivko, ki se imenuje enako kot sama lastnost. In sicer tako pogosto, da obstaja krajšava za ta zapis, ki pove, da sploh ne rabimo določiti novega imena."
   ]
  },
  {
   "cell_type": "code",
   "execution_count": 26,
   "metadata": {
    "vscode": {
     "languageId": "ocaml"
    }
   },
   "outputs": [
    {
     "data": {
      "text/plain": [
       "val conj : complex -> complex = <fun>\n"
      ]
     },
     "execution_count": 26,
     "metadata": {},
     "output_type": "execute_result"
    }
   ],
   "source": [
    "let conj z = { z with im = -. z.im }"
   ]
  },
  {
   "cell_type": "markdown",
   "metadata": {},
   "source": [
    "Alternativen način je tudi z uporabo with, kjer pa lahko napišemo samo lastnosti, ki se spremenijo. "
   ]
  },
  {
   "cell_type": "code",
   "execution_count": 21,
   "metadata": {
    "vscode": {
     "languageId": "ocaml"
    }
   },
   "outputs": [
    {
     "data": {
      "text/plain": [
       "- : complex = {re = 0.; im = -1.}\n"
      ]
     },
     "execution_count": 21,
     "metadata": {},
     "output_type": "execute_result"
    }
   ],
   "source": [
    "conj i"
   ]
  },
  {
   "cell_type": "code",
   "execution_count": 27,
   "metadata": {
    "vscode": {
     "languageId": "ocaml"
    }
   },
   "outputs": [
    {
     "data": {
      "text/plain": [
       "- : complex = {re = 0.; im = 1.}\n"
      ]
     },
     "execution_count": 27,
     "metadata": {},
     "output_type": "execute_result"
    }
   ],
   "source": [
    "i"
   ]
  },
  {
   "cell_type": "markdown",
   "metadata": {},
   "source": [
    "V OCaml ne uporabljamo pointers, tako kot v .py (če definiramo svoje objekte oz. classe) ampak vedno najprej naredi kopijo, ter na njej deluje.\n",
    "\" funkcijski jeziki so v porastu, saj ljudje začenjajo več ceniti čas programerja, kot pa čas računalnika\"\n",
    "-Pretnar...sth along those lines"
   ]
  },
  {
   "cell_type": "markdown",
   "metadata": {},
   "source": [
    "## Naštevni tipi (slab način na začetku)"
   ]
  },
  {
   "cell_type": "markdown",
   "metadata": {},
   "source": [
    "Tu je šel pisati v separate file, kaj vse bi lahko naredili in kje vse bi se lahko pojavile napake,...\n",
    "Vmes je napisanih nekaj segmentov iz tistega file-a ampak ne pretirano veliko in pogosto so pomankljivi.\n",
    "\n",
    "Omenil je tudi, da tega bl kd ne nikoli namo sami pisali, ampak dobili od nekje, (back end neke spletne strani, ki bo zapisala,kaj so users napisali)."
   ]
  },
  {
   "cell_type": "code",
   "execution_count": 28,
   "metadata": {
    "vscode": {
     "languageId": "ocaml"
    }
   },
   "outputs": [
    {
     "data": {
      "text/plain": [
       "type narocilo = (string * int) list * string * string\n"
      ]
     },
     "execution_count": 28,
     "metadata": {},
     "output_type": "execute_result"
    }
   ],
   "source": [
    "type narocilo = (string * int) list * string * string"
   ]
  },
  {
   "cell_type": "code",
   "execution_count": 29,
   "metadata": {
    "vscode": {
     "languageId": "ocaml"
    }
   },
   "outputs": [
    {
     "data": {
      "text/plain": [
       "type narocilo = {\n",
       "  izdelki : (string * int) list;\n",
       "  naslov : string;\n",
       "  dostava : string;\n",
       "}\n"
      ]
     },
     "execution_count": 29,
     "metadata": {},
     "output_type": "execute_result"
    }
   ],
   "source": [
    "type narocilo = {\n",
    "  izdelki : (string * int) list;\n",
    "  naslov : string;\n",
    "  dostava : string;\n",
    "}"
   ]
  },
  {
   "cell_type": "code",
   "execution_count": null,
   "metadata": {
    "vscode": {
     "languageId": "ocaml"
    }
   },
   "outputs": [],
   "source": [
    "type osebni_izdelek = {\n",
    "  izdelek : string;\n",
    "  količina : int;\n",
    "}\n",
    "\n",
    "type narocilo = {\n",
    "  izdelki : osebni_izdelek list;\n",
    "  naslov : string;\n",
    "  dostava : string;\n",
    "}"
   ]
  },
  {
   "cell_type": "markdown",
   "metadata": {},
   "source": [
    "Čim več poimenuj, da narediš stvari bolj pregledne."
   ]
  },
  {
   "cell_type": "code",
   "execution_count": null,
   "metadata": {
    "vscode": {
     "languageId": "ocaml"
    }
   },
   "outputs": [],
   "source": [
    "(* let stroski_posiljanja ((izdelki, _, dostava, _) : narocilo) = \n",
    "  match dostava with\n",
    "  | \"po posti\" -> \n",
    "    2.5 *. (izdelki |> List.map snd |> List.fold_left (+) 0 |> (neka_funkcija)))"
   ]
  },
  {
   "cell_type": "code",
   "execution_count": null,
   "metadata": {
    "vscode": {
     "languageId": "ocaml"
    }
   },
   "outputs": [],
   "source": [
    "(* let komu_je_treba_poslati = \n",
    "  narocila\n",
    "  |> List.filter (fun (_, _, dostava, _) -> dostava = \"po posti\")\n",
    "  |> List.map (fun ((_, ime, _) as narocilo) -> (ime, stroski_posiljanja narocilo))"
   ]
  },
  {
   "cell_type": "code",
   "execution_count": null,
   "metadata": {
    "vscode": {
     "languageId": "ocaml"
    }
   },
   "outputs": [
    {
     "data": {
      "text/plain": [
       "type naroceni_izdelek = { izdelek : string; kolicina : int; }\n"
      ]
     },
     "execution_count": 30,
     "metadata": {},
     "output_type": "execute_result"
    },
    {
     "data": {
      "text/plain": [
       "type narocilo = {\n",
       "  izdelki : naroceni_izdelek list;\n",
       "  naslov : string;\n",
       "  dostava : string;\n",
       "}\n"
      ]
     },
     "execution_count": 30,
     "metadata": {},
     "output_type": "execute_result"
    },
    {
     "data": {
      "text/plain": [
       "val primer : narocilo list =\n",
       "  [{izdelki = [{izdelek = \"Lego kocke\"; kolicina = 10}];\n",
       "    naslov = \"Pisarna 5.19\"; dostava = \"po pošti\"};\n",
       "   {izdelki = [{izdelek = \"Lego kocke\"; kolicina = 10}];\n",
       "    naslov = \"Pisarna 5.07\"; dostava = \"osebno\"};\n",
       "   {izdelki = [{izdelek = \"Lego kocke\"; kolicina = 10}];\n",
       "    naslov = \"Pisarna P.23\"; dostava = \"osebni prevzem\"}]\n"
      ]
     },
     "execution_count": 30,
     "metadata": {},
     "output_type": "execute_result"
    },
    {
     "data": {
      "text/plain": [
       "val osebni_prevzemi : narocilo list -> narocilo list = <fun>\n"
      ]
     },
     "execution_count": 30,
     "metadata": {},
     "output_type": "execute_result"
    },
    {
     "data": {
      "text/plain": [
       "val rezultat : narocilo list =\n",
       "  [{izdelki = [{izdelek = \"Lego kocke\"; kolicina = 10}];\n",
       "    naslov = \"Pisarna 5.07\"; dostava = \"osebno\"}]\n"
      ]
     },
     "execution_count": 30,
     "metadata": {},
     "output_type": "execute_result"
    }
   ],
   "source": [
    "type naroceni_izdelek = {\n",
    "  izdelek : string;\n",
    "  kolicina : int;\n",
    "}\n",
    "type narocilo = {\n",
    "  izdelki : naroceni_izdelek list;\n",
    "  naslov : string;\n",
    "  dostava : string;\n",
    "}\n",
    "\n",
    "(* V primeru določimo vrednosti vseh lastnosti in jih lahko naštevamo poljubno veliko*)\n",
    "let primer = [\n",
    "  { izdelki = [{ izdelek = \"Lego kocke\"; kolicina = 10}]; naslov = \"Pisarna 5.19\"; dostava = \"po pošti\"};\n",
    "  { izdelki = [{ izdelek = \"Lego kocke\"; kolicina = 10}]; naslov = \"Pisarna 5.07\"; dostava = \"osebno\"};\n",
    "  { izdelki = [{ izdelek = \"Lego kocke\"; kolicina = 10}]; naslov = \"Pisarna P.23\"; dostava = \"osebni prevzem\"};\n",
    "]\n",
    "\n",
    "let osebni_prevzemi narocila =\n",
    "  narocila\n",
    "  |> List.filter (fun narocilo -> narocilo.dostava = \"osebno\")\n",
    "\n",
    "let rezultat = osebni_prevzemi primer"
   ]
  },
  {
   "cell_type": "markdown",
   "metadata": {},
   "source": [
    "Pride lahko do problema, saj so za prevzem vrednosti lahko poljubne, čeprav jih ima samo omejeno število smisel, oz. nam olajša iskanje, če ima user že določene možnosti in samo izbira izmed njimi.\n",
    "\n",
    "V rezultatu vidimo, da je našel samo en primer osebnega privzema, namesto dveh."
   ]
  },
  {
   "cell_type": "code",
   "execution_count": 31,
   "metadata": {
    "vscode": {
     "languageId": "ocaml"
    }
   },
   "outputs": [
    {
     "data": {
      "text/plain": [
       "type naroceni_izdelek = { izdelek : string; kolicina : int; }\n"
      ]
     },
     "execution_count": 31,
     "metadata": {},
     "output_type": "execute_result"
    },
    {
     "data": {
      "text/plain": [
       "type narocilo = {\n",
       "  izdelki : naroceni_izdelek list;\n",
       "  naslov : string;\n",
       "  dostava : int;\n",
       "}\n"
      ]
     },
     "execution_count": 31,
     "metadata": {},
     "output_type": "execute_result"
    },
    {
     "data": {
      "text/plain": [
       "val _PO_POSTI : int = 1\n"
      ]
     },
     "execution_count": 31,
     "metadata": {},
     "output_type": "execute_result"
    },
    {
     "data": {
      "text/plain": [
       "val _OSEBNI_PREVZEM : int = 2\n"
      ]
     },
     "execution_count": 31,
     "metadata": {},
     "output_type": "execute_result"
    },
    {
     "data": {
      "text/plain": [
       "val primer : narocilo list =\n",
       "  [{izdelki = [{izdelek = \"Lego kocke\"; kolicina = 10}];\n",
       "    naslov = \"Pisarna 5.19\"; dostava = 1};\n",
       "   {izdelki = [{izdelek = \"Lego kocke\"; kolicina = 10}];\n",
       "    naslov = \"Pisarna 5.07\"; dostava = 2};\n",
       "   {izdelki = [{izdelek = \"Lego kocke\"; kolicina = 10}];\n",
       "    naslov = \"Pisarna P.23\"; dostava = 3}]\n"
      ]
     },
     "execution_count": 31,
     "metadata": {},
     "output_type": "execute_result"
    },
    {
     "data": {
      "text/plain": [
       "val osebni_prevzemi : narocilo list -> narocilo list = <fun>\n"
      ]
     },
     "execution_count": 31,
     "metadata": {},
     "output_type": "execute_result"
    },
    {
     "data": {
      "text/plain": [
       "val rezultat : narocilo list =\n",
       "  [{izdelki = [{izdelek = \"Lego kocke\"; kolicina = 10}];\n",
       "    naslov = \"Pisarna 5.07\"; dostava = 2}]\n"
      ]
     },
     "execution_count": 31,
     "metadata": {},
     "output_type": "execute_result"
    }
   ],
   "source": [
    "type naroceni_izdelek = {\n",
    "  izdelek : string;\n",
    "  kolicina : int;\n",
    "}\n",
    "type narocilo = {\n",
    "  izdelki : naroceni_izdelek list;\n",
    "  naslov : string;\n",
    "  dostava : int;\n",
    "}\n",
    "\n",
    "let _PO_POSTI = 1\n",
    "let _OSEBNI_PREVZEM = 2\n",
    "\n",
    "let primer = [\n",
    "  { izdelki = [{ izdelek = \"Lego kocke\"; kolicina = 10}]; naslov = \"Pisarna 5.19\"; dostava = _PO_POSTI};\n",
    "  { izdelki = [{ izdelek = \"Lego kocke\"; kolicina = 10}]; naslov = \"Pisarna 5.07\"; dostava = _OSEBNI_PREVZEM};\n",
    "  { izdelki = [{ izdelek = \"Lego kocke\"; kolicina = 10}]; naslov = \"Pisarna P.23\"; dostava = 3};\n",
    "]\n",
    "\n",
    "let osebni_prevzemi narocila =\n",
    "  narocila\n",
    "  |> List.filter (fun narocilo -> narocilo.dostava = _OSEBNI_PREVZEM)\n",
    "\n",
    "let rezultat = osebni_prevzemi primer"
   ]
  },
  {
   "cell_type": "markdown",
   "metadata": {},
   "source": [
    "Da se znebimo takega problema, lahko definiramo nov tip, kateremu naštejemo vse možnosti, podobno, kot match."
   ]
  },
  {
   "cell_type": "code",
   "execution_count": null,
   "metadata": {
    "vscode": {
     "languageId": "ocaml"
    }
   },
   "outputs": [
    {
     "data": {
      "text/plain": [
       "type naroceni_izdelek = { izdelek : string; kolicina : int; }\n"
      ]
     },
     "execution_count": 32,
     "metadata": {},
     "output_type": "execute_result"
    },
    {
     "data": {
      "text/plain": [
       "type vrsta_dostave = PoPosti | OsebniPrevzem\n"
      ]
     },
     "execution_count": 32,
     "metadata": {},
     "output_type": "execute_result"
    },
    {
     "data": {
      "text/plain": [
       "type narocilo = {\n",
       "  izdelki : naroceni_izdelek list;\n",
       "  naslov : string;\n",
       "  dostava : vrsta_dostave;\n",
       "}\n"
      ]
     },
     "execution_count": 32,
     "metadata": {},
     "output_type": "execute_result"
    },
    {
     "data": {
      "text/plain": [
       "val primer : narocilo list =\n",
       "  [{izdelki = [{izdelek = \"Lego kocke\"; kolicina = 10}];\n",
       "    naslov = \"Pisarna 5.19\"; dostava = PoPosti};\n",
       "   {izdelki = [{izdelek = \"Lego kocke\"; kolicina = 10}];\n",
       "    naslov = \"Pisarna 5.07\"; dostava = OsebniPrevzem};\n",
       "   {izdelki = [{izdelek = \"Lego kocke\"; kolicina = 10}];\n",
       "    naslov = \"Pisarna P.23\"; dostava = OsebniPrevzem}]\n"
      ]
     },
     "execution_count": 32,
     "metadata": {},
     "output_type": "execute_result"
    },
    {
     "data": {
      "text/plain": [
       "val osebni_prevzemi : narocilo list -> narocilo list = <fun>\n"
      ]
     },
     "execution_count": 32,
     "metadata": {},
     "output_type": "execute_result"
    },
    {
     "data": {
      "text/plain": [
       "val cena_dostave : narocilo -> float = <fun>\n"
      ]
     },
     "execution_count": 32,
     "metadata": {},
     "output_type": "execute_result"
    },
    {
     "data": {
      "text/plain": [
       "val rezultat : narocilo list =\n",
       "  [{izdelki = [{izdelek = \"Lego kocke\"; kolicina = 10}];\n",
       "    naslov = \"Pisarna 5.07\"; dostava = OsebniPrevzem};\n",
       "   {izdelki = [{izdelek = \"Lego kocke\"; kolicina = 10}];\n",
       "    naslov = \"Pisarna P.23\"; dostava = OsebniPrevzem}]\n"
      ]
     },
     "execution_count": 32,
     "metadata": {},
     "output_type": "execute_result"
    }
   ],
   "source": [
    "type naroceni_izdelek = {\n",
    "  izdelek : string;\n",
    "  kolicina : int;\n",
    "}\n",
    "type vrsta_dostave =\n",
    "  | PoPosti\n",
    "  | OsebniPrevzem\n",
    "  \n",
    "type narocilo = {\n",
    "  izdelki : naroceni_izdelek list;\n",
    "  naslov : string;\n",
    "  dostava : vrsta_dostave;\n",
    "}\n",
    "\n",
    "let primer = [\n",
    "  { izdelki = [{ izdelek = \"Lego kocke\"; kolicina = 10}]; naslov = \"Pisarna 5.19\"; dostava = PoPosti};\n",
    "  { izdelki = [{ izdelek = \"Lego kocke\"; kolicina = 10}]; naslov = \"Pisarna 5.07\"; dostava = OsebniPrevzem};\n",
    "  { izdelki = [{ izdelek = \"Lego kocke\"; kolicina = 10}]; naslov = \"Pisarna P.23\"; dostava = OsebniPrevzem};\n",
    "]\n",
    "\n",
    "let osebni_prevzemi narocila =\n",
    "  narocila\n",
    "  |> List.filter (fun narocilo -> narocilo.dostava = OsebniPrevzem)\n",
    "\n",
    "let cena_dostave narocilo =\n",
    "  match narocilo.dostava with\n",
    "  | OsebniPrevzem -> 0.\n",
    "  | PoPosti -> 2.5\n",
    "\n",
    "let rezultat = osebni_prevzemi primer"
   ]
  },
  {
   "cell_type": "code",
   "execution_count": 33,
   "metadata": {
    "vscode": {
     "languageId": "ocaml"
    }
   },
   "outputs": [
    {
     "data": {
      "text/plain": [
       "type naroceni_izdelek = { izdelek : string; kolicina : int; }\n"
      ]
     },
     "execution_count": 33,
     "metadata": {},
     "output_type": "execute_result"
    }
   ],
   "source": [
    "type naroceni_izdelek = {\n",
    "  izdelek : string;\n",
    "  kolicina : int;\n",
    "}"
   ]
  },
  {
   "cell_type": "markdown",
   "metadata": {},
   "source": [
    "some kind of variacijski tipi "
   ]
  },
  {
   "cell_type": "code",
   "execution_count": 34,
   "metadata": {
    "vscode": {
     "languageId": "ocaml"
    }
   },
   "outputs": [
    {
     "data": {
      "text/plain": [
       "type vrsta_dostave = PoPosti | OsebniPrevzem | HitraDostava\n"
      ]
     },
     "execution_count": 34,
     "metadata": {},
     "output_type": "execute_result"
    },
    {
     "data": {
      "text/plain": [
       "type narocilo = {\n",
       "  izdelki : naroceni_izdelek list;\n",
       "  naslov : string;\n",
       "  dostava : vrsta_dostave;\n",
       "}\n"
      ]
     },
     "execution_count": 34,
     "metadata": {},
     "output_type": "execute_result"
    },
    {
     "data": {
      "text/plain": [
       "val cena_dostave : narocilo -> float = <fun>\n"
      ]
     },
     "execution_count": 34,
     "metadata": {},
     "output_type": "execute_result"
    }
   ],
   "source": [
    "type vrsta_dostave =\n",
    "  | PoPosti\n",
    "  | OsebniPrevzem\n",
    "  | HitraDostava\n",
    "type narocilo = {\n",
    "  izdelki : naroceni_izdelek list;\n",
    "  naslov : string;\n",
    "  dostava : vrsta_dostave;\n",
    "}\n",
    "\n",
    "let cena_dostave narocilo =\n",
    "  match narocilo.dostava with\n",
    "  | OsebniPrevzem -> 0.\n",
    "  | PoPosti -> 2.5\n",
    "  | HitraDostava -> 4."
   ]
  },
  {
   "cell_type": "markdown",
   "metadata": {},
   "source": [
    "Ko eden od fiksnih lastnosti zraven vleče še dodatne podatke, jih shranimo zraven, da rečemo da je to lastnost of podatki.\n",
    "\n",
    "Poglej kako se v tem primeru kličeš po primerih."
   ]
  },
  {
   "cell_type": "code",
   "execution_count": 35,
   "metadata": {
    "vscode": {
     "languageId": "ocaml"
    }
   },
   "outputs": [
    {
     "data": {
      "text/plain": [
       "type naslov = string\n"
      ]
     },
     "execution_count": 35,
     "metadata": {},
     "output_type": "execute_result"
    },
    {
     "data": {
      "text/plain": [
       "type telefon = string\n"
      ]
     },
     "execution_count": 35,
     "metadata": {},
     "output_type": "execute_result"
    },
    {
     "data": {
      "text/plain": [
       "type naroceni_izdelek = { izdelek : string; kolicina : int; }\n"
      ]
     },
     "execution_count": 35,
     "metadata": {},
     "output_type": "execute_result"
    },
    {
     "data": {
      "text/plain": [
       "type vrsta_dostave =\n",
       "    PoPosti of naslov\n",
       "  | OsebniPrevzem\n",
       "  | HitraDostava of naslov * telefon\n"
      ]
     },
     "execution_count": 35,
     "metadata": {},
     "output_type": "execute_result"
    },
    {
     "data": {
      "text/plain": [
       "type narocilo = { izdelki : naroceni_izdelek list; dostava : vrsta_dostave; }\n"
      ]
     },
     "execution_count": 35,
     "metadata": {},
     "output_type": "execute_result"
    },
    {
     "data": {
      "text/plain": [
       "val primer : narocilo list =\n",
       "  [{izdelki = [{izdelek = \"Lego kocke\"; kolicina = 10}];\n",
       "    dostava = PoPosti \"Pisarna 5.19\"};\n",
       "   {izdelki = [{izdelek = \"Lego kocke\"; kolicina = 10}];\n",
       "    dostava = OsebniPrevzem};\n",
       "   {izdelki = [{izdelek = \"Lego kocke\"; kolicina = 10}];\n",
       "    dostava = HitraDostava (\"01 4766 600\", \"Pisarna P.23\")}]\n"
      ]
     },
     "execution_count": 35,
     "metadata": {},
     "output_type": "execute_result"
    }
   ],
   "source": [
    "type naslov = string\n",
    "type telefon = string\n",
    "type naroceni_izdelek = { izdelek : string; kolicina : int }\n",
    "\n",
    "type vrsta_dostave =\n",
    "  | PoPosti of naslov\n",
    "  | OsebniPrevzem\n",
    "  | HitraDostava of naslov * telefon\n",
    "\n",
    "type narocilo = {\n",
    "  izdelki : naroceni_izdelek list;\n",
    "  dostava : vrsta_dostave;\n",
    "}\n",
    "\n",
    "let primer = [\n",
    "  { izdelki = [{ izdelek = \"Lego kocke\"; kolicina = 10}]; dostava = PoPosti \"Pisarna 5.19\"};\n",
    "  { izdelki = [{ izdelek = \"Lego kocke\"; kolicina = 10}]; dostava = OsebniPrevzem};\n",
    "  { izdelki = [{ izdelek = \"Lego kocke\"; kolicina = 10}]; dostava = HitraDostava (\"01 4766 600\", \"Pisarna P.23\")};\n",
    "]"
   ]
  },
  {
   "cell_type": "code",
   "execution_count": 8,
   "metadata": {
    "vscode": {
     "languageId": "ocaml"
    }
   },
   "outputs": [
    {
     "data": {
      "text/plain": [
       "type naslov = string\n"
      ]
     },
     "execution_count": 8,
     "metadata": {},
     "output_type": "execute_result"
    },
    {
     "data": {
      "text/plain": [
       "type telefon = string\n"
      ]
     },
     "execution_count": 8,
     "metadata": {},
     "output_type": "execute_result"
    },
    {
     "data": {
      "text/plain": [
       "type naroceni_izdelek = { izdelek : string; kolicina : int; }\n"
      ]
     },
     "execution_count": 8,
     "metadata": {},
     "output_type": "execute_result"
    },
    {
     "data": {
      "text/plain": [
       "type vrsta_dostave =\n",
       "    PoPosti of naslov\n",
       "  | OsebniPrevzem\n",
       "  | HitraDostava of { naslov : naslov; telefon : telefon; }\n"
      ]
     },
     "execution_count": 8,
     "metadata": {},
     "output_type": "execute_result"
    },
    {
     "data": {
      "text/plain": [
       "type narocilo = { izdelki : naroceni_izdelek list; dostava : vrsta_dostave; }\n"
      ]
     },
     "execution_count": 8,
     "metadata": {},
     "output_type": "execute_result"
    },
    {
     "data": {
      "text/plain": [
       "val primer : narocilo list =\n",
       "  [{izdelki = [{izdelek = \"Lego kocke\"; kolicina = 10}];\n",
       "    dostava = PoPosti \"Pisarna 5.19\"};\n",
       "   {izdelki = [{izdelek = \"Lego kocke\"; kolicina = 10}];\n",
       "    dostava = OsebniPrevzem};\n",
       "   {izdelki = [{izdelek = \"Lego kocke\"; kolicina = 10}];\n",
       "    dostava = HitraDostava {naslov = \"Pisarna P.23\"; telefon = \"01 4766 600\"}}]\n"
      ]
     },
     "execution_count": 8,
     "metadata": {},
     "output_type": "execute_result"
    }
   ],
   "source": [
    "type naslov = string\n",
    "type telefon = string\n",
    "type naroceni_izdelek = { izdelek : string; kolicina : int }\n",
    "\n",
    "type vrsta_dostave =\n",
    "  | PoPosti of naslov\n",
    "  | OsebniPrevzem\n",
    "  | HitraDostava of { naslov : naslov; telefon : telefon }\n",
    "\n",
    "type narocilo = {\n",
    "  izdelki : naroceni_izdelek list;\n",
    "  dostava : vrsta_dostave;\n",
    "}\n",
    "\n",
    "let primer = [\n",
    "  { izdelki = [{ izdelek = \"Lego kocke\"; kolicina = 10}]; dostava = PoPosti \"Pisarna 5.19\"};\n",
    "  { izdelki = [{ izdelek = \"Lego kocke\"; kolicina = 10}]; dostava = OsebniPrevzem};\n",
    "  { izdelki = [{ izdelek = \"Lego kocke\"; kolicina = 10}]; dostava = HitraDostava { telefon = \"01 4766 600\"; naslov = \"Pisarna P.23\"}};\n",
    "]"
   ]
  },
  {
   "cell_type": "markdown",
   "metadata": {},
   "source": [
    "Tudi tip samo z eno možnostjo, je lahko uporaben, da ne moramo zamenjati vrstnega reda."
   ]
  },
  {
   "cell_type": "code",
   "execution_count": 12,
   "metadata": {
    "vscode": {
     "languageId": "ocaml"
    }
   },
   "outputs": [
    {
     "data": {
      "text/plain": [
       "type naslov = Naslov of string\n"
      ]
     },
     "execution_count": 12,
     "metadata": {},
     "output_type": "execute_result"
    },
    {
     "data": {
      "text/plain": [
       "type telefon = Telefon of string\n"
      ]
     },
     "execution_count": 12,
     "metadata": {},
     "output_type": "execute_result"
    },
    {
     "data": {
      "text/plain": [
       "type naroceni_izdelek = { izdelek : string; kolicina : int; }\n"
      ]
     },
     "execution_count": 12,
     "metadata": {},
     "output_type": "execute_result"
    },
    {
     "data": {
      "text/plain": [
       "type vrsta_dostave =\n",
       "    PoPosti of naslov\n",
       "  | OsebniPrevzem\n",
       "  | HitraDostava of naslov * telefon\n"
      ]
     },
     "execution_count": 12,
     "metadata": {},
     "output_type": "execute_result"
    },
    {
     "data": {
      "text/plain": [
       "type narocilo = { izdelki : naroceni_izdelek list; dostava : vrsta_dostave; }\n"
      ]
     },
     "execution_count": 12,
     "metadata": {},
     "output_type": "execute_result"
    },
    {
     "data": {
      "text/plain": [
       "val primer : narocilo list =\n",
       "  [{izdelki = [{izdelek = \"Lego kocke\"; kolicina = 10}];\n",
       "    dostava = PoPosti (Naslov \"Pisarna 5.19\")};\n",
       "   {izdelki = [{izdelek = \"Lego kocke\"; kolicina = 10}];\n",
       "    dostava = OsebniPrevzem};\n",
       "   {izdelki = [{izdelek = \"Lego kocke\"; kolicina = 10}];\n",
       "    dostava = HitraDostava (Naslov \"Pisarna P.23\", Telefon \"01 4766 600\")}]\n"
      ]
     },
     "execution_count": 12,
     "metadata": {},
     "output_type": "execute_result"
    }
   ],
   "source": [
    "type naslov =\n",
    "  | Naslov of string\n",
    "type telefon =\n",
    "  | Telefon of string\n",
    "type naroceni_izdelek = { izdelek : string; kolicina : int }\n",
    "\n",
    "type vrsta_dostave =\n",
    "  | PoPosti of naslov\n",
    "  | OsebniPrevzem\n",
    "  | HitraDostava of naslov\n",
    "\n",
    "type narocilo = {\n",
    "  izdelki : naroceni_izdelek list;\n",
    "  dostava : vrsta_dostave;\n",
    "}\n",
    "\n",
    "let primer = [\n",
    "  { izdelki = [{ izdelek = \"Lego kocke\"; kolicina = 10}]; dostava = PoPosti (Naslov \"Pisarna 5.19\")};\n",
    "  { izdelki = [{ izdelek = \"Lego kocke\"; kolicina = 10}]; dostava = OsebniPrevzem};\n",
    "  { izdelki = [{ izdelek = \"Lego kocke\"; kolicina = 10}]; dostava = HitraDostava (Naslov \"Pisarna P.23\", Telefon \"01 4766 600\")};\n",
    "]"
   ]
  },
  {
   "cell_type": "code",
   "execution_count": 38,
   "metadata": {
    "vscode": {
     "languageId": "ocaml"
    }
   },
   "outputs": [
    {
     "data": {
      "text/plain": [
       "type 'a mogoce = Nic | Nekaj of 'a\n"
      ]
     },
     "execution_count": 38,
     "metadata": {},
     "output_type": "execute_result"
    }
   ],
   "source": [
    "(* type 'a option =\n",
    "  | None\n",
    "  | Some of 'a *)\n",
    "\n",
    "type 'a mogoce =\n",
    "  | Nic\n",
    "  | Nekaj of 'a"
   ]
  },
  {
   "cell_type": "markdown",
   "metadata": {},
   "source": [
    "Že poznamo nekaj tipov, k imajo samo 2 (oz. samo omejeno št. ) možnosti. Lahko spišemo prevod optiona.\n",
    "\n",
    "Zato da mamo lako mogoce_str in mogoce_int,... to so polimorfni tipi."
   ]
  },
  {
   "cell_type": "code",
   "execution_count": 39,
   "metadata": {
    "vscode": {
     "languageId": "ocaml"
    }
   },
   "outputs": [
    {
     "data": {
      "text/plain": [
       "- : int mogoce = Nekaj 3\n"
      ]
     },
     "execution_count": 39,
     "metadata": {},
     "output_type": "execute_result"
    }
   ],
   "source": [
    "Nekaj 3"
   ]
  },
  {
   "cell_type": "code",
   "execution_count": 15,
   "metadata": {
    "vscode": {
     "languageId": "ocaml"
    }
   },
   "outputs": [
    {
     "data": {
      "text/plain": [
       "type ('a, 'b) vsota = In1 of 'a | In2 of 'b\n"
      ]
     },
     "execution_count": 15,
     "metadata": {},
     "output_type": "execute_result"
    }
   ],
   "source": [
    "type ('a, 'b) vsota =\n",
    "  | In1 of 'a\n",
    "  | In2 of 'b"
   ]
  },
  {
   "cell_type": "markdown",
   "metadata": {},
   "source": [
    "Vsota je zelo podobna skalarnemu produktu, a imamo zraven še kazalnik, kdaj je nekaj iz ene množice"
   ]
  },
  {
   "cell_type": "code",
   "execution_count": null,
   "metadata": {
    "vscode": {
     "languageId": "ocaml"
    }
   },
   "outputs": [],
   "source": [
    "type boole =\n",
    "  | True\n",
    "  | False"
   ]
  },
  {
   "cell_type": "code",
   "execution_count": null,
   "metadata": {
    "vscode": {
     "languageId": "ocaml"
    }
   },
   "outputs": [],
   "source": [
    "type enota =\n",
    "  | OklepajZaklepaj"
   ]
  },
  {
   "cell_type": "code",
   "execution_count": 16,
   "metadata": {
    "vscode": {
     "languageId": "ocaml"
    }
   },
   "outputs": [
    {
     "data": {
      "text/plain": [
       "type 'a seznam = Prazen | Sestavljen of 'a * 'a seznam\n"
      ]
     },
     "execution_count": 16,
     "metadata": {},
     "output_type": "execute_result"
    }
   ],
   "source": [
    "type 'a seznam =\n",
    "  | Prazen\n",
    "  | Sestavljen of 'a * 'a seznam "
   ]
  },
  {
   "cell_type": "markdown",
   "metadata": {},
   "source": [
    "Lahko jih definiramo tudi rekurzivno"
   ]
  },
  {
   "cell_type": "code",
   "execution_count": 17,
   "metadata": {
    "vscode": {
     "languageId": "ocaml"
    }
   },
   "outputs": [
    {
     "data": {
      "text/plain": [
       "type nat = Zero | Succ of nat\n"
      ]
     },
     "execution_count": 17,
     "metadata": {},
     "output_type": "execute_result"
    }
   ],
   "source": [
    "type nat =\n",
    "  | Zero\n",
    "  | Succ of nat"
   ]
  },
  {
   "cell_type": "code",
   "execution_count": 18,
   "metadata": {
    "vscode": {
     "languageId": "ocaml"
    }
   },
   "outputs": [
    {
     "data": {
      "text/plain": [
       "val plus : nat -> nat -> nat = <fun>\n"
      ]
     },
     "execution_count": 18,
     "metadata": {},
     "output_type": "execute_result"
    }
   ],
   "source": [
    "let rec plus m n =\n",
    "  match m with\n",
    "  | Zero -> n\n",
    "  | Succ m' -> Succ (plus m' n)"
   ]
  },
  {
   "cell_type": "code",
   "execution_count": 21,
   "metadata": {
    "vscode": {
     "languageId": "ocaml"
    }
   },
   "outputs": [
    {
     "data": {
      "text/plain": [
       "val dva : nat = Succ (Succ Zero)\n"
      ]
     },
     "execution_count": 21,
     "metadata": {},
     "output_type": "execute_result"
    }
   ],
   "source": [
    "let dva = plus (Succ Zero) (Succ Zero)"
   ]
  },
  {
   "cell_type": "code",
   "execution_count": 20,
   "metadata": {
    "vscode": {
     "languageId": "ocaml"
    }
   },
   "outputs": [
    {
     "data": {
      "text/plain": [
       "val krat : nat -> nat -> nat = <fun>\n"
      ]
     },
     "execution_count": 20,
     "metadata": {},
     "output_type": "execute_result"
    }
   ],
   "source": [
    "let rec krat m n =\n",
    "  match m with\n",
    "  | Zero -> Zero\n",
    "  | Succ m' -> plus (krat m' n) n"
   ]
  },
  {
   "cell_type": "code",
   "execution_count": 22,
   "metadata": {
    "vscode": {
     "languageId": "ocaml"
    }
   },
   "outputs": [
    {
     "data": {
      "text/plain": [
       "val stiri : nat = Succ (Succ (Succ (Succ Zero)))\n"
      ]
     },
     "execution_count": 22,
     "metadata": {},
     "output_type": "execute_result"
    }
   ],
   "source": [
    "let stiri = krat dva dva"
   ]
  },
  {
   "cell_type": "code",
   "execution_count": 23,
   "metadata": {
    "vscode": {
     "languageId": "ocaml"
    }
   },
   "outputs": [
    {
     "data": {
      "text/plain": [
       "val sest : nat = Succ (Succ (Succ (Succ (Succ (Succ Zero)))))\n"
      ]
     },
     "execution_count": 23,
     "metadata": {},
     "output_type": "execute_result"
    }
   ],
   "source": [
    "let sest = plus stiri dva"
   ]
  },
  {
   "cell_type": "code",
   "execution_count": 24,
   "metadata": {
    "vscode": {
     "languageId": "ocaml"
    }
   },
   "outputs": [
    {
     "data": {
      "text/plain": [
       "val sedem : nat = Succ (Succ (Succ (Succ (Succ (Succ (Succ Zero))))))\n"
      ]
     },
     "execution_count": 24,
     "metadata": {},
     "output_type": "execute_result"
    }
   ],
   "source": [
    "let sedem = Succ sest"
   ]
  },
  {
   "cell_type": "code",
   "execution_count": 25,
   "metadata": {
    "vscode": {
     "languageId": "ocaml"
    }
   },
   "outputs": [
    {
     "data": {
      "text/plain": [
       "- : nat =\n",
       "Succ\n",
       " (Succ\n",
       "   (Succ\n",
       "     (Succ\n",
       "       (Succ\n",
       "         (Succ\n",
       "           (Succ\n",
       "             (Succ\n",
       "               (Succ\n",
       "                 (Succ\n",
       "                   (Succ\n",
       "                     (Succ\n",
       "                       (Succ\n",
       "                         (Succ\n",
       "                           (Succ\n",
       "                             (Succ\n",
       "                               (Succ\n",
       "                                 (Succ\n",
       "                                   (Succ\n",
       "                                     (Succ\n",
       "                                       (Succ\n",
       "                                         (Succ\n",
       "                                           (Succ\n",
       "                                             (Succ\n",
       "                                               (Succ\n",
       "                                                 (Succ\n",
       "                                                   (Succ\n",
       "                                                     (Succ\n",
       "                                                       (Succ\n",
       "                                                         (Succ\n",
       "                                                           (Succ\n",
       "                                                             (Succ\n",
       "                                                               (Succ\n",
       "                                                                 (Succ\n",
       "                                                                   (Succ\n",
       "                                                                    (Succ\n",
       "                                                                    (Succ\n",
       "                                                                    (Succ\n",
       "                                                                    (Succ\n",
       "                                                                    (Succ\n",
       "                                                                    (Succ\n",
       "                                                                    (Succ\n",
       "                                                                    Zero)))))))))))))))))))))))))))))))))))))))))\n"
      ]
     },
     "execution_count": 25,
     "metadata": {},
     "output_type": "execute_result"
    }
   ],
   "source": [
    "krat sest sedem"
   ]
  },
  {
   "cell_type": "markdown",
   "metadata": {},
   "source": [
    "Tle se konča video, naprej je \"kracanje\""
   ]
  },
  {
   "cell_type": "markdown",
   "metadata": {},
   "source": [
    "### ni več slab način\n",
    "\n",
    "gledamo z zapisi"
   ]
  },
  {
   "cell_type": "code",
   "execution_count": null,
   "metadata": {
    "vscode": {
     "languageId": "ocaml"
    }
   },
   "outputs": [
    {
     "ename": "error",
     "evalue": "compile_error",
     "output_type": "error",
     "traceback": [
      "File \"[1]\", line 1, characters 5-6:\n1 | type = izdelek_v_kosari = {\n         ^\nError: Syntax error\n"
     ]
    }
   ],
   "source": [
    "type = izdelek_v_kosari = {\n",
    "  izdelek: string;\n",
    "}\n",
    "\n",
    "type narocilo = {\n",
    "  kosara : (string * int) list;\n",
    "  narocnik : string;\n",
    "  dostava : string;\n",
    "  naslov : string;\n",
    "}\n",
    "\n",
    "(* let narocila : narocilo list = [\n",
    "  {kosara = [ (\"ime\",12);] }\n",
    "  {kosara = [ (\"ime\",12);] }\n",
    "  {kosara = [ (\"ime\",12);] } ...\n",
    "] *)\n",
    "\n",
    "type dostava = \n",
    "| PoPosti\n",
    "| OsebniPrevzem\n"
   ]
  },
  {
   "cell_type": "markdown",
   "metadata": {},
   "source": [
    "Na spletni strani je nek dober posnetek kako se OCaml v praksi na Jane streetu uporablja."
   ]
  },
  {
   "cell_type": "markdown",
   "metadata": {},
   "source": [
    "tipom lahko dodamo parametre\n",
    "\n",
    "type a' zaporedje = int -> ...\n",
    "zaporedje ki sprejme floate, ali zaporedje ki sprejme int,..."
   ]
  },
  {
   "cell_type": "code",
   "execution_count": null,
   "metadata": {
    "vscode": {
     "languageId": "ocaml"
    }
   },
   "outputs": [],
   "source": [
    "type a' seznam = \n",
    "  | Prazen\n",
    "  | Sestavljen of 'a * 'a seznam"
   ]
  },
  {
   "cell_type": "code",
   "execution_count": null,
   "metadata": {
    "vscode": {
     "languageId": "ocaml"
    }
   },
   "outputs": [],
   "source": [
    "type 'a drevo =\n",
    "  | Prazno\n",
    "  | Sestavljeno of 'a drevo "
   ]
  },
  {
   "cell_type": "code",
   "execution_count": null,
   "metadata": {
    "vscode": {
     "languageId": "ocaml"
    }
   },
   "outputs": [],
   "source": [
    "type naravno =\n",
    "  | Nic\n",
    "  | Naslednik of naravno"
   ]
  },
  {
   "cell_type": "code",
   "execution_count": null,
   "metadata": {
    "vscode": {
     "languageId": "ocaml"
    }
   },
   "outputs": [],
   "source": [
    "let res plus m n =\n",
    "  match m with\n",
    "  | Nic -> n\n",
    "  | Naslednik m' -> sth"
   ]
  }
 ],
 "metadata": {
  "kernelspec": {
   "display_name": "OCaml 4.14",
   "language": "OCaml",
   "name": "ocaml-jupyter"
  },
  "language_info": {
   "codemirror_mode": "text/x-ocaml",
   "file_extension": ".ml",
   "mimetype": "text/x-ocaml",
   "name": "OCaml",
   "nbconverter_exporter": null,
   "pygments_lexer": "OCaml",
   "version": "4.14.2"
  }
 },
 "nbformat": 4,
 "nbformat_minor": 2
}
