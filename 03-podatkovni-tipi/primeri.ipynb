{
 "cells": [
  {
   "cell_type": "markdown",
   "metadata": {},
   "source": [
    "# Podatkovni tipi"
   ]
  },
  {
   "cell_type": "markdown",
   "metadata": {},
   "source": [
    "## Okrajšave"
   ]
  },
  {
   "cell_type": "code",
   "execution_count": 1,
   "metadata": {
    "vscode": {
     "languageId": "ocaml"
    }
   },
   "outputs": [
    {
     "data": {
      "text/plain": [
       "val ( ++ ) :\n",
       "  float * float * float -> float * float * float -> float * float * float =\n",
       "  <fun>\n"
      ]
     },
     "execution_count": 1,
     "metadata": {},
     "output_type": "execute_result"
    }
   ],
   "source": [
    "let ( ++ ) (x1, y1, z1) (x2, y2, z2) = (x1 +. x2, y1 +. y2, z1 +. z2)"
   ]
  },
  {
   "cell_type": "code",
   "execution_count": 2,
   "metadata": {
    "vscode": {
     "languageId": "ocaml"
    }
   },
   "outputs": [
    {
     "data": {
      "text/plain": [
       "type r3 = float * float * float\n"
      ]
     },
     "execution_count": 2,
     "metadata": {},
     "output_type": "execute_result"
    }
   ],
   "source": [
    "type r3 = float * float * float"
   ]
  },
  {
   "cell_type": "code",
   "execution_count": 3,
   "metadata": {
    "vscode": {
     "languageId": "ocaml"
    }
   },
   "outputs": [
    {
     "data": {
      "text/plain": [
       "val ( ++ ) :\n",
       "  float * float * float -> float * float * float -> float * float * float =\n",
       "  <fun>\n"
      ]
     },
     "execution_count": 3,
     "metadata": {},
     "output_type": "execute_result"
    }
   ],
   "source": [
    "let ( ++ ) (x1, y1, z1) (x2, y2, z2) = (x1 +. x2, y1 +. y2, z1 +. z2)"
   ]
  },
  {
   "cell_type": "code",
   "execution_count": 4,
   "metadata": {
    "vscode": {
     "languageId": "ocaml"
    }
   },
   "outputs": [
    {
     "data": {
      "text/plain": [
       "val ( ++ ) : float * float * float -> float * float * float -> r3 = <fun>\n"
      ]
     },
     "execution_count": 4,
     "metadata": {},
     "output_type": "execute_result"
    }
   ],
   "source": [
    "let ( ++ ) (x1, y1, z1) (x2, y2, z2) = ((x1 +. x2, y1 +. y2, z1 +. z2) : r3)"
   ]
  },
  {
   "cell_type": "code",
   "execution_count": 5,
   "metadata": {
    "vscode": {
     "languageId": "ocaml"
    }
   },
   "outputs": [
    {
     "data": {
      "text/plain": [
       "val ( ++ ) : r3 -> float * float * float -> r3 = <fun>\n"
      ]
     },
     "execution_count": 5,
     "metadata": {},
     "output_type": "execute_result"
    }
   ],
   "source": [
    "let ( ++ ) ((x1, y1, z1) : r3) (x2, y2, z2) = ((x1 +. x2, y1 +. y2, z1 +. z2) : r3)"
   ]
  },
  {
   "cell_type": "code",
   "execution_count": 6,
   "metadata": {
    "vscode": {
     "languageId": "ocaml"
    }
   },
   "outputs": [
    {
     "data": {
      "text/plain": [
       "val ( ++ ) : r3 -> r3 -> r3 = <fun>\n"
      ]
     },
     "execution_count": 6,
     "metadata": {},
     "output_type": "execute_result"
    }
   ],
   "source": [
    "let ( ++ ) ((x1, y1, z1) : r3) ((x2, y2, z2) : r3) = ((x1 +. x2, y1 +. y2, z1 +. z2) : r3)"
   ]
  },
  {
   "cell_type": "code",
   "execution_count": 7,
   "metadata": {
    "vscode": {
     "languageId": "ocaml"
    }
   },
   "outputs": [
    {
     "data": {
      "text/plain": [
       "val ( ++ ) : r3 -> r3 -> r3 = <fun>\n"
      ]
     },
     "execution_count": 7,
     "metadata": {},
     "output_type": "execute_result"
    }
   ],
   "source": [
    "let ( ++ ) ((x1, y1, z1) : r3) ((x2, y2, z2) : r3) : r3 = (x1 +. x2, y1 +. y2, z1 +. z2)"
   ]
  },
  {
   "cell_type": "code",
   "execution_count": 8,
   "metadata": {
    "vscode": {
     "languageId": "ocaml"
    }
   },
   "outputs": [
    {
     "data": {
      "text/plain": [
       "val ( ++ ) : r3 -> r3 -> r3 = <fun>\n"
      ]
     },
     "execution_count": 8,
     "metadata": {},
     "output_type": "execute_result"
    }
   ],
   "source": [
    "let ( ++ ) : r3 -> r3 -> r3 = fun (x1, y1, z1) (x2, y2, z2) -> (x1 +. x2, y1 +. y2, z1 +. z2)"
   ]
  },
  {
   "cell_type": "code",
   "execution_count": 18,
   "metadata": {
    "vscode": {
     "languageId": "ocaml"
    }
   },
   "outputs": [
    {
     "data": {
      "text/plain": [
       "type complex = float * float\n"
      ]
     },
     "execution_count": 18,
     "metadata": {},
     "output_type": "execute_result"
    }
   ],
   "source": [
    "type complex = float * float"
   ]
  },
  {
   "cell_type": "code",
   "execution_count": 19,
   "metadata": {
    "vscode": {
     "languageId": "ocaml"
    }
   },
   "outputs": [
    {
     "data": {
      "text/plain": [
       "val conj : complex -> complex = <fun>\n"
      ]
     },
     "execution_count": 19,
     "metadata": {},
     "output_type": "execute_result"
    }
   ],
   "source": [
    "let conj : complex -> complex =\n",
    "  fun (x, y) -> (x, -.y)"
   ]
  },
  {
   "cell_type": "code",
   "execution_count": 20,
   "metadata": {
    "vscode": {
     "languageId": "ocaml"
    }
   },
   "outputs": [
    {
     "data": {
      "text/plain": [
       "val abs : complex -> float = <fun>\n"
      ]
     },
     "execution_count": 20,
     "metadata": {},
     "output_type": "execute_result"
    }
   ],
   "source": [
    "let abs : complex -> float =\n",
    "  fun (x, y) -> sqrt (x *. x +. y *. y)"
   ]
  },
  {
   "cell_type": "markdown",
   "metadata": {
    "vscode": {
     "languageId": "ocaml"
    }
   },
   "source": [
    "## Zapisi"
   ]
  },
  {
   "cell_type": "code",
   "execution_count": 21,
   "metadata": {
    "vscode": {
     "languageId": "ocaml"
    }
   },
   "outputs": [
    {
     "data": {
      "text/plain": [
       "type complex = { re : float; im : float; }\n"
      ]
     },
     "execution_count": 21,
     "metadata": {},
     "output_type": "execute_result"
    }
   ],
   "source": [
    "type complex = {\n",
    "  re : float;\n",
    "  im : float;\n",
    "}"
   ]
  },
  {
   "cell_type": "code",
   "execution_count": null,
   "metadata": {
    "vscode": {
     "languageId": "ocaml"
    }
   },
   "outputs": [
    {
     "data": {
      "text/plain": [
       "type complex' = { r : float; phi : float; }\n"
      ]
     },
     "metadata": {},
     "output_type": "display_data"
    }
   ],
   "source": [
    "type complex' = {\n",
    "  r : float;\n",
    "  phi : float\n",
    "}"
   ]
  },
  {
   "cell_type": "code",
   "execution_count": 22,
   "metadata": {
    "vscode": {
     "languageId": "ocaml"
    }
   },
   "outputs": [
    {
     "data": {
      "text/plain": [
       "val abs : complex -> float = <fun>\n"
      ]
     },
     "execution_count": 22,
     "metadata": {},
     "output_type": "execute_result"
    }
   ],
   "source": [
    "let abs z = z.re ** 2. +. z.im ** 2. |> sqrt"
   ]
  },
  {
   "cell_type": "code",
   "execution_count": 25,
   "metadata": {
    "vscode": {
     "languageId": "ocaml"
    }
   },
   "outputs": [
    {
     "data": {
      "text/plain": [
       "val conj : complex -> complex = <fun>\n"
      ]
     },
     "execution_count": 25,
     "metadata": {},
     "output_type": "execute_result"
    }
   ],
   "source": [
    "let conj z = { re = z.re; im = -. z.im }"
   ]
  },
  {
   "cell_type": "code",
   "execution_count": 27,
   "metadata": {
    "vscode": {
     "languageId": "ocaml"
    }
   },
   "outputs": [
    {
     "data": {
      "text/plain": [
       "val conj : complex -> complex = <fun>\n"
      ]
     },
     "execution_count": 27,
     "metadata": {},
     "output_type": "execute_result"
    }
   ],
   "source": [
    "let conj { re = x; im = y } = { re = x; im = -. y }"
   ]
  },
  {
   "cell_type": "code",
   "execution_count": 28,
   "metadata": {
    "vscode": {
     "languageId": "ocaml"
    }
   },
   "outputs": [
    {
     "data": {
      "text/plain": [
       "val conj : complex -> complex = <fun>\n"
      ]
     },
     "execution_count": 28,
     "metadata": {},
     "output_type": "execute_result"
    }
   ],
   "source": [
    "let conj { re = re; im = im } = { re = re; im = -. im }"
   ]
  },
  {
   "cell_type": "code",
   "execution_count": 29,
   "metadata": {
    "vscode": {
     "languageId": "ocaml"
    }
   },
   "outputs": [
    {
     "data": {
      "text/plain": [
       "val conj : complex -> complex = <fun>\n"
      ]
     },
     "execution_count": 29,
     "metadata": {},
     "output_type": "execute_result"
    }
   ],
   "source": [
    "let conj { re; im } = { re = re; im = -. im }"
   ]
  },
  {
   "cell_type": "code",
   "execution_count": 30,
   "metadata": {
    "vscode": {
     "languageId": "ocaml"
    }
   },
   "outputs": [
    {
     "data": {
      "text/plain": [
       "val conj : complex -> complex = <fun>\n"
      ]
     },
     "execution_count": 30,
     "metadata": {},
     "output_type": "execute_result"
    }
   ],
   "source": [
    "let conj z = { z with im = -. z.im }"
   ]
  },
  {
   "cell_type": "markdown",
   "metadata": {},
   "source": [
    "## Naštevni tipi"
   ]
  },
  {
   "cell_type": "code",
   "execution_count": null,
   "metadata": {
    "vscode": {
     "languageId": "ocaml"
    }
   },
   "outputs": [],
   "source": [
    "type narocilo = (string * int) list * string * string"
   ]
  },
  {
   "cell_type": "code",
   "execution_count": null,
   "metadata": {
    "vscode": {
     "languageId": "ocaml"
    }
   },
   "outputs": [],
   "source": [
    "type narocilo = {\n",
    "  izdelki : (string * int) list;\n",
    "  naslov : string;\n",
    "  dostava : string;\n",
    "}"
   ]
  },
  {
   "cell_type": "code",
   "execution_count": 39,
   "metadata": {
    "vscode": {
     "languageId": "ocaml"
    }
   },
   "outputs": [
    {
     "data": {
      "text/plain": [
       "type naroceni_izdelek = { izdelek : string; kolicina : int; }\n"
      ]
     },
     "execution_count": 39,
     "metadata": {},
     "output_type": "execute_result"
    },
    {
     "data": {
      "text/plain": [
       "type narocilo = {\n",
       "  izdelki : naroceni_izdelek list;\n",
       "  naslov : string;\n",
       "  dostava : string;\n",
       "}\n"
      ]
     },
     "execution_count": 39,
     "metadata": {},
     "output_type": "execute_result"
    },
    {
     "data": {
      "text/plain": [
       "val primer : narocilo list =\n",
       "  [{izdelki = [{izdelek = \"Lego kocke\"; kolicina = 10}];\n",
       "    naslov = \"Pisarna 5.19\"; dostava = \"po pošti\"};\n",
       "   {izdelki = [{izdelek = \"Lego kocke\"; kolicina = 10}];\n",
       "    naslov = \"Pisarna 5.07\"; dostava = \"osebno\"};\n",
       "   {izdelki = [{izdelek = \"Lego kocke\"; kolicina = 10}];\n",
       "    naslov = \"Pisarna P.23\"; dostava = \"osebni prevzem\"}]\n"
      ]
     },
     "execution_count": 39,
     "metadata": {},
     "output_type": "execute_result"
    },
    {
     "data": {
      "text/plain": [
       "val osebni_prevzemi : narocilo list -> narocilo list = <fun>\n"
      ]
     },
     "execution_count": 39,
     "metadata": {},
     "output_type": "execute_result"
    },
    {
     "data": {
      "text/plain": [
       "val rezultat : narocilo list =\n",
       "  [{izdelki = [{izdelek = \"Lego kocke\"; kolicina = 10}];\n",
       "    naslov = \"Pisarna 5.07\"; dostava = \"osebno\"}]\n"
      ]
     },
     "execution_count": 39,
     "metadata": {},
     "output_type": "execute_result"
    }
   ],
   "source": [
    "type naroceni_izdelek = {\n",
    "  izdelek : string;\n",
    "  kolicina : int;\n",
    "}\n",
    "type narocilo = {\n",
    "  izdelki : naroceni_izdelek list;\n",
    "  naslov : string;\n",
    "  dostava : string;\n",
    "}\n",
    "\n",
    "let primer = [\n",
    "  { izdelki = [{ izdelek = \"Lego kocke\"; kolicina = 10}]; naslov = \"Pisarna 5.19\"; dostava = \"po pošti\"};\n",
    "  { izdelki = [{ izdelek = \"Lego kocke\"; kolicina = 10}]; naslov = \"Pisarna 5.07\"; dostava = \"osebno\"};\n",
    "  { izdelki = [{ izdelek = \"Lego kocke\"; kolicina = 10}]; naslov = \"Pisarna P.23\"; dostava = \"osebni prevzem\"};\n",
    "]\n",
    "\n",
    "let osebni_prevzemi narocila =\n",
    "  narocila\n",
    "  |> List.filter (fun narocilo -> narocilo.dostava = \"osebno\")\n",
    "\n",
    "let rezultat = osebni_prevzemi primer"
   ]
  },
  {
   "cell_type": "code",
   "execution_count": 40,
   "metadata": {
    "vscode": {
     "languageId": "ocaml"
    }
   },
   "outputs": [
    {
     "data": {
      "text/plain": [
       "type naroceni_izdelek = { izdelek : string; kolicina : int; }\n"
      ]
     },
     "execution_count": 40,
     "metadata": {},
     "output_type": "execute_result"
    },
    {
     "data": {
      "text/plain": [
       "type narocilo = {\n",
       "  izdelki : naroceni_izdelek list;\n",
       "  naslov : string;\n",
       "  dostava : int;\n",
       "}\n"
      ]
     },
     "execution_count": 40,
     "metadata": {},
     "output_type": "execute_result"
    },
    {
     "data": {
      "text/plain": [
       "val _PO_POSTI : int = 1\n"
      ]
     },
     "execution_count": 40,
     "metadata": {},
     "output_type": "execute_result"
    },
    {
     "data": {
      "text/plain": [
       "val _OSEBNI_PREVZEM : int = 2\n"
      ]
     },
     "execution_count": 40,
     "metadata": {},
     "output_type": "execute_result"
    },
    {
     "data": {
      "text/plain": [
       "val primer : narocilo list =\n",
       "  [{izdelki = [{izdelek = \"Lego kocke\"; kolicina = 10}];\n",
       "    naslov = \"Pisarna 5.19\"; dostava = 1};\n",
       "   {izdelki = [{izdelek = \"Lego kocke\"; kolicina = 10}];\n",
       "    naslov = \"Pisarna 5.07\"; dostava = 2};\n",
       "   {izdelki = [{izdelek = \"Lego kocke\"; kolicina = 10}];\n",
       "    naslov = \"Pisarna P.23\"; dostava = 2}]\n"
      ]
     },
     "execution_count": 40,
     "metadata": {},
     "output_type": "execute_result"
    },
    {
     "data": {
      "text/plain": [
       "val osebni_prevzemi : narocilo list -> narocilo list = <fun>\n"
      ]
     },
     "execution_count": 40,
     "metadata": {},
     "output_type": "execute_result"
    },
    {
     "data": {
      "text/plain": [
       "val rezultat : narocilo list =\n",
       "  [{izdelki = [{izdelek = \"Lego kocke\"; kolicina = 10}];\n",
       "    naslov = \"Pisarna 5.07\"; dostava = 2};\n",
       "   {izdelki = [{izdelek = \"Lego kocke\"; kolicina = 10}];\n",
       "    naslov = \"Pisarna P.23\"; dostava = 2}]\n"
      ]
     },
     "execution_count": 40,
     "metadata": {},
     "output_type": "execute_result"
    }
   ],
   "source": [
    "type naroceni_izdelek = {\n",
    "  izdelek : string;\n",
    "  kolicina : int;\n",
    "}\n",
    "type narocilo = {\n",
    "  izdelki : naroceni_izdelek list;\n",
    "  naslov : string;\n",
    "  dostava : int;\n",
    "}\n",
    "\n",
    "let _PO_POSTI = 1\n",
    "let _OSEBNI_PREVZEM = 2\n",
    "\n",
    "let primer = [\n",
    "  { izdelki = [{ izdelek = \"Lego kocke\"; kolicina = 10}]; naslov = \"Pisarna 5.19\"; dostava = _PO_POSTI};\n",
    "  { izdelki = [{ izdelek = \"Lego kocke\"; kolicina = 10}]; naslov = \"Pisarna 5.07\"; dostava = _OSEBNI_PREVZEM};\n",
    "  { izdelki = [{ izdelek = \"Lego kocke\"; kolicina = 10}]; naslov = \"Pisarna P.23\"; dostava = 3};\n",
    "]\n",
    "\n",
    "let osebni_prevzemi narocila =\n",
    "  narocila\n",
    "  |> List.filter (fun narocilo -> narocilo.dostava = _OSEBNI_PREVZEM)\n",
    "\n",
    "let rezultat = osebni_prevzemi primer"
   ]
  },
  {
   "cell_type": "code",
   "execution_count": 42,
   "metadata": {
    "vscode": {
     "languageId": "ocaml"
    }
   },
   "outputs": [
    {
     "data": {
      "text/plain": [
       "type naroceni_izdelek = { izdelek : string; kolicina : int; }\n"
      ]
     },
     "execution_count": 42,
     "metadata": {},
     "output_type": "execute_result"
    },
    {
     "data": {
      "text/plain": [
       "type vrsta_dostave = PoPosti | OsebniPrevzem\n"
      ]
     },
     "execution_count": 42,
     "metadata": {},
     "output_type": "execute_result"
    },
    {
     "data": {
      "text/plain": [
       "type narocilo = {\n",
       "  izdelki : naroceni_izdelek list;\n",
       "  naslov : string;\n",
       "  dostava : vrsta_dostave;\n",
       "}\n"
      ]
     },
     "execution_count": 42,
     "metadata": {},
     "output_type": "execute_result"
    },
    {
     "data": {
      "text/plain": [
       "val primer : narocilo list =\n",
       "  [{izdelki = [{izdelek = \"Lego kocke\"; kolicina = 10}];\n",
       "    naslov = \"Pisarna 5.19\"; dostava = PoPosti};\n",
       "   {izdelki = [{izdelek = \"Lego kocke\"; kolicina = 10}];\n",
       "    naslov = \"Pisarna 5.07\"; dostava = OsebniPrevzem};\n",
       "   {izdelki = [{izdelek = \"Lego kocke\"; kolicina = 10}];\n",
       "    naslov = \"Pisarna P.23\"; dostava = OsebniPrevzem}]\n"
      ]
     },
     "execution_count": 42,
     "metadata": {},
     "output_type": "execute_result"
    },
    {
     "data": {
      "text/plain": [
       "val osebni_prevzemi : narocilo list -> narocilo list = <fun>\n"
      ]
     },
     "execution_count": 42,
     "metadata": {},
     "output_type": "execute_result"
    },
    {
     "data": {
      "text/plain": [
       "val rezultat : narocilo list =\n",
       "  [{izdelki = [{izdelek = \"Lego kocke\"; kolicina = 10}];\n",
       "    naslov = \"Pisarna 5.07\"; dostava = OsebniPrevzem};\n",
       "   {izdelki = [{izdelek = \"Lego kocke\"; kolicina = 10}];\n",
       "    naslov = \"Pisarna P.23\"; dostava = OsebniPrevzem}]\n"
      ]
     },
     "execution_count": 42,
     "metadata": {},
     "output_type": "execute_result"
    }
   ],
   "source": [
    "type naroceni_izdelek = {\n",
    "  izdelek : string;\n",
    "  kolicina : int;\n",
    "}\n",
    "type vrsta_dostave =\n",
    "  | PoPosti\n",
    "  | OsebniPrevzem\n",
    "type narocilo = {\n",
    "  izdelki : naroceni_izdelek list;\n",
    "  naslov : string;\n",
    "  dostava : vrsta_dostave;\n",
    "}\n",
    "\n",
    "let primer = [\n",
    "  { izdelki = [{ izdelek = \"Lego kocke\"; kolicina = 10}]; naslov = \"Pisarna 5.19\"; dostava = PoPosti};\n",
    "  { izdelki = [{ izdelek = \"Lego kocke\"; kolicina = 10}]; naslov = \"Pisarna 5.07\"; dostava = OsebniPrevzem};\n",
    "  { izdelki = [{ izdelek = \"Lego kocke\"; kolicina = 10}]; naslov = \"Pisarna P.23\"; dostava = OsebniPrevzem};\n",
    "]\n",
    "\n",
    "let osebni_prevzemi narocila =\n",
    "  narocila\n",
    "  |> List.filter (fun narocilo -> narocilo.dostava = OsebniPrevzem)\n",
    "\n",
    "let cena_dostave narocilo =\n",
    "  match narocilo.dostava with\n",
    "  | OsebniPrevzem -> 0.\n",
    "  | PoPosti -> 2.5\n",
    "\n",
    "let rezultat = osebni_prevzemi primer"
   ]
  },
  {
   "cell_type": "code",
   "execution_count": 45,
   "metadata": {
    "vscode": {
     "languageId": "ocaml"
    }
   },
   "outputs": [
    {
     "data": {
      "text/plain": [
       "type naroceni_izdelek = { izdelek : string; kolicina : int; }\n"
      ]
     },
     "execution_count": 45,
     "metadata": {},
     "output_type": "execute_result"
    }
   ],
   "source": [
    "type naroceni_izdelek = {\n",
    "  izdelek : string;\n",
    "  kolicina : int;\n",
    "}"
   ]
  },
  {
   "cell_type": "code",
   "execution_count": 47,
   "metadata": {
    "vscode": {
     "languageId": "ocaml"
    }
   },
   "outputs": [
    {
     "data": {
      "text/plain": [
       "type vrsta_dostave = PoPosti | OsebniPrevzem | HitraDostava\n"
      ]
     },
     "execution_count": 47,
     "metadata": {},
     "output_type": "execute_result"
    },
    {
     "data": {
      "text/plain": [
       "type narocilo = {\n",
       "  izdelki : naroceni_izdelek list;\n",
       "  naslov : string;\n",
       "  dostava : vrsta_dostave;\n",
       "}\n"
      ]
     },
     "execution_count": 47,
     "metadata": {},
     "output_type": "execute_result"
    },
    {
     "data": {
      "text/plain": [
       "val cena_dostave : narocilo -> float = <fun>\n"
      ]
     },
     "execution_count": 47,
     "metadata": {},
     "output_type": "execute_result"
    }
   ],
   "source": [
    "type vrsta_dostave =\n",
    "  | PoPosti\n",
    "  | OsebniPrevzem\n",
    "  | HitraDostava\n",
    "type narocilo = {\n",
    "  izdelki : naroceni_izdelek list;\n",
    "  naslov : string;\n",
    "  dostava : vrsta_dostave;\n",
    "}\n",
    "\n",
    "let cena_dostave narocilo =\n",
    "  match narocilo.dostava with\n",
    "  | OsebniPrevzem -> 0.\n",
    "  | PoPosti -> 2.5\n",
    "  | HitraDostava -> 4."
   ]
  },
  {
   "cell_type": "code",
   "execution_count": 6,
   "metadata": {
    "vscode": {
     "languageId": "ocaml"
    }
   },
   "outputs": [
    {
     "data": {
      "text/plain": [
       "type naslov = string\n"
      ]
     },
     "execution_count": 6,
     "metadata": {},
     "output_type": "execute_result"
    },
    {
     "data": {
      "text/plain": [
       "type telefon = string\n"
      ]
     },
     "execution_count": 6,
     "metadata": {},
     "output_type": "execute_result"
    },
    {
     "data": {
      "text/plain": [
       "type naroceni_izdelek = { izdelek : string; kolicina : int; }\n"
      ]
     },
     "execution_count": 6,
     "metadata": {},
     "output_type": "execute_result"
    },
    {
     "data": {
      "text/plain": [
       "type vrsta_dostave =\n",
       "    PoPosti of naslov\n",
       "  | OsebniPrevzem\n",
       "  | HitraDostava of naslov * telefon\n"
      ]
     },
     "execution_count": 6,
     "metadata": {},
     "output_type": "execute_result"
    },
    {
     "data": {
      "text/plain": [
       "type narocilo = { izdelki : naroceni_izdelek list; dostava : vrsta_dostave; }\n"
      ]
     },
     "execution_count": 6,
     "metadata": {},
     "output_type": "execute_result"
    },
    {
     "data": {
      "text/plain": [
       "val primer : narocilo list =\n",
       "  [{izdelki = [{izdelek = \"Lego kocke\"; kolicina = 10}];\n",
       "    dostava = PoPosti \"Pisarna 5.19\"};\n",
       "   {izdelki = [{izdelek = \"Lego kocke\"; kolicina = 10}];\n",
       "    dostava = OsebniPrevzem};\n",
       "   {izdelki = [{izdelek = \"Lego kocke\"; kolicina = 10}];\n",
       "    dostava = OsebniPrevzem}]\n"
      ]
     },
     "execution_count": 6,
     "metadata": {},
     "output_type": "execute_result"
    }
   ],
   "source": [
    "type naslov = string\n",
    "type telefon = string\n",
    "type naroceni_izdelek = { izdelek : string; kolicina : int }\n",
    "\n",
    "type vrsta_dostave =\n",
    "  | PoPosti of naslov\n",
    "  | OsebniPrevzem\n",
    "  | HitraDostava of naslov * telefon\n",
    "\n",
    "type narocilo = {\n",
    "  izdelki : naroceni_izdelek list;\n",
    "  dostava : vrsta_dostave;\n",
    "}\n",
    "\n",
    "let primer = [\n",
    "  { izdelki = [{ izdelek = \"Lego kocke\"; kolicina = 10}]; dostava = PoPosti \"Pisarna 5.19\"};\n",
    "  { izdelki = [{ izdelek = \"Lego kocke\"; kolicina = 10}]; dostava = OsebniPrevzem};\n",
    "  { izdelki = [{ izdelek = \"Lego kocke\"; kolicina = 10}]; dostava = HitraDostava (\"01 4766 600\", \"Pisarna P.23\")};\n",
    "]"
   ]
  },
  {
   "cell_type": "code",
   "execution_count": 8,
   "metadata": {
    "vscode": {
     "languageId": "ocaml"
    }
   },
   "outputs": [
    {
     "data": {
      "text/plain": [
       "type naslov = string\n"
      ]
     },
     "execution_count": 8,
     "metadata": {},
     "output_type": "execute_result"
    },
    {
     "data": {
      "text/plain": [
       "type telefon = string\n"
      ]
     },
     "execution_count": 8,
     "metadata": {},
     "output_type": "execute_result"
    },
    {
     "data": {
      "text/plain": [
       "type naroceni_izdelek = { izdelek : string; kolicina : int; }\n"
      ]
     },
     "execution_count": 8,
     "metadata": {},
     "output_type": "execute_result"
    },
    {
     "data": {
      "text/plain": [
       "type vrsta_dostave =\n",
       "    PoPosti of naslov\n",
       "  | OsebniPrevzem\n",
       "  | HitraDostava of { naslov : naslov; telefon : telefon; }\n"
      ]
     },
     "execution_count": 8,
     "metadata": {},
     "output_type": "execute_result"
    },
    {
     "data": {
      "text/plain": [
       "type narocilo = { izdelki : naroceni_izdelek list; dostava : vrsta_dostave; }\n"
      ]
     },
     "execution_count": 8,
     "metadata": {},
     "output_type": "execute_result"
    },
    {
     "data": {
      "text/plain": [
       "val primer : narocilo list =\n",
       "  [{izdelki = [{izdelek = \"Lego kocke\"; kolicina = 10}];\n",
       "    dostava = PoPosti \"Pisarna 5.19\"};\n",
       "   {izdelki = [{izdelek = \"Lego kocke\"; kolicina = 10}];\n",
       "    dostava = OsebniPrevzem};\n",
       "   {izdelki = [{izdelek = \"Lego kocke\"; kolicina = 10}];\n",
       "    dostava = HitraDostava {naslov = \"Pisarna P.23\"; telefon = \"01 4766 600\"}}]\n"
      ]
     },
     "execution_count": 8,
     "metadata": {},
     "output_type": "execute_result"
    }
   ],
   "source": [
    "type naslov = string\n",
    "type telefon = string\n",
    "type naroceni_izdelek = { izdelek : string; kolicina : int }\n",
    "\n",
    "type vrsta_dostave =\n",
    "  | PoPosti of naslov\n",
    "  | OsebniPrevzem\n",
    "  | HitraDostava of { naslov : naslov; telefon : telefon }\n",
    "\n",
    "type narocilo = {\n",
    "  izdelki : naroceni_izdelek list;\n",
    "  dostava : vrsta_dostave;\n",
    "}\n",
    "\n",
    "let primer = [\n",
    "  { izdelki = [{ izdelek = \"Lego kocke\"; kolicina = 10}]; dostava = PoPosti \"Pisarna 5.19\"};\n",
    "  { izdelki = [{ izdelek = \"Lego kocke\"; kolicina = 10}]; dostava = OsebniPrevzem};\n",
    "  { izdelki = [{ izdelek = \"Lego kocke\"; kolicina = 10}]; dostava = HitraDostava { telefon = \"01 4766 600\"; naslov = \"Pisarna P.23\"}};\n",
    "]"
   ]
  },
  {
   "cell_type": "code",
   "execution_count": 12,
   "metadata": {
    "vscode": {
     "languageId": "ocaml"
    }
   },
   "outputs": [
    {
     "data": {
      "text/plain": [
       "type naslov = Naslov of string\n"
      ]
     },
     "execution_count": 12,
     "metadata": {},
     "output_type": "execute_result"
    },
    {
     "data": {
      "text/plain": [
       "type telefon = Telefon of string\n"
      ]
     },
     "execution_count": 12,
     "metadata": {},
     "output_type": "execute_result"
    },
    {
     "data": {
      "text/plain": [
       "type naroceni_izdelek = { izdelek : string; kolicina : int; }\n"
      ]
     },
     "execution_count": 12,
     "metadata": {},
     "output_type": "execute_result"
    },
    {
     "data": {
      "text/plain": [
       "type vrsta_dostave =\n",
       "    PoPosti of naslov\n",
       "  | OsebniPrevzem\n",
       "  | HitraDostava of naslov * telefon\n"
      ]
     },
     "execution_count": 12,
     "metadata": {},
     "output_type": "execute_result"
    },
    {
     "data": {
      "text/plain": [
       "type narocilo = { izdelki : naroceni_izdelek list; dostava : vrsta_dostave; }\n"
      ]
     },
     "execution_count": 12,
     "metadata": {},
     "output_type": "execute_result"
    },
    {
     "data": {
      "text/plain": [
       "val primer : narocilo list =\n",
       "  [{izdelki = [{izdelek = \"Lego kocke\"; kolicina = 10}];\n",
       "    dostava = PoPosti (Naslov \"Pisarna 5.19\")};\n",
       "   {izdelki = [{izdelek = \"Lego kocke\"; kolicina = 10}];\n",
       "    dostava = OsebniPrevzem};\n",
       "   {izdelki = [{izdelek = \"Lego kocke\"; kolicina = 10}];\n",
       "    dostava = HitraDostava (Naslov \"Pisarna P.23\", Telefon \"01 4766 600\")}]\n"
      ]
     },
     "execution_count": 12,
     "metadata": {},
     "output_type": "execute_result"
    }
   ],
   "source": [
    "type naslov =\n",
    "  | Naslov of string\n",
    "type telefon =\n",
    "  | Telefon of string\n",
    "type naroceni_izdelek = { izdelek : string; kolicina : int }\n",
    "\n",
    "type vrsta_dostave =\n",
    "  | PoPosti of naslov\n",
    "  | OsebniPrevzem\n",
    "  | HitraDostava of naslov\n",
    "\n",
    "type narocilo = {\n",
    "  izdelki : naroceni_izdelek list;\n",
    "  dostava : vrsta_dostave;\n",
    "}\n",
    "\n",
    "let primer = [\n",
    "  { izdelki = [{ izdelek = \"Lego kocke\"; kolicina = 10}]; dostava = PoPosti (Naslov \"Pisarna 5.19\")};\n",
    "  { izdelki = [{ izdelek = \"Lego kocke\"; kolicina = 10}]; dostava = OsebniPrevzem};\n",
    "  { izdelki = [{ izdelek = \"Lego kocke\"; kolicina = 10}]; dostava = HitraDostava (Naslov \"Pisarna P.23\", Telefon \"01 4766 600\")};\n",
    "]"
   ]
  },
  {
   "cell_type": "code",
   "execution_count": 13,
   "metadata": {
    "vscode": {
     "languageId": "ocaml"
    }
   },
   "outputs": [
    {
     "data": {
      "text/plain": [
       "type 'a mogoce = Nic | Nekaj of 'a\n"
      ]
     },
     "execution_count": 13,
     "metadata": {},
     "output_type": "execute_result"
    }
   ],
   "source": [
    "(* type 'a option =\n",
    "  | None\n",
    "  | Some of 'a *)\n",
    "\n",
    "type 'a mogoce =\n",
    "  | Nic\n",
    "  | Nekaj of 'a"
   ]
  },
  {
   "cell_type": "code",
   "execution_count": 14,
   "metadata": {
    "vscode": {
     "languageId": "ocaml"
    }
   },
   "outputs": [
    {
     "data": {
      "text/plain": [
       "- : int mogoce = Nekaj 3\n"
      ]
     },
     "execution_count": 14,
     "metadata": {},
     "output_type": "execute_result"
    }
   ],
   "source": [
    "Nekaj 3"
   ]
  },
  {
   "cell_type": "code",
   "execution_count": 15,
   "metadata": {
    "vscode": {
     "languageId": "ocaml"
    }
   },
   "outputs": [
    {
     "data": {
      "text/plain": [
       "type ('a, 'b) vsota = In1 of 'a | In2 of 'b\n"
      ]
     },
     "execution_count": 15,
     "metadata": {},
     "output_type": "execute_result"
    }
   ],
   "source": [
    "type ('a, 'b) vsota =\n",
    "  | In1 of 'a\n",
    "  | In2 of 'b"
   ]
  },
  {
   "cell_type": "code",
   "execution_count": null,
   "metadata": {
    "vscode": {
     "languageId": "ocaml"
    }
   },
   "outputs": [],
   "source": [
    "type boole =\n",
    "  | True\n",
    "  | False"
   ]
  },
  {
   "cell_type": "code",
   "execution_count": null,
   "metadata": {
    "vscode": {
     "languageId": "ocaml"
    }
   },
   "outputs": [],
   "source": [
    "type enota =\n",
    "  | OklepajZaklepaj"
   ]
  },
  {
   "cell_type": "code",
   "execution_count": 16,
   "metadata": {
    "vscode": {
     "languageId": "ocaml"
    }
   },
   "outputs": [
    {
     "data": {
      "text/plain": [
       "type 'a seznam = Prazen | Sestavljen of 'a * 'a seznam\n"
      ]
     },
     "execution_count": 16,
     "metadata": {},
     "output_type": "execute_result"
    }
   ],
   "source": [
    "type 'a seznam =\n",
    "  | Prazen\n",
    "  | Sestavljen of 'a * 'a seznam "
   ]
  },
  {
   "cell_type": "code",
   "execution_count": 17,
   "metadata": {
    "vscode": {
     "languageId": "ocaml"
    }
   },
   "outputs": [
    {
     "data": {
      "text/plain": [
       "type nat = Zero | Succ of nat\n"
      ]
     },
     "execution_count": 17,
     "metadata": {},
     "output_type": "execute_result"
    }
   ],
   "source": [
    "type nat =\n",
    "  | Zero\n",
    "  | Succ of nat"
   ]
  },
  {
   "cell_type": "code",
   "execution_count": 18,
   "metadata": {
    "vscode": {
     "languageId": "ocaml"
    }
   },
   "outputs": [
    {
     "data": {
      "text/plain": [
       "val plus : nat -> nat -> nat = <fun>\n"
      ]
     },
     "execution_count": 18,
     "metadata": {},
     "output_type": "execute_result"
    }
   ],
   "source": [
    "let rec plus m n =\n",
    "  match m with\n",
    "  | Zero -> n\n",
    "  | Succ m' -> Succ (plus m' n)"
   ]
  },
  {
   "cell_type": "code",
   "execution_count": 21,
   "metadata": {
    "vscode": {
     "languageId": "ocaml"
    }
   },
   "outputs": [
    {
     "data": {
      "text/plain": [
       "val dva : nat = Succ (Succ Zero)\n"
      ]
     },
     "execution_count": 21,
     "metadata": {},
     "output_type": "execute_result"
    }
   ],
   "source": [
    "let dva = plus (Succ Zero) (Succ Zero)"
   ]
  },
  {
   "cell_type": "code",
   "execution_count": 20,
   "metadata": {
    "vscode": {
     "languageId": "ocaml"
    }
   },
   "outputs": [
    {
     "data": {
      "text/plain": [
       "val krat : nat -> nat -> nat = <fun>\n"
      ]
     },
     "execution_count": 20,
     "metadata": {},
     "output_type": "execute_result"
    }
   ],
   "source": [
    "let rec krat m n =\n",
    "  match m with\n",
    "  | Zero -> Zero\n",
    "  | Succ m' -> plus (krat m' n) n"
   ]
  },
  {
   "cell_type": "code",
   "execution_count": 22,
   "metadata": {
    "vscode": {
     "languageId": "ocaml"
    }
   },
   "outputs": [
    {
     "data": {
      "text/plain": [
       "val stiri : nat = Succ (Succ (Succ (Succ Zero)))\n"
      ]
     },
     "execution_count": 22,
     "metadata": {},
     "output_type": "execute_result"
    }
   ],
   "source": [
    "let stiri = krat dva dva"
   ]
  },
  {
   "cell_type": "code",
   "execution_count": 23,
   "metadata": {
    "vscode": {
     "languageId": "ocaml"
    }
   },
   "outputs": [
    {
     "data": {
      "text/plain": [
       "val sest : nat = Succ (Succ (Succ (Succ (Succ (Succ Zero)))))\n"
      ]
     },
     "execution_count": 23,
     "metadata": {},
     "output_type": "execute_result"
    }
   ],
   "source": [
    "let sest = plus stiri dva"
   ]
  },
  {
   "cell_type": "code",
   "execution_count": 24,
   "metadata": {
    "vscode": {
     "languageId": "ocaml"
    }
   },
   "outputs": [
    {
     "data": {
      "text/plain": [
       "val sedem : nat = Succ (Succ (Succ (Succ (Succ (Succ (Succ Zero))))))\n"
      ]
     },
     "execution_count": 24,
     "metadata": {},
     "output_type": "execute_result"
    }
   ],
   "source": [
    "let sedem = Succ sest"
   ]
  },
  {
   "cell_type": "code",
   "execution_count": 25,
   "metadata": {
    "vscode": {
     "languageId": "ocaml"
    }
   },
   "outputs": [
    {
     "data": {
      "text/plain": [
       "- : nat =\n",
       "Succ\n",
       " (Succ\n",
       "   (Succ\n",
       "     (Succ\n",
       "       (Succ\n",
       "         (Succ\n",
       "           (Succ\n",
       "             (Succ\n",
       "               (Succ\n",
       "                 (Succ\n",
       "                   (Succ\n",
       "                     (Succ\n",
       "                       (Succ\n",
       "                         (Succ\n",
       "                           (Succ\n",
       "                             (Succ\n",
       "                               (Succ\n",
       "                                 (Succ\n",
       "                                   (Succ\n",
       "                                     (Succ\n",
       "                                       (Succ\n",
       "                                         (Succ\n",
       "                                           (Succ\n",
       "                                             (Succ\n",
       "                                               (Succ\n",
       "                                                 (Succ\n",
       "                                                   (Succ\n",
       "                                                     (Succ\n",
       "                                                       (Succ\n",
       "                                                         (Succ\n",
       "                                                           (Succ\n",
       "                                                             (Succ\n",
       "                                                               (Succ\n",
       "                                                                 (Succ\n",
       "                                                                   (Succ\n",
       "                                                                    (Succ\n",
       "                                                                    (Succ\n",
       "                                                                    (Succ\n",
       "                                                                    (Succ\n",
       "                                                                    (Succ\n",
       "                                                                    (Succ\n",
       "                                                                    (Succ\n",
       "                                                                    Zero)))))))))))))))))))))))))))))))))))))))))\n"
      ]
     },
     "execution_count": 25,
     "metadata": {},
     "output_type": "execute_result"
    }
   ],
   "source": [
    "krat sest sedem"
   ]
  }
 ],
 "metadata": {
  "kernelspec": {
   "display_name": "OCaml 4.14",
   "language": "OCaml",
   "name": "ocaml-jupyter"
  },
  "language_info": {
   "codemirror_mode": "text/x-ocaml",
   "file_extension": ".ml",
   "mimetype": "text/x-ocaml",
   "name": "OCaml",
   "nbconverter_exporter": null,
   "pygments_lexer": "OCaml",
   "version": "4.14.2"
  }
 },
 "nbformat": 4,
 "nbformat_minor": 2
}
