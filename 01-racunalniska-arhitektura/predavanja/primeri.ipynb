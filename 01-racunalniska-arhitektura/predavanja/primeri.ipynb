{
 "cells": [
  {
   "cell_type": "markdown",
   "metadata": {},
   "source": [
    "# Računalniška arhitektura"
   ]
  },
  {
   "cell_type": "markdown",
   "metadata": {},
   "source": [
    "## Paul Falstad: [Circuit Simulator Applet](https://www.falstad.com/circuit/)"
   ]
  },
  {
   "cell_type": "markdown",
   "metadata": {},
   "source": [
    "### Električno vezje"
   ]
  },
  {
   "cell_type": "markdown",
   "metadata": {},
   "source": [
    "```\n",
    "$ 1 0.000005 10.20027730826997 50 5 50\n",
    "v 48 336 48 80 0 0 40 5 0 0 0.5\n",
    "w 128 80 368 80 0\n",
    "r 368 80 368 144 0 1000\n",
    "w 48 80 128 80 0\n",
    "w 48 336 368 336 0\n",
    "162 368 208 512 208 1 2.1024259 0 1 0 0.01\n",
    "w 512 208 512 336 0\n",
    "w 512 336 368 336 0\n",
    "s 368 144 368 208 0 1 false\n",
    "```"
   ]
  },
  {
   "cell_type": "markdown",
   "metadata": {},
   "source": [
    "### Tranzistor"
   ]
  },
  {
   "cell_type": "markdown",
   "metadata": {},
   "source": [
    "```\n",
    "$ 1 0.000005 10.20027730826997 50 5 50\n",
    "v 48 336 48 80 0 0 40 5 0 0 0.5\n",
    "w 128 80 368 80 0\n",
    "162 208 176 336 176 1 2.1024259 1 0 0 0.01\n",
    "r 368 80 368 160 0 1000\n",
    "r 128 176 208 176 0 1000\n",
    "w 48 80 128 80 0\n",
    "t 336 176 368 176 0 1 0 0 100\n",
    "w 48 336 368 336 0\n",
    "162 368 208 512 208 1 2.1024259 0 1 0 0.01\n",
    "w 512 208 512 336 0\n",
    "w 512 336 368 336 0\n",
    "s 128 80 128 176 0 1 false\n",
    "w 368 192 368 208 0\n",
    "```"
   ]
  },
  {
   "cell_type": "markdown",
   "metadata": {},
   "source": [
    "### Inverter"
   ]
  },
  {
   "cell_type": "markdown",
   "metadata": {},
   "source": [
    "```\n",
    "$ 1 0.000005 10.20027730826997 50 5 50\n",
    "v 48 336 48 80 0 0 40 5 0 0 0.5\n",
    "w 128 80 368 80 0\n",
    "w 368 192 368 336 0\n",
    "162 208 176 336 176 1 2.1024259 1 0 0 0.01\n",
    "r 368 80 368 160 0 1000\n",
    "r 128 176 208 176 0 1000\n",
    "w 48 80 128 80 0\n",
    "t 336 176 368 176 0 1 0 0 100\n",
    "w 48 336 368 336 0\n",
    "162 368 160 512 160 1 2.1024259 0 1 0 0.01\n",
    "w 512 160 512 336 0\n",
    "w 512 336 368 336 0\n",
    "s 128 80 128 176 0 1 false\n",
    "```"
   ]
  },
  {
   "cell_type": "markdown",
   "metadata": {
    "vscode": {
     "languageId": "plaintext"
    }
   },
   "source": [
    "### NAND"
   ]
  },
  {
   "cell_type": "markdown",
   "metadata": {},
   "source": [
    "```\n",
    "$ 1 0.000005 10.20027730826997 50 5 50\n",
    "v 48 336 48 80 0 0 40 5 0 0 0.5\n",
    "w 128 80 368 80 0\n",
    "w 368 192 368 224 0\n",
    "162 208 176 336 176 1 2.1024259 1 0 0 0.01\n",
    "r 368 80 368 160 0 1000\n",
    "r 128 176 208 176 0 1000\n",
    "w 96 80 128 80 0\n",
    "t 336 176 368 176 0 1 0 0 100\n",
    "w 48 336 368 336 0\n",
    "162 368 160 512 160 1 2.1024259 0 1 0 0.01\n",
    "w 512 160 512 336 0\n",
    "w 512 336 368 336 0\n",
    "s 128 80 128 176 0 1 false\n",
    "t 336 240 368 240 0 1 0 0 100\n",
    "w 368 256 368 336 0\n",
    "162 208 240 336 240 1 2.1024259 1 0 0 0.01\n",
    "r 96 240 208 240 0 1000\n",
    "s 96 80 96 176 0 1 false\n",
    "w 48 80 96 80 0\n",
    "w 96 176 96 240 0\n",
    "```"
   ]
  },
  {
   "cell_type": "markdown",
   "metadata": {},
   "source": [
    "## Računalniške arhitekture"
   ]
  },
  {
   "cell_type": "markdown",
   "metadata": {},
   "source": [
    "### Število možnih arhitektur"
   ]
  },
  {
   "cell_type": "code",
   "execution_count": 119,
   "metadata": {},
   "outputs": [
    {
     "data": {
      "text/plain": [
       "32317006071311007300714876688669951960444102669715484032130345427524655138867890893197201411522913463688717960921898019494119559150490921095088152386448283120630877367300996091750197750389652106796057638384067568276792218642619756161838094338476170470581645852036305042887575891541065808607552399123930385521914333389668342420684974786564569494856176035326322058077805659331026192708460314150258592864177116725943603718461857357598351152301645904403697613233287231227125684710820209725157101726931323469678542580656697935045997268352998638215525166389437335543602135433229604645318478604952148193555853611059596230656"
      ]
     },
     "execution_count": 119,
     "metadata": {},
     "output_type": "execute_result"
    }
   ],
   "source": [
    "256 ** 256"
   ]
  },
  {
   "cell_type": "markdown",
   "metadata": {},
   "source": [
    "$$A = S^S = (2^B)^{2^B}$$"
   ]
  },
  {
   "cell_type": "code",
   "execution_count": 120,
   "metadata": {},
   "outputs": [],
   "source": [
    "def stevilo_arhitektur(stevilo_bitov):\n",
    "    stevilo_stanj = 2 ** stevilo_bitov\n",
    "    return stevilo_stanj ** stevilo_stanj"
   ]
  },
  {
   "cell_type": "code",
   "execution_count": 121,
   "metadata": {},
   "outputs": [
    {
     "data": {
      "text/plain": [
       "32317006071311007300714876688669951960444102669715484032130345427524655138867890893197201411522913463688717960921898019494119559150490921095088152386448283120630877367300996091750197750389652106796057638384067568276792218642619756161838094338476170470581645852036305042887575891541065808607552399123930385521914333389668342420684974786564569494856176035326322058077805659331026192708460314150258592864177116725943603718461857357598351152301645904403697613233287231227125684710820209725157101726931323469678542580656697935045997268352998638215525166389437335543602135433229604645318478604952148193555853611059596230656"
      ]
     },
     "execution_count": 121,
     "metadata": {},
     "output_type": "execute_result"
    }
   ],
   "source": [
    "stevilo_arhitektur(8)"
   ]
  },
  {
   "cell_type": "markdown",
   "metadata": {},
   "source": [
    "$$\\log_{10} A = \\log_{10} S^S = S \\log_{10} S = S \\log_{10} (2^B) = S B \\log_{10} 2$$"
   ]
  },
  {
   "cell_type": "code",
   "execution_count": 122,
   "metadata": {},
   "outputs": [],
   "source": [
    "from math import log10\n",
    "\n",
    "def ocena_stevila_arhitektur(stevilo_bitov):\n",
    "    stevilo_stanj = 2 ** stevilo_bitov\n",
    "    logA = stevilo_stanj * stevilo_bitov * log10(2)\n",
    "    e = int(logA)\n",
    "    logM = logA - e\n",
    "    mantisa = f\"{10 ** logM} × 10\"\n",
    "    print(len(mantisa) * \" \" + f\"{e}\")\n",
    "    print(mantisa)"
   ]
  },
  {
   "cell_type": "code",
   "execution_count": 123,
   "metadata": {},
   "outputs": [
    {
     "name": "stdout",
     "output_type": "stream",
     "text": [
      "                       616\n",
      "3.2317006071311436 × 10\n"
     ]
    }
   ],
   "source": [
    "ocena_stevila_arhitektur(8)"
   ]
  },
  {
   "cell_type": "markdown",
   "metadata": {},
   "source": [
    "$$\\log_{10} (\\log_{10} A) = \\log_{10} (S B \\log_{10} 2) = \\log_{10} S + \\log_{10} B + \\log_{10}^2 2 = \\log_{10} 2^B + \\log_{10} B + \\log_{10}^2 2 = B \\log_{10} 2 + \\log_{10} B + \\log_{10}^2 2$$"
   ]
  },
  {
   "cell_type": "code",
   "execution_count": 116,
   "metadata": {},
   "outputs": [],
   "source": [
    "def ocena_ocene_stevila_arhitektur(stevilo_bitov):\n",
    "    log2 = log10(2)\n",
    "    loglog2 = log10(log2)\n",
    "    logB = log10(stevilo_bitov)\n",
    "    loglogA = stevilo_bitov * log2 + logB + loglog2\n",
    "    logE = int(loglogA)\n",
    "    loglogM = loglogA - logE\n",
    "    logM = 10 ** loglogM\n",
    "    mantisa = f\"  {logM} × 10\"\n",
    "    print(len(mantisa) * \" \" + f\"{logE}\")\n",
    "    print(mantisa)\n",
    "    print(10)"
   ]
  },
  {
   "cell_type": "code",
   "execution_count": 125,
   "metadata": {},
   "outputs": [
    {
     "name": "stdout",
     "output_type": "stream",
     "text": [
      "                         2525229\n",
      "  1.0768780152634845 × 10\n",
      "10\n"
     ]
    }
   ],
   "source": [
    "ocena_ocene_stevila_arhitektur(8 * 1024 * 1024)"
   ]
  },
  {
   "cell_type": "markdown",
   "metadata": {},
   "source": [
    "### von Neumannova arhitektura"
   ]
  },
  {
   "cell_type": "markdown",
   "metadata": {},
   "source": [
    "![von Neumann](https://upload.wikimedia.org/wikipedia/commons/thumb/5/5e/JohnvonNeumann-LosAlamos.gif/460px-JohnvonNeumann-LosAlamos.gif)\n",
    "\n",
    "[John von Neumann](https://en.wikipedia.org/wiki/John_von_Neumann), * 1903, Budimpešta † 1957, Washington D.C."
   ]
  },
  {
   "cell_type": "markdown",
   "metadata": {
    "vscode": {
     "languageId": "plaintext"
    }
   },
   "source": [
    "![von Neumannova arhitektura](von-neumannova-arhitektura.drawio.png)"
   ]
  },
  {
   "cell_type": "markdown",
   "metadata": {},
   "source": [
    "### Harvardska arhitektura"
   ]
  },
  {
   "cell_type": "markdown",
   "metadata": {
    "vscode": {
     "languageId": "plaintext"
    }
   },
   "source": [
    "![Harvardska arhitektura](harvardska-arhitektura.drawio.png)"
   ]
  },
  {
   "cell_type": "markdown",
   "metadata": {},
   "source": [
    "## @Schweigi: [Simple 8-bit Assembler Simulator](https://schweigi.github.io/assembler-simulator/)"
   ]
  },
  {
   "cell_type": "markdown",
   "metadata": {},
   "source": [
    "### Primerjave različnih vrst pomnilnikov"
   ]
  },
  {
   "cell_type": "markdown",
   "metadata": {},
   "source": [
    "pomnilnik       | velikost | čas dostopa | čas dostopa × 10⁹\n",
    "--------------: | -------: | :---------: | :---------------:\n",
    "register        | 32 × 8 B | < 1 ns      | < 1 s\n",
    "L1 medpomnilnik |   128 kB | 1 ns        | 1 s\n",
    "L2 medpomnilnik |     2 MB | 10 ns       | 10 s\n",
    "L3 medpomnilnik |    32 MB | 20 ns       | 20 s\n",
    "RAM             |     8 GB | 100 ns      | 2 min\n",
    "SSD             |     1 TB | 1 ms        | 11 dni\n",
    "trdi disk       |     3 TB | 10 ms       | 4 meseci\n",
    "internet        |   256 ZB | 200 ms      | 6 let"
   ]
  },
  {
   "cell_type": "markdown",
   "metadata": {},
   "source": [
    "### Povzetek ukazov"
   ]
  },
  {
   "cell_type": "markdown",
   "metadata": {},
   "source": [
    "ukaz                      | opis \n",
    "------------------------: | --------------------------------------------------------------------\n",
    "`MOV` _R_, _V_            | premakni vrednost _V_ v register _R_          \n",
    "`DB` _C_                  | zapiši konstanto _C_ v pomnilnik\n",
    "`ADD`/`SUB` _R_, _V_      | register _R_ povečaj/zmanjšaj za _V_\n",
    "`INC`/`DEC` _R_           | register _R_ povečaj/zmanjšaj za 1\n",
    "`MUL`/`DIV` _V_           | register _A_ pomnoži/deli z _V_\n",
    "`AND`/`OR`/`XOR` _R_, _V_ | v register _R_ shrani rezultat logične operacije _R op v_\n",
    "`NOT` _R_                 | negiraj register _R_\n",
    "`SHL`/`SHR` _R_, _V_      | register _R_ pomakni za _V_ mest v levo/desno\n",
    "`CMP` _R_, _V_            | primerjaj register _R_ z vrednostjo _V_\n",
    "`JMP` _A_                 | skoči na naslov _A_\n",
    "`JA`/`JAE` _A_            | skoči na naslov _A_, če je v zadnji primerjavi veljalo _x > y_ / _x ≥ y_\n",
    "`JB`/`JBE` _A_            | skoči na naslov _A_, če je v zadnji primerjavi veljalo _x < y_ / _x ≤ y_\n",
    "`JE`/`JNE` _A_            | skoči na naslov _A_, če je v zadnji primerjavi veljalo _x = y_ / _x ≠ y_\n",
    "`CALL` _A_                | skoči na naslov _A_ in shrani naslov naslednjega ukaza na vrh sklada\n",
    "`RET`                     | iz funkcije se vrni na naslov na vrhu sklada\n",
    "`PUSH` _V_                | vrednost _V_ shrani na vrh sklada\n",
    "`POP` _R_                 | snemi vrednost s sklada in jo shrani v register _R_\n",
    "`HLT`                     | ustavi izvajanje programa\n",
    "\n",
    "Register _R_ je lahko katerikoli od registrov `A`, `B`, `C`, `D`, včasih tudi `SP`. Vrednost _V_ je lahko register, konstanta ali naslov v pomnilniku. Konstanta _C_ je lahko število v enem od številskih sistemov, znak ali niz znakov."
   ]
  }
 ],
 "metadata": {
  "kernelspec": {
   "display_name": "venv",
   "language": "python",
   "name": "python3"
  },
  "language_info": {
   "codemirror_mode": {
    "name": "ipython",
    "version": 3
   },
   "file_extension": ".py",
   "mimetype": "text/x-python",
   "name": "python",
   "nbconvert_exporter": "python",
   "pygments_lexer": "ipython3",
   "version": "3.11.2"
  }
 },
 "nbformat": 4,
 "nbformat_minor": 2
}
