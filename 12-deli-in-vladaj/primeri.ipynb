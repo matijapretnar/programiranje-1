{
 "cells": [
  {
   "cell_type": "markdown",
   "metadata": {},
   "source": [
    "# Deli in vladaj"
   ]
  },
  {
   "cell_type": "markdown",
   "metadata": {
    "vscode": {
     "languageId": "ocaml"
    }
   },
   "source": [
    "1. nalogo **razdelimo** na **za faktor manjše** podnaloge\n",
    "2. podnaloge **rekurzivno rešimo**\n",
    "3. dobljene rešitve **združimo** v rešitev prvotne naloge (lastnost optimalne podstrukture)\n",
    "\n",
    "![](../../zapiski/slike/deli-in-vladaj.png)"
   ]
  },
  {
   "cell_type": "markdown",
   "metadata": {},
   "source": [
    "## Hitro potenciranje"
   ]
  },
  {
   "cell_type": "code",
   "execution_count": null,
   "metadata": {
    "vscode": {
     "languageId": "ocaml"
    }
   },
   "outputs": [],
   "source": [
    "let rec potenciraj a =\n",
    "  function\n",
    "  | 0 -> 1\n",
    "  | n -> a * potenciraj a (n - 1)"
   ]
  },
  {
   "cell_type": "code",
   "execution_count": 2,
   "metadata": {
    "vscode": {
     "languageId": "ocaml"
    }
   },
   "outputs": [
    {
     "data": {
      "text/plain": [
       "val kvadriraj : int -> int = <fun>\n"
      ]
     },
     "execution_count": 2,
     "metadata": {},
     "output_type": "execute_result"
    }
   ],
   "source": [
    "let kvadriraj x = x * x"
   ]
  },
  {
   "cell_type": "code",
   "execution_count": 3,
   "metadata": {
    "vscode": {
     "languageId": "ocaml"
    }
   },
   "outputs": [
    {
     "data": {
      "text/plain": [
       "val potenciraj' : int -> int -> int = <fun>\n"
      ]
     },
     "execution_count": 3,
     "metadata": {},
     "output_type": "execute_result"
    }
   ],
   "source": [
    "let rec potenciraj' a =\n",
    "  function\n",
    "  | 0 -> 1\n",
    "  | n ->\n",
    "      if n mod 2 = 0 then\n",
    "        kvadriraj @@ potenciraj' a (n / 2)\n",
    "      else\n",
    "        a * (kvadriraj @@ potenciraj' a ((n - 1) / 2))"
   ]
  },
  {
   "cell_type": "code",
   "execution_count": 5,
   "metadata": {
    "vscode": {
     "languageId": "ocaml"
    }
   },
   "outputs": [
    {
     "data": {
      "text/plain": [
       "- : int = -61959248125573647\n"
      ]
     },
     "execution_count": 5,
     "metadata": {},
     "output_type": "execute_result"
    }
   ],
   "source": [
    "potenciraj' 7 42"
   ]
  },
  {
   "cell_type": "markdown",
   "metadata": {},
   "source": [
    "### Fibonaccijeva števila"
   ]
  },
  {
   "cell_type": "code",
   "execution_count": null,
   "metadata": {
    "vscode": {
     "languageId": "ocaml"
    }
   },
   "outputs": [],
   "source": [
    "let ostanek = 10000000000\n",
    "\n",
    "let rec fib = function\n",
    "  | 0 -> 0\n",
    "  | 1 -> 1\n",
    "  | n -> fib (n - 1) + fib (n - 2)\n",
    "\n",
    "let fib' =\n",
    "  let rec aux a b = function\n",
    "  | 0 -> a\n",
    "  | n -> aux (b mod ostanek) ((a + b) mod ostanek) (n - 1)\n",
    "  in\n",
    "  aux 0 1"
   ]
  },
  {
   "cell_type": "code",
   "execution_count": null,
   "metadata": {
    "vscode": {
     "languageId": "ocaml"
    }
   },
   "outputs": [],
   "source": [
    "fib 10"
   ]
  },
  {
   "cell_type": "code",
   "execution_count": null,
   "metadata": {
    "vscode": {
     "languageId": "ocaml"
    }
   },
   "outputs": [],
   "source": [
    "fib' 10"
   ]
  },
  {
   "cell_type": "code",
   "execution_count": null,
   "metadata": {
    "vscode": {
     "languageId": "ocaml"
    }
   },
   "outputs": [],
   "source": [
    "type matrika = {\n",
    "    _11: int; _12: int; _21: int; _22: int\n",
    "}\n",
    "\n",
    "let zmnozi a b = {\n",
    "    _11 = a._11 * b._11 + a._12 * b._21;\n",
    "    _21 = a._21 * b._11 + a._22 * b._21;\n",
    "    _12 = a._11 * b._12 + a._12 * b._22;\n",
    "    _22 = a._21 * b._12 + a._22 * b._22\n",
    "}\n",
    "\n",
    "let ostanek_matrike a m = {\n",
    "    _11 = a._11 mod m;\n",
    "    _12 = a._12 mod m;\n",
    "    _21 = a._21 mod m;\n",
    "    _22 = a._22 mod m\n",
    "}"
   ]
  },
  {
   "cell_type": "markdown",
   "metadata": {
    "vscode": {
     "languageId": "ocaml"
    }
   },
   "source": [
    "## Urejanje"
   ]
  },
  {
   "cell_type": "code",
   "execution_count": 6,
   "metadata": {
    "vscode": {
     "languageId": "ocaml"
    }
   },
   "outputs": [
    {
     "data": {
      "text/plain": [
       "val seznam_nakljucnih : int -> int -> int list = <fun>\n"
      ]
     },
     "execution_count": 6,
     "metadata": {},
     "output_type": "execute_result"
    }
   ],
   "source": [
    "let seznam_nakljucnih m n = List.init n (fun _ -> Random.int m)"
   ]
  },
  {
   "cell_type": "code",
   "execution_count": 7,
   "metadata": {
    "vscode": {
     "languageId": "ocaml"
    }
   },
   "outputs": [
    {
     "data": {
      "text/plain": [
       "val stopaj : ('a -> 'b) -> 'a -> unit = <fun>\n"
      ]
     },
     "execution_count": 7,
     "metadata": {},
     "output_type": "execute_result"
    }
   ],
   "source": [
    "let stopaj f x =\n",
    "  let zacetek = Sys.time () in\n",
    "  let _ = f x in\n",
    "  let konec = Sys.time () in\n",
    "  let izpis =\n",
    "    Printf.sprintf \"Porabljen čas: %f ms\" (1000. *. (konec -. zacetek))\n",
    "  in\n",
    "  print_endline izpis"
   ]
  },
  {
   "cell_type": "code",
   "execution_count": 8,
   "metadata": {
    "vscode": {
     "languageId": "ocaml"
    }
   },
   "outputs": [
    {
     "data": {
      "text/plain": [
       "val vstavi : 'a -> 'a list -> 'a list = <fun>\n"
      ]
     },
     "execution_count": 8,
     "metadata": {},
     "output_type": "execute_result"
    },
    {
     "data": {
      "text/plain": [
       "val uredi_z_vstavljanjem : 'a list -> 'a list = <fun>\n"
      ]
     },
     "execution_count": 8,
     "metadata": {},
     "output_type": "execute_result"
    }
   ],
   "source": [
    "let rec vstavi y = function\n",
    "  | [] -> [ y ]\n",
    "  | x :: xs when y > x -> x :: vstavi y xs\n",
    "  | x :: xs -> y :: x :: xs\n",
    "\n",
    "let uredi_z_vstavljanjem sez =\n",
    "  List.fold_left (fun ze_urejen x -> vstavi x ze_urejen) [] sez"
   ]
  },
  {
   "cell_type": "code",
   "execution_count": 9,
   "metadata": {
    "vscode": {
     "languageId": "ocaml"
    }
   },
   "outputs": [
    {
     "name": "stdout",
     "output_type": "stream",
     "text": [
      "Porabljen čas: 7.595000 ms\n",
      "Porabljen čas: 29.059000 ms\n",
      "Porabljen čas: 74.676000 ms\n",
      "Porabljen čas: 288.386000 ms\n",
      "Porabljen čas: 1366.707000 ms\n"
     ]
    },
    {
     "data": {
      "text/plain": [
       "val rezultati : unit = ()\n"
      ]
     },
     "execution_count": 9,
     "metadata": {},
     "output_type": "execute_result"
    }
   ],
   "source": [
    "let rezultati =\n",
    "  [ 1000; 2000; 4000; 8000; 16000 ]\n",
    "  |> List.map (fun n -> seznam_nakljucnih n n)\n",
    "  |> List.iter (stopaj uredi_z_vstavljanjem)"
   ]
  },
  {
   "cell_type": "markdown",
   "metadata": {},
   "source": [
    "## Urejanje z zlivanjem"
   ]
  },
  {
   "cell_type": "code",
   "execution_count": 11,
   "metadata": {
    "vscode": {
     "languageId": "ocaml"
    }
   },
   "outputs": [
    {
     "data": {
      "text/plain": [
       "val zlij : 'a list -> 'a list -> 'a list = <fun>\n"
      ]
     },
     "execution_count": 11,
     "metadata": {},
     "output_type": "execute_result"
    }
   ],
   "source": [
    "let rec zlij xs ys =\n",
    "  match xs, ys with\n",
    "  | [], _ -> ys\n",
    "  | _, [] -> xs\n",
    "  | x :: xs', y :: ys' ->\n",
    "      if x <= y then\n",
    "        x :: zlij xs' ys\n",
    "      else\n",
    "        y :: zlij xs ys'"
   ]
  },
  {
   "cell_type": "code",
   "execution_count": 12,
   "metadata": {
    "vscode": {
     "languageId": "ocaml"
    }
   },
   "outputs": [
    {
     "data": {
      "text/plain": [
       "- : int list = [1; 1; 2; 3; 4; 5; 6; 6; 7]\n"
      ]
     },
     "execution_count": 12,
     "metadata": {},
     "output_type": "execute_result"
    }
   ],
   "source": [
    "zlij [1; 2; 5; 7] [1; 3; 4; 6; 6]"
   ]
  },
  {
   "cell_type": "code",
   "execution_count": 13,
   "metadata": {
    "vscode": {
     "languageId": "ocaml"
    }
   },
   "outputs": [
    {
     "data": {
      "text/plain": [
       "- : int list = [5; 1; 6; 4; 6; 1; 3; 7; 2]\n"
      ]
     },
     "execution_count": 13,
     "metadata": {},
     "output_type": "execute_result"
    }
   ],
   "source": [
    "zlij [5; 1; 7; 2] [6; 4; 6; 1; 3]"
   ]
  },
  {
   "cell_type": "code",
   "execution_count": 19,
   "metadata": {
    "vscode": {
     "languageId": "ocaml"
    }
   },
   "outputs": [
    {
     "data": {
      "text/plain": [
       "val razpolovi : 'a list -> 'a list * 'a list = <fun>\n"
      ]
     },
     "execution_count": 19,
     "metadata": {},
     "output_type": "execute_result"
    }
   ],
   "source": [
    "let razpolovi xs =\n",
    "  let xs1, xs2 =\n",
    "    xs\n",
    "    |> List.mapi (fun i x -> (i, x))\n",
    "    |>\n",
    "      let n = List.length xs in \n",
    "      List.partition (fun (i, _) -> i < n / 2)\n",
    "  in\n",
    "  (List.map snd xs1, List.map snd xs2)"
   ]
  },
  {
   "cell_type": "code",
   "execution_count": 20,
   "metadata": {
    "vscode": {
     "languageId": "ocaml"
    }
   },
   "outputs": [
    {
     "data": {
      "text/plain": [
       "- : int list * int list = ([5; 1; 7; 2], [6; 4; 6; 1; 3])\n"
      ]
     },
     "execution_count": 20,
     "metadata": {},
     "output_type": "execute_result"
    }
   ],
   "source": [
    "razpolovi [5; 1; 7; 2; 6; 4; 6; 1; 3]"
   ]
  },
  {
   "cell_type": "code",
   "execution_count": 25,
   "metadata": {
    "vscode": {
     "languageId": "ocaml"
    }
   },
   "outputs": [
    {
     "data": {
      "text/plain": [
       "val uredi_z_zlivanjem : 'a list -> 'a list = <fun>\n"
      ]
     },
     "execution_count": 25,
     "metadata": {},
     "output_type": "execute_result"
    }
   ],
   "source": [
    "let rec uredi_z_zlivanjem =\n",
    "  function\n",
    "  | [] -> []\n",
    "  | [x] -> [x]\n",
    "  | xs ->\n",
    "      let xs1, xs2 = razpolovi xs in\n",
    "      zlij (uredi_z_zlivanjem xs1) (uredi_z_zlivanjem xs2)"
   ]
  },
  {
   "cell_type": "code",
   "execution_count": 26,
   "metadata": {
    "vscode": {
     "languageId": "ocaml"
    }
   },
   "outputs": [
    {
     "data": {
      "text/plain": [
       "- : int list = [1; 1; 2; 3; 4; 5; 6; 6; 7]\n"
      ]
     },
     "execution_count": 26,
     "metadata": {},
     "output_type": "execute_result"
    }
   ],
   "source": [
    "uredi_z_zlivanjem [5; 1; 7; 2; 6; 4; 6; 1; 3]"
   ]
  },
  {
   "cell_type": "code",
   "execution_count": 30,
   "metadata": {
    "vscode": {
     "languageId": "ocaml"
    }
   },
   "outputs": [
    {
     "name": "stdout",
     "output_type": "stream",
     "text": [
      "Porabljen čas: 4.633000 ms\n",
      "Porabljen čas: 4.434000 ms\n",
      "Porabljen čas: 9.916000 ms\n",
      "Porabljen čas: 21.526000 ms\n",
      "Porabljen čas: 33.970000 ms\n",
      "Porabljen čas: 74.736000 ms\n",
      "Porabljen čas: 155.519000 ms\n"
     ]
    },
    {
     "data": {
      "text/plain": [
       "val rezultati : unit = ()\n"
      ]
     },
     "execution_count": 30,
     "metadata": {},
     "output_type": "execute_result"
    }
   ],
   "source": [
    "let rezultati =\n",
    "  [ 1000; 2000; 4000; 8000; 16000; 32000; 64000 ]\n",
    "  |> List.map (fun n -> seznam_nakljucnih n n)\n",
    "  |> List.iter (stopaj uredi_z_zlivanjem)"
   ]
  },
  {
   "cell_type": "markdown",
   "metadata": {},
   "source": [
    "## Hitro urejanje"
   ]
  },
  {
   "cell_type": "code",
   "execution_count": 31,
   "metadata": {
    "vscode": {
     "languageId": "ocaml"
    }
   },
   "outputs": [
    {
     "data": {
      "text/plain": [
       "val hitro_uredi : 'a list -> 'a list = <fun>\n"
      ]
     },
     "execution_count": 31,
     "metadata": {},
     "output_type": "execute_result"
    }
   ],
   "source": [
    "let rec hitro_uredi =\n",
    "  function\n",
    "  | [] -> []\n",
    "  | x :: xs ->\n",
    "      let manjsi, vecji = List.partition (fun y -> y <= x) xs in\n",
    "      hitro_uredi manjsi @ (x :: hitro_uredi vecji)"
   ]
  },
  {
   "cell_type": "code",
   "execution_count": 33,
   "metadata": {
    "vscode": {
     "languageId": "ocaml"
    }
   },
   "outputs": [
    {
     "name": "stdout",
     "output_type": "stream",
     "text": [
      "Porabljen čas: 38.858000 ms\n",
      "Porabljen čas: 122.970000 ms\n",
      "Porabljen čas: 513.519000 ms\n",
      "Porabljen čas: 2287.881000 ms\n",
      "Porabljen čas: 9935.443000 ms\n"
     ]
    },
    {
     "data": {
      "text/plain": [
       "val rezultati : unit = ()\n"
      ]
     },
     "execution_count": 33,
     "metadata": {},
     "output_type": "execute_result"
    }
   ],
   "source": [
    "let rezultati =\n",
    "  [ 1000; 2000; 4000; 8000; 16000 ]\n",
    "  |> List.map (fun n -> List.init n (fun i -> i))\n",
    "  |> List.iter (stopaj hitro_uredi)"
   ]
  },
  {
   "cell_type": "markdown",
   "metadata": {},
   "source": [
    "## Hitro urejanje na mestu"
   ]
  },
  {
   "cell_type": "code",
   "execution_count": null,
   "metadata": {
    "vscode": {
     "languageId": "ocaml"
    }
   },
   "outputs": [],
   "source": [
    "let tabela_nakljucnih m n = Array.init n (fun _ -> Random.int m)"
   ]
  },
  {
   "cell_type": "code",
   "execution_count": null,
   "metadata": {
    "vscode": {
     "languageId": "ocaml"
    }
   },
   "outputs": [],
   "source": [
    "let zamenjaj tab i j =\n",
    "  let t = tab.(i) in\n",
    "  tab.(i) <- tab.(j);\n",
    "  tab.(j) <- t"
   ]
  },
  {
   "cell_type": "code",
   "execution_count": null,
   "metadata": {
    "vscode": {
     "languageId": "ocaml"
    }
   },
   "outputs": [],
   "source": [
    "let pivotiraj_manjsi_neurejeni_vecji tabela zacetek konec =\n",
    "  let pivot = tabela.(zacetek) and l = ref (zacetek + 1) and d = ref konec in\n",
    "  while !l < !d do\n",
    "    while !l < !d && tabela.(!l) <= pivot do\n",
    "      incr l\n",
    "    done;\n",
    "    while !l < !d && tabela.(!d) > pivot do\n",
    "      decr d\n",
    "    done;\n",
    "    zamenjaj tabela !l !d\n",
    "  done;\n",
    "  let p = if tabela.(!l) <= pivot then !l else !l - 1 in\n",
    "  zamenjaj tabela zacetek p;\n",
    "  p"
   ]
  },
  {
   "cell_type": "code",
   "execution_count": null,
   "metadata": {
    "vscode": {
     "languageId": "ocaml"
    }
   },
   "outputs": [],
   "source": [
    "let pivotiraj_manjsi_vecji_neurejeni tabela zacetek konec =\n",
    "  let pivot = tabela.(zacetek) and zacetek_vecjih = ref (zacetek + 1) in\n",
    "  for i = zacetek + 1 to konec do\n",
    "    if tabela.(i) <= pivot then (\n",
    "      zamenjaj tabela i !zacetek_vecjih;\n",
    "      incr zacetek_vecjih)\n",
    "  done;\n",
    "  let p = !zacetek_vecjih - 1 in\n",
    "  zamenjaj tabela zacetek p;\n",
    "  p"
   ]
  },
  {
   "cell_type": "markdown",
   "metadata": {},
   "source": [
    "## Urejanje s primerjavo je $\\Omega(n \\log n)$"
   ]
  },
  {
   "cell_type": "markdown",
   "metadata": {},
   "source": [
    "![](../../zapiski/slike/odlocitveno-drevo.png)"
   ]
  }
 ],
 "metadata": {
  "celltoolbar": "Slideshow",
  "kernelspec": {
   "display_name": "OCaml 4.14",
   "language": "OCaml",
   "name": "ocaml-jupyter"
  },
  "language_info": {
   "codemirror_mode": "text/x-ocaml",
   "file_extension": ".ml",
   "mimetype": "text/x-ocaml",
   "name": "OCaml",
   "nbconverter_exporter": null,
   "pygments_lexer": "OCaml",
   "version": "4.14.2"
  }
 },
 "nbformat": 4,
 "nbformat_minor": 2
}
