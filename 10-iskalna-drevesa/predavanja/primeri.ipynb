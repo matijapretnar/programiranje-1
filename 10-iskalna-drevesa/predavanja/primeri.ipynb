{
 "cells": [
  {
   "cell_type": "markdown",
   "metadata": {},
   "source": [
    "# Iskalna drevesa"
   ]
  },
  {
   "cell_type": "markdown",
   "metadata": {},
   "source": [
    "## Predpriprava"
   ]
  },
  {
   "cell_type": "code",
   "execution_count": 1,
   "metadata": {
    "vscode": {
     "languageId": "ocaml"
    }
   },
   "outputs": [
    {
     "name": "stdout",
     "output_type": "stream",
     "text": [
      "- : unit = ()\n",
      "Findlib has been successfully loaded. Additional directives:\n",
      "  #require \"package\";;      to load a package\n",
      "  #list;;                   to list the available packages\n",
      "  #camlp4o;;                to load camlp4 (standard syntax)\n",
      "  #camlp4r;;                to load camlp4 (revised syntax)\n",
      "  #predicates \"p,q,...\";;   to set these predicates\n",
      "  Topfind.reset();;         to force that packages will be reloaded\n",
      "  #thread;;                 to enable threads\n",
      "\n",
      "- : unit = ()\n"
     ]
    },
    {
     "name": "stderr",
     "output_type": "stream",
     "text": [
      "/Users/matija/.opam/default/lib/base64: added to search path\n",
      "/Users/matija/.opam/default/lib/base64/base64.cma: loaded\n",
      "/Users/matija/.opam/default/lib/ocaml/compiler-libs: added to search path\n",
      "/Users/matija/.opam/default/lib/ocaml/compiler-libs/ocamlcommon.cma: loaded\n"
     ]
    },
    {
     "name": "stderr",
     "output_type": "stream",
     "text": [
      "/Users/matija/.opam/default/lib/seq: added to search path\n",
      "/Users/matija/.opam/default/lib/yojson: added to search path\n",
      "/Users/matija/.opam/default/lib/yojson/yojson.cma: loaded\n",
      "/Users/matija/.opam/default/lib/ppx_yojson_conv_lib: added to search path\n",
      "/Users/matija/.opam/default/lib/ppx_yojson_conv_lib/ppx_yojson_conv_lib.cma: loaded\n",
      "/Users/matija/.opam/default/lib/ocaml/unix.cma: loaded\n",
      "/Users/matija/.opam/default/lib/bytes: added to search path\n",
      "/Users/matija/.opam/default/lib/uuidm: added to search path\n",
      "/Users/matija/.opam/default/lib/uuidm/uuidm.cma: loaded\n",
      "/Users/matija/.opam/default/lib/jupyter: added to search path\n",
      "/Users/matija/.opam/default/lib/jupyter/jupyter.cma: loaded\n",
      "/Users/matija/.opam/default/lib/result: added to search path\n",
      "/Users/matija/.opam/default/lib/result/result.cma: loaded\n",
      "/Users/matija/.opam/default/lib/ppx_deriving/runtime: added to search path\n",
      "/Users/matija/.opam/default/lib/ppx_deriving/runtime/ppx_deriving_runtime.cma: loaded\n",
      "/Users/matija/.opam/default/lib/jupyter/notebook: added to search path\n",
      "/Users/matija/.opam/default/lib/jupyter/notebook/jupyter_notebook.cma: loaded\n"
     ]
    }
   ],
   "source": [
    "#use \"topfind\" ;;\n",
    "#require \"jupyter.notebook\" ;;"
   ]
  },
  {
   "cell_type": "code",
   "execution_count": 2,
   "metadata": {
    "vscode": {
     "languageId": "ocaml"
    }
   },
   "outputs": [
    {
     "data": {
      "text/plain": [
       "type 'a drevo = Prazno | Sestavljeno of 'a drevo * 'a * 'a drevo\n"
      ]
     },
     "execution_count": 2,
     "metadata": {},
     "output_type": "execute_result"
    }
   ],
   "source": [
    "type 'a drevo = Prazno | Sestavljeno of 'a drevo * 'a * 'a drevo"
   ]
  },
  {
   "cell_type": "code",
   "execution_count": 3,
   "metadata": {
    "vscode": {
     "languageId": "ocaml"
    }
   },
   "outputs": [
    {
     "data": {
      "text/plain": [
       "val to_dot : ('a -> string) -> 'a drevo -> string = <fun>\n"
      ]
     },
     "execution_count": 3,
     "metadata": {},
     "output_type": "execute_result"
    },
    {
     "data": {
      "text/plain": [
       "val narisi : ('a -> string) -> 'a drevo -> 'a drevo = <fun>\n"
      ]
     },
     "execution_count": 3,
     "metadata": {},
     "output_type": "execute_result"
    }
   ],
   "source": [
    "let to_dot oznaka_vozlisca drevo =\n",
    "  let stevec = ref 0 in\n",
    "  let rec aux stars =\n",
    "    function\n",
    "    | Prazno -> \"\"\n",
    "    | Sestavljeno (levo, koren, desno) ->\n",
    "        let id = !stevec in\n",
    "        incr stevec;\n",
    "        let oznaka = \n",
    "          Printf.sprintf \"%d [label=\\\"%s\\\"];\\n\" id (oznaka_vozlisca koren)\n",
    "        in\n",
    "        let povezava =\n",
    "          match stars with\n",
    "          | None -> \"\";\n",
    "          | Some id' -> Printf.sprintf \"%d -> %d;\" id' id\n",
    "        in\n",
    "        let levi = aux (Some id) levo\n",
    "        and desni = aux (Some id) desno\n",
    "        in\n",
    "        oznaka ^ povezava ^ levi ^ desni\n",
    "  in\n",
    "  \"digraph BST {\\n\" ^ aux None drevo ^ \"}\\n\"\n",
    "\n",
    "let narisi oznaka_vozlisca drevo =\n",
    "  let ime_datoteke = \"drevo.dot\" in\n",
    "  let datoteka = open_out ime_datoteke in\n",
    "  let dot = to_dot oznaka_vozlisca drevo in\n",
    "  Printf.fprintf datoteka \"%s\\n\" dot;\n",
    "  close_out datoteka;\n",
    "  ignore (Jupyter_notebook.Process.sh \"dot -Tpng drevo.dot > drevo.png\");\n",
    "  ignore (Jupyter_notebook.display_file ~base64:true \"image/png\" \"drevo.png\");\n",
    "  drevo"
   ]
  },
  {
   "cell_type": "code",
   "execution_count": 4,
   "metadata": {
    "vscode": {
     "languageId": "ocaml"
    }
   },
   "outputs": [
    {
     "data": {
      "text/plain": [
       "val list : 'a -> 'a drevo = <fun>\n"
      ]
     },
     "execution_count": 4,
     "metadata": {},
     "output_type": "execute_result"
    },
    {
     "data": {
      "text/plain": [
       "val primer : int drevo =\n",
       "  Sestavljeno (Sestavljeno (Prazno, 30, Prazno), 10,\n",
       "   Sestavljeno (Sestavljeno (Prazno, 20, Prazno), 50,\n",
       "    Sestavljeno (Prazno, 30, Prazno)))\n"
      ]
     },
     "execution_count": 4,
     "metadata": {},
     "output_type": "execute_result"
    }
   ],
   "source": [
    "let list x = Sestavljeno (Prazno, x, Prazno)\n",
    "\n",
    "let primer =\n",
    "  Sestavljeno (\n",
    "    list 30,\n",
    "    10,\n",
    "    Sestavljeno (\n",
    "      list 20,\n",
    "      50,\n",
    "      list 30\n",
    "    )\n",
    "  )"
   ]
  },
  {
   "cell_type": "code",
   "execution_count": 5,
   "metadata": {
    "vscode": {
     "languageId": "ocaml"
    }
   },
   "outputs": [
    {
     "data": {
      "image/png": "[encoded data removed]"
     },
     "metadata": {},
     "output_type": "display_data"
    },
    {
     "data": {
      "text/plain": [
       "- : int drevo =\n",
       "Sestavljeno (Sestavljeno (Prazno, 30, Prazno), 10,\n",
       " Sestavljeno (Sestavljeno (Prazno, 20, Prazno), 50,\n",
       "  Sestavljeno (Prazno, 30, Prazno)))\n"
      ]
     },
     "execution_count": 5,
     "metadata": {},
     "output_type": "execute_result"
    }
   ],
   "source": [
    "narisi string_of_int primer"
   ]
  },
  {
   "cell_type": "code",
   "execution_count": null,
   "metadata": {
    "vscode": {
     "languageId": "ocaml"
    }
   },
   "outputs": [],
   "source": []
  },
  {
   "cell_type": "markdown",
   "metadata": {},
   "source": [
    "## Število različnih"
   ]
  },
  {
   "cell_type": "code",
   "execution_count": 6,
   "metadata": {
    "vscode": {
     "languageId": "ocaml"
    }
   },
   "outputs": [
    {
     "data": {
      "text/plain": [
       "val stevilo_razlicnih : 'a list -> int = <fun>\n"
      ]
     },
     "execution_count": 6,
     "metadata": {},
     "output_type": "execute_result"
    }
   ],
   "source": [
    "let stevilo_razlicnih xs =\n",
    "  let rec aux ze_videni = function\n",
    "    | [] -> List.length ze_videni\n",
    "    | x :: xs ->\n",
    "        if List.mem x ze_videni\n",
    "        then aux ze_videni xs\n",
    "        else aux (x :: ze_videni) xs\n",
    "  in\n",
    "  aux [] xs"
   ]
  },
  {
   "cell_type": "code",
   "execution_count": 7,
   "metadata": {
    "vscode": {
     "languageId": "ocaml"
    }
   },
   "outputs": [
    {
     "data": {
      "text/plain": [
       "val nakljucni_seznam : int -> int -> int list = <fun>\n"
      ]
     },
     "execution_count": 7,
     "metadata": {},
     "output_type": "execute_result"
    },
    {
     "data": {
      "text/plain": [
       "val seznam_zaporednih : int -> int list = <fun>\n"
      ]
     },
     "execution_count": 7,
     "metadata": {},
     "output_type": "execute_result"
    },
    {
     "data": {
      "text/plain": [
       "val stopaj : ('a -> 'b) -> 'a -> 'b = <fun>\n"
      ]
     },
     "execution_count": 7,
     "metadata": {},
     "output_type": "execute_result"
    },
    {
     "data": {
      "text/plain": [
       "- : unit = ()\n"
      ]
     },
     "execution_count": 7,
     "metadata": {},
     "output_type": "execute_result"
    }
   ],
   "source": [
    "let nakljucni_seznam m n = List.init n (fun _ -> Random.int m)\n",
    "\n",
    "let seznam_zaporednih n = List.init n (fun i -> i)\n",
    "\n",
    "let stopaj f x =\n",
    "  let zacetek = Sys.time () in\n",
    "  let y = f x in\n",
    "  let konec = Sys.time () in\n",
    "  let izpis = \n",
    "    Printf.sprintf \"Porabljen čas: %f ms\\n\" (1000. *. (konec -. zacetek))\n",
    "  in\n",
    "  print_endline izpis;\n",
    "  y\n",
    "\n",
    "let _ = Random.self_init ()"
   ]
  },
  {
   "cell_type": "code",
   "execution_count": 8,
   "metadata": {
    "vscode": {
     "languageId": "ocaml"
    }
   },
   "outputs": [
    {
     "name": "stdout",
     "output_type": "stream",
     "text": [
      "Porabljen čas: 1712.308000 ms\n",
      "\n"
     ]
    },
    {
     "data": {
      "text/plain": [
       "- : int = 12635\n"
      ]
     },
     "execution_count": 8,
     "metadata": {},
     "output_type": "execute_result"
    }
   ],
   "source": [
    "stopaj stevilo_razlicnih (nakljucni_seznam 20000 20000)"
   ]
  },
  {
   "cell_type": "code",
   "execution_count": 9,
   "metadata": {
    "vscode": {
     "languageId": "ocaml"
    }
   },
   "outputs": [
    {
     "name": "stdout",
     "output_type": "stream",
     "text": [
      "Porabljen čas: 71.679000 ms\n",
      "\n"
     ]
    },
    {
     "data": {
      "text/plain": [
       "- : int = 1000\n"
      ]
     },
     "execution_count": 9,
     "metadata": {},
     "output_type": "execute_result"
    }
   ],
   "source": [
    "stopaj stevilo_razlicnih (nakljucni_seznam 1000 10000)"
   ]
  },
  {
   "cell_type": "markdown",
   "metadata": {},
   "source": [
    "## Iskalna drevesa"
   ]
  },
  {
   "cell_type": "markdown",
   "metadata": {},
   "source": [
    "### Definicija"
   ]
  },
  {
   "cell_type": "markdown",
   "metadata": {},
   "source": [
    "\n",
    "Dvojiško drevo je **iskalno**, če:\n",
    "\n",
    "* so vsi elementi **levega** otroka **manjši** od korena\n",
    "* so vsi elementi **desnega** otroka **večji** od korena\n",
    "* sta **oba** otroka tudi **iskalni** drevesi\n",
    "\n",
    "![](../../zapiski/slike/09-iskalna-drevesa/iskalno-drevo.png)"
   ]
  },
  {
   "cell_type": "markdown",
   "metadata": {},
   "source": [
    "### Iskanje"
   ]
  },
  {
   "cell_type": "markdown",
   "metadata": {},
   "source": [
    "\n",
    "![](../../zapiski/slike/09-iskalna-drevesa/iskalno-drevo-najdi.png)\n"
   ]
  },
  {
   "cell_type": "markdown",
   "metadata": {},
   "source": [
    "![](../../zapiski/slike/09-iskalna-drevesa/iskalno-drevo-ne-najdi.png)\n"
   ]
  },
  {
   "cell_type": "code",
   "execution_count": 10,
   "metadata": {
    "vscode": {
     "languageId": "ocaml"
    }
   },
   "outputs": [
    {
     "data": {
      "text/plain": [
       "val poisci : 'a -> 'a drevo -> bool = <fun>\n"
      ]
     },
     "execution_count": 10,
     "metadata": {},
     "output_type": "execute_result"
    }
   ],
   "source": [
    "\n",
    "let rec poisci x drevo =\n",
    "  match drevo with\n",
    "  | Prazno -> false\n",
    "  | Sestavljeno (levo, y, desno) when x = y -> true\n",
    "  | Sestavljeno (levo, y, desno) when x < y -> poisci x levo\n",
    "  | Sestavljeno (levo, y, desno) -> poisci x desno"
   ]
  },
  {
   "cell_type": "code",
   "execution_count": 11,
   "metadata": {
    "vscode": {
     "languageId": "ocaml"
    }
   },
   "outputs": [
    {
     "data": {
      "image/png": "[encoded data removed]"
     },
     "metadata": {},
     "output_type": "display_data"
    },
    {
     "data": {
      "text/plain": [
       "- : int drevo =\n",
       "Sestavljeno (Sestavljeno (Prazno, 30, Prazno), 10,\n",
       " Sestavljeno (Sestavljeno (Prazno, 20, Prazno), 50,\n",
       "  Sestavljeno (Prazno, 30, Prazno)))\n"
      ]
     },
     "execution_count": 11,
     "metadata": {},
     "output_type": "execute_result"
    }
   ],
   "source": [
    "primer |> narisi string_of_int"
   ]
  },
  {
   "cell_type": "markdown",
   "metadata": {},
   "source": [
    "### Vstavljanje"
   ]
  },
  {
   "cell_type": "code",
   "execution_count": 12,
   "metadata": {
    "vscode": {
     "languageId": "ocaml"
    }
   },
   "outputs": [
    {
     "data": {
      "text/plain": [
       "val vstavi : 'a -> 'a drevo -> 'a drevo = <fun>\n"
      ]
     },
     "execution_count": 12,
     "metadata": {},
     "output_type": "execute_result"
    }
   ],
   "source": [
    "let rec vstavi x drevo =\n",
    "  match drevo with\n",
    "  | Prazno -> list x\n",
    "  | Sestavljeno (levo, koren, desno) ->\n",
    "      if x = koren then drevo\n",
    "      else if x < koren then Sestavljeno (vstavi x levo, koren, desno)\n",
    "      else Sestavljeno (levo, koren, vstavi x desno)\n"
   ]
  },
  {
   "cell_type": "markdown",
   "metadata": {},
   "source": [
    "\n",
    "![](../../zapiski/slike/09-iskalna-drevesa/iskalno-drevo-vstavi.png)"
   ]
  },
  {
   "cell_type": "code",
   "execution_count": 13,
   "metadata": {
    "vscode": {
     "languageId": "ocaml"
    }
   },
   "outputs": [
    {
     "data": {
      "image/png": "[encoded data removed]"
     },
     "metadata": {},
     "output_type": "display_data"
    },
    {
     "data": {
      "text/plain": [
       "- : int drevo =\n",
       "Sestavljeno (Sestavljeno (Prazno, 5, Prazno), 10,\n",
       " Sestavljeno (Sestavljeno (Prazno, 15, Prazno), 20,\n",
       "  Sestavljeno (Prazno, 42, Prazno)))\n"
      ]
     },
     "execution_count": 13,
     "metadata": {},
     "output_type": "execute_result"
    }
   ],
   "source": [
    "Prazno\n",
    "|> vstavi 10\n",
    "|> vstavi 20\n",
    "|> vstavi 5\n",
    "|> vstavi 42\n",
    "|> vstavi 15\n",
    "|> narisi string_of_int"
   ]
  },
  {
   "cell_type": "code",
   "execution_count": 14,
   "metadata": {
    "vscode": {
     "languageId": "ocaml"
    }
   },
   "outputs": [
    {
     "data": {
      "text/plain": [
       "val stevilo_elementov : 'a drevo -> int = <fun>\n"
      ]
     },
     "execution_count": 14,
     "metadata": {},
     "output_type": "execute_result"
    }
   ],
   "source": [
    "let rec stevilo_elementov =\n",
    "  function\n",
    "  | Prazno -> 0\n",
    "  | Sestavljeno (levo, _, desno) -> 1 + stevilo_elementov levo + stevilo_elementov desno"
   ]
  },
  {
   "cell_type": "code",
   "execution_count": 15,
   "metadata": {
    "vscode": {
     "languageId": "ocaml"
    }
   },
   "outputs": [
    {
     "data": {
      "text/plain": [
       "val stevilo_razlicnih : int list -> int = <fun>\n"
      ]
     },
     "execution_count": 15,
     "metadata": {},
     "output_type": "execute_result"
    }
   ],
   "source": [
    "let stevilo_razlicnih xs =\n",
    "  let rec aux ze_videni = function\n",
    "    | [] -> stevilo_elementov ze_videni, ze_videni\n",
    "    | x :: xs ->\n",
    "        if poisci x ze_videni\n",
    "        then aux ze_videni xs\n",
    "        else aux (vstavi x ze_videni) xs\n",
    "  in\n",
    "  let stevilo, ze_videni = aux Prazno xs in\n",
    "  ignore (narisi string_of_int ze_videni);\n",
    "  stevilo"
   ]
  },
  {
   "cell_type": "code",
   "execution_count": 16,
   "metadata": {
    "vscode": {
     "languageId": "ocaml"
    }
   },
   "outputs": [
    {
     "data": {
      "image/png": "[encoded data removed]"
     },
     "metadata": {},
     "output_type": "display_data"
    },
    {
     "data": {
      "text/plain": [
       "- : int = 10\n"
      ]
     },
     "execution_count": 16,
     "metadata": {},
     "output_type": "execute_result"
    }
   ],
   "source": [
    "stevilo_razlicnih (seznam_zaporednih 10)"
   ]
  },
  {
   "cell_type": "code",
   "execution_count": 17,
   "metadata": {
    "vscode": {
     "languageId": "ocaml"
    }
   },
   "outputs": [
    {
     "data": {
      "text/plain": [
       "val polno : int -> int drevo = <fun>\n"
      ]
     },
     "execution_count": 17,
     "metadata": {},
     "output_type": "execute_result"
    }
   ],
   "source": [
    "let rec polno visina =\n",
    "  match visina with\n",
    "  | 0 -> Prazno\n",
    "  | n -> Sestavljeno (polno (n - 1), 42, polno (n - 1))"
   ]
  },
  {
   "cell_type": "code",
   "execution_count": 18,
   "metadata": {
    "vscode": {
     "languageId": "ocaml"
    }
   },
   "outputs": [
    {
     "data": {
      "image/png": "[encoded data removed]"
     },
     "metadata": {},
     "output_type": "display_data"
    },
    {
     "data": {
      "text/plain": [
       "- : int drevo =\n",
       "Sestavljeno\n",
       " (Sestavljeno\n",
       "   (Sestavljeno (Sestavljeno (Prazno, 42, Prazno), 42,\n",
       "     Sestavljeno (Prazno, 42, Prazno)),\n",
       "   42,\n",
       "   Sestavljeno (Sestavljeno (Prazno, 42, Prazno), 42,\n",
       "    Sestavljeno (Prazno, 42, Prazno))),\n",
       " 42,\n",
       " Sestavljeno\n",
       "  (Sestavljeno (Sestavljeno (Prazno, 42, Prazno), 42,\n",
       "    Sestavljeno (Prazno, 42, Prazno)),\n",
       "  42,\n",
       "  Sestavljeno (Sestavljeno (Prazno, 42, Prazno), 42,\n",
       "   Sestavljeno (Prazno, 42, Prazno))))\n"
      ]
     },
     "execution_count": 18,
     "metadata": {},
     "output_type": "execute_result"
    }
   ],
   "source": [
    "polno 4 |> narisi string_of_int"
   ]
  },
  {
   "cell_type": "markdown",
   "metadata": {},
   "source": [
    "### Brisanje"
   ]
  },
  {
   "cell_type": "markdown",
   "metadata": {},
   "source": [
    "![](../../zapiski/slike/09-iskalna-drevesa/iskalno-drevo-brisi-list.png)"
   ]
  },
  {
   "cell_type": "markdown",
   "metadata": {},
   "source": [
    "![](../../zapiski/slike/09-iskalna-drevesa/iskalno-drevo-brisi-koren.png)"
   ]
  },
  {
   "cell_type": "markdown",
   "metadata": {},
   "source": [
    "![](../../zapiski/slike/09-iskalna-drevesa/iskalno-drevo-zamenjaj-koren-s-predhodnikom.png)"
   ]
  },
  {
   "cell_type": "markdown",
   "metadata": {},
   "source": [
    "![](../../zapiski/slike/09-iskalna-drevesa/iskalno-drevo-zamenjaj-koren-z-naslednikom.png)"
   ]
  },
  {
   "cell_type": "markdown",
   "metadata": {},
   "source": [
    "## AVL drevesa"
   ]
  },
  {
   "cell_type": "markdown",
   "metadata": {},
   "source": [
    "### Definicija"
   ]
  },
  {
   "cell_type": "markdown",
   "metadata": {},
   "source": [
    "Iskalno drevo je **AVL drevo**, če:\n",
    "\n",
    "* je **razlika višin** otrok **največ 1**\n",
    "* sta **oba** otroka tudi **AVL** drevesi\n",
    "\n",
    "![](../../zapiski/slike/09-iskalna-drevesa/avl-drevo.png)\n"
   ]
  },
  {
   "cell_type": "code",
   "execution_count": 19,
   "metadata": {
    "vscode": {
     "languageId": "ocaml"
    }
   },
   "outputs": [
    {
     "data": {
      "text/plain": [
       "val visina : 'a drevo -> int = <fun>\n"
      ]
     },
     "execution_count": 19,
     "metadata": {},
     "output_type": "execute_result"
    },
    {
     "data": {
      "text/plain": [
       "val razlika : 'a drevo -> int = <fun>\n"
      ]
     },
     "execution_count": 19,
     "metadata": {},
     "output_type": "execute_result"
    }
   ],
   "source": [
    "let rec visina drevo =\n",
    "  match drevo with\n",
    "  | Prazno -> 0\n",
    "  | Sestavljeno (levo, _, desno) -> 1 + max (visina levo) (visina desno)\n",
    "  \n",
    "let razlika = function\n",
    "    | Prazno -> 0\n",
    "    | Sestavljeno (l, _, d) -> visina l - visina d  "
   ]
  },
  {
   "cell_type": "markdown",
   "metadata": {},
   "source": [
    "### Število vozlišč v AVL drevesih"
   ]
  },
  {
   "cell_type": "markdown",
   "metadata": {},
   "source": [
    "$$ N(h) = \\text{najmanjše število vozlišč v AVL drevesu višine $h$} $$"
   ]
  },
  {
   "cell_type": "markdown",
   "metadata": {},
   "source": [
    "$$N(0) = 0$$"
   ]
  },
  {
   "cell_type": "markdown",
   "metadata": {},
   "source": [
    "$$N(1) = 1$$"
   ]
  },
  {
   "cell_type": "markdown",
   "metadata": {},
   "source": [
    "$$N(h) = 1 + N(h - 1) + N(h - 2)$$"
   ]
  },
  {
   "cell_type": "markdown",
   "metadata": {},
   "source": [
    "$$ N(h) \\ge F_h$$"
   ]
  },
  {
   "cell_type": "markdown",
   "metadata": {},
   "source": [
    "$$N(h) = 1 + N(h - 1) + N(h - 2) \\ge 1 + F_{h - 1} + F_{h - 2} = 1 + F_{h} > F_{h}$$"
   ]
  },
  {
   "cell_type": "markdown",
   "metadata": {},
   "source": [
    "### Vstavljanje v AVL drevo"
   ]
  },
  {
   "cell_type": "markdown",
   "metadata": {},
   "source": [
    "![](../../zapiski/slike/09-iskalna-drevesa/dodajanje-pokvari-avl-drevo.png)"
   ]
  },
  {
   "cell_type": "markdown",
   "metadata": {},
   "source": [
    "![](../../zapiski/slike/09-iskalna-drevesa/brisanje-pokvari-avl-drevo.png)"
   ]
  },
  {
   "cell_type": "markdown",
   "metadata": {},
   "source": [
    "### Možne neuravnoteženosti\n",
    "\n",
    "![](../../zapiski/slike/09-iskalna-drevesa/mozni-neuravnotezenosti.png)"
   ]
  },
  {
   "cell_type": "markdown",
   "metadata": {},
   "source": [
    "Brez škode za splošnost poglejmo drugo:"
   ]
  },
  {
   "cell_type": "markdown",
   "metadata": {},
   "source": [
    "![](../../zapiski/slike/09-iskalna-drevesa/mozni-desni-neuravnotezenosti.png)"
   ]
  },
  {
   "cell_type": "markdown",
   "metadata": {},
   "source": [
    "Pri prvi uporabimo levo rotacijo:"
   ]
  },
  {
   "cell_type": "markdown",
   "metadata": {},
   "source": [
    "![](../../zapiski/slike/09-iskalna-drevesa/leva-rotacija.png)"
   ]
  },
  {
   "cell_type": "code",
   "execution_count": 20,
   "metadata": {
    "vscode": {
     "languageId": "ocaml"
    }
   },
   "outputs": [
    {
     "data": {
      "text/plain": [
       "val zavrti_levo : 'a drevo -> 'a drevo = <fun>\n"
      ]
     },
     "execution_count": 20,
     "metadata": {},
     "output_type": "execute_result"
    }
   ],
   "source": [
    "let zavrti_levo = function\n",
    "| Sestavljeno (l, x, Sestavljeno (dl, y, dd)) ->\n",
    "    Sestavljeno (Sestavljeno (l, x, dl), y, dd)\n",
    "| _ -> failwith \"Tega drevesa ne morem zavrteti\"\n"
   ]
  },
  {
   "cell_type": "markdown",
   "metadata": {},
   "source": [
    "Pri drugi uporabimo desno-levo rotacijo:"
   ]
  },
  {
   "cell_type": "markdown",
   "metadata": {},
   "source": [
    "![](../../zapiski/slike/09-iskalna-drevesa/desna-rotacija.png)"
   ]
  },
  {
   "cell_type": "code",
   "execution_count": 21,
   "metadata": {
    "vscode": {
     "languageId": "ocaml"
    }
   },
   "outputs": [
    {
     "data": {
      "text/plain": [
       "val zavrti_desno : 'a drevo -> 'a drevo = <fun>\n"
      ]
     },
     "execution_count": 21,
     "metadata": {},
     "output_type": "execute_result"
    },
    {
     "data": {
      "text/plain": [
       "val uravnotezi : 'a drevo -> 'a drevo = <fun>\n"
      ]
     },
     "execution_count": 21,
     "metadata": {},
     "output_type": "execute_result"
    }
   ],
   "source": [
    "let zavrti_desno = function\n",
    "| Sestavljeno (Sestavljeno (ll, y, ld), x, d) ->\n",
    "    Sestavljeno (ll, y, Sestavljeno (ld, x, d))\n",
    "| _ -> failwith \"Tega drevesa ne morem zavrteti\"\n",
    "\n",
    "let uravnotezi drevo =\n",
    "match drevo with\n",
    "| Sestavljeno (l, x, d) when razlika drevo = 2 && razlika l = 1 ->\n",
    "    zavrti_desno drevo\n",
    "| Sestavljeno (l, x, d) when razlika drevo = 2 ->\n",
    "    Sestavljeno (zavrti_levo l, x, d) |> zavrti_desno\n",
    "| Sestavljeno (l, x, d) when razlika drevo = -2 && razlika d = -1 ->\n",
    "    zavrti_levo drevo\n",
    "| Sestavljeno (l, x, d) when razlika drevo = -2 ->\n",
    "    Sestavljeno (l, x, zavrti_desno d) |> zavrti_levo\n",
    "| _ -> drevo"
   ]
  },
  {
   "cell_type": "code",
   "execution_count": 22,
   "metadata": {
    "vscode": {
     "languageId": "ocaml"
    }
   },
   "outputs": [
    {
     "data": {
      "text/plain": [
       "val vstavi : 'a -> 'a drevo -> 'a drevo = <fun>\n"
      ]
     },
     "execution_count": 22,
     "metadata": {},
     "output_type": "execute_result"
    }
   ],
   "source": [
    "let rec vstavi x drevo =\n",
    "  match drevo with\n",
    "  | Prazno -> list x\n",
    "  | Sestavljeno (levo, koren, desno) ->\n",
    "      if x = koren then drevo\n",
    "      else if x < koren then Sestavljeno (vstavi x levo, koren, desno) |> uravnotezi\n",
    "      else Sestavljeno (levo, koren, vstavi x desno) |> uravnotezi\n"
   ]
  },
  {
   "cell_type": "code",
   "execution_count": 23,
   "metadata": {
    "vscode": {
     "languageId": "ocaml"
    }
   },
   "outputs": [
    {
     "data": {
      "text/plain": [
       "val stevilo_elementov : 'a drevo -> int = <fun>\n"
      ]
     },
     "execution_count": 23,
     "metadata": {},
     "output_type": "execute_result"
    }
   ],
   "source": [
    "let rec stevilo_elementov =\n",
    "  function\n",
    "  | Prazno -> 0\n",
    "  | Sestavljeno (levo, _, desno) -> 1 + stevilo_elementov levo + stevilo_elementov desno"
   ]
  },
  {
   "cell_type": "code",
   "execution_count": 24,
   "metadata": {
    "vscode": {
     "languageId": "ocaml"
    }
   },
   "outputs": [
    {
     "data": {
      "text/plain": [
       "val stevilo_razlicnih : 'a list -> int = <fun>\n"
      ]
     },
     "execution_count": 24,
     "metadata": {},
     "output_type": "execute_result"
    }
   ],
   "source": [
    "let stevilo_razlicnih xs =\n",
    "  let rec aux ze_videni = function\n",
    "    | [] -> stevilo_elementov ze_videni, ze_videni\n",
    "    | x :: xs ->\n",
    "        if poisci x ze_videni\n",
    "        then aux ze_videni xs\n",
    "        else aux (vstavi x ze_videni) xs\n",
    "  in\n",
    "  let stevilo, ze_videni = aux Prazno xs in\n",
    "  stevilo"
   ]
  },
  {
   "cell_type": "code",
   "execution_count": 25,
   "metadata": {
    "vscode": {
     "languageId": "ocaml"
    }
   },
   "outputs": [
    {
     "data": {
      "text/plain": [
       "- : int = 20000\n"
      ]
     },
     "execution_count": 25,
     "metadata": {},
     "output_type": "execute_result"
    }
   ],
   "source": [
    "stevilo_razlicnih (seznam_zaporednih 20000)"
   ]
  },
  {
   "cell_type": "code",
   "execution_count": null,
   "metadata": {
    "vscode": {
     "languageId": "ocaml"
    }
   },
   "outputs": [],
   "source": []
  }
 ],
 "metadata": {
  "kernelspec": {
   "display_name": "OCaml default",
   "language": "OCaml",
   "name": "ocaml-jupyter-default"
  },
  "language_info": {
   "codemirror_mode": "text/x-ocaml",
   "file_extension": ".ml",
   "mimetype": "text/x-ocaml",
   "name": "OCaml",
   "nbconverter_exporter": null,
   "pygments_lexer": "OCaml",
   "version": "4.14.1"
  }
 },
 "nbformat": 4,
 "nbformat_minor": 2
}
