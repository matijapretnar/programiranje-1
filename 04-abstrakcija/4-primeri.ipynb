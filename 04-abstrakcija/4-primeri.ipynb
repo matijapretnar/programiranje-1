{
 "cells": [
  {
   "cell_type": "markdown",
   "id": "a751d058",
   "metadata": {},
   "source": [
    "# Abstrakcija"
   ]
  },
  {
   "cell_type": "markdown",
   "id": "2648a703",
   "metadata": {},
   "source": [
    "## Moduli"
   ]
  },
  {
   "cell_type": "markdown",
   "id": "24fbc1cc",
   "metadata": {},
   "source": [
    "\"Ena škatla, v katero lahko naberemo stvari not\", \"zbirka definicij\"\n",
    "Npr. List., Array.,... \n",
    "\n",
    "Vsaka .ml datoteka je module. in če ji želimo napisati še signaturo naredimo posebej file ime_datoteke.mli (to je tist gumbek ml/mli). Načeloma se prof temu ne bo posluževal, ker je pisanje v eni datoteki močnejše in nam omogoča gnezdenje signatur in modulov."
   ]
  },
  {
   "cell_type": "code",
   "execution_count": 1,
   "id": "cd08757d",
   "metadata": {
    "vscode": {
     "languageId": "ocaml"
    }
   },
   "outputs": [
    {
     "data": {
      "text/plain": [
       "type datum = { dan : int; mesec : int; leto : int; }\n"
      ]
     },
     "execution_count": 1,
     "metadata": {},
     "output_type": "execute_result"
    },
    {
     "data": {
      "text/plain": [
       "val je_prestopno : int -> bool = <fun>\n"
      ]
     },
     "execution_count": 1,
     "metadata": {},
     "output_type": "execute_result"
    },
    {
     "data": {
      "text/plain": [
       "val dolzina_meseca : int -> int -> int = <fun>\n"
      ]
     },
     "execution_count": 1,
     "metadata": {},
     "output_type": "execute_result"
    },
    {
     "data": {
      "text/plain": [
       "val je_veljaven : datum -> bool = <fun>\n"
      ]
     },
     "execution_count": 1,
     "metadata": {},
     "output_type": "execute_result"
    },
    {
     "data": {
      "text/plain": [
       "val naredi_datum : int -> int -> int -> datum option = <fun>\n"
      ]
     },
     "execution_count": 1,
     "metadata": {},
     "output_type": "execute_result"
    },
    {
     "data": {
      "text/plain": [
       "val to_string : datum -> string = <fun>\n"
      ]
     },
     "execution_count": 1,
     "metadata": {},
     "output_type": "execute_result"
    }
   ],
   "source": [
    "type datum = { dan : int; mesec : int; leto : int }\n",
    "\n",
    "let je_prestopno leto =\n",
    "  (leto mod 4 = 0 && leto mod 100 <> 0) || leto mod 400 = 0\n",
    "  \n",
    "let dolzina_meseca leto =\n",
    "  function\n",
    "  | 4 | 6 | 9 | 11 -> 30\n",
    "  | 2 -> if je_prestopno leto then 29 else 28\n",
    "  | _ -> 31\n",
    "\n",
    "let je_veljaven datum =\n",
    "  let veljaven_dan = 1 <= datum.dan && datum.dan <= dolzina_meseca datum.leto datum.mesec\n",
    "  and veljaven_mesec = 1 <= datum.mesec && datum.mesec <= 12\n",
    "  in\n",
    "  veljaven_dan && veljaven_mesec\n",
    "\n",
    "let naredi_datum dan mesec leto =\n",
    "  let datum = { dan; mesec; leto } in\n",
    "  if je_veljaven datum then Some datum else None\n",
    "\n",
    "let to_string { dan; mesec; leto } =\n",
    "  Format.sprintf \"%04d-%02d-%02d\" leto mesec dan"
   ]
  },
  {
   "cell_type": "markdown",
   "id": "501f4004",
   "metadata": {},
   "source": [
    "Definiramo Module"
   ]
  },
  {
   "cell_type": "code",
   "execution_count": 1,
   "id": "ac3bcede",
   "metadata": {
    "vscode": {
     "languageId": "ocaml"
    }
   },
   "outputs": [
    {
     "data": {
      "text/plain": [
       "module Datum :\n",
       "  sig\n",
       "    type t = { dan : int; mesec : int; leto : int; }\n",
       "    val je_prestopno : int -> bool\n",
       "    val dolzina_meseca : int -> int -> int\n",
       "    val je_veljaven : t -> bool\n",
       "    val naredi : int -> int -> int -> t option\n",
       "    val to_string : t -> string\n",
       "  end\n"
      ]
     },
     "execution_count": 1,
     "metadata": {},
     "output_type": "execute_result"
    }
   ],
   "source": [
    "module Datum = struct\n",
    "  type t = { dan : int; mesec : int; leto : int }\n",
    "\n",
    "  let je_prestopno leto =\n",
    "    (leto mod 4 = 0 && leto mod 100 <> 0) || leto mod 400 = 0\n",
    "    \n",
    "  let dolzina_meseca leto =\n",
    "    function\n",
    "    | 4 | 6 | 9 | 11 -> 30\n",
    "    | 2 -> if je_prestopno leto then 29 else 28\n",
    "    | _ -> 31\n",
    "\n",
    "  let je_veljaven datum =\n",
    "    let veljaven_dan = 1 <= datum.dan && datum.dan <= dolzina_meseca datum.leto datum.mesec\n",
    "    and veljaven_mesec = 1 <= datum.mesec && datum.mesec <= 12\n",
    "    in\n",
    "    veljaven_dan && veljaven_mesec\n",
    "\n",
    "  let naredi dan mesec leto =\n",
    "    let datum = { dan; mesec; leto } in\n",
    "    if je_veljaven datum then Some datum else None\n",
    "\n",
    "  let to_string { dan; mesec; leto } =\n",
    "    Format.sprintf \"%04d-%02d-%02d\" leto mesec dan\n",
    "end"
   ]
  },
  {
   "cell_type": "markdown",
   "id": "e9f54d7c",
   "metadata": {},
   "source": [
    "Tako kličemo funkcije iz modula, takoj, ko smo zunaj end."
   ]
  },
  {
   "cell_type": "code",
   "execution_count": 3,
   "id": "f59a23f1",
   "metadata": {
    "vscode": {
     "languageId": "ocaml"
    }
   },
   "outputs": [
    {
     "data": {
      "text/plain": [
       "- : bool = true\n"
      ]
     },
     "execution_count": 3,
     "metadata": {},
     "output_type": "execute_result"
    }
   ],
   "source": [
    "Datum.je_prestopno 2024"
   ]
  },
  {
   "cell_type": "markdown",
   "id": "3edcdac1",
   "metadata": {},
   "source": [
    "Modul lahko odpreš (open Datum...podoben kt from_ import_ )... tega ne uporabljat, ker se ti lahko pokvari npr. na nov definiran +. Raje odpreš lokalno z let in znotraj funkcije."
   ]
  },
  {
   "cell_type": "code",
   "execution_count": 2,
   "id": "41173b8c",
   "metadata": {
    "vscode": {
     "languageId": "ocaml"
    }
   },
   "outputs": [
    {
     "data": {
      "text/plain": [
       "- : bool = true\n"
      ]
     },
     "execution_count": 2,
     "metadata": {},
     "output_type": "execute_result"
    }
   ],
   "source": [
    "let open Datum in\n",
    "je_veljaven { dan = 26; mesec = 6; leto = 1991 }  "
   ]
  },
  {
   "cell_type": "markdown",
   "id": "ddc4bc76",
   "metadata": {},
   "source": [
    "```\n",
    "let _ =\n",
    "let open Datum in\n",
    "let x ...\n",
    "```\n",
    "ali\n",
    "```\n",
    "let _ = Polinom. (...)\n",
    "```"
   ]
  },
  {
   "cell_type": "code",
   "execution_count": 3,
   "id": "ff8a9a67",
   "metadata": {
    "vscode": {
     "languageId": "ocaml"
    }
   },
   "outputs": [
    {
     "data": {
      "text/plain": [
       "module D = Datum\n"
      ]
     },
     "execution_count": 3,
     "metadata": {},
     "output_type": "execute_result"
    }
   ],
   "source": [
    "module D = Datum\n",
    "let je_veljaven = Datum.je_veljaven"
   ]
  },
  {
   "cell_type": "code",
   "execution_count": 5,
   "id": "9d69ae48",
   "metadata": {
    "vscode": {
     "languageId": "ocaml"
    }
   },
   "outputs": [
    {
     "data": {
      "text/plain": [
       "type narocilo = { ime : string; datum_narocila : Datum.t; }\n"
      ]
     },
     "execution_count": 5,
     "metadata": {},
     "output_type": "execute_result"
    }
   ],
   "source": [
    "type narocilo = {\n",
    "  ime : string;\n",
    "  datum_narocila : Datum.t;\n",
    "}"
   ]
  },
  {
   "cell_type": "markdown",
   "id": "7142ad20",
   "metadata": {},
   "source": [
    "## Signature"
   ]
  },
  {
   "cell_type": "markdown",
   "id": "3c193dcb",
   "metadata": {},
   "source": [
    "### Definicije signatur"
   ]
  },
  {
   "cell_type": "markdown",
   "id": "7dbdb008",
   "metadata": {},
   "source": [
    "Znotrej modula ti za vsako funkcijo pove kam se iz kam slika. to mamo lahko kot output v terminalu, ali pa svoje napišemo in jih lahko spremenimo. Navada je da so all caps.\n",
    "\n",
    "Tudi tukaj jih lahko preimenujemo (tako kot mreza v dn)"
   ]
  },
  {
   "cell_type": "code",
   "execution_count": 5,
   "id": "90ef8201",
   "metadata": {
    "vscode": {
     "languageId": "ocaml"
    }
   },
   "outputs": [
    {
     "data": {
      "text/plain": [
       "module type DATUM =\n",
       "  sig\n",
       "    type t = { dan : int; mesec : int; leto : int; }\n",
       "    val je_prestopno : int -> bool\n",
       "    val dolzina_meseca : int -> int -> int\n",
       "    val je_veljaven : t -> bool\n",
       "    val naredi : int -> int -> int -> t option\n",
       "    val to_string : t -> string\n",
       "  end\n"
      ]
     },
     "execution_count": 5,
     "metadata": {},
     "output_type": "execute_result"
    }
   ],
   "source": [
    "module type DATUM = sig\n",
    "  type t = { dan : int; mesec : int; leto : int; }\n",
    "  val je_prestopno : int -> bool\n",
    "  val dolzina_meseca : int -> int -> int\n",
    "  val je_veljaven : t -> bool\n",
    "  val naredi : int -> int -> int -> t option\n",
    "  val to_string : t -> string\n",
    "end"
   ]
  },
  {
   "cell_type": "markdown",
   "id": "c5284128",
   "metadata": {},
   "source": [
    "### Preverjanje signatur"
   ]
  },
  {
   "cell_type": "markdown",
   "id": "6b1710ee",
   "metadata": {},
   "source": [
    "Lahko jo spišemo in rečemo OCaml da preveri, če vse funkciije zadoščajo te signaturi.\n",
    "Z ```:``` povemo, da more določen Module zadoščati določeni Signaturi.\n",
    "\n",
    "Glavni nameni signature:\n",
    "- preverja a je vse notr\n",
    "- daje vpogled v to kaj je notr\n",
    "- (glavna stvar:) določa da skrijemo stvari\n",
    "\n",
    "\"Špageti koda\"...dejanski izraz, ker je vse prepleten v eni funkciji kličeš drugo, v drugi tretjo,...\n",
    "\n",
    "Apparantly hočeš vse pomožne funkcije skrit (da jih ne uporablaš večkrat hah). Signatura nam predstavi vse ki so vidne.\n",
    "\n",
    "s tem ko kličemo DATUM. nam prikaže vse funckije ki imamo za to"
   ]
  },
  {
   "cell_type": "code",
   "execution_count": 9,
   "id": "dda88395",
   "metadata": {
    "vscode": {
     "languageId": "ocaml"
    }
   },
   "outputs": [
    {
     "data": {
      "text/plain": [
       "module Datum : DATUM\n"
      ]
     },
     "execution_count": 9,
     "metadata": {},
     "output_type": "execute_result"
    }
   ],
   "source": [
    "module Datum : DATUM = struct\n",
    "  type t = { dan : int; mesec : int; leto : int }\n",
    "\n",
    "  let je_prestopno leto =\n",
    "    (leto mod 4 = 0 && leto mod 100 <> 0) || leto mod 400 = 0\n",
    "    \n",
    "  let dolzina_meseca leto =\n",
    "    function\n",
    "    | 4 | 6 | 9 | 11 -> 30\n",
    "    | 2 -> if je_prestopno leto then 29 else 28\n",
    "    | _ -> 31\n",
    "\n",
    "  let je_veljaven datum =\n",
    "    let veljaven_dan = 1 <= datum.dan && datum.dan <= dolzina_meseca datum.leto datum.mesec\n",
    "    and veljaven_mesec = 1 <= datum.mesec && datum.mesec <= 12\n",
    "    in\n",
    "    veljaven_dan && veljaven_mesec\n",
    "\n",
    "  let naredi dan mesec leto =\n",
    "    let datum = { dan; mesec; leto } in\n",
    "    if je_veljaven datum then Some datum else None\n",
    "\n",
    "  let to_string { dan; mesec; leto } =\n",
    "    Format.sprintf \"%04d-%02d-%02d\" leto mesec dan\n",
    "end"
   ]
  },
  {
   "cell_type": "code",
   "execution_count": 11,
   "id": "1b93e13d",
   "metadata": {
    "vscode": {
     "languageId": "ocaml"
    }
   },
   "outputs": [
    {
     "data": {
      "text/plain": [
       "module Datum : DATUM\n"
      ]
     },
     "execution_count": 11,
     "metadata": {},
     "output_type": "execute_result"
    }
   ],
   "source": [
    "module Datum : DATUM = struct\n",
    "  type t = { dan : int; mesec : int; leto : int }\n",
    "\n",
    "  let je_prestopno _ = true\n",
    "    \n",
    "  let dolzina_meseca _ _ = 30\n",
    "\n",
    "  let je_veljaven _ = true\n",
    "\n",
    "  let naredi dan mesec leto = None\n",
    "\n",
    "  let to_string { dan; mesec; leto } = \"dan\"\n",
    "end"
   ]
  },
  {
   "cell_type": "markdown",
   "id": "e82a62f5",
   "metadata": {},
   "source": [
    "### Skrivanje vrednosti"
   ]
  },
  {
   "cell_type": "markdown",
   "id": "28834cdd",
   "metadata": {},
   "source": [
    "Opis kode lahko naredimo tudi znotraj signature in sicer (** opis kode, kjer vsa koda izgleda kot [koda] *)"
   ]
  },
  {
   "cell_type": "code",
   "execution_count": 26,
   "id": "1105ddcd",
   "metadata": {
    "vscode": {
     "languageId": "ocaml"
    }
   },
   "outputs": [
    {
     "data": {
      "text/plain": [
       "module type ULOMEK =\n",
       "  sig\n",
       "    type t = { stevec : int; imenovalec : int; }\n",
       "    val ( * ) : t -> t -> t\n",
       "    val ( + ) : t -> t -> t\n",
       "  end\n"
      ]
     },
     "execution_count": 26,
     "metadata": {},
     "output_type": "execute_result"
    }
   ],
   "source": [
    "module type ULOMEK = sig\n",
    "  type t = { stevec : int; imenovalec : int; }\n",
    "  val ( * ) : t -> t -> t\n",
    "  val ( + ) : t -> t -> t\n",
    "end"
   ]
  },
  {
   "cell_type": "code",
   "execution_count": 27,
   "id": "e3686b2b",
   "metadata": {
    "vscode": {
     "languageId": "ocaml"
    }
   },
   "outputs": [
    {
     "data": {
      "text/plain": [
       "module Ulomek : ULOMEK\n"
      ]
     },
     "execution_count": 27,
     "metadata": {},
     "output_type": "execute_result"
    }
   ],
   "source": [
    "module Ulomek : ULOMEK = struct\n",
    "  type t = { stevec : int; imenovalec : int }\n",
    "  let rec gcd a b = if b = 0 then a else gcd b (a mod b)\n",
    "  let okrajsaj { stevec; imenovalec } =\n",
    "    let delitelj = gcd stevec imenovalec in\n",
    "    { stevec = stevec / delitelj; imenovalec = imenovalec / delitelj }\n",
    "  let ( *** ) p q = { stevec = p.stevec * q.stevec; imenovalec = p.imenovalec * q.imenovalec } |> okrajsaj\n",
    "  let ( +++ ) p q = { stevec = p.stevec * q.imenovalec + q.stevec * p.imenovalec; imenovalec = p.imenovalec * q.imenovalec } |> okrajsaj\n",
    "  let ( * ) = ( *** )\n",
    "  let ( + ) = ( +++ )\n",
    "end"
   ]
  },
  {
   "cell_type": "code",
   "execution_count": 32,
   "id": "296bdd7b",
   "metadata": {
    "vscode": {
     "languageId": "ocaml"
    }
   },
   "outputs": [
    {
     "data": {
      "text/plain": [
       "- : Ulomek.t = {Ulomek.stevec = 10; imenovalec = 100}\n"
      ]
     },
     "execution_count": 32,
     "metadata": {},
     "output_type": "execute_result"
    }
   ],
   "source": [
    "Ulomek.{ stevec = 10; imenovalec = 100}"
   ]
  },
  {
   "cell_type": "code",
   "execution_count": 29,
   "id": "1a6de76f",
   "metadata": {
    "vscode": {
     "languageId": "ocaml"
    }
   },
   "outputs": [
    {
     "data": {
      "text/plain": [
       "val a : Ulomek.t = {Ulomek.stevec = 1; imenovalec = 2}\n"
      ]
     },
     "execution_count": 29,
     "metadata": {},
     "output_type": "execute_result"
    },
    {
     "data": {
      "text/plain": [
       "val b : Ulomek.t = {Ulomek.stevec = 1; imenovalec = 3}\n"
      ]
     },
     "execution_count": 29,
     "metadata": {},
     "output_type": "execute_result"
    },
    {
     "data": {
      "text/plain": [
       "val c : Ulomek.t = {Ulomek.stevec = 5; imenovalec = 6}\n"
      ]
     },
     "execution_count": 29,
     "metadata": {},
     "output_type": "execute_result"
    }
   ],
   "source": [
    "let a = Ulomek.{ stevec = 1; imenovalec = 2 }\n",
    "let b = Ulomek.{ stevec = 1; imenovalec = 3 }\n",
    "let c = Ulomek.(a + b * a + a * b)"
   ]
  },
  {
   "cell_type": "code",
   "execution_count": 30,
   "id": "f0010fa4",
   "metadata": {
    "vscode": {
     "languageId": "ocaml"
    }
   },
   "outputs": [
    {
     "ename": "error",
     "evalue": "compile_error",
     "output_type": "error",
     "traceback": [
      "File \"[30]\", lines 1-9, characters 25-3:\n1 | .........................struct\n2 |   type t = int * int\n3 |   let rec gcd a b = if b = 0 then a else gcd b (a mod b)\n4 |   let okrajsaj (p, q) = let d = gcd p q in (p / d,  q / d )\n5 |   let ( *** ) (p1, p2) (q1, q2) = (p1 * q1, p2 * q2) |> okrajsaj\n6 |   let ( +++ ) (p1, p2) (q1, q2) = (p1 * q2 + q1 * p2, p2 * q2) |> okrajsaj\n7 |   let ( * ) = ( *** )\n8 |   let ( + ) = ( +++ )\n9 | end\nError: Signature mismatch:\n       ...\n       Type declarations do not match:\n         type t = int * int\n       is not included in\n         type t = { stevec : int; imenovalec : int; }\n       Their kinds differ.\n       File \"[26]\", line 2, characters 2-46: Expected declaration\n       File \"[30]\", line 2, characters 2-20: Actual declaration\n"
     ]
    }
   ],
   "source": [
    "module Ulomek : ULOMEK = struct\n",
    "  type t = int * int\n",
    "  let rec gcd a b = if b = 0 then a else gcd b (a mod b)\n",
    "  let okrajsaj (p, q) = let d = gcd p q in (p / d,  q / d )\n",
    "  let ( *** ) (p1, p2) (q1, q2) = (p1 * q1, p2 * q2) |> okrajsaj\n",
    "  let ( +++ ) (p1, p2) (q1, q2) = (p1 * q2 + q1 * p2, p2 * q2) |> okrajsaj\n",
    "  let ( * ) = ( *** )\n",
    "  let ( + ) = ( +++ )\n",
    "end"
   ]
  },
  {
   "cell_type": "markdown",
   "id": "1271cf58",
   "metadata": {},
   "source": [
    "### Abstrakcija tipov"
   ]
  },
  {
   "cell_type": "markdown",
   "id": "5ebcdcdf",
   "metadata": {},
   "source": [
    "Abstraktni tipi so tipi, kjer ne vemo kaj je notri. Če tako napišemo, tud OCaml ne bo enačil med našim napisanim tipom in standrdnemu zapisu tipa npr t = list, OCaml se bo pritožu da hoče list ima pa t. Lahko pa dodamo trivialne funkcije (fun x -> x), ki jim določimo tip t -> list in list -> t, da jih spravimo v pravi tip."
   ]
  },
  {
   "cell_type": "markdown",
   "id": "011ce5fc",
   "metadata": {},
   "source": [
    "neka korelacija z wrapper v pythonu."
   ]
  },
  {
   "cell_type": "code",
   "execution_count": 45,
   "id": "288ed814",
   "metadata": {
    "vscode": {
     "languageId": "ocaml"
    }
   },
   "outputs": [
    {
     "data": {
      "text/plain": [
       "module type ULOMEK =\n",
       "  sig\n",
       "    type t\n",
       "    val of_int : int -> t\n",
       "    val ( // ) : int -> int -> t\n",
       "    val ( * ) : t -> t -> t\n",
       "    val ( / ) : t -> t -> t\n",
       "    val ( + ) : t -> t -> t\n",
       "    val to_string : t -> string\n",
       "  end\n"
      ]
     },
     "execution_count": 45,
     "metadata": {},
     "output_type": "execute_result"
    }
   ],
   "source": [
    "module type ULOMEK = sig\n",
    "  type t\n",
    "  val of_int : int -> t\n",
    "  val ( // ) : int -> int -> t\n",
    "  val ( * ) : t -> t -> t\n",
    "  val ( / ) : t -> t -> t\n",
    "  val ( + ) : t -> t -> t\n",
    "  val to_string : t -> string\n",
    "end"
   ]
  },
  {
   "cell_type": "code",
   "execution_count": 46,
   "id": "d0e4ed0b",
   "metadata": {
    "vscode": {
     "languageId": "ocaml"
    }
   },
   "outputs": [
    {
     "data": {
      "text/plain": [
       "module Ulomek : ULOMEK\n"
      ]
     },
     "execution_count": 46,
     "metadata": {},
     "output_type": "execute_result"
    }
   ],
   "source": [
    "module Ulomek : ULOMEK = struct\n",
    "  type t = int * int\n",
    "  let of_int x = (x, 1)\n",
    "  let rec gcd a b = if b = 0 then a else gcd b (a mod b)\n",
    "  let okrajsaj (p, q) = let d = gcd p q in (p / d,  q / d )\n",
    "  let ( // ) p q = okrajsaj (p, q)\n",
    "  let ( *** ) (p1, p2) (q1, q2) = (p1 * q1, p2 * q2) |> okrajsaj\n",
    "  let ( +++ ) (p1, p2) (q1, q2) = (p1 * q2 + q1 * p2, p2 * q2) |> okrajsaj\n",
    "  let ( / ) (p1, p2) (q1, q2) = (p1 * q2, p2 * q1) |> okrajsaj\n",
    "  let ( * ) = ( *** )\n",
    "  let ( + ) = ( +++ )\n",
    "  let to_string (p, q) = Format.sprintf \"%d/%d\" p q\n",
    "end"
   ]
  },
  {
   "cell_type": "code",
   "execution_count": 50,
   "id": "f376d205",
   "metadata": {
    "vscode": {
     "languageId": "ocaml"
    }
   },
   "outputs": [
    {
     "data": {
      "text/plain": [
       "- : unit = ()\n"
      ]
     },
     "execution_count": 50,
     "metadata": {},
     "output_type": "execute_result"
    },
    {
     "name": "stdout",
     "output_type": "stream",
     "text": [
      "5/6\n"
     ]
    }
   ],
   "source": [
    "Ulomek.(1 // 2 + 1 // 3 |> to_string) |> print_endline"
   ]
  },
  {
   "cell_type": "markdown",
   "id": "f4f9d97b",
   "metadata": {},
   "source": [
    "# Neobvezen, ampak vseen uporaben del"
   ]
  },
  {
   "cell_type": "markdown",
   "id": "b87d86c1",
   "metadata": {},
   "source": [
    "vse te svoje tipe smo jim dodali alfa odspredej in smo šli popravljat funkcije. ampak to menda ni dejanski način in bi rabili module, da lahko zapakiramo skupej eno funkcijo in nekej stvari zraven."
   ]
  },
  {
   "cell_type": "code",
   "execution_count": null,
   "id": "dde09fc0",
   "metadata": {
    "vscode": {
     "languageId": "ocaml"
    }
   },
   "outputs": [
    {
     "data": {
      "text/plain": [
       "module type ULOMEK =\n",
       "  sig\n",
       "    type t\n",
       "    val of_alfa : 'a -> 'a\n",
       "    val ( // ) : 'a -> 'a -> t\n",
       "    val ( * ) : t -> t -> t\n",
       "    val ( / ) : t -> t -> t\n",
       "    val ( + ) : t -> t -> t\n",
       "    val to_string : t -> string\n",
       "  end\n"
      ]
     },
     "execution_count": 2,
     "metadata": {},
     "output_type": "execute_result"
    }
   ],
   "source": [
    "module type ULOMEK = sig\n",
    "  type t\n",
    "  val of_alfa : 'a -> 'a\n",
    "  val ( // ) : 'a -> 'a -> 'a t\n",
    "  val ( * ) : 'a t -> 'a t -> 'a t\n",
    "  val ( / ) : 'a t -> 'a t -> 'a t\n",
    "  val ( + ) : 'a t -> 'a t -> 'a t\n",
    "  val to_string : 'a t -> string\n",
    "end"
   ]
  },
  {
   "cell_type": "markdown",
   "id": "92eb5757",
   "metadata": {},
   "source": [
    "Rabimo definirati kolobar (iz algebre)\n",
    "\n",
    "elt je krajše za element"
   ]
  },
  {
   "cell_type": "code",
   "execution_count": 3,
   "id": "ade48e32",
   "metadata": {
    "vscode": {
     "languageId": "ocaml"
    }
   },
   "outputs": [
    {
     "ename": "error",
     "evalue": "compile_error",
     "output_type": "error",
     "traceback": [
      "File \"[3]\", line 4, characters 2-5:\n4 |   let ( + ) = ( + ) \n      ^^^\nError: Syntax error: 'end' expected\nFile \"[3]\", line 1, characters 22-25:\n1 | module type KOLOBAR = sig\n                          ^^^\n  This 'sig' might be unmatched\n"
     ]
    }
   ],
   "source": [
    "module type KOLOBAR = sig\n",
    "  type elt\n",
    "\n",
    "  let ( + ) = ( + ) \n",
    "  let ( * ) = ( * )\n",
    "\n",
    "end\n",
    "\n",
    "module type POLINOM = sig\n",
    "  type polinom\n",
    "  type kolobar\n",
    "\n",
    "end\n",
    "\n",
    "module celostevilski_polinom : POLINOM\n",
    "  type polinom\n",
    "\n",
    "end\n",
    "\n",
    "module Polinom_nad_kolobarjem (K : KOLOBAR)  = struct\n",
    "  (* enter a lieu of sighs ker nekej ne dela*)\n",
    "  type polinom = K.elt list\n",
    "  type kolobar = K.elt\n",
    "\n",
    "  ...\n",
    "\n",
    "end"
   ]
  },
  {
   "cell_type": "markdown",
   "id": "f4ffc01b",
   "metadata": {},
   "source": [
    "Lahko gnezdimo module.\n",
    "Npr. mamo modul ki implementira števila in ga rabimo za implementacijo modulov, ki definirajo polinome. \n",
    "\n",
    "Modulom, ki vzamejo modul in druge stvari imenujemo funktorji"
   ]
  },
  {
   "cell_type": "markdown",
   "id": "81c9d4c8",
   "metadata": {},
   "source": [
    "### Mal bl random shit"
   ]
  },
  {
   "cell_type": "markdown",
   "id": "cbdf532a",
   "metadata": {},
   "source": [
    "Za 2. dn bomo morali znati uporabiti učinkovit slovar, ki je trenutno v knjižnici Map.OrderedType"
   ]
  },
  {
   "cell_type": "code",
   "execution_count": 4,
   "id": "4f9112a3",
   "metadata": {
    "vscode": {
     "languageId": "ocaml"
    }
   },
   "outputs": [
    {
     "ename": "error",
     "evalue": "compile_error",
     "output_type": "error",
     "traceback": [
      "File \"[4]\", line 1, characters 41-42:\n1 | module NiziSPrimerjavo = Map.OrderedType = struct\n                                             ^\nError: Syntax error\n"
     ]
    }
   ],
   "source": [
    "module NiziSPrimerjavo = Map.OrderedType = struct\n",
    "  type t = string\n",
    "\n",
    "  let compare = String.compare (* ali let compare = String.compare in bil v zadnjem modulu*)\n",
    "end\n",
    "\n",
    "module SlovarZNiziZaKljuce = Map.Make(NiziSPrimerjavo)\n",
    "\n",
    "  let _ =\n",
    "    SlovarZNiziZaKljuce.empty \n",
    "    |> SlovarZNiziZaKljuce.add \"kljuc\" 10"
   ]
  }
 ],
 "metadata": {
  "kernelspec": {
   "display_name": "OCaml 4.14",
   "language": "OCaml",
   "name": "ocaml-jupyter"
  },
  "language_info": {
   "codemirror_mode": "text/x-ocaml",
   "file_extension": ".ml",
   "mimetype": "text/x-ocaml",
   "name": "OCaml",
   "nbconverter_exporter": null,
   "pygments_lexer": "OCaml",
   "version": "4.14.2"
  }
 },
 "nbformat": 4,
 "nbformat_minor": 5
}
