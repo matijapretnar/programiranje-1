{
 "cells": [
  {
   "cell_type": "markdown",
   "metadata": {},
   "source": [
    "# Memoizacija v OCamlu"
   ]
  },
  {
   "cell_type": "markdown",
   "metadata": {},
   "source": [
    "## Funkcija z vgrajeno memoizacijo"
   ]
  },
  {
   "cell_type": "code",
   "execution_count": 30,
   "metadata": {
    "vscode": {
     "languageId": "ocaml"
    }
   },
   "outputs": [
    {
     "data": {
      "text/plain": [
       "val fib : int -> int = <fun>\n"
      ]
     },
     "execution_count": 30,
     "metadata": {},
     "output_type": "execute_result"
    }
   ],
   "source": [
    "let rec fib n =\n",
    "    Format.printf \"racunam fib(%d)\\n%!\" n;\n",
    "    match n with\n",
    "    | 0 -> 0\n",
    "    | 1 -> 1\n",
    "    | n -> fib (n - 1) + fib (n - 2)"
   ]
  },
  {
   "cell_type": "code",
   "execution_count": 8,
   "metadata": {
    "vscode": {
     "languageId": "ocaml"
    }
   },
   "outputs": [
    {
     "name": "stdout",
     "output_type": "stream",
     "text": [
      "racunam fib(5)\n",
      "racunam fib(3)\n",
      "racunam fib(1)\n",
      "racunam fib(2)\n",
      "racunam fib(0)\n",
      "racunam fib(1)\n",
      "racunam fib(4)\n",
      "racunam fib(2)\n",
      "racunam fib(0)\n",
      "racunam fib(1)\n",
      "racunam fib(3)\n",
      "racunam fib(1)\n",
      "racunam fib(2)\n",
      "racunam fib(0)\n",
      "racunam fib(1)\n"
     ]
    },
    {
     "data": {
      "text/plain": [
       "- : int = 5\n"
      ]
     },
     "execution_count": 8,
     "metadata": {},
     "output_type": "execute_result"
    }
   ],
   "source": [
    "fib 5"
   ]
  },
  {
   "cell_type": "code",
   "execution_count": 23,
   "metadata": {
    "vscode": {
     "languageId": "ocaml"
    }
   },
   "outputs": [
    {
     "data": {
      "text/plain": [
       "val rezultati : ('_weak5, '_weak6) Hashtbl.t = <abstr>\n"
      ]
     },
     "execution_count": 23,
     "metadata": {},
     "output_type": "execute_result"
    },
    {
     "data": {
      "text/plain": [
       "val fib : int -> int = <fun>\n"
      ]
     },
     "execution_count": 23,
     "metadata": {},
     "output_type": "execute_result"
    }
   ],
   "source": [
    "let rezultati = Hashtbl.create 1\n",
    "\n",
    "let rec mem_fib n =\n",
    "  match Hashtbl.find_opt rezultati n with\n",
    "  | Some fn -> fn\n",
    "  | None ->\n",
    "      Format.printf \"racunam mem_fib(%d)\\n%!\" n;\n",
    "      let fn =\n",
    "        match n with\n",
    "        | 0 -> 0\n",
    "        | 1 -> 1\n",
    "        | n -> mem_fib (n - 1) + mem_fib (n - 2)\n",
    "      in\n",
    "      Hashtbl.add rezultati n fn;\n",
    "      fn"
   ]
  },
  {
   "cell_type": "code",
   "execution_count": 24,
   "metadata": {
    "vscode": {
     "languageId": "ocaml"
    }
   },
   "outputs": [
    {
     "name": "stdout",
     "output_type": "stream",
     "text": [
      "racunam fib(10)\n",
      "racunam fib(8)\n",
      "racunam fib(6)\n",
      "racunam fib(4)\n",
      "racunam fib(2)\n",
      "racunam fib(0)\n",
      "racunam fib(1)\n",
      "racunam fib(3)\n",
      "racunam fib(5)\n",
      "racunam fib(7)\n",
      "racunam fib(9)\n"
     ]
    },
    {
     "data": {
      "text/plain": [
       "- : int = 55\n"
      ]
     },
     "execution_count": 24,
     "metadata": {},
     "output_type": "execute_result"
    }
   ],
   "source": [
    "fib 10"
   ]
  },
  {
   "cell_type": "code",
   "execution_count": 25,
   "metadata": {
    "vscode": {
     "languageId": "ocaml"
    }
   },
   "outputs": [
    {
     "data": {
      "text/plain": [
       "- : (int * int) list =\n",
       "[(6, 8); (2, 1); (8, 21); (7, 13); (3, 2); (5, 5); (4, 3); (9, 34); (0, 0);\n",
       " (10, 55); (1, 1)]\n"
      ]
     },
     "execution_count": 25,
     "metadata": {},
     "output_type": "execute_result"
    }
   ],
   "source": [
    "Hashtbl.to_seq rezultati |> List.of_seq"
   ]
  },
  {
   "cell_type": "code",
   "execution_count": 26,
   "metadata": {
    "vscode": {
     "languageId": "ocaml"
    }
   },
   "outputs": [
    {
     "data": {
      "text/plain": [
       "- : unit = ()\n"
      ]
     },
     "execution_count": 26,
     "metadata": {},
     "output_type": "execute_result"
    }
   ],
   "source": [
    "Hashtbl.add rezultati 11 42"
   ]
  },
  {
   "cell_type": "code",
   "execution_count": 27,
   "metadata": {
    "vscode": {
     "languageId": "ocaml"
    }
   },
   "outputs": [
    {
     "data": {
      "text/plain": [
       "- : int = 42\n"
      ]
     },
     "execution_count": 27,
     "metadata": {},
     "output_type": "execute_result"
    }
   ],
   "source": [
    "fib 11"
   ]
  },
  {
   "cell_type": "code",
   "execution_count": 29,
   "metadata": {
    "vscode": {
     "languageId": "ocaml"
    }
   },
   "outputs": [
    {
     "data": {
      "text/plain": [
       "val memo : ('a -> 'b) -> 'a -> 'b = <fun>\n"
      ]
     },
     "execution_count": 29,
     "metadata": {},
     "output_type": "execute_result"
    }
   ],
   "source": [
    "let memo f =\n",
    "\n",
    "  let rezultati = Hashtbl.create 128 in\n",
    "\n",
    "  let rec memo_f n =\n",
    "    match Hashtbl.find_opt rezultati n with\n",
    "    | Some fn -> fn\n",
    "    | None ->\n",
    "        let fn = f n in\n",
    "        Hashtbl.add rezultati n fn;\n",
    "        fn\n",
    "  \n",
    "  in\n",
    "\n",
    "  memo_f"
   ]
  },
  {
   "cell_type": "code",
   "execution_count": 41,
   "metadata": {
    "vscode": {
     "languageId": "ocaml"
    }
   },
   "outputs": [
    {
     "data": {
      "text/plain": [
       "val fib : int -> int = <fun>\n"
      ]
     },
     "execution_count": 41,
     "metadata": {},
     "output_type": "execute_result"
    }
   ],
   "source": [
    "let fib = memo fib "
   ]
  },
  {
   "cell_type": "code",
   "execution_count": 44,
   "metadata": {
    "vscode": {
     "languageId": "ocaml"
    }
   },
   "outputs": [
    {
     "name": "stdout",
     "output_type": "stream",
     "text": [
      "racunam fib(6)\n",
      "racunam fib(4)\n",
      "racunam fib(2)\n",
      "racunam fib(0)\n",
      "racunam fib(1)\n",
      "racunam fib(3)\n",
      "racunam fib(1)\n",
      "racunam fib(2)\n",
      "racunam fib(0)\n",
      "racunam fib(1)\n",
      "racunam fib(5)\n",
      "racunam fib(3)\n",
      "racunam fib(1)\n",
      "racunam fib(2)\n",
      "racunam fib(0)\n",
      "racunam fib(1)\n",
      "racunam fib(4)\n",
      "racunam fib(2)\n",
      "racunam fib(0)\n",
      "racunam fib(1)\n",
      "racunam fib(3)\n",
      "racunam fib(1)\n",
      "racunam fib(2)\n",
      "racunam fib(0)\n",
      "racunam fib(1)\n"
     ]
    },
    {
     "data": {
      "text/plain": [
       "- : int = 8\n"
      ]
     },
     "execution_count": 44,
     "metadata": {},
     "output_type": "execute_result"
    }
   ],
   "source": [
    "fib 6"
   ]
  },
  {
   "cell_type": "code",
   "execution_count": 35,
   "metadata": {
    "vscode": {
     "languageId": "ocaml"
    }
   },
   "outputs": [
    {
     "data": {
      "text/plain": [
       "- : int = 5\n"
      ]
     },
     "execution_count": 35,
     "metadata": {},
     "output_type": "execute_result"
    }
   ],
   "source": [
    "memo_fib 5"
   ]
  },
  {
   "cell_type": "code",
   "execution_count": 52,
   "metadata": {
    "vscode": {
     "languageId": "ocaml"
    }
   },
   "outputs": [
    {
     "data": {
      "text/plain": [
       "val odviti_fib : (int -> int) -> int -> int = <fun>\n"
      ]
     },
     "execution_count": 52,
     "metadata": {},
     "output_type": "execute_result"
    }
   ],
   "source": [
    "let odviti_fib k n =\n",
    "  Format.printf \"racunam mem_fib(%d)\\n%!\" n;\n",
    "  match n with\n",
    "  | 0 -> 0\n",
    "  | 1 -> 1\n",
    "  | n -> k (n - 1) + k (n - 2)"
   ]
  },
  {
   "cell_type": "code",
   "execution_count": 50,
   "metadata": {
    "vscode": {
     "languageId": "ocaml"
    }
   },
   "outputs": [
    {
     "data": {
      "text/plain": [
       "- : int = 200\n"
      ]
     },
     "execution_count": 50,
     "metadata": {},
     "output_type": "execute_result"
    }
   ],
   "source": [
    "odviti_fib (fun n -> 100) 2"
   ]
  },
  {
   "cell_type": "code",
   "execution_count": 60,
   "metadata": {
    "vscode": {
     "languageId": "ocaml"
    }
   },
   "outputs": [
    {
     "data": {
      "text/plain": [
       "val memo : (('a -> 'b) -> 'a -> 'b) -> 'a -> 'b = <fun>\n"
      ]
     },
     "execution_count": 60,
     "metadata": {},
     "output_type": "execute_result"
    }
   ],
   "source": [
    "let memo odviti_f =\n",
    "\n",
    "  let rezultati = Hashtbl.create 128 in\n",
    "\n",
    "  let rec memo_f n =\n",
    "    match Hashtbl.find_opt rezultati n with\n",
    "    | Some fn -> fn\n",
    "    | None ->\n",
    "        let fn = odviti_f memo_f n in\n",
    "        Hashtbl.add rezultati n fn;\n",
    "        fn\n",
    "  \n",
    "  in\n",
    "\n",
    "  memo_f"
   ]
  },
  {
   "cell_type": "code",
   "execution_count": 61,
   "metadata": {
    "vscode": {
     "languageId": "ocaml"
    }
   },
   "outputs": [
    {
     "data": {
      "text/plain": [
       "val fib : int -> int = <fun>\n"
      ]
     },
     "execution_count": 61,
     "metadata": {},
     "output_type": "execute_result"
    }
   ],
   "source": [
    "let fib = memo odviti_fib"
   ]
  },
  {
   "cell_type": "code",
   "execution_count": 59,
   "metadata": {
    "vscode": {
     "languageId": "ocaml"
    }
   },
   "outputs": [
    {
     "data": {
      "text/plain": [
       "- : int = 89\n"
      ]
     },
     "execution_count": 59,
     "metadata": {},
     "output_type": "execute_result"
    }
   ],
   "source": [
    "fib 11"
   ]
  },
  {
   "cell_type": "code",
   "execution_count": 62,
   "metadata": {
    "vscode": {
     "languageId": "ocaml"
    }
   },
   "outputs": [
    {
     "data": {
      "text/plain": [
       "val fib : int -> int = <fun>\n"
      ]
     },
     "execution_count": 62,
     "metadata": {},
     "output_type": "execute_result"
    }
   ],
   "source": [
    "let rec fib n =\n",
    "  Format.printf \"racunam mem_fib(%d)\\n%!\" n;\n",
    "  match n with\n",
    "  | 0 -> 0\n",
    "  | 1 -> 1\n",
    "  | n -> fib (n - 1) + fib (n - 2)"
   ]
  },
  {
   "cell_type": "code",
   "execution_count": 66,
   "metadata": {
    "vscode": {
     "languageId": "ocaml"
    }
   },
   "outputs": [
    {
     "data": {
      "text/plain": [
       "val fib : int -> int = <fun>\n"
      ]
     },
     "execution_count": 66,
     "metadata": {},
     "output_type": "execute_result"
    }
   ],
   "source": [
    "let fib = memo @@ fun fib n ->\n",
    "    Format.printf \"racunam mem_fib(%d)\\n%!\" n;\n",
    "    match n with\n",
    "    | 0 -> 0\n",
    "    | 1 -> 1\n",
    "    | n -> fib (n - 1) + fib (n - 2)"
   ]
  },
  {
   "cell_type": "code",
   "execution_count": 65,
   "metadata": {
    "vscode": {
     "languageId": "ocaml"
    }
   },
   "outputs": [
    {
     "data": {
      "text/plain": [
       "- : int = 101\n"
      ]
     },
     "execution_count": 65,
     "metadata": {},
     "output_type": "execute_result"
    }
   ],
   "source": [
    "let rec f n =\n",
    "  ...\n",
    "\n",
    "let f = memo @@ fun f n ->\n",
    "  ..."
   ]
  },
  {
   "cell_type": "code",
   "execution_count": null,
   "metadata": {
    "vscode": {
     "languageId": "ocaml"
    }
   },
   "outputs": [],
   "source": []
  }
 ],
 "metadata": {
  "kernelspec": {
   "display_name": "OCaml default",
   "language": "OCaml",
   "name": "ocaml-jupyter-default"
  },
  "language_info": {
   "codemirror_mode": "text/x-ocaml",
   "file_extension": ".ml",
   "mimetype": "text/x-ocaml",
   "name": "OCaml",
   "nbconverter_exporter": null,
   "pygments_lexer": "OCaml",
   "version": "4.14.1"
  }
 },
 "nbformat": 4,
 "nbformat_minor": 2
}
