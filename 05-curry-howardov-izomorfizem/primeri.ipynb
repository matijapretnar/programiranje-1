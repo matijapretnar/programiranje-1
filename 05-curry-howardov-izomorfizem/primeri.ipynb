{
 "cells": [
  {
   "cell_type": "markdown",
   "metadata": {},
   "source": [
    "# Curry-Howardov izomorfizem"
   ]
  },
  {
   "cell_type": "code",
   "execution_count": 1,
   "metadata": {
    "vscode": {
     "languageId": "ocaml"
    }
   },
   "outputs": [
    {
     "data": {
      "text/plain": [
       "val curry : ('a * 'b -> 'c) -> 'a -> 'b -> 'c = <fun>\n"
      ]
     },
     "execution_count": 1,
     "metadata": {},
     "output_type": "execute_result"
    }
   ],
   "source": [
    "let curry f x y = f (x, y)"
   ]
  },
  {
   "cell_type": "markdown",
   "metadata": {
    "vscode": {
     "languageId": "ocaml"
    }
   },
   "source": [
    "$$C^{A \\times B} \\equiv (C^B)^A$$\n",
    "$$x^{y \\cdot z} = (x^z)^y$$\n",
    "$$(P \\land Q \\Rightarrow R) \\iff (P \\Rightarrow (Q \\Rightarrow R))$$"
   ]
  },
  {
   "cell_type": "markdown",
   "metadata": {
    "vscode": {
     "languageId": "ocaml"
    }
   },
   "source": [
    "$$A \\times (B + C) \\equiv A \\times B + A \\times C$$\n",
    "$$x \\cdot (y + z) = x \\cdot y + x \\cdot z$$\n",
    "$$P \\land (Q \\lor R) \\equiv (P \\land Q) \\lor (P \\land R)$$"
   ]
  },
  {
   "cell_type": "markdown",
   "metadata": {},
   "source": [
    "[Haskell Brooks Curry](https://en.wikipedia.org/wiki/Haskell_Curry), * 1900, Millis † 1982, State College\n",
    "\n",
    "[William Alvin Howard](https://en.wikipedia.org/wiki/William_A._Howard), * 1926"
   ]
  },
  {
   "cell_type": "markdown",
   "metadata": {
    "vscode": {
     "languageId": "ocaml"
    }
   },
   "source": [
    "- dokaz konjunkcije $P \\land Q$ = dokaz $P$ in dokaz $Q$\n",
    "- dokaz disjunkcije $P \\lor Q$ = dokaz $P$ ali dokaz $Q$\n",
    "- dokaz implikacije $P \\Rightarrow Q$ = predpis, ki dokaz $P$ preslika v dokaz $Q$\n"
   ]
  },
  {
   "cell_type": "markdown",
   "metadata": {
    "vscode": {
     "languageId": "ocaml"
    }
   },
   "source": [
    "$$\\mathcal{D}_P = \\text{množica vseh dokazov izjave $P$}$$"
   ]
  },
  {
   "cell_type": "markdown",
   "metadata": {},
   "source": [
    "- $\\mathcal{D}_{P \\land Q} \\cong \\mathcal{D}_P \\times \\mathcal{D}_Q$\n",
    "- $\\mathcal{D}_{P \\lor Q} \\cong \\mathcal{D}_P + \\mathcal{D}_Q$\n",
    "- $\\mathcal{D}_{P \\Rightarrow Q} \\cong (\\mathcal{D}_Q)^{\\mathcal{D}_P} = \\mathcal{D}_P \\to {\\mathcal{D}_Q}$\n",
    "- $\\mathcal{D}_{\\lnot P} = \\mathcal{D}_{P \\Rightarrow \\bot} = \\mathcal{D}_{P} \\to \\emptyset$\n"
   ]
  },
  {
   "cell_type": "code",
   "execution_count": 4,
   "metadata": {
    "vscode": {
     "languageId": "ocaml"
    }
   },
   "outputs": [
    {
     "data": {
      "text/plain": [
       "type empty\n"
      ]
     },
     "execution_count": 4,
     "metadata": {},
     "output_type": "execute_result"
    },
    {
     "data": {
      "text/plain": [
       "type 'p not = 'p -> empty\n"
      ]
     },
     "execution_count": 4,
     "metadata": {},
     "output_type": "execute_result"
    }
   ],
   "source": [
    "type empty\n",
    "type 'p not = 'p -> empty"
   ]
  },
  {
   "cell_type": "markdown",
   "metadata": {
    "vscode": {
     "languageId": "ocaml"
    }
   },
   "source": [
    "$$(P \\land Q \\Rightarrow R) \\Rightarrow (P \\Rightarrow (Q \\Rightarrow R))$$"
   ]
  },
  {
   "cell_type": "markdown",
   "metadata": {},
   "source": [
    "$$\\mathcal{D}_{(P \\land Q \\Rightarrow R) \\Rightarrow (P \\Rightarrow (Q \\Rightarrow R))} \\cong (\\mathcal{D}_P \\times \\mathcal{D}_Q \\to \\mathcal{D}_R) \\to (\\mathcal{D}_P \\to (\\mathcal{D}_Q \\to \\mathcal{D}_R))$$"
   ]
  },
  {
   "cell_type": "markdown",
   "metadata": {},
   "source": [
    "Ali je $(\\mathcal{D}_P \\times \\mathcal{D}_Q \\to \\mathcal{D}_R) \\to (\\mathcal{D}_P \\to (\\mathcal{D}_Q \\to \\mathcal{D}_R))$ neprazna?"
   ]
  },
  {
   "cell_type": "markdown",
   "metadata": {},
   "source": [
    "Ja, ker je $(A \\times B \\to C) \\to (A \\to (B \\to C))$ neprazna za poljubne $A, B, C$"
   ]
  },
  {
   "cell_type": "code",
   "execution_count": 16,
   "metadata": {
    "vscode": {
     "languageId": "ocaml"
    }
   },
   "outputs": [
    {
     "data": {
      "text/plain": [
       "val dokaz_nase_izjave : ('a * 'b -> 'c) -> 'a -> 'b -> 'c = <fun>\n"
      ]
     },
     "execution_count": 16,
     "metadata": {},
     "output_type": "execute_result"
    }
   ],
   "source": [
    "let dokaz_nase_izjave : ('a * 'b -> 'c) -> ('a -> ('b -> 'c)) =\n",
    "  fun (f : ('a * 'b -> 'c)) -> (fun (x : 'a) -> (fun (y : 'b) -> f (x, y)))"
   ]
  },
  {
   "cell_type": "code",
   "execution_count": 17,
   "metadata": {
    "vscode": {
     "languageId": "ocaml"
    }
   },
   "outputs": [
    {
     "data": {
      "text/plain": [
       "val dokaz_nase_izjave : ('a * 'b -> 'c) -> 'a -> 'b -> 'c = <fun>\n"
      ]
     },
     "execution_count": 17,
     "metadata": {},
     "output_type": "execute_result"
    }
   ],
   "source": [
    "let dokaz_nase_izjave : ('a * 'b -> 'c) -> ('a -> ('b -> 'c)) = curry"
   ]
  },
  {
   "cell_type": "code",
   "execution_count": 18,
   "metadata": {
    "vscode": {
     "languageId": "ocaml"
    }
   },
   "outputs": [
    {
     "data": {
      "text/plain": [
       "val dokaz_nepravilne_izjave : ('a -> 'b) -> 'b -> 'a = <fun>\n"
      ]
     },
     "execution_count": 18,
     "metadata": {},
     "output_type": "execute_result"
    }
   ],
   "source": [
    "let dokaz_nepravilne_izjave : ('a -> 'b) -> ('b -> 'a) =\n",
    "  fun (f : 'a -> 'b) -> fun (y : 'b) -> failwith \"nekaj iz A\""
   ]
  },
  {
   "cell_type": "code",
   "execution_count": 19,
   "metadata": {
    "vscode": {
     "languageId": "ocaml"
    }
   },
   "outputs": [
    {
     "data": {
      "text/plain": [
       "val dokaz_iz_cesarkoli_sled_karkoli : 'a -> 'b = <fun>\n"
      ]
     },
     "execution_count": 19,
     "metadata": {},
     "output_type": "execute_result"
    }
   ],
   "source": [
    "let rec dokaz_iz_cesarkoli_sled_karkoli : 'a -> 'b =\n",
    "  fun (dokaz_cesarkoli : 'a) -> dokaz_iz_cesarkoli_sled_karkoli dokaz_cesarkoli"
   ]
  },
  {
   "cell_type": "code",
   "execution_count": 20,
   "metadata": {
    "vscode": {
     "languageId": "ocaml"
    }
   },
   "outputs": [
    {
     "data": {
      "text/plain": [
       "val f : 'a -> 'b = <fun>\n"
      ]
     },
     "execution_count": 20,
     "metadata": {},
     "output_type": "execute_result"
    }
   ],
   "source": [
    "let rec f x = f x"
   ]
  },
  {
   "cell_type": "code",
   "execution_count": 21,
   "metadata": {
    "vscode": {
     "languageId": "ocaml"
    }
   },
   "outputs": [
    {
     "data": {
      "text/plain": [
       "val dokaz_nepravilne_izjave : ('a -> 'b) -> 'b -> 'a = <fun>\n"
      ]
     },
     "execution_count": 21,
     "metadata": {},
     "output_type": "execute_result"
    }
   ],
   "source": [
    "let dokaz_nepravilne_izjave : ('a -> 'b) -> ('b -> 'a) =\n",
    "  fun (f : 'a -> 'b) -> fun (y : 'b) -> dokaz_iz_cesarkoli_sled_karkoli y"
   ]
  },
  {
   "cell_type": "code",
   "execution_count": 2,
   "metadata": {
    "vscode": {
     "languageId": "ocaml"
    }
   },
   "outputs": [
    {
     "data": {
      "text/plain": [
       "val modus_ponens : ('p -> 'q) -> 'p -> 'q = <fun>\n"
      ]
     },
     "execution_count": 2,
     "metadata": {},
     "output_type": "execute_result"
    }
   ],
   "source": [
    "let modus_ponens : ('p -> 'q) -> 'p -> 'q =\n",
    "  fun (f : 'p -> 'q) (x : 'p) -> f x"
   ]
  },
  {
   "cell_type": "code",
   "execution_count": 5,
   "metadata": {
    "vscode": {
     "languageId": "ocaml"
    }
   },
   "outputs": [
    {
     "data": {
      "text/plain": [
       "val modus_tolens : ('p -> 'q) -> 'q not -> 'p not = <fun>\n"
      ]
     },
     "execution_count": 5,
     "metadata": {},
     "output_type": "execute_result"
    }
   ],
   "source": [
    "let modus_tolens : ('p -> 'q) -> 'q not -> 'p not =\n",
    "  fun (f : 'p -> 'q) (g : 'q not) ->\n",
    "    fun (x : 'p) -> g (f x)"
   ]
  },
  {
   "cell_type": "code",
   "execution_count": null,
   "metadata": {
    "vscode": {
     "languageId": "ocaml"
    }
   },
   "outputs": [],
   "source": []
  }
 ],
 "metadata": {
  "kernelspec": {
   "display_name": "OCaml 4.14",
   "language": "OCaml",
   "name": "ocaml-jupyter"
  },
  "language_info": {
   "codemirror_mode": "text/x-ocaml",
   "file_extension": ".ml",
   "mimetype": "text/x-ocaml",
   "name": "OCaml",
   "nbconverter_exporter": null,
   "pygments_lexer": "OCaml",
   "version": "4.14.2"
  }
 },
 "nbformat": 4,
 "nbformat_minor": 2
}
