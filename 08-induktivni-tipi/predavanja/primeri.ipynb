{
 "cells": [
  {
   "cell_type": "markdown",
   "metadata": {},
   "source": [
    "# Induktivni tipi"
   ]
  },
  {
   "cell_type": "markdown",
   "metadata": {},
   "source": [
    "## Učinki in čiste funkcije"
   ]
  },
  {
   "cell_type": "markdown",
   "metadata": {},
   "source": [
    "```python\n",
    "seznam = [1, 2, 3]\n",
    "\n",
    "def f(x):\n",
    "    seznam.append(x)\n",
    "    return len(seznam)\n",
    "\n",
    "def g(x):\n",
    "    return f(x) + f(x)\n",
    "```"
   ]
  },
  {
   "cell_type": "markdown",
   "metadata": {},
   "source": [
    "```python\n",
    ">>> g(100)\n",
    "???\n",
    ">>> f(100) + f(100)\n",
    "???\n",
    ">>> g(100)\n",
    "???\n",
    "```"
   ]
  },
  {
   "cell_type": "code",
   "execution_count": 12,
   "metadata": {
    "vscode": {
     "languageId": "ocaml"
    }
   },
   "outputs": [
    {
     "data": {
      "text/plain": [
       "val seznam : int list = [1; 2; 3]\n"
      ]
     },
     "execution_count": 12,
     "metadata": {},
     "output_type": "execute_result"
    },
    {
     "data": {
      "text/plain": [
       "val f : int -> int = <fun>\n"
      ]
     },
     "execution_count": 12,
     "metadata": {},
     "output_type": "execute_result"
    }
   ],
   "source": [
    "let seznam = [1; 2; 3]\n",
    "\n",
    "let f x =\n",
    "    let seznam = x :: seznam in\n",
    "    List.length seznam"
   ]
  },
  {
   "cell_type": "code",
   "execution_count": 9,
   "metadata": {
    "vscode": {
     "languageId": "ocaml"
    }
   },
   "outputs": [
    {
     "data": {
      "text/plain": [
       "- : int = 4\n"
      ]
     },
     "execution_count": 9,
     "metadata": {},
     "output_type": "execute_result"
    }
   ],
   "source": [
    "f 42"
   ]
  },
  {
   "cell_type": "code",
   "execution_count": 10,
   "metadata": {
    "vscode": {
     "languageId": "ocaml"
    }
   },
   "outputs": [
    {
     "data": {
      "text/plain": [
       "- : int = 4\n"
      ]
     },
     "execution_count": 10,
     "metadata": {},
     "output_type": "execute_result"
    }
   ],
   "source": [
    "f 24"
   ]
  },
  {
   "cell_type": "code",
   "execution_count": 11,
   "metadata": {
    "vscode": {
     "languageId": "ocaml"
    }
   },
   "outputs": [
    {
     "data": {
      "text/plain": [
       "- : int = 4\n"
      ]
     },
     "execution_count": 11,
     "metadata": {},
     "output_type": "execute_result"
    }
   ],
   "source": [
    "f 42"
   ]
  },
  {
   "cell_type": "markdown",
   "metadata": {},
   "source": [
    "## Lastnosti stikanja seznamov"
   ]
  },
  {
   "cell_type": "code",
   "execution_count": 1,
   "metadata": {
    "vscode": {
     "languageId": "ocaml"
    }
   },
   "outputs": [
    {
     "data": {
      "text/plain": [
       "val ( @ ) : 'a list -> 'a list -> 'a list = <fun>\n"
      ]
     },
     "execution_count": 1,
     "metadata": {},
     "output_type": "execute_result"
    }
   ],
   "source": [
    "let rec (@) xs ys =\n",
    "  match xs with\n",
    "  | [] -> ys\n",
    "  | x :: xs' ->  x :: (xs' @ ys)"
   ]
  },
  {
   "cell_type": "code",
   "execution_count": 2,
   "metadata": {
    "vscode": {
     "languageId": "ocaml"
    }
   },
   "outputs": [
    {
     "data": {
      "text/plain": [
       "- : int list = [1; 2; 3]\n"
      ]
     },
     "execution_count": 2,
     "metadata": {},
     "output_type": "execute_result"
    }
   ],
   "source": [
    "[] @ [1; 2; 3]"
   ]
  },
  {
   "cell_type": "code",
   "execution_count": 3,
   "metadata": {
    "vscode": {
     "languageId": "ocaml"
    }
   },
   "outputs": [
    {
     "data": {
      "text/plain": [
       "- : int list = [1; 2; 3]\n"
      ]
     },
     "execution_count": 3,
     "metadata": {},
     "output_type": "execute_result"
    }
   ],
   "source": [
    "[1] @ [2; 3]"
   ]
  },
  {
   "cell_type": "markdown",
   "metadata": {},
   "source": [
    "### `[] @ xs` = `xs`"
   ]
  },
  {
   "cell_type": "markdown",
   "metadata": {},
   "source": [
    "Velja po definiciji. ⬛️"
   ]
  },
  {
   "cell_type": "markdown",
   "metadata": {},
   "source": [
    "### `xs @ []` = `xs`"
   ]
  },
  {
   "cell_type": "markdown",
   "metadata": {},
   "source": [
    "Dokazujemo z indukcijo.\n",
    "\n",
    "- baza indukcije - `xs = []`\n",
    "\n",
    "        [] @ []\n",
    "        = []     (po 1. točki, oz. match za [])\n",
    "\n",
    "- indukcijski korak - `xs ~> x :: xs`\n",
    "\n",
    "     predpostavimo, da velja `xs @ [] = xs`\n",
    "     in dokažimo, da velja `(x :: xs) @ [] = x :: xs`\n",
    "\n",
    "        (x :: xs) @ []\n",
    "        = x :: (xs @ [])    (po 2. točki, oz. match za _ :: _)\n",
    "        = x :: xs           (po indukcijski prepostavki)"
   ]
  },
  {
   "cell_type": "markdown",
   "metadata": {},
   "source": [
    "**Trditev.**\n",
    "$$\n",
    "P([\\,])\n",
    "\\land\n",
    "(\\forall (x : \\alpha). \\forall (xs : \\alpha\\,\\mathtt{list}) . P(xs) \\Rightarrow P(x :: xs))\n",
    "\\implies\n",
    "\\forall (ys : \\alpha\\,\\mathtt{list}) . P(ys)\n",
    "$$"
   ]
  },
  {
   "cell_type": "markdown",
   "metadata": {},
   "source": [
    "### `xs @ (ys @ zs)` = `(xs @ ys) @ zs`"
   ]
  },
  {
   "cell_type": "markdown",
   "metadata": {},
   "source": [
    "#### Osnovni korak\n",
    "\n",
    "    [] @ (ys @ zs)\n",
    "    = ys @ zs           (po def)\n",
    "    = ([] @ ys) @ zs    (po def)"
   ]
  },
  {
   "cell_type": "markdown",
   "metadata": {},
   "source": [
    "#### Indukcijski korak\n",
    "\n",
    "Predpostavimo `xs @ (ys @ zs) = (xs @ ys) @ zs`\n",
    "\n",
    "Dokazujemo `(x :: xs) @ (ys @ zs) = ((x :: xs) @ ys) @ zs`\n",
    "\n",
    "    (x :: xs) @ (ys @ zs)\n",
    "    = x :: (xs @ (ys @ zs))   (po definiciji @)\n",
    "    = x :: ((xs @ ys) @ zs)   (po indukcijski predpostavki)\n",
    "    = (x :: (xs @ ys)) @ zs   (po definiciji @)\n",
    "    = ((x :: xs) @ ys) @ zs   (po definiciji @)\n",
    "\n"
   ]
  },
  {
   "cell_type": "markdown",
   "metadata": {},
   "source": [
    "## Dvojiška drevesa"
   ]
  },
  {
   "cell_type": "markdown",
   "metadata": {},
   "source": [
    "![Dvojiško drevo](../../zapiski/slike/09-iskalna-drevesa/avl-drevo.png)"
   ]
  },
  {
   "cell_type": "code",
   "execution_count": 7,
   "metadata": {
    "vscode": {
     "languageId": "ocaml"
    }
   },
   "outputs": [
    {
     "data": {
      "text/plain": [
       "val list : 'a -> 'a drevo = <fun>\n"
      ]
     },
     "execution_count": 7,
     "metadata": {},
     "output_type": "execute_result"
    },
    {
     "data": {
      "text/plain": [
       "val primer : int drevo =\n",
       "  Sestavljeno (21,\n",
       "   Sestavljeno (9, Sestavljeno (1, Prazno, Prazno),\n",
       "    Sestavljeno (15, Sestavljeno (10, Prazno, Prazno), Prazno)),\n",
       "   Sestavljeno (53,\n",
       "    Sestavljeno (40, Prazno, Sestavljeno (42, Prazno, Prazno)),\n",
       "    Sestavljeno (70, Sestavljeno (61, Prazno, Prazno),\n",
       "     Sestavljeno (83, Prazno, Prazno))))\n"
      ]
     },
     "execution_count": 7,
     "metadata": {},
     "output_type": "execute_result"
    }
   ],
   "source": [
    "let list x = Sestavljeno (x, Prazno, Prazno) \n",
    "\n",
    "let primer = Sestavljeno (21,\n",
    "  Sestavljeno (9,\n",
    "    list 1,\n",
    "    Sestavljeno (15, list 10, Prazno)\n",
    "  ),\n",
    "  Sestavljeno (53,\n",
    "    Sestavljeno (40, Prazno, list 42),\n",
    "    Sestavljeno (70, list 61, list 83)\n",
    "  )\n",
    ")"
   ]
  },
  {
   "cell_type": "code",
   "execution_count": 6,
   "metadata": {
    "vscode": {
     "languageId": "ocaml"
    }
   },
   "outputs": [
    {
     "data": {
      "text/plain": [
       "type 'a drevo = Prazno | Sestavljeno of 'a * 'a drevo * 'a drevo\n"
      ]
     },
     "execution_count": 6,
     "metadata": {},
     "output_type": "execute_result"
    }
   ],
   "source": [
    "type 'a drevo =\n",
    "  | Prazno\n",
    "  | Sestavljeno of 'a * 'a drevo * 'a drevo"
   ]
  },
  {
   "cell_type": "code",
   "execution_count": 11,
   "metadata": {
    "vscode": {
     "languageId": "ocaml"
    }
   },
   "outputs": [
    {
     "data": {
      "text/plain": [
       "- : int = 4\n"
      ]
     },
     "execution_count": 11,
     "metadata": {},
     "output_type": "execute_result"
    }
   ],
   "source": [
    "visina primer"
   ]
  },
  {
   "cell_type": "code",
   "execution_count": 10,
   "metadata": {
    "vscode": {
     "languageId": "ocaml"
    }
   },
   "outputs": [
    {
     "data": {
      "text/plain": [
       "val visina : 'a drevo -> int = <fun>\n"
      ]
     },
     "execution_count": 10,
     "metadata": {},
     "output_type": "execute_result"
    }
   ],
   "source": [
    "let rec visina =\n",
    "  function\n",
    "  | Prazno -> 0\n",
    "  | Sestavljeno (_, l, d) -> 1 + max (visina l) (visina d)"
   ]
  },
  {
   "cell_type": "code",
   "execution_count": 12,
   "metadata": {
    "vscode": {
     "languageId": "ocaml"
    }
   },
   "outputs": [
    {
     "data": {
      "text/plain": [
       "val zrcali : 'a drevo -> 'a drevo = <fun>\n"
      ]
     },
     "execution_count": 12,
     "metadata": {},
     "output_type": "execute_result"
    }
   ],
   "source": [
    "let rec zrcali =\n",
    "  function\n",
    "  | Prazno -> Prazno\n",
    "  | Sestavljeno (x, l, d) -> Sestavljeno (x, zrcali d, zrcali l)"
   ]
  },
  {
   "cell_type": "markdown",
   "metadata": {},
   "source": [
    "$$\n",
    "P(\\mathtt{Prazno})\n",
    "\\land\n",
    "(\\forall x, \\ell, d. P(\\ell) \\land P(d) \\Rightarrow\n",
    "    P(\\mathtt{Sestavljeno}(x, \\ell, d)))\n",
    "\\implies\n",
    "\\forall d : \\alpha\\,\\mathtt{drevo} . P(d)\n",
    "$$"
   ]
  },
  {
   "cell_type": "markdown",
   "metadata": {},
   "source": [
    "### `visina (zrcali d)` = `visina d`"
   ]
  },
  {
   "cell_type": "markdown",
   "metadata": {},
   "source": [
    "- Osnovni korak\n",
    "\n",
    "        visina (zrcali Prazno)\n",
    "        = visina Prazno             (po definiciji zrcali)\n",
    "\n",
    "- Indukcijski korak\n",
    "\n",
    "    Predpostavimo\n",
    "        visina (zrcali l) = visina l\n",
    "        visina (zrcali r) = visina r\n",
    "    Dokazujemo\n",
    "        visina (zrcali (Sestavljeno (x, l, r))) = visina (Sestavljeno (x, l, r))\n",
    "\n",
    "        visina (zrcali (Sestavljeno (x, l, r)))\n",
    "        = visina (Sestavljeno (x, zrcali r, zrcali l))     (po definiciji zrcali)\n",
    "        = 1 + max (visina (zrcali r)) (visina (zrcali l))  (po definiciji visina)\n",
    "        = 1 + max (visina r) (visina l)                    (po indukcijski predpostavki)\n",
    "        = 1 + max (visina l) (visina r)                    (ker je max komutativen)\n",
    "        = visina (Sestavljeno (x, l, r))                   (po definiciji visina)"
   ]
  },
  {
   "cell_type": "markdown",
   "metadata": {},
   "source": [
    "## Ostali induktivni tipi"
   ]
  },
  {
   "cell_type": "code",
   "execution_count": null,
   "metadata": {
    "vscode": {
     "languageId": "ocaml"
    }
   },
   "outputs": [],
   "source": [
    "type nat = Zero | Succ of nat\n",
    "\n",
    "type bool = False | True\n",
    "\n",
    "type izraz =\n",
    "  | Stevilo of int\n",
    "  | Plus of izraz * izraz\n",
    "  | Minus of izraz\n",
    "  | Krat of izraz * izraz\n",
    "\n",
    "(* 2 + 3 * 4 *)\n",
    "let primer =\n",
    "  Plus (Stevilo 2, Krat (Stevilo 3, Stevilo 4))\n",
    "\n",
    "type 'a option = None | Some of 'a"
   ]
  },
  {
   "cell_type": "markdown",
   "metadata": {},
   "source": [
    "$$\n",
    "???\n",
    "\\implies\n",
    "\\forall n : \\mathtt{nat} . P(n)\n",
    "$$"
   ]
  },
  {
   "cell_type": "markdown",
   "metadata": {},
   "source": [
    "$$\n",
    "???\n",
    "\\implies\n",
    "\\forall b : \\mathtt{bool} . P(b)\n",
    "$$"
   ]
  },
  {
   "cell_type": "markdown",
   "metadata": {},
   "source": [
    "$$\n",
    "???\n",
    "\\implies\n",
    "\\forall m : \\alpha\\,\\mathtt{option} . P(m)\n",
    "$$"
   ]
  },
  {
   "cell_type": "markdown",
   "metadata": {},
   "source": [
    "## Pomožne funkcije"
   ]
  },
  {
   "cell_type": "code",
   "execution_count": 13,
   "metadata": {
    "vscode": {
     "languageId": "ocaml"
    }
   },
   "outputs": [
    {
     "data": {
      "text/plain": [
       "val obrni : 'a list -> 'a list = <fun>\n"
      ]
     },
     "execution_count": 13,
     "metadata": {},
     "output_type": "execute_result"
    },
    {
     "data": {
      "text/plain": [
       "val obrni' : 'a list -> 'a list = <fun>\n"
      ]
     },
     "execution_count": 13,
     "metadata": {},
     "output_type": "execute_result"
    }
   ],
   "source": [
    "let rec obrni = function\n",
    "  | [] -> []\n",
    "  | x :: xs -> obrni xs @ [x]\n",
    "\n",
    "let obrni' xs =\n",
    "  let rec pomozna acc = function\n",
    "    | [] -> acc\n",
    "    | x :: xs' -> pomozna (x :: acc) xs'\n",
    "  in\n",
    "  pomozna [] xs"
   ]
  },
  {
   "cell_type": "code",
   "execution_count": 14,
   "metadata": {
    "vscode": {
     "languageId": "ocaml"
    }
   },
   "outputs": [
    {
     "data": {
      "text/plain": [
       "- : int list = [6; 5; 4; 3; 2; 1]\n"
      ]
     },
     "execution_count": 14,
     "metadata": {},
     "output_type": "execute_result"
    }
   ],
   "source": [
    "obrni' [1; 2; 3; 4; 5; 6]"
   ]
  },
  {
   "cell_type": "markdown",
   "metadata": {},
   "source": [
    "### `obrni xs` = `obrni' xs`"
   ]
  },
  {
   "cell_type": "markdown",
   "metadata": {},
   "source": [
    "obrni []\n",
    "= []\n",
    "\n",
    "obrni' []\n",
    "= pomozna [] []\n",
    "= []"
   ]
  },
  {
   "cell_type": "code",
   "execution_count": null,
   "metadata": {
    "vscode": {
     "languageId": "ocaml"
    }
   },
   "outputs": [],
   "source": [
    "obrni xs = obrni' xs\n",
    "\n",
    "obrni (x :: xs)\n",
    "= obrni xs @ [x]\n",
    "= obrni' xs @ [x]\n",
    "= pomozna [] xs @ [x]\n",
    "\n",
    "obrni' (x :: xs)\n",
    "= pomozna [] (x :: xs)\n",
    "= pomozna [x] xs"
   ]
  },
  {
   "cell_type": "markdown",
   "metadata": {},
   "source": [
    "### `obrni xs = pomozna [] xs`"
   ]
  },
  {
   "cell_type": "markdown",
   "metadata": {},
   "source": [
    "obrni (x :: xs)\n",
    "= obrni xs @ [x]\n",
    "= pomozna [] xs @ [x]\n",
    "\n",
    "pomozna [] (x :: xs)\n",
    "= pomozna [x] xs\n"
   ]
  },
  {
   "cell_type": "markdown",
   "metadata": {},
   "source": [
    "### `obrni xs @ acc = pomozna acc xs`"
   ]
  },
  {
   "cell_type": "markdown",
   "metadata": {},
   "source": []
  }
 ],
 "metadata": {
  "kernelspec": {
   "display_name": "OCaml default",
   "language": "OCaml",
   "name": "ocaml-jupyter"
  },
  "language_info": {
   "codemirror_mode": "text/x-ocaml",
   "file_extension": ".ml",
   "mimetype": "text/x-ocaml",
   "name": "OCaml",
   "nbconverter_exporter": null,
   "pygments_lexer": "OCaml",
   "version": "4.14.1"
  }
 },
 "nbformat": 4,
 "nbformat_minor": 2
}
